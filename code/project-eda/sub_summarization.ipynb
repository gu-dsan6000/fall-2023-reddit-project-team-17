{
 "cells": [
  {
   "cell_type": "code",
   "execution_count": 5,
   "id": "c2eeb31a-437c-47be-ad3a-71c861f1f2d2",
   "metadata": {
    "tags": []
   },
   "outputs": [],
   "source": [
    "import pandas as pd\n",
    "import json\n",
    "import os\n",
    "import regex as re"
   ]
  },
  {
   "cell_type": "code",
   "execution_count": 6,
   "id": "f87710c2-cce1-4852-ae93-29f8156b1538",
   "metadata": {
    "tags": []
   },
   "outputs": [
    {
     "name": "stdout",
     "output_type": "stream",
     "text": [
      "Collecting package metadata (current_repodata.json): done\n",
      "Solving environment: done\n",
      "\n",
      "\n",
      "==> WARNING: A newer version of conda exists. <==\n",
      "  current version: 23.3.1\n",
      "  latest version: 23.10.0\n",
      "\n",
      "Please update conda by running\n",
      "\n",
      "    $ conda update -n base -c defaults conda\n",
      "\n",
      "Or to minimize the number of packages updated during conda update use\n",
      "\n",
      "     conda install conda=23.10.0\n",
      "\n",
      "\n",
      "\n",
      "# All requested packages already installed.\n",
      "\n",
      "\n",
      "Note: you may need to restart the kernel to use updated packages.\n",
      "Requirement already satisfied: pyspark==3.3.0 in /opt/conda/lib/python3.10/site-packages (3.3.0)\n",
      "Requirement already satisfied: py4j==0.10.9.5 in /opt/conda/lib/python3.10/site-packages (from pyspark==3.3.0) (0.10.9.5)\n",
      "\u001b[33mWARNING: Running pip as the 'root' user can result in broken permissions and conflicting behaviour with the system package manager. It is recommended to use a virtual environment instead: https://pip.pypa.io/warnings/venv\u001b[0m\u001b[33m\n",
      "\u001b[0m\n",
      "\u001b[1m[\u001b[0m\u001b[34;49mnotice\u001b[0m\u001b[1;39;49m]\u001b[0m\u001b[39;49m A new release of pip is available: \u001b[0m\u001b[31;49m23.2.1\u001b[0m\u001b[39;49m -> \u001b[0m\u001b[32;49m23.3.1\u001b[0m\n",
      "\u001b[1m[\u001b[0m\u001b[34;49mnotice\u001b[0m\u001b[1;39;49m]\u001b[0m\u001b[39;49m To update, run: \u001b[0m\u001b[32;49mpip install --upgrade pip\u001b[0m\n",
      "Note: you may need to restart the kernel to use updated packages.\n"
     ]
    },
    {
     "data": {
      "text/html": [
       "<script>Jupyter.notebook.kernel.restart()</script>"
      ],
      "text/plain": [
       "<IPython.core.display.HTML object>"
      ]
     },
     "execution_count": 6,
     "metadata": {},
     "output_type": "execute_result"
    }
   ],
   "source": [
    "# Setup - Run only once per Kernel App\n",
    "%conda install openjdk -y\n",
    "\n",
    "# install PySpark\n",
    "%pip install pyspark==3.3.0\n",
    "\n",
    "# restart kernel\n",
    "from IPython.core.display import HTML\n",
    "HTML(\"<script>Jupyter.notebook.kernel.restart()</script>\")"
   ]
  },
  {
   "cell_type": "code",
   "execution_count": 7,
   "id": "cc89e462-6460-449a-8bf3-7d6bda1afc06",
   "metadata": {
    "tags": []
   },
   "outputs": [
    {
     "name": "stderr",
     "output_type": "stream",
     "text": [
      "Warning: Ignoring non-Spark config property: fs.s3a.aws.credentials.provider\n"
     ]
    },
    {
     "name": "stdout",
     "output_type": "stream",
     "text": [
      ":: loading settings :: url = jar:file:/opt/conda/lib/python3.10/site-packages/pyspark/jars/ivy-2.5.0.jar!/org/apache/ivy/core/settings/ivysettings.xml\n"
     ]
    },
    {
     "name": "stderr",
     "output_type": "stream",
     "text": [
      "Ivy Default Cache set to: /root/.ivy2/cache\n",
      "The jars for the packages stored in: /root/.ivy2/jars\n",
      "org.apache.hadoop#hadoop-aws added as a dependency\n",
      ":: resolving dependencies :: org.apache.spark#spark-submit-parent-60afe087-690b-4ff2-94e6-50f3a59c9a6f;1.0\n",
      "\tconfs: [default]\n",
      "\tfound org.apache.hadoop#hadoop-aws;3.2.2 in central\n",
      "\tfound com.amazonaws#aws-java-sdk-bundle;1.11.563 in central\n",
      ":: resolution report :: resolve 251ms :: artifacts dl 13ms\n",
      "\t:: modules in use:\n",
      "\tcom.amazonaws#aws-java-sdk-bundle;1.11.563 from central in [default]\n",
      "\torg.apache.hadoop#hadoop-aws;3.2.2 from central in [default]\n",
      "\t---------------------------------------------------------------------\n",
      "\t|                  |            modules            ||   artifacts   |\n",
      "\t|       conf       | number| search|dwnlded|evicted|| number|dwnlded|\n",
      "\t---------------------------------------------------------------------\n",
      "\t|      default     |   2   |   0   |   0   |   0   ||   2   |   0   |\n",
      "\t---------------------------------------------------------------------\n",
      ":: retrieving :: org.apache.spark#spark-submit-parent-60afe087-690b-4ff2-94e6-50f3a59c9a6f\n",
      "\tconfs: [default]\n",
      "\t0 artifacts copied, 2 already retrieved (0kB/9ms)\n"
     ]
    },
    {
     "name": "stdout",
     "output_type": "stream",
     "text": [
      "23/11/10 19:09:39 WARN NativeCodeLoader: Unable to load native-hadoop library for your platform... using builtin-java classes where applicable\n"
     ]
    },
    {
     "name": "stderr",
     "output_type": "stream",
     "text": [
      "Setting default log level to \"WARN\".\n",
      "To adjust logging level use sc.setLogLevel(newLevel). For SparkR, use setLogLevel(newLevel).\n"
     ]
    },
    {
     "name": "stdout",
     "output_type": "stream",
     "text": [
      "23/11/10 19:09:40 WARN Utils: Service 'SparkUI' could not bind on port 4040. Attempting port 4041.\n",
      "3.3.0\n"
     ]
    }
   ],
   "source": [
    "# Import pyspark and build Spark session\n",
    "from pyspark.sql import SparkSession\n",
    "\n",
    "spark = (\n",
    "    SparkSession.builder.appName(\"PySparkApp\")\n",
    "    .config(\"spark.jars.packages\", \"org.apache.hadoop:hadoop-aws:3.2.2\")\n",
    "    .config(\n",
    "        \"fs.s3a.aws.credentials.provider\",\n",
    "        \"com.amazonaws.auth.ContainerCredentialsProvider\",\n",
    "    )\n",
    "    .getOrCreate()\n",
    ")\n",
    "\n",
    "print(spark.version)"
   ]
  },
  {
   "cell_type": "code",
   "execution_count": 8,
   "id": "c9e6dff4-499a-4452-8fad-f094aafa087a",
   "metadata": {
    "tags": []
   },
   "outputs": [
    {
     "name": "stdout",
     "output_type": "stream",
     "text": [
      "23/11/10 19:09:42 WARN MetricsConfig: Cannot locate configuration: tried hadoop-metrics2-s3a-file-system.properties,hadoop-metrics2.properties\n"
     ]
    },
    {
     "name": "stderr",
     "output_type": "stream",
     "text": [
      "                                                                                \r"
     ]
    },
    {
     "name": "stdout",
     "output_type": "stream",
     "text": [
      "23/11/10 19:09:47 WARN package: Truncated the string representation of a plan since it was too large. This behavior can be adjusted by setting 'spark.sql.debug.maxToStringFields'.\n",
      "CPU times: user 16.8 ms, sys: 8.29 ms, total: 25.1 ms\n",
      "Wall time: 12.5 s\n"
     ]
    }
   ],
   "source": [
    "%%time\n",
    "# Read in data from project bucket\n",
    "bucket = \"project17-bucket-alex\"\n",
    "#output_prefix_data = \"project_2022\"\n",
    "\n",
    "# List of 12 directories each containing 1 month of data\n",
    "directories = [\"project_2022_\"+str(i)+\"/submissions\" for i in range(1,13)]\n",
    "\n",
    "# Iterate through 12 directories and merge each monthly data set to create one big data set\n",
    "df_subs = None\n",
    "for directory in directories:\n",
    "    s3_path = f\"s3a://{bucket}/{directory}\"\n",
    "    month_df = spark.read.parquet(s3_path, header = True)\n",
    "    \n",
    "    if df_subs is None:\n",
    "        df_subs = month_df\n",
    "    else:\n",
    "        df_subs = df_subs.union(month_df)"
   ]
  },
  {
   "cell_type": "code",
   "execution_count": 9,
   "id": "654ec074-b663-4909-88cc-0657dd996d5d",
   "metadata": {
    "tags": []
   },
   "outputs": [
    {
     "name": "stdout",
     "output_type": "stream",
     "text": [
      "CPU times: user 12.1 ms, sys: 3.76 ms, total: 15.8 ms\n",
      "Wall time: 6.01 s\n"
     ]
    }
   ],
   "source": [
    "%%time\n",
    "# Read in data from project bucket\n",
    "bucket = \"project17-bucket-alex\"\n",
    "#output_prefix_data = \"project_2022\"\n",
    "\n",
    "# List of 12 directories each containing 1 month of data\n",
    "directories = [\"project_2022_\"+str(i)+\"/comments\" for i in range(1,13)]\n",
    "\n",
    "# Iterate through 12 directories and merge each monthly data set to create one big data set\n",
    "df_comms = None\n",
    "for directory in directories:\n",
    "    s3_path = f\"s3a://{bucket}/{directory}\"\n",
    "    month_df = spark.read.parquet(s3_path, header = True)\n",
    "    \n",
    "    if df_comms is None:\n",
    "        df_comms = month_df\n",
    "    else:\n",
    "        df_comms = df_comms.union(month_df)"
   ]
  },
  {
   "cell_type": "code",
   "execution_count": 10,
   "id": "799cecfe-ef54-4853-beaf-1ee8c6fa4e8f",
   "metadata": {
    "tags": []
   },
   "outputs": [
    {
     "name": "stderr",
     "output_type": "stream",
     "text": [
      "[Stage 24:>                                                         (0 + 1) / 1]\r"
     ]
    },
    {
     "name": "stdout",
     "output_type": "stream",
     "text": [
      "+-----------------+--------------------+--------------------+----------+---------+-------+-------------------+----------------+\n",
      "|        subreddit|              author|                body| parent_id|  link_id|     id|        created_utc|controversiality|\n",
      "+-----------------+--------------------+--------------------+----------+---------+-------+-------------------+----------------+\n",
      "|    AmItheAsshole|         beckydragon|                 NTA| t3_rz9uu3|t3_rz9uu3|hs0rusg|2022-01-10 04:49:57|               0|\n",
      "|    AmItheAsshole|        Cactus_chuck|NTA. My partners ...| t3_s0baev|t3_s0baev|hs0rusr|2022-01-10 04:49:57|               0|\n",
      "|    AmItheAsshole|   Red-belliedOrator|INFO\\n\\nIn genera...| t3_s0a5hn|t3_s0a5hn|hs0rut9|2022-01-10 04:49:57|               0|\n",
      "|NoStupidQuestions|  SoMuchForLongevity|You couldn't heat...| t3_s0b5be|t3_s0b5be|hs0rutc|2022-01-10 04:49:57|               0|\n",
      "|NoStupidQuestions|          MMmason651|it wouldn't taste...| t3_s0axsd|t3_s0axsd|hs0rutm|2022-01-10 04:49:57|               0|\n",
      "|           AskMen|          redditfu76|  Play with my boobs| t3_s0bc1r|t3_s0bc1r|hs0ruva|2022-01-10 04:49:58|               0|\n",
      "|   TrueOffMyChest|      Bumbumcream432|This happened to ...| t3_rzqe7o|t3_rzqe7o|hs0ruzt|2022-01-10 04:49:59|               0|\n",
      "|    AmItheAsshole|      JustSpeaker208|100% NTA! If I we...| t3_s07guc|t3_s07guc|hs0rv0b|2022-01-10 04:49:59|               0|\n",
      "| unpopularopinion|Background-String356|Doesn't justify y...|t1_hs0mz0i|t3_s09xio|hs0rv0d|2022-01-10 04:49:59|               0|\n",
      "|NoStupidQuestions|          rcutshaw70|                Meow|t1_hs0kvtk|t3_s06h8o|hs0rv2x|2022-01-10 04:50:00|               0|\n",
      "+-----------------+--------------------+--------------------+----------+---------+-------+-------------------+----------------+\n",
      "only showing top 10 rows\n",
      "\n"
     ]
    },
    {
     "name": "stderr",
     "output_type": "stream",
     "text": [
      "                                                                                \r"
     ]
    }
   ],
   "source": [
    "df_comms.select(['subreddit', 'author', 'body', 'parent_id', 'link_id', 'id', 'created_utc', 'controversiality']).show(10)"
   ]
  },
  {
   "cell_type": "code",
   "execution_count": 11,
   "id": "d8cca096-9081-4d45-9e94-0440cabef0d6",
   "metadata": {
    "tags": []
   },
   "outputs": [],
   "source": [
    "# Select first 5 rows of 'body' column\n",
    "first_50_bodies = df_comms.select(\"body\").limit(50).collect()\n",
    "\n",
    "# Convert to a list of strings\n",
    "bodies_list = [row.body for row in first_50_bodies]"
   ]
  },
  {
   "cell_type": "code",
   "execution_count": 12,
   "id": "6e0dac7b-e580-42d0-b34e-3969926cc446",
   "metadata": {
    "tags": []
   },
   "outputs": [
    {
     "name": "stdout",
     "output_type": "stream",
     "text": [
      "Requirement already satisfied: transformers in /opt/conda/lib/python3.10/site-packages (4.35.0)\n",
      "Requirement already satisfied: filelock in /opt/conda/lib/python3.10/site-packages (from transformers) (3.6.0)\n",
      "Requirement already satisfied: huggingface-hub<1.0,>=0.16.4 in /opt/conda/lib/python3.10/site-packages (from transformers) (0.17.3)\n",
      "Requirement already satisfied: numpy>=1.17 in /opt/conda/lib/python3.10/site-packages (from transformers) (1.26.0)\n",
      "Requirement already satisfied: packaging>=20.0 in /opt/conda/lib/python3.10/site-packages (from transformers) (21.3)\n",
      "Requirement already satisfied: pyyaml>=5.1 in /opt/conda/lib/python3.10/site-packages/PyYAML-6.0-py3.10-linux-x86_64.egg (from transformers) (6.0)\n",
      "Requirement already satisfied: regex!=2019.12.17 in /opt/conda/lib/python3.10/site-packages (from transformers) (2022.7.9)\n",
      "Requirement already satisfied: requests in /opt/conda/lib/python3.10/site-packages (from transformers) (2.31.0)\n",
      "Requirement already satisfied: tokenizers<0.15,>=0.14 in /opt/conda/lib/python3.10/site-packages (from transformers) (0.14.1)\n",
      "Requirement already satisfied: safetensors>=0.3.1 in /opt/conda/lib/python3.10/site-packages (from transformers) (0.4.0)\n",
      "Requirement already satisfied: tqdm>=4.27 in /opt/conda/lib/python3.10/site-packages (from transformers) (4.64.1)\n",
      "Requirement already satisfied: fsspec in /opt/conda/lib/python3.10/site-packages (from huggingface-hub<1.0,>=0.16.4->transformers) (2022.7.1)\n",
      "Requirement already satisfied: typing-extensions>=3.7.4.3 in /opt/conda/lib/python3.10/site-packages (from huggingface-hub<1.0,>=0.16.4->transformers) (4.3.0)\n",
      "Requirement already satisfied: pyparsing!=3.0.5,>=2.0.2 in /opt/conda/lib/python3.10/site-packages (from packaging>=20.0->transformers) (3.0.9)\n",
      "Requirement already satisfied: charset-normalizer<4,>=2 in /opt/conda/lib/python3.10/site-packages (from requests->transformers) (2.0.4)\n",
      "Requirement already satisfied: idna<4,>=2.5 in /opt/conda/lib/python3.10/site-packages (from requests->transformers) (3.3)\n",
      "Requirement already satisfied: urllib3<3,>=1.21.1 in /opt/conda/lib/python3.10/site-packages (from requests->transformers) (2.0.6)\n",
      "Requirement already satisfied: certifi>=2017.4.17 in /opt/conda/lib/python3.10/site-packages (from requests->transformers) (2023.7.22)\n",
      "\u001b[33mWARNING: Running pip as the 'root' user can result in broken permissions and conflicting behaviour with the system package manager. It is recommended to use a virtual environment instead: https://pip.pypa.io/warnings/venv\u001b[0m\u001b[33m\n",
      "\u001b[0m\n",
      "\u001b[1m[\u001b[0m\u001b[34;49mnotice\u001b[0m\u001b[1;39;49m]\u001b[0m\u001b[39;49m A new release of pip is available: \u001b[0m\u001b[31;49m23.2.1\u001b[0m\u001b[39;49m -> \u001b[0m\u001b[32;49m23.3.1\u001b[0m\n",
      "\u001b[1m[\u001b[0m\u001b[34;49mnotice\u001b[0m\u001b[1;39;49m]\u001b[0m\u001b[39;49m To update, run: \u001b[0m\u001b[32;49mpip install --upgrade pip\u001b[0m\n",
      "Requirement already satisfied: torch in /opt/conda/lib/python3.10/site-packages (2.1.0)\n",
      "Requirement already satisfied: filelock in /opt/conda/lib/python3.10/site-packages (from torch) (3.6.0)\n",
      "Requirement already satisfied: typing-extensions in /opt/conda/lib/python3.10/site-packages (from torch) (4.3.0)\n",
      "Requirement already satisfied: sympy in /opt/conda/lib/python3.10/site-packages (from torch) (1.10.1)\n",
      "Requirement already satisfied: networkx in /opt/conda/lib/python3.10/site-packages (from torch) (2.8.4)\n",
      "Requirement already satisfied: jinja2 in /opt/conda/lib/python3.10/site-packages (from torch) (3.1.2)\n",
      "Requirement already satisfied: fsspec in /opt/conda/lib/python3.10/site-packages (from torch) (2022.7.1)\n",
      "Requirement already satisfied: nvidia-cuda-nvrtc-cu12==12.1.105 in /opt/conda/lib/python3.10/site-packages (from torch) (12.1.105)\n",
      "Requirement already satisfied: nvidia-cuda-runtime-cu12==12.1.105 in /opt/conda/lib/python3.10/site-packages (from torch) (12.1.105)\n",
      "Requirement already satisfied: nvidia-cuda-cupti-cu12==12.1.105 in /opt/conda/lib/python3.10/site-packages (from torch) (12.1.105)\n",
      "Requirement already satisfied: nvidia-cudnn-cu12==8.9.2.26 in /opt/conda/lib/python3.10/site-packages (from torch) (8.9.2.26)\n",
      "Requirement already satisfied: nvidia-cublas-cu12==12.1.3.1 in /opt/conda/lib/python3.10/site-packages (from torch) (12.1.3.1)\n",
      "Requirement already satisfied: nvidia-cufft-cu12==11.0.2.54 in /opt/conda/lib/python3.10/site-packages (from torch) (11.0.2.54)\n",
      "Requirement already satisfied: nvidia-curand-cu12==10.3.2.106 in /opt/conda/lib/python3.10/site-packages (from torch) (10.3.2.106)\n",
      "Requirement already satisfied: nvidia-cusolver-cu12==11.4.5.107 in /opt/conda/lib/python3.10/site-packages (from torch) (11.4.5.107)\n",
      "Requirement already satisfied: nvidia-cusparse-cu12==12.1.0.106 in /opt/conda/lib/python3.10/site-packages (from torch) (12.1.0.106)\n",
      "Requirement already satisfied: nvidia-nccl-cu12==2.18.1 in /opt/conda/lib/python3.10/site-packages (from torch) (2.18.1)\n",
      "Requirement already satisfied: nvidia-nvtx-cu12==12.1.105 in /opt/conda/lib/python3.10/site-packages (from torch) (12.1.105)\n",
      "Requirement already satisfied: triton==2.1.0 in /opt/conda/lib/python3.10/site-packages (from torch) (2.1.0)\n",
      "Requirement already satisfied: nvidia-nvjitlink-cu12 in /opt/conda/lib/python3.10/site-packages (from nvidia-cusolver-cu12==11.4.5.107->torch) (12.3.52)\n",
      "Requirement already satisfied: MarkupSafe>=2.0 in /opt/conda/lib/python3.10/site-packages (from jinja2->torch) (2.1.3)\n",
      "Requirement already satisfied: mpmath>=0.19 in /opt/conda/lib/python3.10/site-packages (from sympy->torch) (1.3.0)\n",
      "\u001b[33mWARNING: Running pip as the 'root' user can result in broken permissions and conflicting behaviour with the system package manager. It is recommended to use a virtual environment instead: https://pip.pypa.io/warnings/venv\u001b[0m\u001b[33m\n",
      "\u001b[0m\n",
      "\u001b[1m[\u001b[0m\u001b[34;49mnotice\u001b[0m\u001b[1;39;49m]\u001b[0m\u001b[39;49m A new release of pip is available: \u001b[0m\u001b[31;49m23.2.1\u001b[0m\u001b[39;49m -> \u001b[0m\u001b[32;49m23.3.1\u001b[0m\n",
      "\u001b[1m[\u001b[0m\u001b[34;49mnotice\u001b[0m\u001b[1;39;49m]\u001b[0m\u001b[39;49m To update, run: \u001b[0m\u001b[32;49mpip install --upgrade pip\u001b[0m\n"
     ]
    }
   ],
   "source": [
    "!pip install transformers\n",
    "!pip install torch"
   ]
  },
  {
   "cell_type": "code",
   "execution_count": 13,
   "id": "f2872753-7b15-417a-8cdc-115f29293c1b",
   "metadata": {
    "tags": []
   },
   "outputs": [
    {
     "name": "stdout",
     "output_type": "stream",
     "text": [
      "2.1.0+cu121\n"
     ]
    }
   ],
   "source": [
    "import transformers\n",
    "import torch\n",
    "print(torch.__version__)"
   ]
  },
  {
   "cell_type": "code",
   "execution_count": 14,
   "id": "a7f08e57-d5fc-4d81-9de4-cad7560ad6c3",
   "metadata": {
    "tags": []
   },
   "outputs": [
    {
     "name": "stderr",
     "output_type": "stream",
     "text": [
      "Your max_length is set to 130, but your input_length is only 4. Since this is a summarization task, where outputs shorter than the input are typically wanted, you might consider decreasing max_length manually, e.g. summarizer('...', max_length=2)\n",
      "Your max_length is set to 130, but your input_length is only 45. Since this is a summarization task, where outputs shorter than the input are typically wanted, you might consider decreasing max_length manually, e.g. summarizer('...', max_length=22)\n",
      "Your max_length is set to 130, but your input_length is only 30. Since this is a summarization task, where outputs shorter than the input are typically wanted, you might consider decreasing max_length manually, e.g. summarizer('...', max_length=15)\n",
      "Your max_length is set to 130, but your input_length is only 7. Since this is a summarization task, where outputs shorter than the input are typically wanted, you might consider decreasing max_length manually, e.g. summarizer('...', max_length=3)\n",
      "Your max_length is set to 130, but your input_length is only 6. Since this is a summarization task, where outputs shorter than the input are typically wanted, you might consider decreasing max_length manually, e.g. summarizer('...', max_length=3)\n",
      "Your max_length is set to 130, but your input_length is only 82. Since this is a summarization task, where outputs shorter than the input are typically wanted, you might consider decreasing max_length manually, e.g. summarizer('...', max_length=41)\n",
      "Your max_length is set to 130, but your input_length is only 13. Since this is a summarization task, where outputs shorter than the input are typically wanted, you might consider decreasing max_length manually, e.g. summarizer('...', max_length=6)\n",
      "Your max_length is set to 130, but your input_length is only 3. Since this is a summarization task, where outputs shorter than the input are typically wanted, you might consider decreasing max_length manually, e.g. summarizer('...', max_length=1)\n",
      "Your max_length is set to 130, but your input_length is only 10. Since this is a summarization task, where outputs shorter than the input are typically wanted, you might consider decreasing max_length manually, e.g. summarizer('...', max_length=5)\n",
      "Your max_length is set to 130, but your input_length is only 3. Since this is a summarization task, where outputs shorter than the input are typically wanted, you might consider decreasing max_length manually, e.g. summarizer('...', max_length=1)\n",
      "Your max_length is set to 130, but your input_length is only 8. Since this is a summarization task, where outputs shorter than the input are typically wanted, you might consider decreasing max_length manually, e.g. summarizer('...', max_length=4)\n",
      "Your max_length is set to 130, but your input_length is only 118. Since this is a summarization task, where outputs shorter than the input are typically wanted, you might consider decreasing max_length manually, e.g. summarizer('...', max_length=59)\n",
      "Your max_length is set to 130, but your input_length is only 15. Since this is a summarization task, where outputs shorter than the input are typically wanted, you might consider decreasing max_length manually, e.g. summarizer('...', max_length=7)\n",
      "Your max_length is set to 130, but your input_length is only 22. Since this is a summarization task, where outputs shorter than the input are typically wanted, you might consider decreasing max_length manually, e.g. summarizer('...', max_length=11)\n",
      "Your max_length is set to 130, but your input_length is only 83. Since this is a summarization task, where outputs shorter than the input are typically wanted, you might consider decreasing max_length manually, e.g. summarizer('...', max_length=41)\n",
      "Your max_length is set to 130, but your input_length is only 46. Since this is a summarization task, where outputs shorter than the input are typically wanted, you might consider decreasing max_length manually, e.g. summarizer('...', max_length=23)\n",
      "Your max_length is set to 130, but your input_length is only 19. Since this is a summarization task, where outputs shorter than the input are typically wanted, you might consider decreasing max_length manually, e.g. summarizer('...', max_length=9)\n",
      "Your max_length is set to 130, but your input_length is only 66. Since this is a summarization task, where outputs shorter than the input are typically wanted, you might consider decreasing max_length manually, e.g. summarizer('...', max_length=33)\n",
      "Your max_length is set to 130, but your input_length is only 67. Since this is a summarization task, where outputs shorter than the input are typically wanted, you might consider decreasing max_length manually, e.g. summarizer('...', max_length=33)\n",
      "Your max_length is set to 130, but your input_length is only 6. Since this is a summarization task, where outputs shorter than the input are typically wanted, you might consider decreasing max_length manually, e.g. summarizer('...', max_length=3)\n",
      "Your max_length is set to 130, but your input_length is only 4. Since this is a summarization task, where outputs shorter than the input are typically wanted, you might consider decreasing max_length manually, e.g. summarizer('...', max_length=2)\n",
      "Your max_length is set to 130, but your input_length is only 18. Since this is a summarization task, where outputs shorter than the input are typically wanted, you might consider decreasing max_length manually, e.g. summarizer('...', max_length=9)\n",
      "Your max_length is set to 130, but your input_length is only 14. Since this is a summarization task, where outputs shorter than the input are typically wanted, you might consider decreasing max_length manually, e.g. summarizer('...', max_length=7)\n",
      "Your max_length is set to 130, but your input_length is only 16. Since this is a summarization task, where outputs shorter than the input are typically wanted, you might consider decreasing max_length manually, e.g. summarizer('...', max_length=8)\n",
      "Your max_length is set to 130, but your input_length is only 6. Since this is a summarization task, where outputs shorter than the input are typically wanted, you might consider decreasing max_length manually, e.g. summarizer('...', max_length=3)\n",
      "Your max_length is set to 130, but your input_length is only 57. Since this is a summarization task, where outputs shorter than the input are typically wanted, you might consider decreasing max_length manually, e.g. summarizer('...', max_length=28)\n",
      "Your max_length is set to 130, but your input_length is only 24. Since this is a summarization task, where outputs shorter than the input are typically wanted, you might consider decreasing max_length manually, e.g. summarizer('...', max_length=12)\n",
      "Your max_length is set to 130, but your input_length is only 6. Since this is a summarization task, where outputs shorter than the input are typically wanted, you might consider decreasing max_length manually, e.g. summarizer('...', max_length=3)\n",
      "Your max_length is set to 130, but your input_length is only 7. Since this is a summarization task, where outputs shorter than the input are typically wanted, you might consider decreasing max_length manually, e.g. summarizer('...', max_length=3)\n",
      "Your max_length is set to 130, but your input_length is only 13. Since this is a summarization task, where outputs shorter than the input are typically wanted, you might consider decreasing max_length manually, e.g. summarizer('...', max_length=6)\n",
      "Your max_length is set to 130, but your input_length is only 15. Since this is a summarization task, where outputs shorter than the input are typically wanted, you might consider decreasing max_length manually, e.g. summarizer('...', max_length=7)\n",
      "Your max_length is set to 130, but your input_length is only 32. Since this is a summarization task, where outputs shorter than the input are typically wanted, you might consider decreasing max_length manually, e.g. summarizer('...', max_length=16)\n",
      "Your max_length is set to 130, but your input_length is only 34. Since this is a summarization task, where outputs shorter than the input are typically wanted, you might consider decreasing max_length manually, e.g. summarizer('...', max_length=17)\n",
      "Your max_length is set to 130, but your input_length is only 77. Since this is a summarization task, where outputs shorter than the input are typically wanted, you might consider decreasing max_length manually, e.g. summarizer('...', max_length=38)\n",
      "Your max_length is set to 130, but your input_length is only 26. Since this is a summarization task, where outputs shorter than the input are typically wanted, you might consider decreasing max_length manually, e.g. summarizer('...', max_length=13)\n",
      "Your max_length is set to 130, but your input_length is only 36. Since this is a summarization task, where outputs shorter than the input are typically wanted, you might consider decreasing max_length manually, e.g. summarizer('...', max_length=18)\n",
      "Your max_length is set to 130, but your input_length is only 33. Since this is a summarization task, where outputs shorter than the input are typically wanted, you might consider decreasing max_length manually, e.g. summarizer('...', max_length=16)\n",
      "Your max_length is set to 130, but your input_length is only 10. Since this is a summarization task, where outputs shorter than the input are typically wanted, you might consider decreasing max_length manually, e.g. summarizer('...', max_length=5)\n",
      "Your max_length is set to 130, but your input_length is only 77. Since this is a summarization task, where outputs shorter than the input are typically wanted, you might consider decreasing max_length manually, e.g. summarizer('...', max_length=38)\n",
      "Your max_length is set to 130, but your input_length is only 95. Since this is a summarization task, where outputs shorter than the input are typically wanted, you might consider decreasing max_length manually, e.g. summarizer('...', max_length=47)\n",
      "Your max_length is set to 130, but your input_length is only 58. Since this is a summarization task, where outputs shorter than the input are typically wanted, you might consider decreasing max_length manually, e.g. summarizer('...', max_length=29)\n",
      "Your max_length is set to 130, but your input_length is only 21. Since this is a summarization task, where outputs shorter than the input are typically wanted, you might consider decreasing max_length manually, e.g. summarizer('...', max_length=10)\n",
      "Your max_length is set to 130, but your input_length is only 38. Since this is a summarization task, where outputs shorter than the input are typically wanted, you might consider decreasing max_length manually, e.g. summarizer('...', max_length=19)\n",
      "Your max_length is set to 130, but your input_length is only 36. Since this is a summarization task, where outputs shorter than the input are typically wanted, you might consider decreasing max_length manually, e.g. summarizer('...', max_length=18)\n",
      "Your max_length is set to 130, but your input_length is only 28. Since this is a summarization task, where outputs shorter than the input are typically wanted, you might consider decreasing max_length manually, e.g. summarizer('...', max_length=14)\n",
      "Your max_length is set to 130, but your input_length is only 4. Since this is a summarization task, where outputs shorter than the input are typically wanted, you might consider decreasing max_length manually, e.g. summarizer('...', max_length=2)\n",
      "Your max_length is set to 130, but your input_length is only 78. Since this is a summarization task, where outputs shorter than the input are typically wanted, you might consider decreasing max_length manually, e.g. summarizer('...', max_length=39)\n"
     ]
    }
   ],
   "source": [
    "from transformers import pipeline\n",
    "\n",
    "# Initialize the summarizer\n",
    "summarizer = pipeline(\"summarization\", model=\"facebook/bart-large-cnn\")\n",
    "\n",
    "# Apply summarization to each body text\n",
    "summaries = [summarizer(body, max_length=130, min_length=30, do_sample=False)[0]['summary_text'] for body in bodies_list]"
   ]
  },
  {
   "cell_type": "code",
   "execution_count": 15,
   "id": "1668996b-9977-40c5-8dec-cfc5d1f844f1",
   "metadata": {
    "tags": []
   },
   "outputs": [
    {
     "name": "stdout",
     "output_type": "stream",
     "text": [
      "\n",
      "NTA\n",
      "\n",
      "NTA. My partners birthday is within days of christmas as well. I usually do one large gift on one day and then just a small gift on the other so that she still gets a gift to open.\n",
      "\n",
      "INFO\n",
      "\n",
      "In general, I think that when a wife agrees to stay with a husband, or vice versa, eventually, the family has to respect her decision. In this case, there is another family member involved, the cousin, but I'm not quite clear on why she is so upset. Did your uncle try to coerce her into a relationship? Is he delusional or fixated on her? Why would the uncle tell you that he was leaving his wife for your cousin, if the cousin hadn't agreed to this? I guess I'm just really unclear on what the cousin's role is here, and why she's so upset about it.\n",
      "\n",
      "You couldn't heat it even one degree by stirring it vigorously by hand.\n",
      "\n",
      "With powerful machinery, though, you could get somewhere.\n",
      "\n",
      "it wouldn't taste good\n",
      "\n",
      "Play with my boobs\n",
      "\n",
      "This happened to me too. Also in third grade, our teacher told us we were doing a standardized test and that she wasn’t letting anyone go to the bathroom. She was already a mean teacher so I didn’t even asked just peed myself. Later blew up on her for being so picky about my cursive handwriting and blamed my yelling at her on my bunny dying.\n",
      "\n",
      "100% NTA! If I were a parent, I'd do the exact same thing. If my future son ever cheats on his significant other whether there is a baby on the way or not, I would do exactly the same thing. I would not cover up his act that he chose to do as keeping it a secret is not my responsibility as I've always said and believed that there is no coming back from choosing to cheat on your partner. He needs to man up and take responsibility for his own actions not just to his wife but to you and your entire family. He wants to run away from a problem/lie he caused and it clearly shows. I'm so sorry OP and so sorry to your pregnant DIL.\n",
      "\n",
      "Doesn't justify your \"IdEeYuH\".\n",
      "\n",
      "Meow\n"
     ]
    }
   ],
   "source": [
    "for body in bodies_list[0:10]:\n",
    "    print()\n",
    "    print(body)"
   ]
  },
  {
   "cell_type": "code",
   "execution_count": 16,
   "id": "f714477e-cec5-4ad6-81c5-9dd5d9fce0c5",
   "metadata": {
    "tags": []
   },
   "outputs": [
    {
     "name": "stdout",
     "output_type": "stream",
     "text": [
      "\n",
      "CNN.com will feature iReporter photos in a weekly Travel Snapshots gallery. Please submit your best shots of NTA for next week. Visit CNN.com/Travel next Wednesday for a new gallery of snapshots.\n",
      "\n",
      "My partners birthday is within days of christmas as well. I usually do one large gift on one day and then just a small gift on the other so that she still gets a gift to open.\n",
      "\n",
      "In general, I think that when a wife agrees to stay with a husband, or vice versa, eventually, the family has to respect her decision. In this case, there is another family member involved, the cousin, but I'm not quite clear on why she is so upset. Did your uncle try to coerce her into a relationship? Is he delusional or fixated on her?\n",
      "\n",
      "With powerful machinery, though, you could get somewhere. You couldn't heat it even one degree by stirring it vigorously by hand. But you could make a difference with powerful machinery.\n",
      "\n",
      "CNN.com will feature iReporter photos in a weekly Travel Snapshots gallery. Please submit your best shots of the U.S. for next week. Visit CNN.com/Travel next Wednesday for a new gallery.\n",
      "\n",
      "CNN.com will feature iReporter photos in a weekly Travel Snapshots gallery. Please submit your best shots for next week. Visit CNN.com/Travel next Wednesday for a new gallery of snapshots.\n",
      "\n",
      "This happened to me too. Also in third grade, our teacher told us we were doing a standardized test and that she wasn't letting anyone go to the bathroom. She was already a mean teacher so I didn’t even asked just peed myself. Later blew up on her for being so picky about my cursive handwriting.\n",
      "\n",
      "If my future son ever cheats on his significant other whether there is a baby on the way or not, I would do exactly the same thing. I would not cover up his act that he chose to do as keeping it a secret is not my responsibility. He needs to man up and take responsibility for his own actions not just to his wife but to you and your entire family.\n",
      "\n",
      "\"IdEeYuH\" is an abbreviation for \"Identity Thief\" or \"Ideal Thief\" It is a term of endearment used to refer to a person who has committed a crime. It is not a derogatory term.\n",
      "\n",
      " Meow Meow. Meow Meow is the name of an award-winning children's book series. The first book was published in 2007 and has won numerous awards.\n"
     ]
    }
   ],
   "source": [
    "for summary in summaries[0:10]:\n",
    "    print()\n",
    "    print(summary)"
   ]
  },
  {
   "cell_type": "code",
   "execution_count": 17,
   "id": "fe5bd250-0910-4fd5-aa81-d46d61f4e1cb",
   "metadata": {
    "tags": []
   },
   "outputs": [
    {
     "name": "stdout",
     "output_type": "stream",
     "text": [
      "\n",
      "NTA\n",
      "\n",
      "NTA. My partners birthday is within days of christmas as well. I usually do one large gift on one day and then just a small gift on the other so that she still gets a gift to open.\n",
      "\n",
      "INFO\n",
      "\n",
      "In general, I think that when a wife agrees to stay with a husband, or vice versa, eventually, the family has to respect her decision. In this case, there is another family member involved, the cousin, but I'm not quite clear on why she is so upset. Did your uncle try to coerce her into a relationship? Is he delusional or fixated on her? Why would the uncle tell you that he was leaving his wife for your cousin, if the cousin hadn't agreed to this? I guess I'm just really unclear on what the cousin's role is here, and why she's so upset about it.\n",
      "\n",
      "You couldn't heat it even one degree by stirring it vigorously by hand.\n",
      "\n",
      "With powerful machinery, though, you could get somewhere.\n",
      "\n",
      "it wouldn't taste good\n",
      "\n",
      "Play with my boobs\n",
      "\n",
      "This happened to me too. Also in third grade, our teacher told us we were doing a standardized test and that she wasn’t letting anyone go to the bathroom. She was already a mean teacher so I didn’t even asked just peed myself. Later blew up on her for being so picky about my cursive handwriting and blamed my yelling at her on my bunny dying.\n",
      "\n",
      "100% NTA! If I were a parent, I'd do the exact same thing. If my future son ever cheats on his significant other whether there is a baby on the way or not, I would do exactly the same thing. I would not cover up his act that he chose to do as keeping it a secret is not my responsibility as I've always said and believed that there is no coming back from choosing to cheat on your partner. He needs to man up and take responsibility for his own actions not just to his wife but to you and your entire family. He wants to run away from a problem/lie he caused and it clearly shows. I'm so sorry OP and so sorry to your pregnant DIL.\n",
      "\n",
      "Doesn't justify your \"IdEeYuH\".\n",
      "\n",
      "Meow\n",
      "\n",
      "Avocados are so fucking expensive.\n",
      "\n",
      "^\n",
      "\n",
      "How can we do better?\n",
      "\n",
      "I never liked Elon but I started to hate him when it came to how wealthy his family was/is versus his self made image. There is a story when he was a kid, his dad was napping so him and his brother took some gems from the family safe and went down to Tiffany's and sold them for $2k (one was resold in a ring for $24k). Dad wakes up, isn't even mad and uses it as a \"teaching moment\" for the kids about business markups. Ew 🤦‍♂️\n",
      "\n",
      "I thought it was an off-brand Bop-It game\n",
      "\n",
      "YTA\n",
      "\n",
      "I can't understand your thought process which made you think it was a joke.\n",
      "\n",
      "NTA, and your parents are feeding her narcissism. It's one thing to be supportive and proud of your children, but it's something else entirely to turn them into a self absorbed monster. Your parents didn't do it with you, so I'm not sure why they feel it's appropriate with your sister. Your sister needs a wake up call, and you should continue providing those for her.\n",
      "\n",
      "It’s usually a slow creep of manipulative BS. It never starts out this way. That’s why even smart women find themselves in this exact situation before they realize it. It’s insidious.\n",
      "\n",
      "NTA. I think you're being a fantastic mother 💕 please tell Julia\n",
      "\n",
      "Get yourself wet, start from Top down, leave penis then ass until last\n",
      "\n",
      "The soap will forget by the next time you shower \n",
      "\n",
      "Washing hair can be done at any point\n",
      "\n",
      "I only blow dry my body if im in a rush, I can rub down with a towel and blow dry hair\n",
      "\n",
      "A few recommendations:\n",
      "\n",
      "1.  Have some self respect.\n",
      "2.  Expect people in your life to respect you, as you would respect them. \n",
      "3.  Eliminate toxic people from your life. This includes boyfriends who put you down. \n",
      "4.  Have some self respect.\n",
      "\n",
      "You are the minority\n",
      "\n",
      "To agree\n",
      "\n",
      "Masturbate. I've always wondered what it felt like from their side.\n",
      "\n",
      "This is everyone's story. Look for a new job.\n",
      "\n",
      "Yes I too am tired of peasants breeding like rats all the time.\n",
      "\n",
      "Thank you so much\n",
      "\n",
      "You are both right and in control. So you don’t have to do anything. You already set the boundary. No further discussion is necessary. You don’t need to tell them off, they just simply cannot visit the 3 vulnerable people in your home.\n",
      "\n",
      "I'm pretty sure legally that money is your cousins. Your wife is gross for suggesting you take the ticket back\n",
      "\n",
      "They are balls...\n",
      "\n",
      "Our system incentives bad behavior\n",
      "\n",
      "A good friend would show you. Might be fun.\n",
      "\n",
      "You are a Saint. Time to blow their email inbox to hell\n",
      "\n",
      "NTA\n",
      "Dodged a bullet our man Steve did. I can't believe she did that three times in a row, that is bold!\n",
      "\n",
      "It's easy! They can only multiply how many levels deep the employees go. Big organization? 9 levels sounds reasonable. Small business? 1 or 2 levels deep\n",
      "\n",
      "Taking nude photos of yourself is absolutely fine and totally sexy. You go girl! However, l discourage anyone from using their cell phone to take photos and sending them via text. It’s far too easy for personal info/photos to end up in the hands of wrong people. This goes for posting personal info on social media too. Don’t do it.\n",
      "\n",
      "Yep. I’ve had two. Worse pain I have ever felt besides the time one of my teeth died.\n",
      "\n",
      "That slime that cleans dust in unreachable places, it works just a little and I haven’t used it in a year the jar has been sitting in my closet\n",
      "\n",
      "Yeah and don’t criticize our Lord and Savior Pfauci™ (MBUH) or you’ll face the Holy Banhammer.\n",
      "\n",
      "Do you know how stupid you sound?\n",
      "\n",
      "Sorry you are dealing with this. \n",
      "\n",
      "The positive I see in your post though, is that you recognize all the value you bring to the relationship. Your self-esteem is stronger and you sound healthier mentally than you might have been in the past, to face the situation, leave her and move on to someone who will treat you better. Good luck to you.\n",
      "\n",
      "Not always. Some people have tics that are very random. They can basically just say the worst thing that comes to the mind uncontrollably, which in the case of this question could be that they committed a crime. \n",
      "\n",
      "For example, there is this gentleman whose Tourette’s is situation. In the airport, his tics become bomb and terrorism related:\n",
      "\n",
      "https://youtu.be/NjHksLQjpY8\n",
      "\n",
      "I thought I was the only one with this problem. I’m an army brat. Went through the college Army ROTC program and graduated in 1996. A few years we had bombed Baghdad was when I got active duty. No is simply not in my vocabulary.\n",
      "\n",
      "No we are all exploited for labor. We aren’t all exploited for sexual labor….\n",
      "\n",
      "So if my ex consented to having sex with me while we were together does that mean her body is mine to use whenever I want? No. Same concept applies to nudes\n",
      "\n",
      "What makes you think it’s not a parent abusing her?  You need to let someone higher up in your school know, hopefully there is a school psychologist.\n",
      "\n",
      "The best you can do is just listen to her. Drop it and dont think about it. Yea i understand youre curious but shes not some specimen that you can dig into because YOU want to know. She probably wouldn't appreciate you digging into that because thats genuinely the worst times of someones life for most trans people.if she doesnt want to discuss it you just have to accept that. If you want to keep digginf youll probably make her uncomfortable and make her feel like you don't view her as a \"normal\" person anymore, which honestly its kinda what it seems like. You didnt dig into her past etc when you thought she was cis what makes you think doing it because shes trans is okay\n",
      "\n",
      "At nineteen or twenty I could grow a full beard that looked decent, but it filled in a little more when I got older.\n",
      "\n",
      "Bro..\n",
      "\n",
      "Congrats, I don’t particularly care. The point in making it is regardless of which word it is, even if it’s just a common mundane word like “dog”. Being ok with said word, and then not, while yes is ok, but expecting everyone around you to suddenly be able to switch gears is an ass thing to do.\n"
     ]
    }
   ],
   "source": [
    "for body in bodies_list:\n",
    "    print()\n",
    "    print(body)"
   ]
  },
  {
   "cell_type": "code",
   "execution_count": 18,
   "id": "a5e6850d-20d6-44d6-9eb5-6a1f977d95d9",
   "metadata": {
    "tags": []
   },
   "outputs": [
    {
     "name": "stdout",
     "output_type": "stream",
     "text": [
      "\n",
      "CNN.com will feature iReporter photos in a weekly Travel Snapshots gallery. Please submit your best shots of NTA for next week. Visit CNN.com/Travel next Wednesday for a new gallery of snapshots.\n",
      "\n",
      "My partners birthday is within days of christmas as well. I usually do one large gift on one day and then just a small gift on the other so that she still gets a gift to open.\n",
      "\n",
      "In general, I think that when a wife agrees to stay with a husband, or vice versa, eventually, the family has to respect her decision. In this case, there is another family member involved, the cousin, but I'm not quite clear on why she is so upset. Did your uncle try to coerce her into a relationship? Is he delusional or fixated on her?\n",
      "\n",
      "With powerful machinery, though, you could get somewhere. You couldn't heat it even one degree by stirring it vigorously by hand. But you could make a difference with powerful machinery.\n",
      "\n",
      "CNN.com will feature iReporter photos in a weekly Travel Snapshots gallery. Please submit your best shots of the U.S. for next week. Visit CNN.com/Travel next Wednesday for a new gallery.\n",
      "\n",
      "CNN.com will feature iReporter photos in a weekly Travel Snapshots gallery. Please submit your best shots for next week. Visit CNN.com/Travel next Wednesday for a new gallery of snapshots.\n",
      "\n",
      "This happened to me too. Also in third grade, our teacher told us we were doing a standardized test and that she wasn't letting anyone go to the bathroom. She was already a mean teacher so I didn’t even asked just peed myself. Later blew up on her for being so picky about my cursive handwriting.\n",
      "\n",
      "If my future son ever cheats on his significant other whether there is a baby on the way or not, I would do exactly the same thing. I would not cover up his act that he chose to do as keeping it a secret is not my responsibility. He needs to man up and take responsibility for his own actions not just to his wife but to you and your entire family.\n",
      "\n",
      "\"IdEeYuH\" is an abbreviation for \"Identity Thief\" or \"Ideal Thief\" It is a term of endearment used to refer to a person who has committed a crime. It is not a derogatory term.\n",
      "\n",
      " Meow Meow. Meow Meow is the name of an award-winning children's book series. The first book was published in 2007 and has won numerous awards.\n",
      "\n",
      "Avocados are so fucking expensive. Avocados cost more than $1,000 per serving. That's a lot of avocados.\n",
      "\n",
      "CNN.com will feature iReporter photos in a weekly Travel Snapshots gallery. Please submit your best shots of New Zealand for next week. Visit CNN.com/Travel next Wednesday for a new gallery of snapshots.\n",
      "\n",
      "CNN.com will feature iReporter photos in a weekly Travel Snapshots gallery. Visit CNN.com/Travel each week for a new gallery of snapshots.\n",
      "\n",
      "\"I started to hate him when it came to how wealthy his family was/is versus his self made image. There is a story when he was a kid, his dad was napping so him and his brother took some gems from the family safe and went down to Tiffany's\"\n",
      "\n",
      "\"I thought it was an off-brand Bop-It game,\" says fan. \"I was like, 'Oh my God, what is going on?'\"\n",
      "\n",
      "I can't understand your thought process which made you think it was a joke. YTA! YTA. YA! YAA! YAAA! YAAAAY!\n",
      "\n",
      "NTA, and your parents are feeding her narcissism. It's one thing to be supportive and proud of your children, but it's something else entirely to turn them into a self absorbed monster. Your sister needs a wake up call.\n",
      "\n",
      "It never starts out this way. Even smart women find themselves in this exact situation before they realize it. It's insidious. It’s usually a slow creep of manipulative BS.\n",
      "\n",
      "\"I think you're being a fantastic mother,\" Julia wrote. \"Please tell Julia I think she's being a wonderful mother\" \"I'm so proud of you,\" Julia replied. \"I love you so much.\"\n",
      "\n",
      "The soap will forget by the next time you shower. Get yourself wet, start from Top down, leave penis then ass until last. I only blow dry my body if im in a rush, I can rub down with a towel and blow dry hair.\n",
      "\n",
      "Have some self respect. Expect people in your life to respect you, as you would respect them. Eliminate toxic people from your life, including boyfriends who put you down.\n",
      "\n",
      "CNN.com will feature iReporter photos in a weekly Travel Snapshots gallery. Please submit your best shots of the U.S. for next week. Visit CNN.com/Travel next Wednesday for a new gallery of snapshots.\n",
      "\n",
      "CNN.com will feature iReporter photos in a weekly Travel Snapshots gallery. Please submit your best shots of the U.S. for next week. Visit CNN.com/Travel next Wednesday for a new gallery of snapshots.\n",
      "\n",
      "\"I've always wondered what it felt like from their side. Masturbate. I'm not sure what it feels like from our side,\" he says. \"I've never been able to do that.\"\n",
      "\n",
      "CNN.com will feature iReporter photos in a weekly Travel Snapshots gallery. Visit CNN.com/Travel each week for a new gallery of snapshots from around the world.\n",
      "\n",
      "\"I too am tired of peasants breeding like rats all the time. Yes I too am sick of it,\" he said. \"I am sick and tired of it all\"\n",
      "\n",
      "Thank you so much for all your support and good wishes. We are looking forward to hearing from you in the coming weeks. Thank you again for your support.\n",
      "\n",
      "You are both right and in control. You already set the boundary. No further discussion is necessary. You don't need to tell them off, they just simply cannot visit the 3 vulnerable people in your home.\n",
      "\n",
      "I'm pretty sure legally that money is your cousins. Your wife is gross for suggesting you take the ticket back. I'm pretty Sure legally that Money is Your cousins.\n",
      "\n",
      "They are balls... they are balls. They are balls, balls, and balls. That's what it's like to be a ball. They're balls.\n",
      "\n",
      "Our system incentives bad behavior, says former New York City Mayor Rudy Giuliani. \"We have to change our culture,\" he says. \"It's not just one person. It's a group of people.\"\n",
      "\n",
      "A good friend would show you. Might be fun. A good friend could show you how to do it. A friend would tell you what to do.\n",
      "\n",
      "\"You are a Saint. Time to blow their email inbox to hell,\" he said. \"You are the Saint. You are the saint\"\n",
      "\n",
      "\"I can't believe she did that three times in a row, that is bold! That is bold!\" he says. NTA says. \"Dodged a bullet\"\n",
      "\n",
      "It's easy! They can only multiply how many levels deep the employees go. Big organization? 9 levels sounds reasonable. Small business? 1 or 2 levels deep.\n",
      "\n",
      "Taking nude photos of yourself is absolutely fine and totally sexy. However, l discourage anyone from using their cell phone to take photos and sending them via text. This goes for posting personal info on social media too. Don’t do it.\n",
      "\n",
      "\"I've had two. Worse pain I have ever felt besides the time one of my teeth died. Yep. I’ve had two,\" he said.\n",
      "\n",
      "\"I haven’t used it in a year the jar has been sitting in my closet. That slime that cleans dust in unreachable places, it works just a little\"\n",
      "\n",
      "Don’t criticize our Lord and Savior Pfauci™ (MBUH) or you’ll face the Holy Banhammer.\n",
      "\n",
      "CNN.com will feature iReporter photos in a weekly Travel Snapshots gallery. Visit CNN.com/Travel each week for a new gallery of snapshots.\n",
      "\n",
      "The positive I see in your post though, is that you recognize all the value you bring to the relationship. Your self-esteem is stronger and you sound healthier mentally than you might have been in the past. To face the situation, leave her and move on to someone who will treat you better.\n",
      "\n",
      "Some people have tics that are very random. They can basically just say the worst thing that comes to the mind uncontrollably, which in the case of this question could be that they committed a crime.\n",
      "\n",
      "\"I'm an army brat. Went through the college Army ROTC program and graduated in 1996. A few years we had bombed Baghdad was when I got active duty,\" he says.\n",
      "\n",
      "No we are all exploited for labor. We aren’t all exploitation for sexual labor. No we are not exploited for sex. We are exploited for work.\n",
      "\n",
      "If my ex consented to having sex with me while we were together does that mean her body is mine to use whenever I want? No. Same concept applies to nudes.\n",
      "\n",
      "You need to let someone higher up in your school know, hopefully there is a school psychologist. What makes you think it’s not a parent abusing her?\n",
      "\n",
      "The best you can do is just listen to her. Drop it and dont think about it. Yea i understand youre curious but shes not some specimen that you can dig into because YOU want to know.\n",
      "\n",
      "\"At nineteen or twenty I could grow a full beard that looked decent, but it filled in a little more when I got older,\" he says.\n",
      "\n",
      "\"I'm not going to lie to you,\" he says. \"I'm going to be honest with you. I'm not a cheater. I don't do that.\"\n",
      "\n",
      "The point in making it is regardless of which word it is, even if it’s just a common mundane word like “dog” Being ok with said word, and then not, while yes is ok, but expecting everyone around you to suddenly be able to switch gears is an ass thing to do.\n"
     ]
    }
   ],
   "source": [
    "for summary in summaries:\n",
    "    print()\n",
    "    print(summary)"
   ]
  },
  {
   "cell_type": "code",
   "execution_count": 20,
   "id": "46643ced-efaa-4050-891d-5e388ee146dc",
   "metadata": {},
   "outputs": [
    {
     "data": {
      "text/plain": [
       "list"
      ]
     },
     "execution_count": 20,
     "metadata": {},
     "output_type": "execute_result"
    }
   ],
   "source": [
    "type(bodies_list)"
   ]
  },
  {
   "cell_type": "code",
   "execution_count": 21,
   "id": "62cb786a-e2fe-45c5-951d-20856c7e3e04",
   "metadata": {
    "tags": []
   },
   "outputs": [
    {
     "data": {
      "text/plain": [
       "list"
      ]
     },
     "execution_count": 21,
     "metadata": {},
     "output_type": "execute_result"
    }
   ],
   "source": [
    "type(summaries)"
   ]
  },
  {
   "cell_type": "code",
   "execution_count": 22,
   "id": "e7779b23-fad3-4210-a940-a1fe73656c2f",
   "metadata": {
    "tags": []
   },
   "outputs": [],
   "source": [
    "with open('pre_summary.txt', 'w') as file:\n",
    "    for item in bodies_list:\n",
    "        file.write(\"%s\\n\" % item)"
   ]
  },
  {
   "cell_type": "code",
   "execution_count": 23,
   "id": "2679bb1b-b5ad-4519-a393-15bdf0cb3197",
   "metadata": {
    "tags": []
   },
   "outputs": [],
   "source": [
    "with open('summaries.txt', 'w') as file:\n",
    "    for item in summaries:\n",
    "        file.write(\"%s\\n\" % item)"
   ]
  },
  {
   "cell_type": "code",
   "execution_count": null,
   "id": "1575a8de-6af4-4c9d-b778-f51c91d05dd5",
   "metadata": {},
   "outputs": [],
   "source": [
    "#code for processing data was adapted with assistance from ChatGPT"
   ]
  }
 ],
 "metadata": {
  "availableInstances": [
   {
    "_defaultOrder": 0,
    "_isFastLaunch": true,
    "category": "General purpose",
    "gpuNum": 0,
    "hideHardwareSpecs": false,
    "memoryGiB": 4,
    "name": "ml.t3.medium",
    "vcpuNum": 2
   },
   {
    "_defaultOrder": 1,
    "_isFastLaunch": false,
    "category": "General purpose",
    "gpuNum": 0,
    "hideHardwareSpecs": false,
    "memoryGiB": 8,
    "name": "ml.t3.large",
    "vcpuNum": 2
   },
   {
    "_defaultOrder": 2,
    "_isFastLaunch": false,
    "category": "General purpose",
    "gpuNum": 0,
    "hideHardwareSpecs": false,
    "memoryGiB": 16,
    "name": "ml.t3.xlarge",
    "vcpuNum": 4
   },
   {
    "_defaultOrder": 3,
    "_isFastLaunch": false,
    "category": "General purpose",
    "gpuNum": 0,
    "hideHardwareSpecs": false,
    "memoryGiB": 32,
    "name": "ml.t3.2xlarge",
    "vcpuNum": 8
   },
   {
    "_defaultOrder": 4,
    "_isFastLaunch": true,
    "category": "General purpose",
    "gpuNum": 0,
    "hideHardwareSpecs": false,
    "memoryGiB": 8,
    "name": "ml.m5.large",
    "vcpuNum": 2
   },
   {
    "_defaultOrder": 5,
    "_isFastLaunch": false,
    "category": "General purpose",
    "gpuNum": 0,
    "hideHardwareSpecs": false,
    "memoryGiB": 16,
    "name": "ml.m5.xlarge",
    "vcpuNum": 4
   },
   {
    "_defaultOrder": 6,
    "_isFastLaunch": false,
    "category": "General purpose",
    "gpuNum": 0,
    "hideHardwareSpecs": false,
    "memoryGiB": 32,
    "name": "ml.m5.2xlarge",
    "vcpuNum": 8
   },
   {
    "_defaultOrder": 7,
    "_isFastLaunch": false,
    "category": "General purpose",
    "gpuNum": 0,
    "hideHardwareSpecs": false,
    "memoryGiB": 64,
    "name": "ml.m5.4xlarge",
    "vcpuNum": 16
   },
   {
    "_defaultOrder": 8,
    "_isFastLaunch": false,
    "category": "General purpose",
    "gpuNum": 0,
    "hideHardwareSpecs": false,
    "memoryGiB": 128,
    "name": "ml.m5.8xlarge",
    "vcpuNum": 32
   },
   {
    "_defaultOrder": 9,
    "_isFastLaunch": false,
    "category": "General purpose",
    "gpuNum": 0,
    "hideHardwareSpecs": false,
    "memoryGiB": 192,
    "name": "ml.m5.12xlarge",
    "vcpuNum": 48
   },
   {
    "_defaultOrder": 10,
    "_isFastLaunch": false,
    "category": "General purpose",
    "gpuNum": 0,
    "hideHardwareSpecs": false,
    "memoryGiB": 256,
    "name": "ml.m5.16xlarge",
    "vcpuNum": 64
   },
   {
    "_defaultOrder": 11,
    "_isFastLaunch": false,
    "category": "General purpose",
    "gpuNum": 0,
    "hideHardwareSpecs": false,
    "memoryGiB": 384,
    "name": "ml.m5.24xlarge",
    "vcpuNum": 96
   },
   {
    "_defaultOrder": 12,
    "_isFastLaunch": false,
    "category": "General purpose",
    "gpuNum": 0,
    "hideHardwareSpecs": false,
    "memoryGiB": 8,
    "name": "ml.m5d.large",
    "vcpuNum": 2
   },
   {
    "_defaultOrder": 13,
    "_isFastLaunch": false,
    "category": "General purpose",
    "gpuNum": 0,
    "hideHardwareSpecs": false,
    "memoryGiB": 16,
    "name": "ml.m5d.xlarge",
    "vcpuNum": 4
   },
   {
    "_defaultOrder": 14,
    "_isFastLaunch": false,
    "category": "General purpose",
    "gpuNum": 0,
    "hideHardwareSpecs": false,
    "memoryGiB": 32,
    "name": "ml.m5d.2xlarge",
    "vcpuNum": 8
   },
   {
    "_defaultOrder": 15,
    "_isFastLaunch": false,
    "category": "General purpose",
    "gpuNum": 0,
    "hideHardwareSpecs": false,
    "memoryGiB": 64,
    "name": "ml.m5d.4xlarge",
    "vcpuNum": 16
   },
   {
    "_defaultOrder": 16,
    "_isFastLaunch": false,
    "category": "General purpose",
    "gpuNum": 0,
    "hideHardwareSpecs": false,
    "memoryGiB": 128,
    "name": "ml.m5d.8xlarge",
    "vcpuNum": 32
   },
   {
    "_defaultOrder": 17,
    "_isFastLaunch": false,
    "category": "General purpose",
    "gpuNum": 0,
    "hideHardwareSpecs": false,
    "memoryGiB": 192,
    "name": "ml.m5d.12xlarge",
    "vcpuNum": 48
   },
   {
    "_defaultOrder": 18,
    "_isFastLaunch": false,
    "category": "General purpose",
    "gpuNum": 0,
    "hideHardwareSpecs": false,
    "memoryGiB": 256,
    "name": "ml.m5d.16xlarge",
    "vcpuNum": 64
   },
   {
    "_defaultOrder": 19,
    "_isFastLaunch": false,
    "category": "General purpose",
    "gpuNum": 0,
    "hideHardwareSpecs": false,
    "memoryGiB": 384,
    "name": "ml.m5d.24xlarge",
    "vcpuNum": 96
   },
   {
    "_defaultOrder": 20,
    "_isFastLaunch": false,
    "category": "General purpose",
    "gpuNum": 0,
    "hideHardwareSpecs": true,
    "memoryGiB": 0,
    "name": "ml.geospatial.interactive",
    "supportedImageNames": [
     "sagemaker-geospatial-v1-0"
    ],
    "vcpuNum": 0
   },
   {
    "_defaultOrder": 21,
    "_isFastLaunch": true,
    "category": "Compute optimized",
    "gpuNum": 0,
    "hideHardwareSpecs": false,
    "memoryGiB": 4,
    "name": "ml.c5.large",
    "vcpuNum": 2
   },
   {
    "_defaultOrder": 22,
    "_isFastLaunch": false,
    "category": "Compute optimized",
    "gpuNum": 0,
    "hideHardwareSpecs": false,
    "memoryGiB": 8,
    "name": "ml.c5.xlarge",
    "vcpuNum": 4
   },
   {
    "_defaultOrder": 23,
    "_isFastLaunch": false,
    "category": "Compute optimized",
    "gpuNum": 0,
    "hideHardwareSpecs": false,
    "memoryGiB": 16,
    "name": "ml.c5.2xlarge",
    "vcpuNum": 8
   },
   {
    "_defaultOrder": 24,
    "_isFastLaunch": false,
    "category": "Compute optimized",
    "gpuNum": 0,
    "hideHardwareSpecs": false,
    "memoryGiB": 32,
    "name": "ml.c5.4xlarge",
    "vcpuNum": 16
   },
   {
    "_defaultOrder": 25,
    "_isFastLaunch": false,
    "category": "Compute optimized",
    "gpuNum": 0,
    "hideHardwareSpecs": false,
    "memoryGiB": 72,
    "name": "ml.c5.9xlarge",
    "vcpuNum": 36
   },
   {
    "_defaultOrder": 26,
    "_isFastLaunch": false,
    "category": "Compute optimized",
    "gpuNum": 0,
    "hideHardwareSpecs": false,
    "memoryGiB": 96,
    "name": "ml.c5.12xlarge",
    "vcpuNum": 48
   },
   {
    "_defaultOrder": 27,
    "_isFastLaunch": false,
    "category": "Compute optimized",
    "gpuNum": 0,
    "hideHardwareSpecs": false,
    "memoryGiB": 144,
    "name": "ml.c5.18xlarge",
    "vcpuNum": 72
   },
   {
    "_defaultOrder": 28,
    "_isFastLaunch": false,
    "category": "Compute optimized",
    "gpuNum": 0,
    "hideHardwareSpecs": false,
    "memoryGiB": 192,
    "name": "ml.c5.24xlarge",
    "vcpuNum": 96
   },
   {
    "_defaultOrder": 29,
    "_isFastLaunch": true,
    "category": "Accelerated computing",
    "gpuNum": 1,
    "hideHardwareSpecs": false,
    "memoryGiB": 16,
    "name": "ml.g4dn.xlarge",
    "vcpuNum": 4
   },
   {
    "_defaultOrder": 30,
    "_isFastLaunch": false,
    "category": "Accelerated computing",
    "gpuNum": 1,
    "hideHardwareSpecs": false,
    "memoryGiB": 32,
    "name": "ml.g4dn.2xlarge",
    "vcpuNum": 8
   },
   {
    "_defaultOrder": 31,
    "_isFastLaunch": false,
    "category": "Accelerated computing",
    "gpuNum": 1,
    "hideHardwareSpecs": false,
    "memoryGiB": 64,
    "name": "ml.g4dn.4xlarge",
    "vcpuNum": 16
   },
   {
    "_defaultOrder": 32,
    "_isFastLaunch": false,
    "category": "Accelerated computing",
    "gpuNum": 1,
    "hideHardwareSpecs": false,
    "memoryGiB": 128,
    "name": "ml.g4dn.8xlarge",
    "vcpuNum": 32
   },
   {
    "_defaultOrder": 33,
    "_isFastLaunch": false,
    "category": "Accelerated computing",
    "gpuNum": 4,
    "hideHardwareSpecs": false,
    "memoryGiB": 192,
    "name": "ml.g4dn.12xlarge",
    "vcpuNum": 48
   },
   {
    "_defaultOrder": 34,
    "_isFastLaunch": false,
    "category": "Accelerated computing",
    "gpuNum": 1,
    "hideHardwareSpecs": false,
    "memoryGiB": 256,
    "name": "ml.g4dn.16xlarge",
    "vcpuNum": 64
   },
   {
    "_defaultOrder": 35,
    "_isFastLaunch": false,
    "category": "Accelerated computing",
    "gpuNum": 1,
    "hideHardwareSpecs": false,
    "memoryGiB": 61,
    "name": "ml.p3.2xlarge",
    "vcpuNum": 8
   },
   {
    "_defaultOrder": 36,
    "_isFastLaunch": false,
    "category": "Accelerated computing",
    "gpuNum": 4,
    "hideHardwareSpecs": false,
    "memoryGiB": 244,
    "name": "ml.p3.8xlarge",
    "vcpuNum": 32
   },
   {
    "_defaultOrder": 37,
    "_isFastLaunch": false,
    "category": "Accelerated computing",
    "gpuNum": 8,
    "hideHardwareSpecs": false,
    "memoryGiB": 488,
    "name": "ml.p3.16xlarge",
    "vcpuNum": 64
   },
   {
    "_defaultOrder": 38,
    "_isFastLaunch": false,
    "category": "Accelerated computing",
    "gpuNum": 8,
    "hideHardwareSpecs": false,
    "memoryGiB": 768,
    "name": "ml.p3dn.24xlarge",
    "vcpuNum": 96
   },
   {
    "_defaultOrder": 39,
    "_isFastLaunch": false,
    "category": "Memory Optimized",
    "gpuNum": 0,
    "hideHardwareSpecs": false,
    "memoryGiB": 16,
    "name": "ml.r5.large",
    "vcpuNum": 2
   },
   {
    "_defaultOrder": 40,
    "_isFastLaunch": false,
    "category": "Memory Optimized",
    "gpuNum": 0,
    "hideHardwareSpecs": false,
    "memoryGiB": 32,
    "name": "ml.r5.xlarge",
    "vcpuNum": 4
   },
   {
    "_defaultOrder": 41,
    "_isFastLaunch": false,
    "category": "Memory Optimized",
    "gpuNum": 0,
    "hideHardwareSpecs": false,
    "memoryGiB": 64,
    "name": "ml.r5.2xlarge",
    "vcpuNum": 8
   },
   {
    "_defaultOrder": 42,
    "_isFastLaunch": false,
    "category": "Memory Optimized",
    "gpuNum": 0,
    "hideHardwareSpecs": false,
    "memoryGiB": 128,
    "name": "ml.r5.4xlarge",
    "vcpuNum": 16
   },
   {
    "_defaultOrder": 43,
    "_isFastLaunch": false,
    "category": "Memory Optimized",
    "gpuNum": 0,
    "hideHardwareSpecs": false,
    "memoryGiB": 256,
    "name": "ml.r5.8xlarge",
    "vcpuNum": 32
   },
   {
    "_defaultOrder": 44,
    "_isFastLaunch": false,
    "category": "Memory Optimized",
    "gpuNum": 0,
    "hideHardwareSpecs": false,
    "memoryGiB": 384,
    "name": "ml.r5.12xlarge",
    "vcpuNum": 48
   },
   {
    "_defaultOrder": 45,
    "_isFastLaunch": false,
    "category": "Memory Optimized",
    "gpuNum": 0,
    "hideHardwareSpecs": false,
    "memoryGiB": 512,
    "name": "ml.r5.16xlarge",
    "vcpuNum": 64
   },
   {
    "_defaultOrder": 46,
    "_isFastLaunch": false,
    "category": "Memory Optimized",
    "gpuNum": 0,
    "hideHardwareSpecs": false,
    "memoryGiB": 768,
    "name": "ml.r5.24xlarge",
    "vcpuNum": 96
   },
   {
    "_defaultOrder": 47,
    "_isFastLaunch": false,
    "category": "Accelerated computing",
    "gpuNum": 1,
    "hideHardwareSpecs": false,
    "memoryGiB": 16,
    "name": "ml.g5.xlarge",
    "vcpuNum": 4
   },
   {
    "_defaultOrder": 48,
    "_isFastLaunch": false,
    "category": "Accelerated computing",
    "gpuNum": 1,
    "hideHardwareSpecs": false,
    "memoryGiB": 32,
    "name": "ml.g5.2xlarge",
    "vcpuNum": 8
   },
   {
    "_defaultOrder": 49,
    "_isFastLaunch": false,
    "category": "Accelerated computing",
    "gpuNum": 1,
    "hideHardwareSpecs": false,
    "memoryGiB": 64,
    "name": "ml.g5.4xlarge",
    "vcpuNum": 16
   },
   {
    "_defaultOrder": 50,
    "_isFastLaunch": false,
    "category": "Accelerated computing",
    "gpuNum": 1,
    "hideHardwareSpecs": false,
    "memoryGiB": 128,
    "name": "ml.g5.8xlarge",
    "vcpuNum": 32
   },
   {
    "_defaultOrder": 51,
    "_isFastLaunch": false,
    "category": "Accelerated computing",
    "gpuNum": 1,
    "hideHardwareSpecs": false,
    "memoryGiB": 256,
    "name": "ml.g5.16xlarge",
    "vcpuNum": 64
   },
   {
    "_defaultOrder": 52,
    "_isFastLaunch": false,
    "category": "Accelerated computing",
    "gpuNum": 4,
    "hideHardwareSpecs": false,
    "memoryGiB": 192,
    "name": "ml.g5.12xlarge",
    "vcpuNum": 48
   },
   {
    "_defaultOrder": 53,
    "_isFastLaunch": false,
    "category": "Accelerated computing",
    "gpuNum": 4,
    "hideHardwareSpecs": false,
    "memoryGiB": 384,
    "name": "ml.g5.24xlarge",
    "vcpuNum": 96
   },
   {
    "_defaultOrder": 54,
    "_isFastLaunch": false,
    "category": "Accelerated computing",
    "gpuNum": 8,
    "hideHardwareSpecs": false,
    "memoryGiB": 768,
    "name": "ml.g5.48xlarge",
    "vcpuNum": 192
   },
   {
    "_defaultOrder": 55,
    "_isFastLaunch": false,
    "category": "Accelerated computing",
    "gpuNum": 8,
    "hideHardwareSpecs": false,
    "memoryGiB": 1152,
    "name": "ml.p4d.24xlarge",
    "vcpuNum": 96
   },
   {
    "_defaultOrder": 56,
    "_isFastLaunch": false,
    "category": "Accelerated computing",
    "gpuNum": 8,
    "hideHardwareSpecs": false,
    "memoryGiB": 1152,
    "name": "ml.p4de.24xlarge",
    "vcpuNum": 96
   },
   {
    "_defaultOrder": 57,
    "_isFastLaunch": false,
    "category": "Accelerated computing",
    "gpuNum": 0,
    "hideHardwareSpecs": false,
    "memoryGiB": 32,
    "name": "ml.trn1.2xlarge",
    "vcpuNum": 8
   },
   {
    "_defaultOrder": 58,
    "_isFastLaunch": false,
    "category": "Accelerated computing",
    "gpuNum": 0,
    "hideHardwareSpecs": false,
    "memoryGiB": 512,
    "name": "ml.trn1.32xlarge",
    "vcpuNum": 128
   },
   {
    "_defaultOrder": 59,
    "_isFastLaunch": false,
    "category": "Accelerated computing",
    "gpuNum": 0,
    "hideHardwareSpecs": false,
    "memoryGiB": 512,
    "name": "ml.trn1n.32xlarge",
    "vcpuNum": 128
   }
  ],
  "instance_type": "ml.g4dn.xlarge",
  "kernelspec": {
   "display_name": "Python 3 (Data Science 3.0)",
   "language": "python",
   "name": "python3__SAGEMAKER_INTERNAL__arn:aws:sagemaker:us-east-1:081325390199:image/sagemaker-data-science-310-v1"
  },
  "language_info": {
   "codemirror_mode": {
    "name": "ipython",
    "version": 3
   },
   "file_extension": ".py",
   "mimetype": "text/x-python",
   "name": "python",
   "nbconvert_exporter": "python",
   "pygments_lexer": "ipython3",
   "version": "3.10.6"
  }
 },
 "nbformat": 4,
 "nbformat_minor": 5
}
