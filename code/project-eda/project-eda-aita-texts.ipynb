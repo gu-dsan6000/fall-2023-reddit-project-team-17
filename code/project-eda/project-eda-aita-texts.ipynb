{
 "cells": [
  {
   "cell_type": "markdown",
   "id": "41f481b8-38c8-43af-9677-12ce88c7c6af",
   "metadata": {},
   "source": [
    "# Exploratory Data Analysis for r/AmItheAsshole (r/AITA)\n",
    "\n",
    "This notebook covers the initial data exploration relating solely to r/AmItheAsshole in relation to our business goal of analyzing and predicting flair occurrences based on posts' text content."
   ]
  },
  {
   "cell_type": "code",
   "execution_count": 2,
   "id": "aae30d10-340f-4673-99ae-232216b26b84",
   "metadata": {
    "tags": []
   },
   "outputs": [
    {
     "name": "stdout",
     "output_type": "stream",
     "text": [
      "Collecting package metadata (current_repodata.json): done\n",
      "Solving environment: done\n",
      "\n",
      "\n",
      "==> WARNING: A newer version of conda exists. <==\n",
      "  current version: 23.3.1\n",
      "  latest version: 23.10.0\n",
      "\n",
      "Please update conda by running\n",
      "\n",
      "    $ conda update -n base -c defaults conda\n",
      "\n",
      "Or to minimize the number of packages updated during conda update use\n",
      "\n",
      "     conda install conda=23.10.0\n",
      "\n",
      "\n",
      "\n",
      "# All requested packages already installed.\n",
      "\n",
      "\n",
      "Note: you may need to restart the kernel to use updated packages.\n",
      "Requirement already satisfied: pyspark==3.2.0 in /opt/conda/lib/python3.10/site-packages (3.2.0)\n",
      "Requirement already satisfied: py4j==0.10.9.2 in /opt/conda/lib/python3.10/site-packages (from pyspark==3.2.0) (0.10.9.2)\n",
      "\u001b[33mWARNING: Running pip as the 'root' user can result in broken permissions and conflicting behaviour with the system package manager. It is recommended to use a virtual environment instead: https://pip.pypa.io/warnings/venv\u001b[0m\u001b[33m\n",
      "\u001b[0m\n",
      "\u001b[1m[\u001b[0m\u001b[34;49mnotice\u001b[0m\u001b[1;39;49m]\u001b[0m\u001b[39;49m A new release of pip is available: \u001b[0m\u001b[31;49m23.2.1\u001b[0m\u001b[39;49m -> \u001b[0m\u001b[32;49m23.3.1\u001b[0m\n",
      "\u001b[1m[\u001b[0m\u001b[34;49mnotice\u001b[0m\u001b[1;39;49m]\u001b[0m\u001b[39;49m To update, run: \u001b[0m\u001b[32;49mpip install --upgrade pip\u001b[0m\n",
      "Note: you may need to restart the kernel to use updated packages.\n",
      "Requirement already satisfied: squarify in /opt/conda/lib/python3.10/site-packages (0.4.3)\n",
      "\u001b[33mWARNING: Running pip as the 'root' user can result in broken permissions and conflicting behaviour with the system package manager. It is recommended to use a virtual environment instead: https://pip.pypa.io/warnings/venv\u001b[0m\u001b[33m\n",
      "\u001b[0m\n",
      "\u001b[1m[\u001b[0m\u001b[34;49mnotice\u001b[0m\u001b[1;39;49m]\u001b[0m\u001b[39;49m A new release of pip is available: \u001b[0m\u001b[31;49m23.2.1\u001b[0m\u001b[39;49m -> \u001b[0m\u001b[32;49m23.3.1\u001b[0m\n",
      "\u001b[1m[\u001b[0m\u001b[34;49mnotice\u001b[0m\u001b[1;39;49m]\u001b[0m\u001b[39;49m To update, run: \u001b[0m\u001b[32;49mpip install --upgrade pip\u001b[0m\n",
      "Requirement already satisfied: findspark in /opt/conda/lib/python3.10/site-packages (2.0.1)\n",
      "\u001b[33mWARNING: Running pip as the 'root' user can result in broken permissions and conflicting behaviour with the system package manager. It is recommended to use a virtual environment instead: https://pip.pypa.io/warnings/venv\u001b[0m\u001b[33m\n",
      "\u001b[0m\n",
      "\u001b[1m[\u001b[0m\u001b[34;49mnotice\u001b[0m\u001b[1;39;49m]\u001b[0m\u001b[39;49m A new release of pip is available: \u001b[0m\u001b[31;49m23.2.1\u001b[0m\u001b[39;49m -> \u001b[0m\u001b[32;49m23.3.1\u001b[0m\n",
      "\u001b[1m[\u001b[0m\u001b[34;49mnotice\u001b[0m\u001b[1;39;49m]\u001b[0m\u001b[39;49m To update, run: \u001b[0m\u001b[32;49mpip install --upgrade pip\u001b[0m\n"
     ]
    },
    {
     "data": {
      "text/html": [
       "<script>Jupyter.notebook.kernel.restart()</script>"
      ],
      "text/plain": [
       "<IPython.core.display.HTML object>"
      ]
     },
     "execution_count": 2,
     "metadata": {},
     "output_type": "execute_result"
    }
   ],
   "source": [
    "# Setup - Run only once per Kernel App\n",
    "%conda install openjdk -y\n",
    "\n",
    "# install PySpark\n",
    "%pip install pyspark==3.2.0\n",
    "\n",
    "# Install squarify for plotting\n",
    "!pip install squarify\n",
    "!pip install adjustText\n",
    "!pip install findspark\n",
    "\n",
    "# restart kernel\n",
    "from IPython.core.display import HTML\n",
    "HTML(\"<script>Jupyter.notebook.kernel.restart()</script>\")"
   ]
  },
  {
   "cell_type": "code",
   "execution_count": 3,
   "id": "90757e11-869f-4fa2-8d98-276847c728a4",
   "metadata": {
    "tags": []
   },
   "outputs": [
    {
     "name": "stderr",
     "output_type": "stream",
     "text": [
      "Warning: Ignoring non-Spark config property: fs.s3a.aws.credentials.provider\n",
      "WARNING: An illegal reflective access operation has occurred\n",
      "WARNING: Illegal reflective access by org.apache.spark.unsafe.Platform (file:/opt/conda/lib/python3.10/site-packages/pyspark/jars/spark-unsafe_2.12-3.2.0.jar) to constructor java.nio.DirectByteBuffer(long,int)\n",
      "WARNING: Please consider reporting this to the maintainers of org.apache.spark.unsafe.Platform\n",
      "WARNING: Use --illegal-access=warn to enable warnings of further illegal reflective access operations\n",
      "WARNING: All illegal access operations will be denied in a future release\n"
     ]
    },
    {
     "name": "stdout",
     "output_type": "stream",
     "text": [
      ":: loading settings :: url = jar:file:/opt/conda/lib/python3.10/site-packages/pyspark/jars/ivy-2.5.0.jar!/org/apache/ivy/core/settings/ivysettings.xml\n"
     ]
    },
    {
     "name": "stderr",
     "output_type": "stream",
     "text": [
      "Ivy Default Cache set to: /root/.ivy2/cache\n",
      "The jars for the packages stored in: /root/.ivy2/jars\n",
      "org.apache.hadoop#hadoop-aws added as a dependency\n",
      ":: resolving dependencies :: org.apache.spark#spark-submit-parent-9971227e-1451-43a3-96da-8b986586933f;1.0\n",
      "\tconfs: [default]\n",
      "\tfound org.apache.hadoop#hadoop-aws;3.2.2 in central\n",
      "\tfound com.amazonaws#aws-java-sdk-bundle;1.11.563 in central\n",
      ":: resolution report :: resolve 394ms :: artifacts dl 36ms\n",
      "\t:: modules in use:\n",
      "\tcom.amazonaws#aws-java-sdk-bundle;1.11.563 from central in [default]\n",
      "\torg.apache.hadoop#hadoop-aws;3.2.2 from central in [default]\n",
      "\t---------------------------------------------------------------------\n",
      "\t|                  |            modules            ||   artifacts   |\n",
      "\t|       conf       | number| search|dwnlded|evicted|| number|dwnlded|\n",
      "\t---------------------------------------------------------------------\n",
      "\t|      default     |   2   |   0   |   0   |   0   ||   2   |   0   |\n",
      "\t---------------------------------------------------------------------\n",
      ":: retrieving :: org.apache.spark#spark-submit-parent-9971227e-1451-43a3-96da-8b986586933f\n",
      "\tconfs: [default]\n",
      "\t0 artifacts copied, 2 already retrieved (0kB/24ms)\n",
      "23/11/10 17:37:54 WARN NativeCodeLoader: Unable to load native-hadoop library for your platform... using builtin-java classes where applicable\n",
      "Using Spark's default log4j profile: org/apache/spark/log4j-defaults.properties\n",
      "Setting default log level to \"WARN\".\n",
      "To adjust logging level use sc.setLogLevel(newLevel). For SparkR, use setLogLevel(newLevel).\n"
     ]
    },
    {
     "name": "stdout",
     "output_type": "stream",
     "text": [
      "3.2.0\n"
     ]
    }
   ],
   "source": [
    "# Import pyspark and build Spark session\n",
    "from pyspark.sql import SparkSession\n",
    "\n",
    "spark = (\n",
    "    SparkSession.builder.appName(\"PySparkApp\")\n",
    "    .config(\"spark.jars.packages\", \"org.apache.hadoop:hadoop-aws:3.2.2\")\n",
    "    .config(\n",
    "        \"fs.s3a.aws.credentials.provider\",\n",
    "        \"com.amazonaws.auth.ContainerCredentialsProvider\",\n",
    "    )\n",
    "    .getOrCreate()\n",
    ")\n",
    "\n",
    "print(spark.version)"
   ]
  },
  {
   "cell_type": "code",
   "execution_count": 48,
   "id": "2ec55651-e5ea-4fb9-a657-69a7b23781ff",
   "metadata": {
    "tags": []
   },
   "outputs": [],
   "source": [
    "import matplotlib.pyplot as plt\n",
    "import seaborn as sns\n",
    "import numpy as np\n",
    "import pandas as pd\n",
    "import re\n",
    "import os\n",
    "import json\n",
    "import random\n",
    "import pyspark.sql.functions as F\n",
    "import squarify"
   ]
  },
  {
   "cell_type": "markdown",
   "id": "c0ae8ee9-b064-4717-b092-fb8a6a289fa6",
   "metadata": {},
   "source": [
    "Below we read in all of the submissions and comments for our subreddits of interest for the year of 2022"
   ]
  },
  {
   "cell_type": "code",
   "execution_count": 5,
   "id": "6d30e160-3981-4843-8cca-bc2d4838316d",
   "metadata": {
    "tags": []
   },
   "outputs": [
    {
     "name": "stderr",
     "output_type": "stream",
     "text": [
      "23/11/10 17:38:04 WARN MetricsConfig: Cannot locate configuration: tried hadoop-metrics2-s3a-file-system.properties,hadoop-metrics2.properties\n",
      "23/11/10 17:38:11 WARN package: Truncated the string representation of a plan since it was too large. This behavior can be adjusted by setting 'spark.sql.debug.maxToStringFields'.\n"
     ]
    },
    {
     "name": "stdout",
     "output_type": "stream",
     "text": [
      "reading submissions from s3a://project17-bucket-alex/project_2022_12/submissions\n"
     ]
    },
    {
     "name": "stderr",
     "output_type": "stream",
     "text": [
      "[Stage 12:=======================================================>(59 + 1) / 60]\r"
     ]
    },
    {
     "name": "stdout",
     "output_type": "stream",
     "text": [
      "shape of the submissions dataframe is 3,444,283x68\n",
      "CPU times: user 112 ms, sys: 27.6 ms, total: 140 ms\n",
      "Wall time: 3min 17s\n"
     ]
    },
    {
     "name": "stderr",
     "output_type": "stream",
     "text": [
      "                                                                                \r"
     ]
    }
   ],
   "source": [
    "%%time\n",
    "# Read in data from project bucket\n",
    "bucket = \"project17-bucket-alex\"\n",
    "#output_prefix_data = \"project_2022\"\n",
    "\n",
    "# List of 12 directories each containing 1 month of data\n",
    "directories = [\"project_2022_\"+str(i)+\"/submissions\" for i in range(1,13)]\n",
    "\n",
    "# Iterate through 12 directories and merge each monthly data set to create one big data set\n",
    "df = None\n",
    "for directory in directories:\n",
    "    s3_path = f\"s3a://{bucket}/{directory}\"\n",
    "    month_df = spark.read.parquet(s3_path, header = True)\n",
    "    \n",
    "    if df is None:\n",
    "        df = month_df\n",
    "    else:\n",
    "        df = df.union(month_df)\n",
    "\n",
    "submissions = df\n",
    "print(f\"reading submissions from {s3_path}\")\n",
    "#submissions = spark.read.parquet(s3_path, header=True)\n",
    "print(f\"shape of the submissions dataframe is {submissions.count():,}x{len(submissions.columns)}\")"
   ]
  },
  {
   "cell_type": "code",
   "execution_count": 6,
   "id": "738520cb-7e6e-4e43-a320-aadadf5eb161",
   "metadata": {
    "tags": []
   },
   "outputs": [
    {
     "name": "stdout",
     "output_type": "stream",
     "text": [
      "+-------------------+-------------------+--------------------+--------------------+-------------------+------------+----------------+\n",
      "|          subreddit|             author|               title|            selftext|        created_utc|num_comments| link_flair_text|\n",
      "+-------------------+-------------------+--------------------+--------------------+-------------------+------------+----------------+\n",
      "|  NoStupidQuestions|          [deleted]|Who do you call w...|           [deleted]|2022-01-22 18:14:03|           4|            null|\n",
      "|      AmItheAsshole|          [deleted]|AITA for blowing ...|           [removed]|2022-01-22 18:14:04|           7|            null|\n",
      "|      AmItheAsshole|       go_awaythrow|AITA if I cut my ...|           [removed]|2022-01-22 18:14:12|           1|            null|\n",
      "|  NoStupidQuestions|          [deleted]|   [deleted by user]|           [removed]|2022-01-22 18:14:16|           1|            null|\n",
      "|             AskMen|          [deleted]|Do men actually l...|           [removed]|2022-01-22 18:14:21|           1|            null|\n",
      "|           antiwork|        Vivid_Steel|For Those of You ...|In most states in...|2022-01-22 18:14:28|           1|            null|\n",
      "|  NoStupidQuestions|   throwaway7329173|How do I destroy ...|           [removed]|2022-01-22 18:14:29|           2|      Unanswered|\n",
      "|  NoStupidQuestions|          [deleted]|   [deleted by user]|           [removed]|2022-01-22 18:14:34|           9|            null|\n",
      "|           antiwork|Future_Instance1150|Bank of America’s...|                    |2022-01-22 18:14:47|           3|Removed (Repost)|\n",
      "|  NoStupidQuestions|   DifficultContext|Do dogs recognize...|                    |2022-01-22 18:14:57|           2|            null|\n",
      "|relationship_advice|          hisham699|What is this supp...|           [removed]|2022-01-22 18:15:10|           4|            null|\n",
      "|             AskMen| CuteConference1213|How do you know i...|                    |2022-01-22 18:15:22|          10|            null|\n",
      "|   unpopularopinion|ballonfightaddicted|Waking up 15-30 m...|I like waking up ...|2022-01-22 18:15:24|           5|            null|\n",
      "|      AmItheAsshole|      geosunsetmoth|AITA for refusing...|I (NB 19) am auti...|2022-01-22 18:15:30|         425|  Not the A-hole|\n",
      "|           antiwork|          [deleted]|I'm not hustling ...|           [deleted]|2022-01-22 18:15:31|          26|            null|\n",
      "|           antiwork|          [deleted]|This is a silly q...|           [deleted]|2022-01-22 18:15:36|           6|            null|\n",
      "|  NoStupidQuestions|          Killdreth|Can I do anything...|I don’t know why,...|2022-01-22 18:15:45|           2|            null|\n",
      "|     TrueOffMyChest|         sadness_18|I hate people who...|I've been called ...|2022-01-22 18:15:46|           5|            null|\n",
      "|relationship_advice| Natural_Rabbit8936|I went thru my gi...|But I’m still in ...|2022-01-22 18:15:50|           6|            null|\n",
      "|       OutOfTheLoop|          [deleted]|   [deleted by user]|           [removed]|2022-01-22 18:16:12|           1|            null|\n",
      "+-------------------+-------------------+--------------------+--------------------+-------------------+------------+----------------+\n",
      "only showing top 20 rows\n",
      "\n"
     ]
    },
    {
     "name": "stderr",
     "output_type": "stream",
     "text": [
      "                                                                                \r"
     ]
    }
   ],
   "source": [
    "# display a subset of columns\n",
    "submissions.select(\"subreddit\", \"author\", \"title\", \"selftext\", \"created_utc\", \"num_comments\", \"link_flair_text\").show()"
   ]
  },
  {
   "cell_type": "markdown",
   "id": "3806a11a-742c-483d-8a6d-a587f8f3aeca",
   "metadata": {},
   "source": [
    "Now that the r/AITA data has been read in, we must subset to remove the posts where the text is removed or there is no text at all. These represent posts deleted by the user (when these data were scraped from Reddit) or posts that were removed by moderators (i.e., for rule violations)."
   ]
  },
  {
   "cell_type": "code",
   "execution_count": 24,
   "id": "04f8e7bd-93a6-4249-b27e-9481af59d8ac",
   "metadata": {
    "tags": []
   },
   "outputs": [
    {
     "name": "stderr",
     "output_type": "stream",
     "text": [
      "[Stage 24:=======================================================>(59 + 1) / 60]\r"
     ]
    },
    {
     "name": "stdout",
     "output_type": "stream",
     "text": [
      "+-------------------+--------------------+--------------------+--------------------+-------------------+------------+--------------------+\n",
      "|          subreddit|              author|               title|            selftext|        created_utc|num_comments|     link_flair_text|\n",
      "+-------------------+--------------------+--------------------+--------------------+-------------------+------------+--------------------+\n",
      "|   unpopularopinion|          narj_eagle|I enjoy small tal...|           [removed]|2022-01-01 00:00:13|           1|                null|\n",
      "|   unpopularopinion|           [deleted]|The Subway menu i...|           [removed]|2022-01-01 00:00:14|          46|R2 - No troll/sat...|\n",
      "|   unpopularopinion|           [deleted]|   [deleted by user]|           [removed]|2022-01-01 00:00:17|           1|                null|\n",
      "|             AskMen|           [deleted]|   [deleted by user]|           [removed]|2022-01-01 00:00:21|           1|                null|\n",
      "|  explainlikeimfive|           [deleted]|   [deleted by user]|           [removed]|2022-01-01 00:00:40|           0|                null|\n",
      "|  NoStupidQuestions|    Armed_Goose_8552|Antisocial behavi...|Has anyone else n...|2022-01-01 00:00:44|           1|                null|\n",
      "|  NoStupidQuestions|           [deleted]|How to increase p...|Are there any wor...|2022-01-01 00:00:45|           1|                null|\n",
      "|      AmItheAsshole|             amyriek|AITA for wanting ...|           [removed]|2022-01-01 00:00:51|          44|                null|\n",
      "|           antiwork|           [deleted]|   [deleted by user]|           [removed]|2022-01-01 00:00:59|           5|                null|\n",
      "|  NoStupidQuestions|           [deleted]|   [deleted by user]|           [removed]|2022-01-01 00:01:00|          12|                null|\n",
      "|  NoStupidQuestions|Glittering_View_9539|How do people hav...|So how is it poss...|2022-01-01 00:01:05|           4|                null|\n",
      "|  NoStupidQuestions| Namelessglassblower|Who else is pouri...|It might be New Y...|2022-01-01 00:01:06|          24|                null|\n",
      "|   unpopularopinion|         Miniviolent|   The office is dog|           [removed]|2022-01-01 00:01:08|           4|     R3 - No reposts|\n",
      "|  NoStupidQuestions|           hwjhddjdd|Moderators, could...|           [removed]|2022-01-01 00:01:15|          11|                null|\n",
      "|           antiwork|           [deleted]|   [deleted by user]|           [removed]|2022-01-01 00:01:15|           8|                null|\n",
      "|  explainlikeimfive|           [deleted]|   [deleted by user]|           [removed]|2022-01-01 00:01:26|           1|                null|\n",
      "|relationship_advice|          lem0number|        friendzoning|i (f) became frie...|2022-01-01 00:01:53|          10|                null|\n",
      "|  NoStupidQuestions|           [deleted]|Unsure what to do...|           [deleted]|2022-01-01 00:02:25|          10|                null|\n",
      "|     TrueOffMyChest|           [deleted]|I feel like conse...|           [removed]|2022-01-01 00:02:42|           6|                null|\n",
      "|           antiwork|           HC_Tulkas|\"we're really sho...|                    |2022-01-01 00:02:47|           2|                null|\n",
      "+-------------------+--------------------+--------------------+--------------------+-------------------+------------+--------------------+\n",
      "only showing top 20 rows\n",
      "\n",
      "CPU times: user 104 ms, sys: 28.7 ms, total: 132 ms\n",
      "Wall time: 4min 58s\n"
     ]
    },
    {
     "name": "stderr",
     "output_type": "stream",
     "text": [
      "                                                                                \r"
     ]
    }
   ],
   "source": [
    "%%time\n",
    "\n",
    "submissions.select(\"subreddit\", \"author\", \"title\", \"selftext\", \"created_utc\", \"num_comments\", \"link_flair_text\").orderBy(F.col(\"created_utc\"), ascending=True).show()"
   ]
  },
  {
   "cell_type": "code",
   "execution_count": 26,
   "id": "474b8b53-9a86-4689-a04e-43bab19cede7",
   "metadata": {
    "tags": []
   },
   "outputs": [],
   "source": []
  },
  {
   "cell_type": "code",
   "execution_count": 27,
   "id": "28c75b5c-ac06-4497-8847-4eb518d57ba6",
   "metadata": {
    "tags": []
   },
   "outputs": [
    {
     "name": "stderr",
     "output_type": "stream",
     "text": [
      "                                                                                \r"
     ]
    },
    {
     "name": "stdout",
     "output_type": "stream",
     "text": [
      "+-------------+--------------------+--------------------+--------------------+-------------------+------------+---------------+\n",
      "|    subreddit|              author|               title|            selftext|        created_utc|num_comments|link_flair_text|\n",
      "+-------------+--------------------+--------------------+--------------------+-------------------+------------+---------------+\n",
      "|AmItheAsshole|       geosunsetmoth|AITA for refusing...|I (NB 19) am auti...|2022-01-22 18:15:30|         425| Not the A-hole|\n",
      "|AmItheAsshole|           pezewuziz|AITA for charging...|So for a bit of b...|2022-01-22 18:28:39|          56| Everyone Sucks|\n",
      "|AmItheAsshole|            twilipig|AITA for refusing...|Just a bit of bac...|2022-01-22 18:52:52|          52| Not the A-hole|\n",
      "|AmItheAsshole|              joreia|AITA for not want...|So I’m (32F) a mo...|2022-01-13 02:17:23|          29| Not the A-hole|\n",
      "|AmItheAsshole|       BazilbeeChuck|AITA for offering...|\\nI (29M) have a ...|2022-01-13 02:32:24|         470|        Asshole|\n",
      "|AmItheAsshole|          Purrrrpurr|AITA for telling ...|So this isn’t sup...|2022-01-13 02:38:03|          20| Not the A-hole|\n",
      "|AmItheAsshole| throwaway2019to2022|AITA for refusing...|In December of 20...|2022-01-13 02:42:40|          33| Not the A-hole|\n",
      "|AmItheAsshole|         WolfieSammy|AITA for being up...|Please don't post...|2022-01-13 02:43:34|          37| Not the A-hole|\n",
      "|AmItheAsshole|       Jupitervenuss|WIBTA telling a f...|I’m currently a c...|2022-01-13 02:44:42|          22| Not the A-hole|\n",
      "|AmItheAsshole|            Khaymann|AITA for refusing...|So I'll have to h...|2022-01-13 02:47:56|          36| Not the A-hole|\n",
      "|AmItheAsshole|      bored-at-home-|AITA for telling ...|My partner (28M) ...|2022-01-13 23:47:00|          26| Not the A-hole|\n",
      "|AmItheAsshole|     nobsforthemess1|AITA for “exposin...|So pretty quick s...|2022-01-13 23:50:04|         404| Not the A-hole|\n",
      "|AmItheAsshole|KitchenAccountant591|AITA for embarras...|Sorry it's a bit ...|2022-01-13 23:51:41|          18| Not the A-hole|\n",
      "|AmItheAsshole|   Awkward-Target436|AITA For Calling ...|I'm using \"uncle\"...|2022-01-13 23:57:25|          17| Not the A-hole|\n",
      "|AmItheAsshole|         AmayaKurama|WIBTA if I went o...|Obligatory on mob...|2022-01-14 00:11:34|          21|        Asshole|\n",
      "|AmItheAsshole|           [deleted]|AITA for accommod...|Hi all!\\n\\nI(43F)...|2022-01-14 00:11:43|        2920|        Asshole|\n",
      "|AmItheAsshole|         simplywebby|AITA for calling ...|We’re in a discor...|2022-01-14 00:13:44|          10| Not the A-hole|\n",
      "|AmItheAsshole|    Other-Amoeba4721|WIBTA if I took a...|I've never posted...|2022-01-31 02:32:07|          19|        Asshole|\n",
      "|AmItheAsshole|Relative_Potential92|AITA for dropping...|My older brother ...|2022-01-31 02:33:08|        1640| Not the A-hole|\n",
      "|AmItheAsshole|     Natural_Dog3625|AITA for asking m...|I always have to ...|2022-01-31 02:36:10|          38| Not the A-hole|\n",
      "+-------------+--------------------+--------------------+--------------------+-------------------+------------+---------------+\n",
      "only showing top 20 rows\n",
      "\n"
     ]
    },
    {
     "name": "stderr",
     "output_type": "stream",
     "text": [
      "[Stage 41:=======================================================>(59 + 1) / 60]\r"
     ]
    },
    {
     "name": "stdout",
     "output_type": "stream",
     "text": [
      "shape of the subsetted submissions dataframe is 115,665x68\n"
     ]
    },
    {
     "name": "stderr",
     "output_type": "stream",
     "text": [
      "                                                                                \r"
     ]
    }
   ],
   "source": [
    "%% time\n",
    "# Here we subset the submissions to only include posts from r/AmItheAsshole for the subsequent analysis\n",
    "raw_aita = submissions.filter(F.col('subreddit') == \"AmItheAsshole\")\n",
    "\n",
    "# filter submissions to remove deleted/removed posts\n",
    "aita = raw_aita.filter((F.col('selftext') != '[removed]') & (F.col('selftext') != '[deleted]' ))\n",
    "aita.select(\"subreddit\", \"author\", \"title\", \"selftext\", \"created_utc\", \"num_comments\", \"link_flair_text\").show()\n",
    "\n",
    "print(f\"shape of the subsetted submissions dataframe is {aita.count():,}x{len(aita.columns)}\")"
   ]
  },
  {
   "cell_type": "markdown",
   "id": "4231900a-9fb8-41b6-9518-05be82955718",
   "metadata": {},
   "source": [
    "With the unusable posts removed, we can now analyze the flair counts to get an idea of how Redditors assess r/AITA posts on average."
   ]
  },
  {
   "cell_type": "code",
   "execution_count": 28,
   "id": "f0f42af6-0679-4c5c-830d-122bd11e73fb",
   "metadata": {
    "tags": []
   },
   "outputs": [
    {
     "name": "stderr",
     "output_type": "stream",
     "text": [
      "[Stage 44:=======================================================>(59 + 1) / 60]\r"
     ]
    },
    {
     "name": "stdout",
     "output_type": "stream",
     "text": [
      "+---------------+-----+\n",
      "|link_flair_text|count|\n",
      "+---------------+-----+\n",
      "|           META|    9|\n",
      "| Everyone Sucks| 4237|\n",
      "|   Best of 2021|    3|\n",
      "|Not enough info| 2290|\n",
      "| Not the A-hole|85494|\n",
      "|         UPDATE|  302|\n",
      "|          TL;DR| 1522|\n",
      "|No A-holes here| 5191|\n",
      "|               |  170|\n",
      "|        Asshole|15465|\n",
      "|     Talk ENDED|    5|\n",
      "|     Open Forum|   11|\n",
      "|      Talk LIVE|    1|\n",
      "|    META: Help!|    1|\n",
      "| Upcoming Talk!|    1|\n",
      "|           null|  963|\n",
      "+---------------+-----+\n",
      "\n",
      "CPU times: user 133 ms, sys: 15.6 ms, total: 149 ms\n",
      "Wall time: 6min 21s\n"
     ]
    },
    {
     "name": "stderr",
     "output_type": "stream",
     "text": [
      "                                                                                \r"
     ]
    }
   ],
   "source": [
    "%%time\n",
    "aita.groupby('link_flair_text').count().show()"
   ]
  },
  {
   "cell_type": "markdown",
   "id": "8ec999b2-d5c0-4115-a0dd-34ef0e08fdf2",
   "metadata": {},
   "source": [
    "As we can see from the value counts above, Redditors (at least for the time frame in question) most commonly rate posts as Not the A-hole. We only are concerned with posts that are either: Not the A-hole, Asshole, Everyone Sucks, or No A-holes here, which are the 4 usual \"judgments\" that are imbued upon each post, so these data are subsetted further below."
   ]
  },
  {
   "cell_type": "code",
   "execution_count": 29,
   "id": "afa6b646-8eb8-4169-8da4-54080f1d840c",
   "metadata": {
    "tags": []
   },
   "outputs": [
    {
     "name": "stdout",
     "output_type": "stream",
     "text": [
      "+-------------+--------------------+--------------------+--------------------+-------------------+------------+---------------+\n",
      "|    subreddit|              author|               title|            selftext|        created_utc|num_comments|link_flair_text|\n",
      "+-------------+--------------------+--------------------+--------------------+-------------------+------------+---------------+\n",
      "|AmItheAsshole|       geosunsetmoth|AITA for refusing...|I (NB 19) am auti...|2022-01-22 18:15:30|         425| Not the A-hole|\n",
      "|AmItheAsshole|           pezewuziz|AITA for charging...|So for a bit of b...|2022-01-22 18:28:39|          56| Everyone Sucks|\n",
      "|AmItheAsshole|            twilipig|AITA for refusing...|Just a bit of bac...|2022-01-22 18:52:52|          52| Not the A-hole|\n",
      "|AmItheAsshole|              joreia|AITA for not want...|So I’m (32F) a mo...|2022-01-13 02:17:23|          29| Not the A-hole|\n",
      "|AmItheAsshole|       BazilbeeChuck|AITA for offering...|\\nI (29M) have a ...|2022-01-13 02:32:24|         470|        Asshole|\n",
      "|AmItheAsshole|          Purrrrpurr|AITA for telling ...|So this isn’t sup...|2022-01-13 02:38:03|          20| Not the A-hole|\n",
      "|AmItheAsshole| throwaway2019to2022|AITA for refusing...|In December of 20...|2022-01-13 02:42:40|          33| Not the A-hole|\n",
      "|AmItheAsshole|         WolfieSammy|AITA for being up...|Please don't post...|2022-01-13 02:43:34|          37| Not the A-hole|\n",
      "|AmItheAsshole|       Jupitervenuss|WIBTA telling a f...|I’m currently a c...|2022-01-13 02:44:42|          22| Not the A-hole|\n",
      "|AmItheAsshole|            Khaymann|AITA for refusing...|So I'll have to h...|2022-01-13 02:47:56|          36| Not the A-hole|\n",
      "|AmItheAsshole|      bored-at-home-|AITA for telling ...|My partner (28M) ...|2022-01-13 23:47:00|          26| Not the A-hole|\n",
      "|AmItheAsshole|     nobsforthemess1|AITA for “exposin...|So pretty quick s...|2022-01-13 23:50:04|         404| Not the A-hole|\n",
      "|AmItheAsshole|KitchenAccountant591|AITA for embarras...|Sorry it's a bit ...|2022-01-13 23:51:41|          18| Not the A-hole|\n",
      "|AmItheAsshole|   Awkward-Target436|AITA For Calling ...|I'm using \"uncle\"...|2022-01-13 23:57:25|          17| Not the A-hole|\n",
      "|AmItheAsshole|         AmayaKurama|WIBTA if I went o...|Obligatory on mob...|2022-01-14 00:11:34|          21|        Asshole|\n",
      "|AmItheAsshole|           [deleted]|AITA for accommod...|Hi all!\\n\\nI(43F)...|2022-01-14 00:11:43|        2920|        Asshole|\n",
      "|AmItheAsshole|         simplywebby|AITA for calling ...|We’re in a discor...|2022-01-14 00:13:44|          10| Not the A-hole|\n",
      "|AmItheAsshole|    Other-Amoeba4721|WIBTA if I took a...|I've never posted...|2022-01-31 02:32:07|          19|        Asshole|\n",
      "|AmItheAsshole|Relative_Potential92|AITA for dropping...|My older brother ...|2022-01-31 02:33:08|        1640| Not the A-hole|\n",
      "|AmItheAsshole|     Natural_Dog3625|AITA for asking m...|I always have to ...|2022-01-31 02:36:10|          38| Not the A-hole|\n",
      "+-------------+--------------------+--------------------+--------------------+-------------------+------------+---------------+\n",
      "only showing top 20 rows\n",
      "\n"
     ]
    },
    {
     "name": "stderr",
     "output_type": "stream",
     "text": [
      "[Stage 48:=======================================================>(59 + 1) / 60]\r"
     ]
    },
    {
     "name": "stdout",
     "output_type": "stream",
     "text": [
      "shape of the subsetted submissions dataframe of appropriately flaired posts is 110,387x68\n",
      "CPU times: user 132 ms, sys: 38.7 ms, total: 171 ms\n",
      "Wall time: 7min 43s\n"
     ]
    },
    {
     "name": "stderr",
     "output_type": "stream",
     "text": [
      "                                                                                \r"
     ]
    }
   ],
   "source": [
    "%%time\n",
    "acceptable_flairs = ['Everyone Sucks', 'Not the A-hole', 'No A-holes here', 'Asshole']\n",
    "df_flairs = aita.where(F.col('link_flair_text').isin(acceptable_flairs))\n",
    "df_flairs.select(\"subreddit\", \"author\", \"title\", \"selftext\", \"created_utc\", \"num_comments\", \"link_flair_text\").show()\n",
    "df_flairs.cache()\n",
    "print(f\"shape of the subsetted submissions dataframe of appropriately flaired posts is {df_flairs.count():,}x{len(df_flairs.columns)}\")"
   ]
  },
  {
   "cell_type": "markdown",
   "id": "14fde789-0296-4cb4-b09a-56ea0b90c3ac",
   "metadata": {},
   "source": [
    "Now with the posts with flairs isolated, we can proceed with some exploratory data visualization. First, these counts are visualized in a bar chart as such. The colors are based on the actual colors of the flairs in r/AITA except the color for No A-holes here is slightly modified due to its similarity to the color of Not the A-hole."
   ]
  },
  {
   "cell_type": "code",
   "execution_count": 30,
   "id": "6b507749-286f-46e9-8d78-dd3a3d577644",
   "metadata": {
    "tags": []
   },
   "outputs": [
    {
     "name": "stderr",
     "output_type": "stream",
     "text": [
      "                                                                                \r"
     ]
    }
   ],
   "source": [
    "df_flairs_viz = df_flairs.select(\"link_flair_text\").groupby(\"link_flair_text\").count().toPandas()\n"
   ]
  },
  {
   "cell_type": "code",
   "execution_count": 31,
   "id": "ed5f101b-ebd7-4c27-8441-e517f7aaf11a",
   "metadata": {
    "tags": []
   },
   "outputs": [
    {
     "name": "stdout",
     "output_type": "stream",
     "text": [
      "   link_flair_text  count\n",
      "0   Everyone Sucks   4237\n",
      "1   Not the A-hole  85494\n",
      "2  No A-holes here   5191\n",
      "3          Asshole  15465\n"
     ]
    }
   ],
   "source": [
    "print(df_flairs_viz)"
   ]
  },
  {
   "cell_type": "code",
   "execution_count": 32,
   "id": "132e3f75-a479-45be-a4e4-f10339f2711a",
   "metadata": {
    "tags": []
   },
   "outputs": [
    {
     "data": {
      "image/png": "[encoded data removed]",
      "text/plain": [
       "<Figure size 1000x600 with 1 Axes>"
      ]
     },
     "metadata": {},
     "output_type": "display_data"
    }
   ],
   "source": [
    "colors = ['#cc3600', '#7093ff', 'lime', '#b8001f']\n",
    "\n",
    "plt.figure(figsize=(10, 6))\n",
    "bars = plt.bar(df_flairs_viz[\"link_flair_text\"], df_flairs_viz[\"count\"])\n",
    "for i in range(len(bars)):\n",
    "    bars[i].set_color(colors[i])\n",
    "plt.xlabel(\"Flair Name\")\n",
    "plt.ylabel(\"Count\")\n",
    "plt.title(\"Bar Chart of r/AITA Flair Counts\")\n",
    "plt.savefig(\"../img/eda-plots/AITA_flairs_barchart.png\")\n",
    "plt.show()"
   ]
  },
  {
   "cell_type": "markdown",
   "id": "6bae5f38-8aaf-4d09-94ba-2e7562db6d7e",
   "metadata": {},
   "source": [
    "To more accurately assess the proportion of each flair's presence, a treemap is plotted below:"
   ]
  },
  {
   "cell_type": "code",
   "execution_count": 33,
   "id": "bb45c56a-4c2a-4f74-8875-1cf0015a791c",
   "metadata": {
    "tags": []
   },
   "outputs": [
    {
     "data": {
      "image/png": "[encoded data removed]",
      "text/plain": [
       "<Figure size 1000x600 with 1 Axes>"
      ]
     },
     "metadata": {},
     "output_type": "display_data"
    }
   ],
   "source": [
    "plt.figure(figsize = (10,6))\n",
    "squarify.plot(sizes = df_flairs_viz['count'], color = colors, label = df_flairs_viz['link_flair_text'])\n",
    "plt.axis('off')\n",
    "plt.title(\"Treemap of Flair Occurrence in r/AITA\")\n",
    "plt.savefig(\"../img/eda-plots/AITA_flairs_treemap.png\")"
   ]
  },
  {
   "cell_type": "code",
   "execution_count": 34,
   "id": "437d8fe5-7ebd-4162-9169-4b924349b8ad",
   "metadata": {},
   "outputs": [],
   "source": [
    "df_flairs_viz.to_csv(\"../data/eda-data/AITA_flairs_cleaned.csv\")"
   ]
  },
  {
   "cell_type": "markdown",
   "id": "e0dfc05a-aa74-4ea7-a057-bdb4383cb9e1",
   "metadata": {},
   "source": [
    "# EDA for Score by Text Subreddit\n",
    "\n",
    "In this section we perform exploratory analysis on the score (i.e., upvotes minus downvotes) of subreddits based on their text content. First, we remove any posts with deleted or empty text bodies."
   ]
  },
  {
   "cell_type": "code",
   "execution_count": 7,
   "id": "6a11d00b-4720-4f4b-81c7-756750503234",
   "metadata": {
    "tags": []
   },
   "outputs": [
    {
     "name": "stdout",
     "output_type": "stream",
     "text": [
      "+-------------------+--------------------+--------------------+--------------------+-------------------+------------+---------------+\n",
      "|          subreddit|              author|               title|            selftext|        created_utc|num_comments|link_flair_text|\n",
      "+-------------------+--------------------+--------------------+--------------------+-------------------+------------+---------------+\n",
      "|           antiwork|         Vivid_Steel|For Those of You ...|In most states in...|2022-01-22 18:14:28|           1|           null|\n",
      "|   unpopularopinion| ballonfightaddicted|Waking up 15-30 m...|I like waking up ...|2022-01-22 18:15:24|           5|           null|\n",
      "|      AmItheAsshole|       geosunsetmoth|AITA for refusing...|I (NB 19) am auti...|2022-01-22 18:15:30|         425| Not the A-hole|\n",
      "|  NoStupidQuestions|           Killdreth|Can I do anything...|I don’t know why,...|2022-01-22 18:15:45|           2|           null|\n",
      "|     TrueOffMyChest|          sadness_18|I hate people who...|I've been called ...|2022-01-22 18:15:46|           5|           null|\n",
      "|relationship_advice|  Natural_Rabbit8936|I went thru my gi...|But I’m still in ...|2022-01-22 18:15:50|           6|           null|\n",
      "|relationship_advice|  throwawaybrrbrrbrr|I (NB15) think my...|apologies if this...|2022-01-22 18:16:22|          25|           null|\n",
      "|  NoStupidQuestions|           [deleted]|In basketball, wh...|I never really un...|2022-01-22 18:16:42|           9|       Answered|\n",
      "|relationship_advice|          rkunreal93|How do I know If ...|Is it if  she smi...|2022-01-22 18:17:23|           4|           null|\n",
      "|relationship_advice|Personal_Memory_5099|(20f) found out b...|throwaway because...|2022-01-22 18:17:39|           5|           null|\n",
      "|relationship_advice|aguysthrowaway103121|If a girl (19f) a...|It’s all in the t...|2022-01-22 18:18:00|          26|           null|\n",
      "|           antiwork|     Existing_Secret|Reporter hit by a...|Link for anyone w...|2022-01-22 18:18:05|           0|           null|\n",
      "|               tifu|Motor_University_260|TIFU I touched my...|I was at my frien...|2022-01-22 18:19:01|          26|              S|\n",
      "|relationship_advice|      newattractions|Relationships &am...| \\n\\nHi everyone,...|2022-01-22 18:19:34|           2|           null|\n",
      "|             AskMen|       DeadyDeadshot|How to deal with ...|I got an oily nos...|2022-01-22 18:22:55|          14|           null|\n",
      "|relationship_advice|      No_Papaya_1931|I (f/28) don't wa...|Since Thanksgivin...|2022-01-22 18:24:23|           1|           null|\n",
      "|relationship_advice|            shdhbdjd|What did my guy f...|I never dated thi...|2022-01-22 18:24:27|           1|           null|\n",
      "|     TrueOffMyChest|        sendhelp6299|I cant get of the...|Its 2a.m and I wa...|2022-01-22 18:24:32|           2|           null|\n",
      "|   unpopularopinion|     NuttyMcShithead|Thanos' CGI looks...|He looks so fake ...|2022-01-22 18:24:42|           6|           null|\n",
      "|relationship_advice|        throwRA98012|Boyfriend thinks ...|There's a lot I c...|2022-01-22 18:24:45|          26|           null|\n",
      "+-------------------+--------------------+--------------------+--------------------+-------------------+------------+---------------+\n",
      "only showing top 20 rows\n",
      "\n"
     ]
    },
    {
     "name": "stderr",
     "output_type": "stream",
     "text": [
      "[Stage 17:=======================================================>(59 + 1) / 60]\r"
     ]
    },
    {
     "name": "stdout",
     "output_type": "stream",
     "text": [
      "shape of the subsetted submissions dataframe is 977,181x68\n",
      "CPU times: user 118 ms, sys: 19.7 ms, total: 138 ms\n",
      "Wall time: 4min 20s\n"
     ]
    },
    {
     "name": "stderr",
     "output_type": "stream",
     "text": [
      "                                                                                \r"
     ]
    }
   ],
   "source": [
    "%%time\n",
    "# filter submissions to remove deleted/removed posts\n",
    "valid_submissions = submissions.filter((F.col('selftext') != '[removed]') & (F.col('selftext') != '[deleted]') & (F.col('selftext') != ''))\n",
    "valid_submissions.select(\"subreddit\", \"author\", \"title\", \"selftext\", \"created_utc\", \"num_comments\", \"link_flair_text\").show()\n",
    "\n",
    "print(f\"shape of the subsetted submissions dataframe is {valid_submissions.count():,}x{len(valid_submissions.columns)}\")"
   ]
  },
  {
   "cell_type": "markdown",
   "id": "00d7672b-5ffa-4ff5-bcbf-ec4237835435",
   "metadata": {},
   "source": [
    "With the valid posts in our subreddits of interest (posts that are not deleted/removed and contain some amount of body text), we continue continue the data exploration by identifying the counts of each subreddit in this data set."
   ]
  },
  {
   "cell_type": "code",
   "execution_count": 9,
   "id": "873da974-74ac-4e1f-acae-078f8b63281b",
   "metadata": {},
   "outputs": [
    {
     "name": "stderr",
     "output_type": "stream",
     "text": [
      "                                                                                \r"
     ]
    }
   ],
   "source": [
    "pd_submission_counts = valid_submissions.select(\"subreddit\").groupby(\"subreddit\").count().toPandas()"
   ]
  },
  {
   "cell_type": "code",
   "execution_count": 11,
   "id": "90a5958f-97a2-4f39-b3e1-005a1d2b8016",
   "metadata": {},
   "outputs": [
    {
     "name": "stdout",
     "output_type": "stream",
     "text": [
      "              subreddit   count\n",
      "0        TrueOffMyChest  125159\n",
      "1      unpopularopinion   39642\n",
      "2              antiwork   76647\n",
      "3          socialskills   23005\n",
      "4                AskMen   18240\n",
      "5         AmItheAsshole  115659\n",
      "6   relationship_advice  311882\n",
      "7     explainlikeimfive   15002\n",
      "8          OutOfTheLoop    3054\n",
      "9                  tifu   11921\n",
      "10    NoStupidQuestions  234253\n",
      "11             AskWomen    2717\n"
     ]
    }
   ],
   "source": [
    "print(pd_submission_counts)"
   ]
  },
  {
   "cell_type": "markdown",
   "id": "4b4ac547-671a-4112-bff0-1329a0bbc089",
   "metadata": {},
   "source": [
    "With these counts acquired, we visualize and compare them as such in a bar chart"
   ]
  },
  {
   "cell_type": "code",
   "execution_count": 22,
   "id": "e2e1932a-c5ae-420a-a573-a1db7be61b34",
   "metadata": {
    "tags": []
   },
   "outputs": [
    {
     "data": {
      "image/png": "[encoded data removed]",
      "text/plain": [
       "<Figure size 1000x600 with 1 Axes>"
      ]
     },
     "metadata": {},
     "output_type": "display_data"
    }
   ],
   "source": [
    "colors = ['#cc3600', '#7093ff', 'lime', '#b8001f']\n",
    "\n",
    "plt.figure(figsize=(10, 6))\n",
    "bars = plt.bar(pd_submission_counts[\"subreddit\"], pd_submission_counts[\"count\"])\n",
    "#for i in range(len(bars)):\n",
    "#    bars[i].set_color(colors[i])\n",
    "plt.xticks(rotation = 90)\n",
    "plt.xlabel(\"Subreddit\")\n",
    "plt.ylabel(\"Count\")\n",
    "plt.title(\"Bar Chart of Valid Text Submission Subreddit Counts\")\n",
    "plt.savefig(\"../img/eda-plots/text-only-barcharts.png\")\n",
    "plt.show()"
   ]
  },
  {
   "cell_type": "markdown",
   "id": "c3f61212-cc05-400a-a70c-099513fec514",
   "metadata": {},
   "source": [
    "With the above value counts visualized as such, we then move to analyze and visualize some indicators of post engagement and interaction (i.e., score and number of comments):"
   ]
  },
  {
   "cell_type": "code",
   "execution_count": 64,
   "id": "e5b0f384-6d12-40a6-b302-32ff8aed3889",
   "metadata": {},
   "outputs": [
    {
     "name": "stderr",
     "output_type": "stream",
     "text": [
      "[Stage 29:=======================================================>(59 + 1) / 60]\r"
     ]
    },
    {
     "name": "stdout",
     "output_type": "stream",
     "text": [
      "CPU times: user 130 ms, sys: 25.5 ms, total: 155 ms\n",
      "Wall time: 5min 31s\n"
     ]
    },
    {
     "name": "stderr",
     "output_type": "stream",
     "text": [
      "                                                                                \r"
     ]
    }
   ],
   "source": [
    "%%time\n",
    "\n",
    "# Group by subreddit and calculate metrics of interest\n",
    "interactions = valid_submissions.select('subreddit', 'num_comments', 'score').groupby('subreddit').agg(F.mean('score').alias('mean_score'),\n",
    "                                                                                                      F.mean('num_comments').alias('mean_comments'),\n",
    "                                                                                                      F.count('subreddit')).toPandas()"
   ]
  },
  {
   "cell_type": "code",
   "execution_count": 65,
   "id": "656e2999-5727-4c18-b715-82d67b35c558",
   "metadata": {
    "tags": []
   },
   "outputs": [
    {
     "name": "stdout",
     "output_type": "stream",
     "text": [
      "              subreddit   mean_score  mean_comments  count(subreddit)\n",
      "0        TrueOffMyChest   166.743015      26.694021            125159\n",
      "1      unpopularopinion   275.579814      69.724535             39642\n",
      "2              antiwork   306.267160      35.589860             76647\n",
      "3          socialskills    39.529450      11.686416             23005\n",
      "4                AskMen    98.402851      77.706250             18240\n",
      "5         AmItheAsshole   557.378042     122.697438            115659\n",
      "6   relationship_advice     6.197164       9.361236            311882\n",
      "7     explainlikeimfive   115.373017      26.121384             15002\n",
      "8          OutOfTheLoop   637.033071     121.068107              3054\n",
      "9                  tifu  1144.520846      97.120040             11921\n",
      "10    NoStupidQuestions    26.440152      13.403700            234253\n",
      "11             AskWomen    90.116305      99.458962              2717\n"
     ]
    }
   ],
   "source": [
    "print(interactions)\n",
    "# Save df to csv\n",
    "interactions.to_csv(\"../data/eda-data/text_posts_mean_score_comments.csv\")"
   ]
  },
  {
   "cell_type": "code",
   "execution_count": 74,
   "id": "69d8b749-5bbe-4f2f-8155-3b16cb2fb52f",
   "metadata": {},
   "outputs": [
    {
     "data": {
      "image/png": "[encoded data removed]",
      "text/plain": [
       "<Figure size 1000x600 with 1 Axes>"
      ]
     },
     "metadata": {},
     "output_type": "display_data"
    }
   ],
   "source": [
    "from adjustText import adjust_text \n",
    "import math\n",
    "\n",
    "# Visualize as a scatterplot\n",
    "plt.figure(figsize = (10,6))\n",
    "sns.scatterplot(x = 'mean_score', y = 'mean_comments', data = interactions, hue = 'subreddit', size =interactions['count(subreddit)'])\n",
    "plt.xlabel('Mean Score per Post')\n",
    "plt.ylabel('Mean Number of Comments per Post')\n",
    "plt.title('Mean Score and Mean Number of Comments per Text Post in 2022')\n",
    "\n",
    "texts = []\n",
    "# Add labels to each point\n",
    "for line in range(0, interactions.shape[0]):\n",
    "     texts.append(plt.text(interactions['mean_score'][line], interactions['mean_comments'][line], interactions['subreddit'][line], horizontalalignment='left', size='small', color='black'))\n",
    "\n",
    "# repel labels\n",
    "adjust_text(texts, arrowprops=dict(arrowstyle='-', color='gray'))\n",
    "\n",
    "# Remove the legend (if any)\n",
    "plt.legend().set_visible(False)\n",
    "        \n",
    "plt.savefig('../website-source/img/eda-plots/mean_score_comments_by_subreddit.png')\n",
    "plt.show()"
   ]
  },
  {
   "cell_type": "markdown",
   "id": "4fa081f4-e609-4612-85b3-c147b5ff4c72",
   "metadata": {},
   "source": [
    "The plot above compares the mean score (upvotes minus downvotes) per valid text post in our subreddits of interest compared to the mean comments per valid post. Each bubble is larger/smaller depending on the total number of valid posts in these subreddits for the entirety of 2022 and is labelled with the accompanying subreddit that it represents.\n",
    "\n",
    "We can see in the plot above that there is an apparent positive relationship between mean score per post and mean number of comments per post, although some subreddits receive a higher score per valid post compared to number of comments (e.g., r/TIFU) while others have the opposite relation. When comparing the size of subreddits to their mean score and comments per post, many of the subreddits with higher post counts appear to have lower mean scores and comments."
   ]
  },
  {
   "cell_type": "code",
   "execution_count": null,
   "id": "1960a737-6ade-4083-95cb-01c4e3ef3d71",
   "metadata": {},
   "outputs": [],
   "source": []
  }
 ],
 "metadata": {
  "availableInstances": [
   {
    "_defaultOrder": 0,
    "_isFastLaunch": true,
    "category": "General purpose",
    "gpuNum": 0,
    "hideHardwareSpecs": false,
    "memoryGiB": 4,
    "name": "ml.t3.medium",
    "vcpuNum": 2
   },
   {
    "_defaultOrder": 1,
    "_isFastLaunch": false,
    "category": "General purpose",
    "gpuNum": 0,
    "hideHardwareSpecs": false,
    "memoryGiB": 8,
    "name": "ml.t3.large",
    "vcpuNum": 2
   },
   {
    "_defaultOrder": 2,
    "_isFastLaunch": false,
    "category": "General purpose",
    "gpuNum": 0,
    "hideHardwareSpecs": false,
    "memoryGiB": 16,
    "name": "ml.t3.xlarge",
    "vcpuNum": 4
   },
   {
    "_defaultOrder": 3,
    "_isFastLaunch": false,
    "category": "General purpose",
    "gpuNum": 0,
    "hideHardwareSpecs": false,
    "memoryGiB": 32,
    "name": "ml.t3.2xlarge",
    "vcpuNum": 8
   },
   {
    "_defaultOrder": 4,
    "_isFastLaunch": true,
    "category": "General purpose",
    "gpuNum": 0,
    "hideHardwareSpecs": false,
    "memoryGiB": 8,
    "name": "ml.m5.large",
    "vcpuNum": 2
   },
   {
    "_defaultOrder": 5,
    "_isFastLaunch": false,
    "category": "General purpose",
    "gpuNum": 0,
    "hideHardwareSpecs": false,
    "memoryGiB": 16,
    "name": "ml.m5.xlarge",
    "vcpuNum": 4
   },
   {
    "_defaultOrder": 6,
    "_isFastLaunch": false,
    "category": "General purpose",
    "gpuNum": 0,
    "hideHardwareSpecs": false,
    "memoryGiB": 32,
    "name": "ml.m5.2xlarge",
    "vcpuNum": 8
   },
   {
    "_defaultOrder": 7,
    "_isFastLaunch": false,
    "category": "General purpose",
    "gpuNum": 0,
    "hideHardwareSpecs": false,
    "memoryGiB": 64,
    "name": "ml.m5.4xlarge",
    "vcpuNum": 16
   },
   {
    "_defaultOrder": 8,
    "_isFastLaunch": false,
    "category": "General purpose",
    "gpuNum": 0,
    "hideHardwareSpecs": false,
    "memoryGiB": 128,
    "name": "ml.m5.8xlarge",
    "vcpuNum": 32
   },
   {
    "_defaultOrder": 9,
    "_isFastLaunch": false,
    "category": "General purpose",
    "gpuNum": 0,
    "hideHardwareSpecs": false,
    "memoryGiB": 192,
    "name": "ml.m5.12xlarge",
    "vcpuNum": 48
   },
   {
    "_defaultOrder": 10,
    "_isFastLaunch": false,
    "category": "General purpose",
    "gpuNum": 0,
    "hideHardwareSpecs": false,
    "memoryGiB": 256,
    "name": "ml.m5.16xlarge",
    "vcpuNum": 64
   },
   {
    "_defaultOrder": 11,
    "_isFastLaunch": false,
    "category": "General purpose",
    "gpuNum": 0,
    "hideHardwareSpecs": false,
    "memoryGiB": 384,
    "name": "ml.m5.24xlarge",
    "vcpuNum": 96
   },
   {
    "_defaultOrder": 12,
    "_isFastLaunch": false,
    "category": "General purpose",
    "gpuNum": 0,
    "hideHardwareSpecs": false,
    "memoryGiB": 8,
    "name": "ml.m5d.large",
    "vcpuNum": 2
   },
   {
    "_defaultOrder": 13,
    "_isFastLaunch": false,
    "category": "General purpose",
    "gpuNum": 0,
    "hideHardwareSpecs": false,
    "memoryGiB": 16,
    "name": "ml.m5d.xlarge",
    "vcpuNum": 4
   },
   {
    "_defaultOrder": 14,
    "_isFastLaunch": false,
    "category": "General purpose",
    "gpuNum": 0,
    "hideHardwareSpecs": false,
    "memoryGiB": 32,
    "name": "ml.m5d.2xlarge",
    "vcpuNum": 8
   },
   {
    "_defaultOrder": 15,
    "_isFastLaunch": false,
    "category": "General purpose",
    "gpuNum": 0,
    "hideHardwareSpecs": false,
    "memoryGiB": 64,
    "name": "ml.m5d.4xlarge",
    "vcpuNum": 16
   },
   {
    "_defaultOrder": 16,
    "_isFastLaunch": false,
    "category": "General purpose",
    "gpuNum": 0,
    "hideHardwareSpecs": false,
    "memoryGiB": 128,
    "name": "ml.m5d.8xlarge",
    "vcpuNum": 32
   },
   {
    "_defaultOrder": 17,
    "_isFastLaunch": false,
    "category": "General purpose",
    "gpuNum": 0,
    "hideHardwareSpecs": false,
    "memoryGiB": 192,
    "name": "ml.m5d.12xlarge",
    "vcpuNum": 48
   },
   {
    "_defaultOrder": 18,
    "_isFastLaunch": false,
    "category": "General purpose",
    "gpuNum": 0,
    "hideHardwareSpecs": false,
    "memoryGiB": 256,
    "name": "ml.m5d.16xlarge",
    "vcpuNum": 64
   },
   {
    "_defaultOrder": 19,
    "_isFastLaunch": false,
    "category": "General purpose",
    "gpuNum": 0,
    "hideHardwareSpecs": false,
    "memoryGiB": 384,
    "name": "ml.m5d.24xlarge",
    "vcpuNum": 96
   },
   {
    "_defaultOrder": 20,
    "_isFastLaunch": false,
    "category": "General purpose",
    "gpuNum": 0,
    "hideHardwareSpecs": true,
    "memoryGiB": 0,
    "name": "ml.geospatial.interactive",
    "supportedImageNames": [
     "sagemaker-geospatial-v1-0"
    ],
    "vcpuNum": 0
   },
   {
    "_defaultOrder": 21,
    "_isFastLaunch": true,
    "category": "Compute optimized",
    "gpuNum": 0,
    "hideHardwareSpecs": false,
    "memoryGiB": 4,
    "name": "ml.c5.large",
    "vcpuNum": 2
   },
   {
    "_defaultOrder": 22,
    "_isFastLaunch": false,
    "category": "Compute optimized",
    "gpuNum": 0,
    "hideHardwareSpecs": false,
    "memoryGiB": 8,
    "name": "ml.c5.xlarge",
    "vcpuNum": 4
   },
   {
    "_defaultOrder": 23,
    "_isFastLaunch": false,
    "category": "Compute optimized",
    "gpuNum": 0,
    "hideHardwareSpecs": false,
    "memoryGiB": 16,
    "name": "ml.c5.2xlarge",
    "vcpuNum": 8
   },
   {
    "_defaultOrder": 24,
    "_isFastLaunch": false,
    "category": "Compute optimized",
    "gpuNum": 0,
    "hideHardwareSpecs": false,
    "memoryGiB": 32,
    "name": "ml.c5.4xlarge",
    "vcpuNum": 16
   },
   {
    "_defaultOrder": 25,
    "_isFastLaunch": false,
    "category": "Compute optimized",
    "gpuNum": 0,
    "hideHardwareSpecs": false,
    "memoryGiB": 72,
    "name": "ml.c5.9xlarge",
    "vcpuNum": 36
   },
   {
    "_defaultOrder": 26,
    "_isFastLaunch": false,
    "category": "Compute optimized",
    "gpuNum": 0,
    "hideHardwareSpecs": false,
    "memoryGiB": 96,
    "name": "ml.c5.12xlarge",
    "vcpuNum": 48
   },
   {
    "_defaultOrder": 27,
    "_isFastLaunch": false,
    "category": "Compute optimized",
    "gpuNum": 0,
    "hideHardwareSpecs": false,
    "memoryGiB": 144,
    "name": "ml.c5.18xlarge",
    "vcpuNum": 72
   },
   {
    "_defaultOrder": 28,
    "_isFastLaunch": false,
    "category": "Compute optimized",
    "gpuNum": 0,
    "hideHardwareSpecs": false,
    "memoryGiB": 192,
    "name": "ml.c5.24xlarge",
    "vcpuNum": 96
   },
   {
    "_defaultOrder": 29,
    "_isFastLaunch": true,
    "category": "Accelerated computing",
    "gpuNum": 1,
    "hideHardwareSpecs": false,
    "memoryGiB": 16,
    "name": "ml.g4dn.xlarge",
    "vcpuNum": 4
   },
   {
    "_defaultOrder": 30,
    "_isFastLaunch": false,
    "category": "Accelerated computing",
    "gpuNum": 1,
    "hideHardwareSpecs": false,
    "memoryGiB": 32,
    "name": "ml.g4dn.2xlarge",
    "vcpuNum": 8
   },
   {
    "_defaultOrder": 31,
    "_isFastLaunch": false,
    "category": "Accelerated computing",
    "gpuNum": 1,
    "hideHardwareSpecs": false,
    "memoryGiB": 64,
    "name": "ml.g4dn.4xlarge",
    "vcpuNum": 16
   },
   {
    "_defaultOrder": 32,
    "_isFastLaunch": false,
    "category": "Accelerated computing",
    "gpuNum": 1,
    "hideHardwareSpecs": false,
    "memoryGiB": 128,
    "name": "ml.g4dn.8xlarge",
    "vcpuNum": 32
   },
   {
    "_defaultOrder": 33,
    "_isFastLaunch": false,
    "category": "Accelerated computing",
    "gpuNum": 4,
    "hideHardwareSpecs": false,
    "memoryGiB": 192,
    "name": "ml.g4dn.12xlarge",
    "vcpuNum": 48
   },
   {
    "_defaultOrder": 34,
    "_isFastLaunch": false,
    "category": "Accelerated computing",
    "gpuNum": 1,
    "hideHardwareSpecs": false,
    "memoryGiB": 256,
    "name": "ml.g4dn.16xlarge",
    "vcpuNum": 64
   },
   {
    "_defaultOrder": 35,
    "_isFastLaunch": false,
    "category": "Accelerated computing",
    "gpuNum": 1,
    "hideHardwareSpecs": false,
    "memoryGiB": 61,
    "name": "ml.p3.2xlarge",
    "vcpuNum": 8
   },
   {
    "_defaultOrder": 36,
    "_isFastLaunch": false,
    "category": "Accelerated computing",
    "gpuNum": 4,
    "hideHardwareSpecs": false,
    "memoryGiB": 244,
    "name": "ml.p3.8xlarge",
    "vcpuNum": 32
   },
   {
    "_defaultOrder": 37,
    "_isFastLaunch": false,
    "category": "Accelerated computing",
    "gpuNum": 8,
    "hideHardwareSpecs": false,
    "memoryGiB": 488,
    "name": "ml.p3.16xlarge",
    "vcpuNum": 64
   },
   {
    "_defaultOrder": 38,
    "_isFastLaunch": false,
    "category": "Accelerated computing",
    "gpuNum": 8,
    "hideHardwareSpecs": false,
    "memoryGiB": 768,
    "name": "ml.p3dn.24xlarge",
    "vcpuNum": 96
   },
   {
    "_defaultOrder": 39,
    "_isFastLaunch": false,
    "category": "Memory Optimized",
    "gpuNum": 0,
    "hideHardwareSpecs": false,
    "memoryGiB": 16,
    "name": "ml.r5.large",
    "vcpuNum": 2
   },
   {
    "_defaultOrder": 40,
    "_isFastLaunch": false,
    "category": "Memory Optimized",
    "gpuNum": 0,
    "hideHardwareSpecs": false,
    "memoryGiB": 32,
    "name": "ml.r5.xlarge",
    "vcpuNum": 4
   },
   {
    "_defaultOrder": 41,
    "_isFastLaunch": false,
    "category": "Memory Optimized",
    "gpuNum": 0,
    "hideHardwareSpecs": false,
    "memoryGiB": 64,
    "name": "ml.r5.2xlarge",
    "vcpuNum": 8
   },
   {
    "_defaultOrder": 42,
    "_isFastLaunch": false,
    "category": "Memory Optimized",
    "gpuNum": 0,
    "hideHardwareSpecs": false,
    "memoryGiB": 128,
    "name": "ml.r5.4xlarge",
    "vcpuNum": 16
   },
   {
    "_defaultOrder": 43,
    "_isFastLaunch": false,
    "category": "Memory Optimized",
    "gpuNum": 0,
    "hideHardwareSpecs": false,
    "memoryGiB": 256,
    "name": "ml.r5.8xlarge",
    "vcpuNum": 32
   },
   {
    "_defaultOrder": 44,
    "_isFastLaunch": false,
    "category": "Memory Optimized",
    "gpuNum": 0,
    "hideHardwareSpecs": false,
    "memoryGiB": 384,
    "name": "ml.r5.12xlarge",
    "vcpuNum": 48
   },
   {
    "_defaultOrder": 45,
    "_isFastLaunch": false,
    "category": "Memory Optimized",
    "gpuNum": 0,
    "hideHardwareSpecs": false,
    "memoryGiB": 512,
    "name": "ml.r5.16xlarge",
    "vcpuNum": 64
   },
   {
    "_defaultOrder": 46,
    "_isFastLaunch": false,
    "category": "Memory Optimized",
    "gpuNum": 0,
    "hideHardwareSpecs": false,
    "memoryGiB": 768,
    "name": "ml.r5.24xlarge",
    "vcpuNum": 96
   },
   {
    "_defaultOrder": 47,
    "_isFastLaunch": false,
    "category": "Accelerated computing",
    "gpuNum": 1,
    "hideHardwareSpecs": false,
    "memoryGiB": 16,
    "name": "ml.g5.xlarge",
    "vcpuNum": 4
   },
   {
    "_defaultOrder": 48,
    "_isFastLaunch": false,
    "category": "Accelerated computing",
    "gpuNum": 1,
    "hideHardwareSpecs": false,
    "memoryGiB": 32,
    "name": "ml.g5.2xlarge",
    "vcpuNum": 8
   },
   {
    "_defaultOrder": 49,
    "_isFastLaunch": false,
    "category": "Accelerated computing",
    "gpuNum": 1,
    "hideHardwareSpecs": false,
    "memoryGiB": 64,
    "name": "ml.g5.4xlarge",
    "vcpuNum": 16
   },
   {
    "_defaultOrder": 50,
    "_isFastLaunch": false,
    "category": "Accelerated computing",
    "gpuNum": 1,
    "hideHardwareSpecs": false,
    "memoryGiB": 128,
    "name": "ml.g5.8xlarge",
    "vcpuNum": 32
   },
   {
    "_defaultOrder": 51,
    "_isFastLaunch": false,
    "category": "Accelerated computing",
    "gpuNum": 1,
    "hideHardwareSpecs": false,
    "memoryGiB": 256,
    "name": "ml.g5.16xlarge",
    "vcpuNum": 64
   },
   {
    "_defaultOrder": 52,
    "_isFastLaunch": false,
    "category": "Accelerated computing",
    "gpuNum": 4,
    "hideHardwareSpecs": false,
    "memoryGiB": 192,
    "name": "ml.g5.12xlarge",
    "vcpuNum": 48
   },
   {
    "_defaultOrder": 53,
    "_isFastLaunch": false,
    "category": "Accelerated computing",
    "gpuNum": 4,
    "hideHardwareSpecs": false,
    "memoryGiB": 384,
    "name": "ml.g5.24xlarge",
    "vcpuNum": 96
   },
   {
    "_defaultOrder": 54,
    "_isFastLaunch": false,
    "category": "Accelerated computing",
    "gpuNum": 8,
    "hideHardwareSpecs": false,
    "memoryGiB": 768,
    "name": "ml.g5.48xlarge",
    "vcpuNum": 192
   },
   {
    "_defaultOrder": 55,
    "_isFastLaunch": false,
    "category": "Accelerated computing",
    "gpuNum": 8,
    "hideHardwareSpecs": false,
    "memoryGiB": 1152,
    "name": "ml.p4d.24xlarge",
    "vcpuNum": 96
   },
   {
    "_defaultOrder": 56,
    "_isFastLaunch": false,
    "category": "Accelerated computing",
    "gpuNum": 8,
    "hideHardwareSpecs": false,
    "memoryGiB": 1152,
    "name": "ml.p4de.24xlarge",
    "vcpuNum": 96
   },
   {
    "_defaultOrder": 57,
    "_isFastLaunch": false,
    "category": "Accelerated computing",
    "gpuNum": 0,
    "hideHardwareSpecs": false,
    "memoryGiB": 32,
    "name": "ml.trn1.2xlarge",
    "vcpuNum": 8
   },
   {
    "_defaultOrder": 58,
    "_isFastLaunch": false,
    "category": "Accelerated computing",
    "gpuNum": 0,
    "hideHardwareSpecs": false,
    "memoryGiB": 512,
    "name": "ml.trn1.32xlarge",
    "vcpuNum": 128
   },
   {
    "_defaultOrder": 59,
    "_isFastLaunch": false,
    "category": "Accelerated computing",
    "gpuNum": 0,
    "hideHardwareSpecs": false,
    "memoryGiB": 512,
    "name": "ml.trn1n.32xlarge",
    "vcpuNum": 128
   }
  ],
  "instance_type": "ml.t3.large",
  "kernelspec": {
   "display_name": "Python 3 (Data Science 3.0)",
   "language": "python",
   "name": "python3__SAGEMAKER_INTERNAL__arn:aws:sagemaker:us-east-1:081325390199:image/sagemaker-data-science-310-v1"
  },
  "language_info": {
   "codemirror_mode": {
    "name": "ipython",
    "version": 3
   },
   "file_extension": ".py",
   "mimetype": "text/x-python",
   "name": "python",
   "nbconvert_exporter": "python",
   "pygments_lexer": "ipython3",
   "version": "3.10.6"
  }
 },
 "nbformat": 4,
 "nbformat_minor": 5
}
