{
 "cells": [
  {
   "cell_type": "raw",
   "metadata": {},
   "source": [
    "---\n",
    "format:\n",
    "  html:\n",
    "    embed-resources: true\n",
    "    toc: true\n",
    "    theme: default\n",
    "    code-copy: true\n",
    "    code-line-numbers: true\n",
    "    highlight-style: github\n",
    "---"
   ]
  },
  {
   "cell_type": "markdown",
   "metadata": {},
   "source": [
    "# Milestone 1: Frame your analysis and EDA\n",
    "\n",
    "\n"
   ]
  },
  {
   "cell_type": "markdown",
   "metadata": {},
   "source": [
    "## 1. Project Topics"
   ]
  },
  {
   "cell_type": "markdown",
   "metadata": {},
   "source": [
    "### Exploratory 1\n",
    "\n",
    "#### Business Goals\n",
    "\n",
    "Determine if NSFW posts post affects user interaction.\n",
    "\n",
    "#### Technical Proposals\n",
    "\n",
    "Check the means of the distribution of comments for each type of post in a box plot. Perform hypothesis tests. Perform hypothesis tests for statistical significance.\n",
    "\n",
    "\n"
   ]
  },
  {
   "cell_type": "markdown",
   "metadata": {},
   "source": [
    "### Exploratory 2\n",
    "\n",
    "#### Business Goals\n",
    "\n",
    "Determine what is the correlation that exists between the number of comments and the score of a post.\n",
    "\n",
    "#### Technical Proposals\n",
    "\n",
    "Calculate correlations between the score in various selected subreddits and the number of comments in each. Perform hypothesis tests for statistical significance.\n"
   ]
  },
  {
   "cell_type": "markdown",
   "metadata": {},
   "source": [
    "### Exploratory 3\n",
    "\n",
    "#### Business Goals\n",
    "\n",
    "Determine the times of the day when posts typically receive the most engagement.\n",
    "\n",
    "#### Technical Proposals\n",
    "\n",
    "Plot comments over time."
   ]
  },
  {
   "cell_type": "markdown",
   "metadata": {},
   "source": [
    "## 2. EDA"
   ]
  },
  {
   "cell_type": "markdown",
   "metadata": {},
   "source": [
    "### Bucket checks"
   ]
  },
  {
   "cell_type": "code",
   "execution_count": 2,
   "metadata": {
    "tags": []
   },
   "outputs": [
    {
     "name": "stdout",
     "output_type": "stream",
     "text": [
      "2023-08-29 23:43:16 sagemaker-studio-692960231031-wo7kgoszj2g\n",
      "2023-08-29 23:50:01 sagemaker-us-east-1-692960231031\n",
      "2023-08-30 00:34:21 vad49\n",
      "2023-09-16 16:02:10 vad49-labdata\n"
     ]
    }
   ],
   "source": [
    "!aws s3 ls\n"
   ]
  },
  {
   "cell_type": "code",
   "execution_count": 65,
   "metadata": {
    "tags": []
   },
   "outputs": [
    {
     "name": "stdout",
     "output_type": "stream",
     "text": [
      "                           PRE comments/\n",
      "                           PRE submissions/\n"
     ]
    }
   ],
   "source": [
    "#!aws s3 ls s3://vad49/project_lowercase_test/\n",
    "!aws s3 ls s3://project17-bucket-alex/project_jan2021/\n",
    "\n",
    "#!aws s3 cp s3://project17-bucket-alex/eda_ideas.txt -"
   ]
  },
  {
   "cell_type": "markdown",
   "metadata": {
    "tags": []
   },
   "source": [
    "### Setup"
   ]
  },
  {
   "cell_type": "code",
   "execution_count": null,
   "metadata": {
    "tags": []
   },
   "outputs": [],
   "source": [
    "# Setup - Run only once per Kernel App\n",
    "%conda install openjdk -y\n",
    "\n",
    "# install PySpark\n",
    "%pip install pyspark==3.2.0 s3fs pyarrow\n",
    "\n",
    "# restart kernel\n",
    "HTML(\"<script>Jupyter.notebook.kernel.restart()</script>\")\n"
   ]
  },
  {
   "cell_type": "code",
   "execution_count": 36,
   "metadata": {},
   "outputs": [],
   "source": [
    "from IPython.core.display import HTML\n",
    "from pyspark.sql import SparkSession, DataFrame\n",
    "from pyspark.sql.functions import col, length, isnan, when, count\n",
    "import pandas as pd\n",
    "pd.set_option('display.max_colwidth', 50) \n",
    "#pd.set_option('display.width', None)\n",
    "pd.set_option('display.max_columns', None)\n"
   ]
  },
  {
   "cell_type": "code",
   "execution_count": null,
   "metadata": {
    "tags": []
   },
   "outputs": [],
   "source": [
    "# Import pyspark and build Spark session\n",
    "\n",
    "spark = (\n",
    "    SparkSession.builder.appName(\"PySparkApp\")\n",
    "    .config(\"spark.jars.packages\", \"org.apache.hadoop:hadoop-aws:3.2.2\")\n",
    "    .config(\n",
    "        \"fs.s3a.aws.credentials.provider\",\n",
    "        \"com.amazonaws.auth.ContainerCredentialsProvider\",\n",
    "    )\n",
    "    .getOrCreate()\n",
    ")\n",
    "\n",
    "print(spark.version)"
   ]
  },
  {
   "cell_type": "markdown",
   "metadata": {},
   "source": [
    "### Bring in submissions and comments data"
   ]
  },
  {
   "cell_type": "code",
   "execution_count": 6,
   "metadata": {},
   "outputs": [
    {
     "name": "stdout",
     "output_type": "stream",
     "text": [
      "reading submissions from s3a://project17-bucket-alex/project_jan2021//submissions\n"
     ]
    },
    {
     "name": "stderr",
     "output_type": "stream",
     "text": [
      "23/11/07 22:01:29 WARN MetricsConfig: Cannot locate configuration: tried hadoop-metrics2-s3a-file-system.properties,hadoop-metrics2.properties\n",
      "                                                                                \r"
     ]
    },
    {
     "name": "stdout",
     "output_type": "stream",
     "text": [
      "CPU times: user 10.4 ms, sys: 0 ns, total: 10.4 ms\n",
      "Wall time: 7.33 s\n"
     ]
    },
    {
     "name": "stderr",
     "output_type": "stream",
     "text": [
      "23/11/07 22:01:36 WARN package: Truncated the string representation of a plan since it was too large. This behavior can be adjusted by setting 'spark.sql.debug.maxToStringFields'.\n"
     ]
    }
   ],
   "source": [
    "%%time\n",
    "s3_path_submissions = f\"s3a://project17-bucket-alex/project_jan2021//submissions\"\n",
    "print(f\"reading submissions from {s3_path_submissions}\")\n",
    "\n",
    "submissions = spark.read.parquet(s3_path_submissions, header=True)\n"
   ]
  },
  {
   "cell_type": "code",
   "execution_count": 7,
   "metadata": {},
   "outputs": [
    {
     "name": "stdout",
     "output_type": "stream",
     "text": [
      "reading submissions from s3a://project17-bucket-alex/project_jan2021//comments\n",
      "CPU times: user 4.63 ms, sys: 68 µs, total: 4.7 ms\n",
      "Wall time: 769 ms\n"
     ]
    }
   ],
   "source": [
    "%%time\n",
    "s3_path_comments = f\"s3a://project17-bucket-alex/project_jan2021//comments\"\n",
    "print(f\"reading submissions from {s3_path_comments}\")\n",
    "\n",
    "comments = spark.read.parquet(s3_path_comments, header=True)\n"
   ]
  },
  {
   "cell_type": "code",
   "execution_count": 8,
   "metadata": {},
   "outputs": [],
   "source": [
    "submissions_small = submissions.sample(withReplacement=False, fraction=0.01, seed=42)\n",
    "comments_small = comments.sample(withReplacement=False, fraction=0.01, seed=42)\n"
   ]
  },
  {
   "cell_type": "code",
   "execution_count": 27,
   "metadata": {},
   "outputs": [],
   "source": [
    "# create small dfs\n",
    "\n",
    "use_small = True  # to easily swap between the small and small dfs\n",
    "submissions_active = submissions_small if use_small else submissions\n",
    "comments_active = comments_small if use_small else comments\n"
   ]
  },
  {
   "cell_type": "markdown",
   "metadata": {
    "tags": []
   },
   "source": [
    "### 2.1 Report on the basic info about your dataset. What are the interesting columns? What is the schema? How many rows do you have? etc. etc.\n"
   ]
  },
  {
   "cell_type": "code",
   "execution_count": 10,
   "metadata": {},
   "outputs": [
    {
     "name": "stderr",
     "output_type": "stream",
     "text": [
      "                                                                                \r"
     ]
    },
    {
     "name": "stdout",
     "output_type": "stream",
     "text": [
      "submissions shape: (2628, 68)\n"
     ]
    },
    {
     "name": "stderr",
     "output_type": "stream",
     "text": [
      "[Stage 5:=====================================================>   (14 + 1) / 15]\r"
     ]
    },
    {
     "name": "stdout",
     "output_type": "stream",
     "text": [
      "submissions shape: (41245, 21)\n"
     ]
    },
    {
     "name": "stderr",
     "output_type": "stream",
     "text": [
      "                                                                                \r"
     ]
    }
   ],
   "source": [
    "\n",
    "print(f\"submissions shape: ({submissions_active.count()}, {len(submissions_active.columns)})\")\n",
    "print(f\"submissions shape: ({comments_active.count()}, {len(comments_active.columns)})\")\n",
    "\n",
    "\n"
   ]
  },
  {
   "cell_type": "markdown",
   "metadata": {},
   "source": [
    "Submissions"
   ]
  },
  {
   "cell_type": "code",
   "execution_count": 11,
   "metadata": {},
   "outputs": [
    {
     "name": "stdout",
     "output_type": "stream",
     "text": [
      "root\n",
      " |-- adserver_click_url: string (nullable = true)\n",
      " |-- adserver_imp_pixel: string (nullable = true)\n",
      " |-- archived: boolean (nullable = true)\n",
      " |-- author: string (nullable = true)\n",
      " |-- author_cakeday: boolean (nullable = true)\n",
      " |-- author_flair_css_class: string (nullable = true)\n",
      " |-- author_flair_text: string (nullable = true)\n",
      " |-- author_id: string (nullable = true)\n",
      " |-- brand_safe: boolean (nullable = true)\n",
      " |-- contest_mode: boolean (nullable = true)\n",
      " |-- created_utc: timestamp (nullable = true)\n",
      " |-- crosspost_parent: string (nullable = true)\n",
      " |-- crosspost_parent_list: array (nullable = true)\n",
      " |    |-- element: struct (containsNull = true)\n",
      " |    |    |-- approved_at_utc: string (nullable = true)\n",
      " |    |    |-- approved_by: string (nullable = true)\n",
      " |    |    |-- archived: boolean (nullable = true)\n",
      " |    |    |-- author: string (nullable = true)\n",
      " |    |    |-- author_flair_css_class: string (nullable = true)\n",
      " |    |    |-- author_flair_text: string (nullable = true)\n",
      " |    |    |-- banned_at_utc: string (nullable = true)\n",
      " |    |    |-- banned_by: string (nullable = true)\n",
      " |    |    |-- brand_safe: boolean (nullable = true)\n",
      " |    |    |-- can_gild: boolean (nullable = true)\n",
      " |    |    |-- can_mod_post: boolean (nullable = true)\n",
      " |    |    |-- clicked: boolean (nullable = true)\n",
      " |    |    |-- contest_mode: boolean (nullable = true)\n",
      " |    |    |-- created: double (nullable = true)\n",
      " |    |    |-- created_utc: double (nullable = true)\n",
      " |    |    |-- distinguished: string (nullable = true)\n",
      " |    |    |-- domain: string (nullable = true)\n",
      " |    |    |-- downs: long (nullable = true)\n",
      " |    |    |-- edited: boolean (nullable = true)\n",
      " |    |    |-- gilded: long (nullable = true)\n",
      " |    |    |-- hidden: boolean (nullable = true)\n",
      " |    |    |-- hide_score: boolean (nullable = true)\n",
      " |    |    |-- id: string (nullable = true)\n",
      " |    |    |-- is_crosspostable: boolean (nullable = true)\n",
      " |    |    |-- is_reddit_media_domain: boolean (nullable = true)\n",
      " |    |    |-- is_self: boolean (nullable = true)\n",
      " |    |    |-- is_video: boolean (nullable = true)\n",
      " |    |    |-- likes: string (nullable = true)\n",
      " |    |    |-- link_flair_css_class: string (nullable = true)\n",
      " |    |    |-- link_flair_text: string (nullable = true)\n",
      " |    |    |-- locked: boolean (nullable = true)\n",
      " |    |    |-- media: string (nullable = true)\n",
      " |    |    |-- mod_reports: array (nullable = true)\n",
      " |    |    |    |-- element: string (containsNull = true)\n",
      " |    |    |-- name: string (nullable = true)\n",
      " |    |    |-- num_comments: long (nullable = true)\n",
      " |    |    |-- num_crossposts: long (nullable = true)\n",
      " |    |    |-- num_reports: string (nullable = true)\n",
      " |    |    |-- over_18: boolean (nullable = true)\n",
      " |    |    |-- parent_whitelist_status: string (nullable = true)\n",
      " |    |    |-- permalink: string (nullable = true)\n",
      " |    |    |-- pinned: boolean (nullable = true)\n",
      " |    |    |-- quarantine: boolean (nullable = true)\n",
      " |    |    |-- removal_reason: string (nullable = true)\n",
      " |    |    |-- report_reasons: string (nullable = true)\n",
      " |    |    |-- saved: boolean (nullable = true)\n",
      " |    |    |-- score: long (nullable = true)\n",
      " |    |    |-- secure_media: string (nullable = true)\n",
      " |    |    |-- selftext: string (nullable = true)\n",
      " |    |    |-- selftext_html: string (nullable = true)\n",
      " |    |    |-- spoiler: boolean (nullable = true)\n",
      " |    |    |-- stickied: boolean (nullable = true)\n",
      " |    |    |-- subreddit: string (nullable = true)\n",
      " |    |    |-- subreddit_id: string (nullable = true)\n",
      " |    |    |-- subreddit_name_prefixed: string (nullable = true)\n",
      " |    |    |-- subreddit_type: string (nullable = true)\n",
      " |    |    |-- suggested_sort: string (nullable = true)\n",
      " |    |    |-- thumbnail: string (nullable = true)\n",
      " |    |    |-- thumbnail_height: string (nullable = true)\n",
      " |    |    |-- thumbnail_width: string (nullable = true)\n",
      " |    |    |-- title: string (nullable = true)\n",
      " |    |    |-- ups: long (nullable = true)\n",
      " |    |    |-- url: string (nullable = true)\n",
      " |    |    |-- user_reports: array (nullable = true)\n",
      " |    |    |    |-- element: string (containsNull = true)\n",
      " |    |    |-- view_count: string (nullable = true)\n",
      " |    |    |-- visited: boolean (nullable = true)\n",
      " |    |    |-- whitelist_status: string (nullable = true)\n",
      " |-- disable_comments: boolean (nullable = true)\n",
      " |-- distinguished: string (nullable = true)\n",
      " |-- domain: string (nullable = true)\n",
      " |-- domain_override: string (nullable = true)\n",
      " |-- edited: string (nullable = true)\n",
      " |-- embed_type: string (nullable = true)\n",
      " |-- embed_url: string (nullable = true)\n",
      " |-- gilded: long (nullable = true)\n",
      " |-- hidden: boolean (nullable = true)\n",
      " |-- hide_score: boolean (nullable = true)\n",
      " |-- href_url: string (nullable = true)\n",
      " |-- id: string (nullable = true)\n",
      " |-- imp_pixel: string (nullable = true)\n",
      " |-- is_crosspostable: boolean (nullable = true)\n",
      " |-- is_reddit_media_domain: boolean (nullable = true)\n",
      " |-- is_self: boolean (nullable = true)\n",
      " |-- is_video: boolean (nullable = true)\n",
      " |-- link_flair_css_class: string (nullable = true)\n",
      " |-- link_flair_text: string (nullable = true)\n",
      " |-- locked: boolean (nullable = true)\n",
      " |-- media: struct (nullable = true)\n",
      " |    |-- event_id: string (nullable = true)\n",
      " |    |-- oembed: struct (nullable = true)\n",
      " |    |    |-- author_name: string (nullable = true)\n",
      " |    |    |-- author_url: string (nullable = true)\n",
      " |    |    |-- cache_age: long (nullable = true)\n",
      " |    |    |-- description: string (nullable = true)\n",
      " |    |    |-- height: long (nullable = true)\n",
      " |    |    |-- html: string (nullable = true)\n",
      " |    |    |-- provider_name: string (nullable = true)\n",
      " |    |    |-- provider_url: string (nullable = true)\n",
      " |    |    |-- thumbnail_height: long (nullable = true)\n",
      " |    |    |-- thumbnail_url: string (nullable = true)\n",
      " |    |    |-- thumbnail_width: long (nullable = true)\n",
      " |    |    |-- title: string (nullable = true)\n",
      " |    |    |-- type: string (nullable = true)\n",
      " |    |    |-- url: string (nullable = true)\n",
      " |    |    |-- version: string (nullable = true)\n",
      " |    |    |-- width: long (nullable = true)\n",
      " |    |-- reddit_video: struct (nullable = true)\n",
      " |    |    |-- dash_url: string (nullable = true)\n",
      " |    |    |-- duration: long (nullable = true)\n",
      " |    |    |-- fallback_url: string (nullable = true)\n",
      " |    |    |-- height: long (nullable = true)\n",
      " |    |    |-- hls_url: string (nullable = true)\n",
      " |    |    |-- is_gif: boolean (nullable = true)\n",
      " |    |    |-- scrubber_media_url: string (nullable = true)\n",
      " |    |    |-- transcoding_status: string (nullable = true)\n",
      " |    |    |-- width: long (nullable = true)\n",
      " |    |-- type: string (nullable = true)\n",
      " |-- media_embed: struct (nullable = true)\n",
      " |    |-- content: string (nullable = true)\n",
      " |    |-- height: long (nullable = true)\n",
      " |    |-- scrolling: boolean (nullable = true)\n",
      " |    |-- width: long (nullable = true)\n",
      " |-- mobile_ad_url: string (nullable = true)\n",
      " |-- num_comments: long (nullable = true)\n",
      " |-- num_crossposts: long (nullable = true)\n",
      " |-- original_link: string (nullable = true)\n",
      " |-- over_18: boolean (nullable = true)\n",
      " |-- parent_whitelist_status: string (nullable = true)\n",
      " |-- permalink: string (nullable = true)\n",
      " |-- pinned: boolean (nullable = true)\n",
      " |-- post_hint: string (nullable = true)\n",
      " |-- preview: struct (nullable = true)\n",
      " |    |-- enabled: boolean (nullable = true)\n",
      " |    |-- images: array (nullable = true)\n",
      " |    |    |-- element: struct (containsNull = true)\n",
      " |    |    |    |-- id: string (nullable = true)\n",
      " |    |    |    |-- resolutions: array (nullable = true)\n",
      " |    |    |    |    |-- element: struct (containsNull = true)\n",
      " |    |    |    |    |    |-- height: long (nullable = true)\n",
      " |    |    |    |    |    |-- url: string (nullable = true)\n",
      " |    |    |    |    |    |-- width: long (nullable = true)\n",
      " |    |    |    |-- source: struct (nullable = true)\n",
      " |    |    |    |    |-- height: long (nullable = true)\n",
      " |    |    |    |    |-- url: string (nullable = true)\n",
      " |    |    |    |    |-- width: long (nullable = true)\n",
      " |    |    |    |-- variants: struct (nullable = true)\n",
      " |    |    |    |    |-- gif: struct (nullable = true)\n",
      " |    |    |    |    |    |-- resolutions: array (nullable = true)\n",
      " |    |    |    |    |    |    |-- element: struct (containsNull = true)\n",
      " |    |    |    |    |    |    |    |-- height: long (nullable = true)\n",
      " |    |    |    |    |    |    |    |-- url: string (nullable = true)\n",
      " |    |    |    |    |    |    |    |-- width: long (nullable = true)\n",
      " |    |    |    |    |    |-- source: struct (nullable = true)\n",
      " |    |    |    |    |    |    |-- height: long (nullable = true)\n",
      " |    |    |    |    |    |    |-- url: string (nullable = true)\n",
      " |    |    |    |    |    |    |-- width: long (nullable = true)\n",
      " |    |    |    |    |-- mp4: struct (nullable = true)\n",
      " |    |    |    |    |    |-- resolutions: array (nullable = true)\n",
      " |    |    |    |    |    |    |-- element: struct (containsNull = true)\n",
      " |    |    |    |    |    |    |    |-- height: long (nullable = true)\n",
      " |    |    |    |    |    |    |    |-- url: string (nullable = true)\n",
      " |    |    |    |    |    |    |    |-- width: long (nullable = true)\n",
      " |    |    |    |    |    |-- source: struct (nullable = true)\n",
      " |    |    |    |    |    |    |-- height: long (nullable = true)\n",
      " |    |    |    |    |    |    |-- url: string (nullable = true)\n",
      " |    |    |    |    |    |    |-- width: long (nullable = true)\n",
      " |    |    |    |    |-- nsfw: struct (nullable = true)\n",
      " |    |    |    |    |    |-- resolutions: array (nullable = true)\n",
      " |    |    |    |    |    |    |-- element: struct (containsNull = true)\n",
      " |    |    |    |    |    |    |    |-- height: long (nullable = true)\n",
      " |    |    |    |    |    |    |    |-- url: string (nullable = true)\n",
      " |    |    |    |    |    |    |    |-- width: long (nullable = true)\n",
      " |    |    |    |    |    |-- source: struct (nullable = true)\n",
      " |    |    |    |    |    |    |-- height: long (nullable = true)\n",
      " |    |    |    |    |    |    |-- url: string (nullable = true)\n",
      " |    |    |    |    |    |    |-- width: long (nullable = true)\n",
      " |    |    |    |    |-- obfuscated: struct (nullable = true)\n",
      " |    |    |    |    |    |-- resolutions: array (nullable = true)\n",
      " |    |    |    |    |    |    |-- element: struct (containsNull = true)\n",
      " |    |    |    |    |    |    |    |-- height: long (nullable = true)\n",
      " |    |    |    |    |    |    |    |-- url: string (nullable = true)\n",
      " |    |    |    |    |    |    |    |-- width: long (nullable = true)\n",
      " |    |    |    |    |    |-- source: struct (nullable = true)\n",
      " |    |    |    |    |    |    |-- height: long (nullable = true)\n",
      " |    |    |    |    |    |    |-- url: string (nullable = true)\n",
      " |    |    |    |    |    |    |-- width: long (nullable = true)\n",
      " |-- promoted: boolean (nullable = true)\n",
      " |-- promoted_by: string (nullable = true)\n",
      " |-- promoted_display_name: string (nullable = true)\n",
      " |-- promoted_url: string (nullable = true)\n",
      " |-- retrieved_on: timestamp (nullable = true)\n",
      " |-- score: long (nullable = true)\n",
      " |-- secure_media: struct (nullable = true)\n",
      " |    |-- event_id: string (nullable = true)\n",
      " |    |-- oembed: struct (nullable = true)\n",
      " |    |    |-- author_name: string (nullable = true)\n",
      " |    |    |-- author_url: string (nullable = true)\n",
      " |    |    |-- cache_age: long (nullable = true)\n",
      " |    |    |-- description: string (nullable = true)\n",
      " |    |    |-- height: long (nullable = true)\n",
      " |    |    |-- html: string (nullable = true)\n",
      " |    |    |-- provider_name: string (nullable = true)\n",
      " |    |    |-- provider_url: string (nullable = true)\n",
      " |    |    |-- thumbnail_height: long (nullable = true)\n",
      " |    |    |-- thumbnail_url: string (nullable = true)\n",
      " |    |    |-- thumbnail_width: long (nullable = true)\n",
      " |    |    |-- title: string (nullable = true)\n",
      " |    |    |-- type: string (nullable = true)\n",
      " |    |    |-- url: string (nullable = true)\n",
      " |    |    |-- version: string (nullable = true)\n",
      " |    |    |-- width: long (nullable = true)\n",
      " |    |-- type: string (nullable = true)\n",
      " |-- secure_media_embed: struct (nullable = true)\n",
      " |    |-- content: string (nullable = true)\n",
      " |    |-- height: long (nullable = true)\n",
      " |    |-- media_domain_url: string (nullable = true)\n",
      " |    |-- scrolling: boolean (nullable = true)\n",
      " |    |-- width: long (nullable = true)\n",
      " |-- selftext: string (nullable = true)\n",
      " |-- spoiler: boolean (nullable = true)\n",
      " |-- stickied: boolean (nullable = true)\n",
      " |-- subreddit: string (nullable = true)\n",
      " |-- subreddit_id: string (nullable = true)\n",
      " |-- suggested_sort: string (nullable = true)\n",
      " |-- third_party_trackers: array (nullable = true)\n",
      " |    |-- element: string (containsNull = true)\n",
      " |-- third_party_tracking: string (nullable = true)\n",
      " |-- third_party_tracking_2: string (nullable = true)\n",
      " |-- thumbnail: string (nullable = true)\n",
      " |-- thumbnail_height: long (nullable = true)\n",
      " |-- thumbnail_width: long (nullable = true)\n",
      " |-- title: string (nullable = true)\n",
      " |-- url: string (nullable = true)\n",
      " |-- whitelist_status: string (nullable = true)\n",
      "\n"
     ]
    }
   ],
   "source": [
    "submissions_active.printSchema()"
   ]
  },
  {
   "cell_type": "markdown",
   "metadata": {},
   "source": [
    "Comments"
   ]
  },
  {
   "cell_type": "code",
   "execution_count": 13,
   "metadata": {},
   "outputs": [
    {
     "name": "stdout",
     "output_type": "stream",
     "text": [
      "root\n",
      " |-- author: string (nullable = true)\n",
      " |-- author_cakeday: boolean (nullable = true)\n",
      " |-- author_flair_css_class: string (nullable = true)\n",
      " |-- author_flair_text: string (nullable = true)\n",
      " |-- body: string (nullable = true)\n",
      " |-- can_gild: boolean (nullable = true)\n",
      " |-- controversiality: long (nullable = true)\n",
      " |-- created_utc: timestamp (nullable = true)\n",
      " |-- distinguished: string (nullable = true)\n",
      " |-- edited: string (nullable = true)\n",
      " |-- gilded: long (nullable = true)\n",
      " |-- id: string (nullable = true)\n",
      " |-- is_submitter: boolean (nullable = true)\n",
      " |-- link_id: string (nullable = true)\n",
      " |-- parent_id: string (nullable = true)\n",
      " |-- permalink: string (nullable = true)\n",
      " |-- retrieved_on: timestamp (nullable = true)\n",
      " |-- score: long (nullable = true)\n",
      " |-- stickied: boolean (nullable = true)\n",
      " |-- subreddit: string (nullable = true)\n",
      " |-- subreddit_id: string (nullable = true)\n",
      "\n"
     ]
    }
   ],
   "source": [
    "comments_active.printSchema()"
   ]
  },
  {
   "cell_type": "markdown",
   "metadata": {},
   "source": [
    "### 2.2 Conduct basic data quality checks! Make sure there are no missing values, check the length of the comments, and remove rows of data that might be corrupted. Even if you think all your data is perfect, you still need to demonstrate that with your analysis.\n",
    "\n"
   ]
  },
  {
   "cell_type": "code",
   "execution_count": 28,
   "metadata": {
    "tags": []
   },
   "outputs": [],
   "source": [
    "\n",
    "def check_and_remove_missing(df: DataFrame, threshold: int = 100) -> DataFrame:\n",
    "\n",
    "    # Check for missing values\n",
    "    missing_values = df.select([count(when(col(c).isNull(), c)).alias(c) for c in df.columns])\n",
    "\n",
    "    # Show the missing values count for each column\n",
    "    missing_values_collected = missing_values.collect()[0].asDict()\n",
    "    print(\"Missing values in each column:\")\n",
    "    for column, missing_count in missing_values_collected.items():\n",
    "        print(f\"{column}: {missing_count}\")\n",
    "\n",
    "    # Identify columns with missing values above threshold\n",
    "    columns_to_drop = [column for column, missing_count in missing_values_collected.items() if missing_count > threshold]\n",
    "\n",
    "    # Drop the identified columns from the dataframe\n",
    "    df = df.drop(*columns_to_drop)\n",
    "    \n",
    "    # Recalculate missing values for the updated DataFrame\n",
    "    missing_values = df.select([count(when(col(c).isNull(), c)).alias(c) for c in df.columns])\n",
    "    missing_values_collected = missing_values.collect()[0].asDict()\n",
    "    \n",
    "    # Print updated missing values count\n",
    "    print(\"Missing values after column removal:\")\n",
    "    for column, missing_count in missing_values_collected.items():\n",
    "        print(f\"{column}: {missing_count}\")\n",
    "    \n",
    "    return df\n",
    "\n"
   ]
  },
  {
   "cell_type": "code",
   "execution_count": 29,
   "metadata": {
    "tags": []
   },
   "outputs": [
    {
     "name": "stderr",
     "output_type": "stream",
     "text": [
      "                                                                                \r"
     ]
    },
    {
     "name": "stdout",
     "output_type": "stream",
     "text": [
      "Missing values in each column:\n",
      "adserver_click_url: 2628\n",
      "adserver_imp_pixel: 2628\n",
      "archived: 0\n",
      "author: 0\n",
      "author_cakeday: 2623\n",
      "author_flair_css_class: 2608\n",
      "author_flair_text: 2586\n",
      "author_id: 2628\n",
      "brand_safe: 2628\n",
      "contest_mode: 0\n",
      "created_utc: 0\n",
      "crosspost_parent: 2626\n",
      "crosspost_parent_list: 2626\n",
      "disable_comments: 2628\n",
      "distinguished: 2627\n",
      "domain: 0\n",
      "domain_override: 2628\n",
      "edited: 0\n",
      "embed_type: 2628\n",
      "embed_url: 2628\n",
      "gilded: 0\n",
      "hidden: 0\n",
      "hide_score: 0\n",
      "href_url: 2628\n",
      "id: 0\n",
      "imp_pixel: 2628\n",
      "is_crosspostable: 0\n",
      "is_reddit_media_domain: 0\n",
      "is_self: 0\n",
      "is_video: 0\n",
      "link_flair_css_class: 2095\n",
      "link_flair_text: 2019\n",
      "locked: 0\n",
      "media: 2626\n",
      "media_embed: 0\n",
      "mobile_ad_url: 2628\n",
      "num_comments: 0\n",
      "num_crossposts: 0\n",
      "original_link: 2628\n",
      "over_18: 0\n",
      "parent_whitelist_status: 0\n",
      "permalink: 0\n",
      "pinned: 0\n",
      "post_hint: 2609\n",
      "preview: 2609\n",
      "promoted: 2628\n",
      "promoted_by: 2628\n",
      "promoted_display_name: 2628\n",
      "promoted_url: 2628\n",
      "retrieved_on: 2628\n",
      "score: 0\n",
      "secure_media: 2626\n",
      "secure_media_embed: 0\n",
      "selftext: 0\n",
      "spoiler: 0\n",
      "stickied: 0\n",
      "subreddit: 0\n",
      "subreddit_id: 0\n",
      "suggested_sort: 2169\n",
      "third_party_trackers: 2628\n",
      "third_party_tracking: 2628\n",
      "third_party_tracking_2: 2628\n",
      "thumbnail: 0\n",
      "thumbnail_height: 2619\n",
      "thumbnail_width: 2619\n",
      "title: 0\n",
      "url: 0\n",
      "whitelist_status: 0\n"
     ]
    },
    {
     "name": "stderr",
     "output_type": "stream",
     "text": [
      "[Stage 17:==============================================>           (4 + 1) / 5]\r"
     ]
    },
    {
     "name": "stdout",
     "output_type": "stream",
     "text": [
      "Missing values after column removal:\n",
      "archived: 0\n",
      "author: 0\n",
      "contest_mode: 0\n",
      "created_utc: 0\n",
      "domain: 0\n",
      "edited: 0\n",
      "gilded: 0\n",
      "hidden: 0\n",
      "hide_score: 0\n",
      "id: 0\n",
      "is_crosspostable: 0\n",
      "is_reddit_media_domain: 0\n",
      "is_self: 0\n",
      "is_video: 0\n",
      "locked: 0\n",
      "media_embed: 0\n",
      "num_comments: 0\n",
      "num_crossposts: 0\n",
      "over_18: 0\n",
      "parent_whitelist_status: 0\n",
      "permalink: 0\n",
      "pinned: 0\n",
      "score: 0\n",
      "secure_media_embed: 0\n",
      "selftext: 0\n",
      "spoiler: 0\n",
      "stickied: 0\n",
      "subreddit: 0\n",
      "subreddit_id: 0\n",
      "thumbnail: 0\n",
      "title: 0\n",
      "url: 0\n",
      "whitelist_status: 0\n"
     ]
    },
    {
     "name": "stderr",
     "output_type": "stream",
     "text": [
      "                                                                                \r"
     ]
    }
   ],
   "source": [
    "submissions_active = check_and_remove_missing(submissions_active)\n",
    "\n"
   ]
  },
  {
   "cell_type": "code",
   "execution_count": 30,
   "metadata": {
    "tags": []
   },
   "outputs": [],
   "source": [
    "# turn to int for displaying\n",
    "\n",
    "columns_to_cast_submissions = [\n",
    "    \"archived\", \"contest_mode\", \"hidden\", \"hide_score\", \n",
    "    \"is_crosspostable\", \"is_reddit_media_domain\", \"is_self\",\n",
    "    \"is_video\", \"locked\", \"over_18\", \"pinned\", \"spoiler\", \"stickied\"\n",
    "]\n",
    "\n",
    "for column_name in columns_to_cast_submissions:\n",
    "    submissions_active = submissions_active.withColumn(column_name, col(column_name).cast(\"integer\"))\n",
    "\n",
    "    "
   ]
  },
  {
   "cell_type": "markdown",
   "metadata": {},
   "source": [
    "Let's remove submissions without a body should obviously go, but what about the submissions without a self text (deleted, removed or empty). We can keep where the author is empty."
   ]
  },
  {
   "cell_type": "code",
   "execution_count": 33,
   "metadata": {
    "tags": []
   },
   "outputs": [],
   "source": [
    "\n",
    "def clean_submissions(df: DataFrame) -> DataFrame:\n",
    "    \n",
    "    # Define a list of conditions that would indicate a row needs to be removed\n",
    "    conditions = (col('selftext') != \"[removed]\") & (col('selftext') != \"[deleted]\") & (col('selftext').isNotNull() & (col('selftext') != \"\"))\n",
    "\n",
    "    # Apply the filter\n",
    "    cleaned_df = df.filter(conditions)\n",
    "    \n",
    "    return cleaned_df\n",
    "\n",
    "\n"
   ]
  },
  {
   "cell_type": "code",
   "execution_count": 34,
   "metadata": {
    "tags": []
   },
   "outputs": [],
   "source": [
    "submissions_active = clean_submissions(submissions_active)\n"
   ]
  },
  {
   "cell_type": "code",
   "execution_count": 37,
   "metadata": {
    "tags": []
   },
   "outputs": [
    {
     "data": {
      "text/html": [
       "<div>\n",
       "<style scoped>\n",
       "    .dataframe tbody tr th:only-of-type {\n",
       "        vertical-align: middle;\n",
       "    }\n",
       "\n",
       "    .dataframe tbody tr th {\n",
       "        vertical-align: top;\n",
       "    }\n",
       "\n",
       "    .dataframe thead th {\n",
       "        text-align: right;\n",
       "    }\n",
       "</style>\n",
       "<table border=\"1\" class=\"dataframe\">\n",
       "  <thead>\n",
       "    <tr style=\"text-align: right;\">\n",
       "      <th></th>\n",
       "      <th>archived</th>\n",
       "      <th>author</th>\n",
       "      <th>contest_mode</th>\n",
       "      <th>created_utc</th>\n",
       "      <th>domain</th>\n",
       "      <th>edited</th>\n",
       "      <th>gilded</th>\n",
       "      <th>hidden</th>\n",
       "      <th>hide_score</th>\n",
       "      <th>id</th>\n",
       "      <th>is_crosspostable</th>\n",
       "      <th>is_reddit_media_domain</th>\n",
       "      <th>is_self</th>\n",
       "      <th>is_video</th>\n",
       "      <th>locked</th>\n",
       "      <th>media_embed</th>\n",
       "      <th>num_comments</th>\n",
       "      <th>num_crossposts</th>\n",
       "      <th>over_18</th>\n",
       "      <th>parent_whitelist_status</th>\n",
       "      <th>permalink</th>\n",
       "      <th>pinned</th>\n",
       "      <th>score</th>\n",
       "      <th>secure_media_embed</th>\n",
       "      <th>selftext</th>\n",
       "      <th>spoiler</th>\n",
       "      <th>stickied</th>\n",
       "      <th>subreddit</th>\n",
       "      <th>subreddit_id</th>\n",
       "      <th>thumbnail</th>\n",
       "      <th>title</th>\n",
       "      <th>url</th>\n",
       "      <th>whitelist_status</th>\n",
       "    </tr>\n",
       "  </thead>\n",
       "  <tbody>\n",
       "    <tr>\n",
       "      <th>0</th>\n",
       "      <td>0</td>\n",
       "      <td>techsavvynerd91</td>\n",
       "      <td>0</td>\n",
       "      <td>2021-01-02 00:11:05</td>\n",
       "      <td>self.NoStupidQuestions</td>\n",
       "      <td>false</td>\n",
       "      <td>0</td>\n",
       "      <td>0</td>\n",
       "      <td>0</td>\n",
       "      <td>komhp2</td>\n",
       "      <td>1</td>\n",
       "      <td>0</td>\n",
       "      <td>1</td>\n",
       "      <td>0</td>\n",
       "      <td>0</td>\n",
       "      <td>(None, None, None, None)</td>\n",
       "      <td>8</td>\n",
       "      <td>0</td>\n",
       "      <td>0</td>\n",
       "      <td>all_ads</td>\n",
       "      <td>/r/NoStupidQuestions/comments/komhp2/how_do_yo...</td>\n",
       "      <td>0</td>\n",
       "      <td>2</td>\n",
       "      <td>(None, None, None, None, None)</td>\n",
       "      <td>For those that wear glasses and have managed t...</td>\n",
       "      <td>0</td>\n",
       "      <td>0</td>\n",
       "      <td>NoStupidQuestions</td>\n",
       "      <td>t5_2w844</td>\n",
       "      <td>self</td>\n",
       "      <td>How do you prevent your glasses from falling o...</td>\n",
       "      <td>https://www.reddit.com/r/NoStupidQuestions/com...</td>\n",
       "      <td>all_ads</td>\n",
       "    </tr>\n",
       "    <tr>\n",
       "      <th>1</th>\n",
       "      <td>0</td>\n",
       "      <td>irtriated</td>\n",
       "      <td>0</td>\n",
       "      <td>2021-01-23 05:40:24</td>\n",
       "      <td>self.relationship_advice</td>\n",
       "      <td>false</td>\n",
       "      <td>0</td>\n",
       "      <td>0</td>\n",
       "      <td>0</td>\n",
       "      <td>l3684b</td>\n",
       "      <td>1</td>\n",
       "      <td>0</td>\n",
       "      <td>1</td>\n",
       "      <td>0</td>\n",
       "      <td>0</td>\n",
       "      <td>(None, None, None, None)</td>\n",
       "      <td>2</td>\n",
       "      <td>0</td>\n",
       "      <td>0</td>\n",
       "      <td>all_ads</td>\n",
       "      <td>/r/relationship_advice/comments/l3684b/boyfrie...</td>\n",
       "      <td>0</td>\n",
       "      <td>8</td>\n",
       "      <td>(None, None, None, None, None)</td>\n",
       "      <td>My (33F) boyfriend (37M) and I live in a 2-br ...</td>\n",
       "      <td>0</td>\n",
       "      <td>0</td>\n",
       "      <td>relationship_advice</td>\n",
       "      <td>t5_2r0cn</td>\n",
       "      <td>self</td>\n",
       "      <td>Boyfriend too loud</td>\n",
       "      <td>https://www.reddit.com/r/relationship_advice/c...</td>\n",
       "      <td>all_ads</td>\n",
       "    </tr>\n",
       "    <tr>\n",
       "      <th>2</th>\n",
       "      <td>0</td>\n",
       "      <td>RegretSubstantial365</td>\n",
       "      <td>0</td>\n",
       "      <td>2021-01-25 03:56:10</td>\n",
       "      <td>self.relationship_advice</td>\n",
       "      <td>false</td>\n",
       "      <td>0</td>\n",
       "      <td>0</td>\n",
       "      <td>0</td>\n",
       "      <td>l4fdip</td>\n",
       "      <td>1</td>\n",
       "      <td>0</td>\n",
       "      <td>1</td>\n",
       "      <td>0</td>\n",
       "      <td>0</td>\n",
       "      <td>(None, None, None, None)</td>\n",
       "      <td>7</td>\n",
       "      <td>0</td>\n",
       "      <td>0</td>\n",
       "      <td>all_ads</td>\n",
       "      <td>/r/relationship_advice/comments/l4fdip/lonely_...</td>\n",
       "      <td>0</td>\n",
       "      <td>2</td>\n",
       "      <td>(None, None, None, None, None)</td>\n",
       "      <td>I've been with this guy for about 10 months, h...</td>\n",
       "      <td>0</td>\n",
       "      <td>0</td>\n",
       "      <td>relationship_advice</td>\n",
       "      <td>t5_2r0cn</td>\n",
       "      <td>self</td>\n",
       "      <td>Lonely in a relationship</td>\n",
       "      <td>https://www.reddit.com/r/relationship_advice/c...</td>\n",
       "      <td>all_ads</td>\n",
       "    </tr>\n",
       "    <tr>\n",
       "      <th>3</th>\n",
       "      <td>0</td>\n",
       "      <td>[deleted]</td>\n",
       "      <td>0</td>\n",
       "      <td>2021-01-23 16:19:24</td>\n",
       "      <td>self.relationship_advice</td>\n",
       "      <td>1.611419127E9</td>\n",
       "      <td>0</td>\n",
       "      <td>0</td>\n",
       "      <td>0</td>\n",
       "      <td>l3f16q</td>\n",
       "      <td>1</td>\n",
       "      <td>0</td>\n",
       "      <td>1</td>\n",
       "      <td>0</td>\n",
       "      <td>0</td>\n",
       "      <td>(None, None, None, None)</td>\n",
       "      <td>5</td>\n",
       "      <td>0</td>\n",
       "      <td>0</td>\n",
       "      <td>all_ads</td>\n",
       "      <td>/r/relationship_advice/comments/l3f16q/how_wou...</td>\n",
       "      <td>0</td>\n",
       "      <td>4</td>\n",
       "      <td>(None, None, None, None, None)</td>\n",
       "      <td>My bestfriend went to a date yesterday with a ...</td>\n",
       "      <td>0</td>\n",
       "      <td>0</td>\n",
       "      <td>relationship_advice</td>\n",
       "      <td>t5_2r0cn</td>\n",
       "      <td>self</td>\n",
       "      <td>How would you tell your bestfriend she’s datin...</td>\n",
       "      <td>https://www.reddit.com/r/relationship_advice/c...</td>\n",
       "      <td>all_ads</td>\n",
       "    </tr>\n",
       "    <tr>\n",
       "      <th>4</th>\n",
       "      <td>0</td>\n",
       "      <td>CallMeSpoofy</td>\n",
       "      <td>0</td>\n",
       "      <td>2021-01-23 16:38:59</td>\n",
       "      <td>self.NoStupidQuestions</td>\n",
       "      <td>false</td>\n",
       "      <td>0</td>\n",
       "      <td>0</td>\n",
       "      <td>0</td>\n",
       "      <td>l3ff0a</td>\n",
       "      <td>1</td>\n",
       "      <td>0</td>\n",
       "      <td>1</td>\n",
       "      <td>0</td>\n",
       "      <td>0</td>\n",
       "      <td>(None, None, None, None)</td>\n",
       "      <td>6</td>\n",
       "      <td>0</td>\n",
       "      <td>0</td>\n",
       "      <td>all_ads</td>\n",
       "      <td>/r/NoStupidQuestions/comments/l3ff0a/is_it_pos...</td>\n",
       "      <td>0</td>\n",
       "      <td>1</td>\n",
       "      <td>(None, None, None, None, None)</td>\n",
       "      <td>In my case it’s not one big stain but little s...</td>\n",
       "      <td>0</td>\n",
       "      <td>0</td>\n",
       "      <td>NoStupidQuestions</td>\n",
       "      <td>t5_2w844</td>\n",
       "      <td>self</td>\n",
       "      <td>Is it possible to get bleach out of clothes?</td>\n",
       "      <td>https://www.reddit.com/r/NoStupidQuestions/com...</td>\n",
       "      <td>all_ads</td>\n",
       "    </tr>\n",
       "  </tbody>\n",
       "</table>\n",
       "</div>"
      ],
      "text/plain": [
       "   archived                author  contest_mode         created_utc  \\\n",
       "0         0       techsavvynerd91             0 2021-01-02 00:11:05   \n",
       "1         0             irtriated             0 2021-01-23 05:40:24   \n",
       "2         0  RegretSubstantial365             0 2021-01-25 03:56:10   \n",
       "3         0             [deleted]             0 2021-01-23 16:19:24   \n",
       "4         0          CallMeSpoofy             0 2021-01-23 16:38:59   \n",
       "\n",
       "                     domain         edited  gilded  hidden  hide_score  \\\n",
       "0    self.NoStupidQuestions          false       0       0           0   \n",
       "1  self.relationship_advice          false       0       0           0   \n",
       "2  self.relationship_advice          false       0       0           0   \n",
       "3  self.relationship_advice  1.611419127E9       0       0           0   \n",
       "4    self.NoStupidQuestions          false       0       0           0   \n",
       "\n",
       "       id  is_crosspostable  is_reddit_media_domain  is_self  is_video  \\\n",
       "0  komhp2                 1                       0        1         0   \n",
       "1  l3684b                 1                       0        1         0   \n",
       "2  l4fdip                 1                       0        1         0   \n",
       "3  l3f16q                 1                       0        1         0   \n",
       "4  l3ff0a                 1                       0        1         0   \n",
       "\n",
       "   locked               media_embed  num_comments  num_crossposts  over_18  \\\n",
       "0       0  (None, None, None, None)             8               0        0   \n",
       "1       0  (None, None, None, None)             2               0        0   \n",
       "2       0  (None, None, None, None)             7               0        0   \n",
       "3       0  (None, None, None, None)             5               0        0   \n",
       "4       0  (None, None, None, None)             6               0        0   \n",
       "\n",
       "  parent_whitelist_status                                          permalink  \\\n",
       "0                 all_ads  /r/NoStupidQuestions/comments/komhp2/how_do_yo...   \n",
       "1                 all_ads  /r/relationship_advice/comments/l3684b/boyfrie...   \n",
       "2                 all_ads  /r/relationship_advice/comments/l4fdip/lonely_...   \n",
       "3                 all_ads  /r/relationship_advice/comments/l3f16q/how_wou...   \n",
       "4                 all_ads  /r/NoStupidQuestions/comments/l3ff0a/is_it_pos...   \n",
       "\n",
       "   pinned  score              secure_media_embed  \\\n",
       "0       0      2  (None, None, None, None, None)   \n",
       "1       0      8  (None, None, None, None, None)   \n",
       "2       0      2  (None, None, None, None, None)   \n",
       "3       0      4  (None, None, None, None, None)   \n",
       "4       0      1  (None, None, None, None, None)   \n",
       "\n",
       "                                            selftext  spoiler  stickied  \\\n",
       "0  For those that wear glasses and have managed t...        0         0   \n",
       "1  My (33F) boyfriend (37M) and I live in a 2-br ...        0         0   \n",
       "2  I've been with this guy for about 10 months, h...        0         0   \n",
       "3  My bestfriend went to a date yesterday with a ...        0         0   \n",
       "4  In my case it’s not one big stain but little s...        0         0   \n",
       "\n",
       "             subreddit subreddit_id thumbnail  \\\n",
       "0    NoStupidQuestions     t5_2w844      self   \n",
       "1  relationship_advice     t5_2r0cn      self   \n",
       "2  relationship_advice     t5_2r0cn      self   \n",
       "3  relationship_advice     t5_2r0cn      self   \n",
       "4    NoStupidQuestions     t5_2w844      self   \n",
       "\n",
       "                                               title  \\\n",
       "0  How do you prevent your glasses from falling o...   \n",
       "1                                 Boyfriend too loud   \n",
       "2                           Lonely in a relationship   \n",
       "3  How would you tell your bestfriend she’s datin...   \n",
       "4       Is it possible to get bleach out of clothes?   \n",
       "\n",
       "                                                 url whitelist_status  \n",
       "0  https://www.reddit.com/r/NoStupidQuestions/com...          all_ads  \n",
       "1  https://www.reddit.com/r/relationship_advice/c...          all_ads  \n",
       "2  https://www.reddit.com/r/relationship_advice/c...          all_ads  \n",
       "3  https://www.reddit.com/r/relationship_advice/c...          all_ads  \n",
       "4  https://www.reddit.com/r/NoStupidQuestions/com...          all_ads  "
      ]
     },
     "metadata": {},
     "output_type": "display_data"
    }
   ],
   "source": [
    "display(submissions_active.limit(5).toPandas())"
   ]
  },
  {
   "cell_type": "markdown",
   "metadata": {},
   "source": [
    "Comments"
   ]
  },
  {
   "cell_type": "code",
   "execution_count": 32,
   "metadata": {
    "tags": []
   },
   "outputs": [
    {
     "name": "stderr",
     "output_type": "stream",
     "text": [
      "                                                                                \r"
     ]
    },
    {
     "name": "stdout",
     "output_type": "stream",
     "text": [
      "Missing values in each column:\n",
      "author: 0\n",
      "author_cakeday: 41104\n",
      "author_flair_css_class: 40417\n",
      "author_flair_text: 35282\n",
      "body: 0\n",
      "can_gild: 0\n",
      "controversiality: 0\n",
      "created_utc: 0\n",
      "distinguished: 40003\n",
      "edited: 0\n",
      "gilded: 0\n",
      "id: 0\n",
      "is_submitter: 0\n",
      "link_id: 0\n",
      "parent_id: 0\n",
      "permalink: 0\n",
      "retrieved_on: 0\n",
      "score: 0\n",
      "stickied: 0\n",
      "subreddit: 0\n",
      "subreddit_id: 0\n"
     ]
    },
    {
     "name": "stderr",
     "output_type": "stream",
     "text": [
      "[Stage 24:====================================================>   (14 + 1) / 15]\r"
     ]
    },
    {
     "name": "stdout",
     "output_type": "stream",
     "text": [
      "Missing values after column removal:\n",
      "author: 0\n",
      "body: 0\n",
      "can_gild: 0\n",
      "controversiality: 0\n",
      "created_utc: 0\n",
      "edited: 0\n",
      "gilded: 0\n",
      "id: 0\n",
      "is_submitter: 0\n",
      "link_id: 0\n",
      "parent_id: 0\n",
      "permalink: 0\n",
      "retrieved_on: 0\n",
      "score: 0\n",
      "stickied: 0\n",
      "subreddit: 0\n",
      "subreddit_id: 0\n"
     ]
    },
    {
     "name": "stderr",
     "output_type": "stream",
     "text": [
      "                                                                                \r"
     ]
    }
   ],
   "source": [
    "comments_active = check_and_remove_missing(comments_active)\n",
    "\n"
   ]
  },
  {
   "cell_type": "markdown",
   "metadata": {},
   "source": [
    "Now on to the comments."
   ]
  },
  {
   "cell_type": "markdown",
   "metadata": {},
   "source": [
    "Let's do the same for the body of the comments."
   ]
  },
  {
   "cell_type": "code",
   "execution_count": 38,
   "metadata": {
    "tags": []
   },
   "outputs": [],
   "source": [
    "def clean_comments(df: DataFrame) -> DataFrame:\n",
    "    \n",
    "    # Define the filter conditions\n",
    "    conditions = (col('body') != \"[removed]\") & (col('body') != \"[deleted]\") & (col('body').isNotNull() & (col('body') != \"\"))\n",
    "\n",
    "    # Apply the filter\n",
    "    cleaned_df = df.filter(conditions)\n",
    "    \n",
    "    return cleaned_df\n",
    "\n",
    "\n"
   ]
  },
  {
   "cell_type": "code",
   "execution_count": null,
   "metadata": {},
   "outputs": [],
   "source": [
    "comments_active = clean_comments(comments_active)\n"
   ]
  },
  {
   "cell_type": "code",
   "execution_count": 40,
   "metadata": {
    "tags": []
   },
   "outputs": [],
   "source": [
    "# turn to ints for displaying\n",
    "columns_to_cast_comments = [\n",
    "    \"can_gild\", \"stickied\", \"is_submitter\"\n",
    "]\n",
    "\n",
    "for column_name in columns_to_cast_comments:\n",
    "    comments_active = comments_active.withColumn(column_name, col(column_name).cast(\"integer\"))\n",
    "\n",
    "\n",
    "\n"
   ]
  },
  {
   "cell_type": "code",
   "execution_count": 41,
   "metadata": {
    "tags": []
   },
   "outputs": [
    {
     "data": {
      "text/html": [
       "<div>\n",
       "<style scoped>\n",
       "    .dataframe tbody tr th:only-of-type {\n",
       "        vertical-align: middle;\n",
       "    }\n",
       "\n",
       "    .dataframe tbody tr th {\n",
       "        vertical-align: top;\n",
       "    }\n",
       "\n",
       "    .dataframe thead th {\n",
       "        text-align: right;\n",
       "    }\n",
       "</style>\n",
       "<table border=\"1\" class=\"dataframe\">\n",
       "  <thead>\n",
       "    <tr style=\"text-align: right;\">\n",
       "      <th></th>\n",
       "      <th>author</th>\n",
       "      <th>body</th>\n",
       "      <th>can_gild</th>\n",
       "      <th>controversiality</th>\n",
       "      <th>created_utc</th>\n",
       "      <th>edited</th>\n",
       "      <th>gilded</th>\n",
       "      <th>id</th>\n",
       "      <th>is_submitter</th>\n",
       "      <th>link_id</th>\n",
       "      <th>parent_id</th>\n",
       "      <th>permalink</th>\n",
       "      <th>retrieved_on</th>\n",
       "      <th>score</th>\n",
       "      <th>stickied</th>\n",
       "      <th>subreddit</th>\n",
       "      <th>subreddit_id</th>\n",
       "    </tr>\n",
       "  </thead>\n",
       "  <tbody>\n",
       "    <tr>\n",
       "      <th>0</th>\n",
       "      <td>stonedironworker</td>\n",
       "      <td>Every man you’ve ever slept with has watched p...</td>\n",
       "      <td>1</td>\n",
       "      <td>0</td>\n",
       "      <td>2021-01-28 15:18:53</td>\n",
       "      <td>false</td>\n",
       "      <td>0</td>\n",
       "      <td>gl3msfm</td>\n",
       "      <td>0</td>\n",
       "      <td>t3_l6okyk</td>\n",
       "      <td>t1_gl3ljhf</td>\n",
       "      <td>/r/unpopularopinion/comments/l6okyk/i_dont_wan...</td>\n",
       "      <td>2021-05-29 06:07:54</td>\n",
       "      <td>41</td>\n",
       "      <td>0</td>\n",
       "      <td>unpopularopinion</td>\n",
       "      <td>t5_2tk0s</td>\n",
       "    </tr>\n",
       "    <tr>\n",
       "      <th>1</th>\n",
       "      <td>[deleted]</td>\n",
       "      <td>That’s what I’m saying man. Where are the men ...</td>\n",
       "      <td>0</td>\n",
       "      <td>0</td>\n",
       "      <td>2021-01-28 15:19:23</td>\n",
       "      <td>1611870280</td>\n",
       "      <td>0</td>\n",
       "      <td>gl3mwdx</td>\n",
       "      <td>0</td>\n",
       "      <td>t3_l6wmz9</td>\n",
       "      <td>t1_gl3i3ry</td>\n",
       "      <td>/r/AskMen/comments/l6wmz9/men_of_reddit_whats_...</td>\n",
       "      <td>2021-05-29 06:08:43</td>\n",
       "      <td>101</td>\n",
       "      <td>0</td>\n",
       "      <td>AskMen</td>\n",
       "      <td>t5_2s30g</td>\n",
       "    </tr>\n",
       "    <tr>\n",
       "      <th>2</th>\n",
       "      <td>slimezillaaa</td>\n",
       "      <td>Sounds like more of a insecurity rather than a...</td>\n",
       "      <td>1</td>\n",
       "      <td>0</td>\n",
       "      <td>2021-01-28 15:19:59</td>\n",
       "      <td>false</td>\n",
       "      <td>0</td>\n",
       "      <td>gl3n144</td>\n",
       "      <td>0</td>\n",
       "      <td>t3_l6okyk</td>\n",
       "      <td>t3_l6okyk</td>\n",
       "      <td>/r/unpopularopinion/comments/l6okyk/i_dont_wan...</td>\n",
       "      <td>2021-05-29 06:10:08</td>\n",
       "      <td>1</td>\n",
       "      <td>0</td>\n",
       "      <td>unpopularopinion</td>\n",
       "      <td>t5_2tk0s</td>\n",
       "    </tr>\n",
       "    <tr>\n",
       "      <th>3</th>\n",
       "      <td>chanaandeler_bong</td>\n",
       "      <td>Why does that matter. In either form you aren’...</td>\n",
       "      <td>1</td>\n",
       "      <td>1</td>\n",
       "      <td>2021-01-28 15:22:42</td>\n",
       "      <td>false</td>\n",
       "      <td>0</td>\n",
       "      <td>gl3nmln</td>\n",
       "      <td>0</td>\n",
       "      <td>t3_l6okyk</td>\n",
       "      <td>t1_gl3n5rb</td>\n",
       "      <td>/r/unpopularopinion/comments/l6okyk/i_dont_wan...</td>\n",
       "      <td>2021-05-29 06:14:35</td>\n",
       "      <td>0</td>\n",
       "      <td>0</td>\n",
       "      <td>unpopularopinion</td>\n",
       "      <td>t5_2tk0s</td>\n",
       "    </tr>\n",
       "    <tr>\n",
       "      <th>4</th>\n",
       "      <td>AutoModerator</td>\n",
       "      <td>**PLEASE READ ALL OF THIS BEFORE MESSAGING US:...</td>\n",
       "      <td>1</td>\n",
       "      <td>0</td>\n",
       "      <td>2021-01-28 15:26:24</td>\n",
       "      <td>false</td>\n",
       "      <td>0</td>\n",
       "      <td>gl3ofzn</td>\n",
       "      <td>0</td>\n",
       "      <td>t3_l6zjdh</td>\n",
       "      <td>t3_l6zjdh</td>\n",
       "      <td>/r/OutOfTheLoop/comments/l6zjdh/what_is_actual...</td>\n",
       "      <td>2021-05-29 06:21:05</td>\n",
       "      <td>1</td>\n",
       "      <td>0</td>\n",
       "      <td>OutOfTheLoop</td>\n",
       "      <td>t5_2xinb</td>\n",
       "    </tr>\n",
       "  </tbody>\n",
       "</table>\n",
       "</div>"
      ],
      "text/plain": [
       "              author                                               body  \\\n",
       "0   stonedironworker  Every man you’ve ever slept with has watched p...   \n",
       "1          [deleted]  That’s what I’m saying man. Where are the men ...   \n",
       "2       slimezillaaa  Sounds like more of a insecurity rather than a...   \n",
       "3  chanaandeler_bong  Why does that matter. In either form you aren’...   \n",
       "4      AutoModerator  **PLEASE READ ALL OF THIS BEFORE MESSAGING US:...   \n",
       "\n",
       "   can_gild  controversiality         created_utc      edited  gilded  \\\n",
       "0         1                 0 2021-01-28 15:18:53       false       0   \n",
       "1         0                 0 2021-01-28 15:19:23  1611870280       0   \n",
       "2         1                 0 2021-01-28 15:19:59       false       0   \n",
       "3         1                 1 2021-01-28 15:22:42       false       0   \n",
       "4         1                 0 2021-01-28 15:26:24       false       0   \n",
       "\n",
       "        id  is_submitter    link_id   parent_id  \\\n",
       "0  gl3msfm             0  t3_l6okyk  t1_gl3ljhf   \n",
       "1  gl3mwdx             0  t3_l6wmz9  t1_gl3i3ry   \n",
       "2  gl3n144             0  t3_l6okyk   t3_l6okyk   \n",
       "3  gl3nmln             0  t3_l6okyk  t1_gl3n5rb   \n",
       "4  gl3ofzn             0  t3_l6zjdh   t3_l6zjdh   \n",
       "\n",
       "                                           permalink        retrieved_on  \\\n",
       "0  /r/unpopularopinion/comments/l6okyk/i_dont_wan... 2021-05-29 06:07:54   \n",
       "1  /r/AskMen/comments/l6wmz9/men_of_reddit_whats_... 2021-05-29 06:08:43   \n",
       "2  /r/unpopularopinion/comments/l6okyk/i_dont_wan... 2021-05-29 06:10:08   \n",
       "3  /r/unpopularopinion/comments/l6okyk/i_dont_wan... 2021-05-29 06:14:35   \n",
       "4  /r/OutOfTheLoop/comments/l6zjdh/what_is_actual... 2021-05-29 06:21:05   \n",
       "\n",
       "   score  stickied         subreddit subreddit_id  \n",
       "0     41         0  unpopularopinion     t5_2tk0s  \n",
       "1    101         0            AskMen     t5_2s30g  \n",
       "2      1         0  unpopularopinion     t5_2tk0s  \n",
       "3      0         0  unpopularopinion     t5_2tk0s  \n",
       "4      1         0      OutOfTheLoop     t5_2xinb  "
      ]
     },
     "metadata": {},
     "output_type": "display_data"
    }
   ],
   "source": [
    "display(comments_active.limit(5).toPandas())"
   ]
  },
  {
   "cell_type": "markdown",
   "metadata": {
    "tags": []
   },
   "source": [
    "Final shape"
   ]
  },
  {
   "cell_type": "code",
   "execution_count": 43,
   "metadata": {
    "tags": []
   },
   "outputs": [
    {
     "name": "stderr",
     "output_type": "stream",
     "text": [
      "                                                                                \r"
     ]
    },
    {
     "name": "stdout",
     "output_type": "stream",
     "text": [
      "submissions shape: (742, 33)\n"
     ]
    },
    {
     "name": "stderr",
     "output_type": "stream",
     "text": [
      "[Stage 33:====================================================>   (14 + 1) / 15]\r"
     ]
    },
    {
     "name": "stdout",
     "output_type": "stream",
     "text": [
      "submissions shape: (37928, 17)\n"
     ]
    },
    {
     "name": "stderr",
     "output_type": "stream",
     "text": [
      "                                                                                \r"
     ]
    }
   ],
   "source": [
    "\n",
    "print(f\"submissions shape: ({submissions_active.count()}, {len(submissions_active.columns)})\")\n",
    "print(f\"submissions shape: ({comments_active.count()}, {len(comments_active.columns)})\")\n"
   ]
  },
  {
   "cell_type": "markdown",
   "metadata": {},
   "source": [
    "### 2.3 Produce at least 5 interesting graphs about your dataset. Think about the dimensions that are interesting for your Reddit data! There are millions of choices. Make sure your graphs are connected to your business questions.\n",
    "\n"
   ]
  },
  {
   "cell_type": "code",
   "execution_count": 45,
   "metadata": {},
   "outputs": [
    {
     "name": "stderr",
     "output_type": "stream",
     "text": [
      "[Stage 39:==============================================>           (4 + 1) / 5]\r"
     ]
    },
    {
     "name": "stdout",
     "output_type": "stream",
     "text": [
      "+-------+-----+\n",
      "|over_18|count|\n",
      "+-------+-----+\n",
      "|      1|    8|\n",
      "|      0|  734|\n",
      "+-------+-----+\n",
      "\n"
     ]
    },
    {
     "name": "stderr",
     "output_type": "stream",
     "text": [
      "                                                                                \r"
     ]
    }
   ],
   "source": [
    "submissions_active.groupby('over_18').count().show()\n"
   ]
  },
  {
   "cell_type": "code",
   "execution_count": null,
   "metadata": {
    "tags": []
   },
   "outputs": [],
   "source": [
    "import pandas as pd\n",
    "import matplotlib.pyplot as plt\n",
    "\n",
    "# Get the number of true cases for over_18\n",
    "true_count = submissions_active.filter(col('over_18') == 1).count()\n",
    "\n",
    "# Sample the same number of false cases\n",
    "false_count = submissions_active.filter(col('over_18') == 0).count()\n",
    "fraction = true_count / false_count\n",
    "\n",
    "# Use sampleBy if you need stratified sampling to maintain a proportion\n",
    "sampled_false = submissions_active.filter(col('over_18') == 0).sample(withReplacement=False, fraction=fraction, seed=42)\n",
    "\n",
    "# Since you need exactly `true_count` number of samples, we need to take action in the sampled DataFrame\n",
    "# This may cause Spark to scan the DataFrame twice\n",
    "sampled_false = sampled_false.limit(true_count)\n",
    "\n",
    "# Combine the true cases and sampled false cases\n",
    "combined = submissions_active.filter(col('over_18') == 1).unionAll(sampled_false)\n",
    "\n"
   ]
  },
  {
   "cell_type": "code",
   "execution_count": 55,
   "metadata": {
    "tags": []
   },
   "outputs": [
    {
     "name": "stderr",
     "output_type": "stream",
     "text": [
      "                                                                                \r"
     ]
    },
    {
     "data": {
      "text/plain": [
       "<Figure size 1000x600 with 0 Axes>"
      ]
     },
     "metadata": {},
     "output_type": "display_data"
    },
    {
     "data": {
      "image/png": "[encoded data removed]",
      "text/plain": [
       "<Figure size 640x480 with 1 Axes>"
      ]
     },
     "metadata": {},
     "output_type": "display_data"
    }
   ],
   "source": [
    "# Now convert this combined Spark DataFrame to Pandas DataFrame for visualization (assuming the data is small enough to fit into memory)\n",
    "pandas_df = combined.toPandas()\n",
    "\n",
    "# Ensure 'over_18' is a string to be treated as categorical data\n",
    "pandas_df['over_18'] = pandas_df['over_18'].map({0: 'False', 1: 'True'})\n",
    "\n",
    "\n",
    "# Calculate the mean and standard deviation of num_comments\n",
    "#mean_comments = pandas_df['num_comments'].mean()\n",
    "#std_comments = pandas_df['num_comments'].std()\n",
    "\n",
    "# Define the upper bound as 3 standard deviations above the mean\n",
    "#upper_bound = mean_comments + 3 * std_comments\n",
    "\n",
    "\n",
    "# remove rows with more than 200 comments\n",
    "pandas_df = pandas_df[pandas_df['num_comments'] <= 200]\n",
    "\n",
    "\n",
    "\n",
    "# Filter the DataFrame to exclude any num_comments above the upper bound\n",
    "pandas_df = pandas_df[pandas_df['num_comments'] <= upper_bound]\n",
    "\n",
    "# Create a box plot for the score by over_18 status\n",
    "plt.figure(figsize=(10, 6))\n",
    "ax = pandas_df.boxplot(by='over_18', column=['num_comments'], grid=False)\n",
    "\n",
    "# Set the title and labels\n",
    "ax.set_title('Box Plot of Scores by Over 18 Status')\n",
    "ax.set_xlabel('Over 18 Status')\n",
    "ax.set_ylabel('Comments')\n",
    "plt.suptitle('')  # Suppress the automatic Pandas-generated title\n",
    "\n",
    "# Show the plot\n",
    "plt.show()"
   ]
  },
  {
   "cell_type": "code",
   "execution_count": 53,
   "metadata": {
    "tags": []
   },
   "outputs": [
    {
     "name": "stdout",
     "output_type": "stream",
     "text": [
      "Counts for 'over_18' in the DataFrame:\n",
      "True     8\n",
      "False    8\n",
      "Name: over_18, dtype: int64\n"
     ]
    }
   ],
   "source": [
    "counts = pandas_df['over_18'].value_counts()\n",
    "print(\"Counts for 'over_18' in the DataFrame:\")\n",
    "print(counts)\n"
   ]
  },
  {
   "cell_type": "code",
   "execution_count": 56,
   "metadata": {
    "tags": []
   },
   "outputs": [
    {
     "name": "stderr",
     "output_type": "stream",
     "text": [
      "                                                                                \r"
     ]
    },
    {
     "data": {
      "image/png": "[encoded data removed]",
      "text/plain": [
       "<Figure size 1200x800 with 1 Axes>"
      ]
     },
     "metadata": {},
     "output_type": "display_data"
    }
   ],
   "source": [
    "from pyspark.sql import functions as F\n",
    "\n",
    "# Group by 'subreddit' and calculate the mean of 'num_comments' and 'score'\n",
    "subreddit_means = submissions_active.groupBy('subreddit') \\\n",
    "                                    .agg(F.mean('num_comments').alias('mean_num_comments'), \n",
    "                                         F.mean('score').alias('mean_score'))\n",
    "\n",
    "# Now convert this Spark DataFrame to a Pandas DataFrame\n",
    "pandas_df_means = subreddit_means.toPandas()\n",
    "\n",
    "# Ensure the 'subreddit' is treated as a category for better plotting\n",
    "pandas_df_means['subreddit'] = pandas_df_means['subreddit'].astype('category')\n",
    "\n",
    "# Now plot using seaborn for better hue handling\n",
    "import seaborn as sns\n",
    "import matplotlib.pyplot as plt\n",
    "\n",
    "# Create the scatter plot\n",
    "plt.figure(figsize=(12, 8))\n",
    "scatter_plot = sns.scatterplot(data=pandas_df_means, \n",
    "                               x='mean_num_comments', \n",
    "                               y='mean_score', \n",
    "                               hue='subreddit')\n",
    "\n",
    "# Enhance the plot\n",
    "scatter_plot.set_title('Scatter Plot of Mean Comments vs. Mean Score, Hued by Subreddit')\n",
    "scatter_plot.set_xlabel('Mean Number of Comments')\n",
    "scatter_plot.set_ylabel('Mean Score')\n",
    "plt.legend(title='Subreddit', loc='upper right')\n",
    "\n",
    "# Show the plot\n",
    "plt.show()\n"
   ]
  },
  {
   "cell_type": "markdown",
   "metadata": {},
   "source": [
    "### 2.4 Produce at least 3 interesting summary tables about your dataset. You can decide how to split up your data into categories, time slices, etc. There are infinite ways you can make summary statistics. Be unique, creative, and interesting!\n",
    "\n"
   ]
  },
  {
   "cell_type": "code",
   "execution_count": 73,
   "metadata": {},
   "outputs": [
    {
     "name": "stderr",
     "output_type": "stream",
     "text": [
      "[Stage 88:==================================>                       (3 + 2) / 5]\r"
     ]
    },
    {
     "name": "stdout",
     "output_type": "stream",
     "text": [
      "+-------------------+-----+\n",
      "|          subreddit|count|\n",
      "+-------------------+-----+\n",
      "|     TrueOffMyChest|  117|\n",
      "|   unpopularopinion|  416|\n",
      "|           antiwork|   22|\n",
      "|       socialskills|   42|\n",
      "|             AskMen|  140|\n",
      "|      AmItheAsshole|  325|\n",
      "|relationship_advice|  665|\n",
      "|  explainlikeimfive|  162|\n",
      "|       OutOfTheLoop|   58|\n",
      "|               tifu|   64|\n",
      "|  NoStupidQuestions|  509|\n",
      "|           AskWomen|  108|\n",
      "+-------------------+-----+\n",
      "\n"
     ]
    },
    {
     "name": "stderr",
     "output_type": "stream",
     "text": [
      "                                                                                \r"
     ]
    }
   ],
   "source": [
    "submissions_active.groupby('subreddit').count().show()\n",
    "\n"
   ]
  },
  {
   "cell_type": "code",
   "execution_count": null,
   "metadata": {},
   "outputs": [],
   "source": []
  },
  {
   "cell_type": "markdown",
   "metadata": {},
   "source": [
    "### 2.5 Use data transformations to make AT LEAST 3 new variables that are relevant to your business questions. We cannot be more specific because this depends on your project and what you want to explore!\n",
    "\n"
   ]
  },
  {
   "cell_type": "code",
   "execution_count": null,
   "metadata": {},
   "outputs": [],
   "source": []
  },
  {
   "cell_type": "markdown",
   "metadata": {},
   "source": [
    "### 2.6 Implement regex searches for specific keywords of interest to produce dummy variables and then make statistics that are related to your business questions. Note, that you DO NOT have to do textual cleaning of the data at this point. The next assignment on NLP will focus on the textual cleaning and analysis aspect.\n",
    "\n"
   ]
  },
  {
   "cell_type": "code",
   "execution_count": null,
   "metadata": {},
   "outputs": [],
   "source": []
  },
  {
   "cell_type": "markdown",
   "metadata": {},
   "source": [
    "### 2.7 Find some type of external data to join onto your Reddit data. Don’t know what to pick? Consider a time-related dataset. Stock prices, game details over time, active users on a platform, sports scores, covid cases, etc., etc. While you may not need to join this external data with your entire dataset, you must have at least one analysis that connects to external data. You do not have to join the external data and analyze it yet, just find it.\n",
    "\n"
   ]
  },
  {
   "cell_type": "code",
   "execution_count": null,
   "metadata": {},
   "outputs": [],
   "source": []
  },
  {
   "cell_type": "markdown",
   "metadata": {},
   "source": [
    "### If you are planning to make any custom datasets that are derived from your Reddit data, make them now. These datasets might be graph-focused, or maybe they are time series focused, it is completely up to you!"
   ]
  },
  {
   "cell_type": "code",
   "execution_count": null,
   "metadata": {},
   "outputs": [],
   "source": []
  }
 ],
 "metadata": {
  "availableInstances": [
   {
    "_defaultOrder": 0,
    "_isFastLaunch": true,
    "category": "General purpose",
    "gpuNum": 0,
    "hideHardwareSpecs": false,
    "memoryGiB": 4,
    "name": "ml.t3.medium",
    "vcpuNum": 2
   },
   {
    "_defaultOrder": 1,
    "_isFastLaunch": false,
    "category": "General purpose",
    "gpuNum": 0,
    "hideHardwareSpecs": false,
    "memoryGiB": 8,
    "name": "ml.t3.large",
    "vcpuNum": 2
   },
   {
    "_defaultOrder": 2,
    "_isFastLaunch": false,
    "category": "General purpose",
    "gpuNum": 0,
    "hideHardwareSpecs": false,
    "memoryGiB": 16,
    "name": "ml.t3.xlarge",
    "vcpuNum": 4
   },
   {
    "_defaultOrder": 3,
    "_isFastLaunch": false,
    "category": "General purpose",
    "gpuNum": 0,
    "hideHardwareSpecs": false,
    "memoryGiB": 32,
    "name": "ml.t3.2xlarge",
    "vcpuNum": 8
   },
   {
    "_defaultOrder": 4,
    "_isFastLaunch": true,
    "category": "General purpose",
    "gpuNum": 0,
    "hideHardwareSpecs": false,
    "memoryGiB": 8,
    "name": "ml.m5.large",
    "vcpuNum": 2
   },
   {
    "_defaultOrder": 5,
    "_isFastLaunch": false,
    "category": "General purpose",
    "gpuNum": 0,
    "hideHardwareSpecs": false,
    "memoryGiB": 16,
    "name": "ml.m5.xlarge",
    "vcpuNum": 4
   },
   {
    "_defaultOrder": 6,
    "_isFastLaunch": false,
    "category": "General purpose",
    "gpuNum": 0,
    "hideHardwareSpecs": false,
    "memoryGiB": 32,
    "name": "ml.m5.2xlarge",
    "vcpuNum": 8
   },
   {
    "_defaultOrder": 7,
    "_isFastLaunch": false,
    "category": "General purpose",
    "gpuNum": 0,
    "hideHardwareSpecs": false,
    "memoryGiB": 64,
    "name": "ml.m5.4xlarge",
    "vcpuNum": 16
   },
   {
    "_defaultOrder": 8,
    "_isFastLaunch": false,
    "category": "General purpose",
    "gpuNum": 0,
    "hideHardwareSpecs": false,
    "memoryGiB": 128,
    "name": "ml.m5.8xlarge",
    "vcpuNum": 32
   },
   {
    "_defaultOrder": 9,
    "_isFastLaunch": false,
    "category": "General purpose",
    "gpuNum": 0,
    "hideHardwareSpecs": false,
    "memoryGiB": 192,
    "name": "ml.m5.12xlarge",
    "vcpuNum": 48
   },
   {
    "_defaultOrder": 10,
    "_isFastLaunch": false,
    "category": "General purpose",
    "gpuNum": 0,
    "hideHardwareSpecs": false,
    "memoryGiB": 256,
    "name": "ml.m5.16xlarge",
    "vcpuNum": 64
   },
   {
    "_defaultOrder": 11,
    "_isFastLaunch": false,
    "category": "General purpose",
    "gpuNum": 0,
    "hideHardwareSpecs": false,
    "memoryGiB": 384,
    "name": "ml.m5.24xlarge",
    "vcpuNum": 96
   },
   {
    "_defaultOrder": 12,
    "_isFastLaunch": false,
    "category": "General purpose",
    "gpuNum": 0,
    "hideHardwareSpecs": false,
    "memoryGiB": 8,
    "name": "ml.m5d.large",
    "vcpuNum": 2
   },
   {
    "_defaultOrder": 13,
    "_isFastLaunch": false,
    "category": "General purpose",
    "gpuNum": 0,
    "hideHardwareSpecs": false,
    "memoryGiB": 16,
    "name": "ml.m5d.xlarge",
    "vcpuNum": 4
   },
   {
    "_defaultOrder": 14,
    "_isFastLaunch": false,
    "category": "General purpose",
    "gpuNum": 0,
    "hideHardwareSpecs": false,
    "memoryGiB": 32,
    "name": "ml.m5d.2xlarge",
    "vcpuNum": 8
   },
   {
    "_defaultOrder": 15,
    "_isFastLaunch": false,
    "category": "General purpose",
    "gpuNum": 0,
    "hideHardwareSpecs": false,
    "memoryGiB": 64,
    "name": "ml.m5d.4xlarge",
    "vcpuNum": 16
   },
   {
    "_defaultOrder": 16,
    "_isFastLaunch": false,
    "category": "General purpose",
    "gpuNum": 0,
    "hideHardwareSpecs": false,
    "memoryGiB": 128,
    "name": "ml.m5d.8xlarge",
    "vcpuNum": 32
   },
   {
    "_defaultOrder": 17,
    "_isFastLaunch": false,
    "category": "General purpose",
    "gpuNum": 0,
    "hideHardwareSpecs": false,
    "memoryGiB": 192,
    "name": "ml.m5d.12xlarge",
    "vcpuNum": 48
   },
   {
    "_defaultOrder": 18,
    "_isFastLaunch": false,
    "category": "General purpose",
    "gpuNum": 0,
    "hideHardwareSpecs": false,
    "memoryGiB": 256,
    "name": "ml.m5d.16xlarge",
    "vcpuNum": 64
   },
   {
    "_defaultOrder": 19,
    "_isFastLaunch": false,
    "category": "General purpose",
    "gpuNum": 0,
    "hideHardwareSpecs": false,
    "memoryGiB": 384,
    "name": "ml.m5d.24xlarge",
    "vcpuNum": 96
   },
   {
    "_defaultOrder": 20,
    "_isFastLaunch": false,
    "category": "General purpose",
    "gpuNum": 0,
    "hideHardwareSpecs": true,
    "memoryGiB": 0,
    "name": "ml.geospatial.interactive",
    "supportedImageNames": [
     "sagemaker-geospatial-v1-0"
    ],
    "vcpuNum": 0
   },
   {
    "_defaultOrder": 21,
    "_isFastLaunch": true,
    "category": "Compute optimized",
    "gpuNum": 0,
    "hideHardwareSpecs": false,
    "memoryGiB": 4,
    "name": "ml.c5.large",
    "vcpuNum": 2
   },
   {
    "_defaultOrder": 22,
    "_isFastLaunch": false,
    "category": "Compute optimized",
    "gpuNum": 0,
    "hideHardwareSpecs": false,
    "memoryGiB": 8,
    "name": "ml.c5.xlarge",
    "vcpuNum": 4
   },
   {
    "_defaultOrder": 23,
    "_isFastLaunch": false,
    "category": "Compute optimized",
    "gpuNum": 0,
    "hideHardwareSpecs": false,
    "memoryGiB": 16,
    "name": "ml.c5.2xlarge",
    "vcpuNum": 8
   },
   {
    "_defaultOrder": 24,
    "_isFastLaunch": false,
    "category": "Compute optimized",
    "gpuNum": 0,
    "hideHardwareSpecs": false,
    "memoryGiB": 32,
    "name": "ml.c5.4xlarge",
    "vcpuNum": 16
   },
   {
    "_defaultOrder": 25,
    "_isFastLaunch": false,
    "category": "Compute optimized",
    "gpuNum": 0,
    "hideHardwareSpecs": false,
    "memoryGiB": 72,
    "name": "ml.c5.9xlarge",
    "vcpuNum": 36
   },
   {
    "_defaultOrder": 26,
    "_isFastLaunch": false,
    "category": "Compute optimized",
    "gpuNum": 0,
    "hideHardwareSpecs": false,
    "memoryGiB": 96,
    "name": "ml.c5.12xlarge",
    "vcpuNum": 48
   },
   {
    "_defaultOrder": 27,
    "_isFastLaunch": false,
    "category": "Compute optimized",
    "gpuNum": 0,
    "hideHardwareSpecs": false,
    "memoryGiB": 144,
    "name": "ml.c5.18xlarge",
    "vcpuNum": 72
   },
   {
    "_defaultOrder": 28,
    "_isFastLaunch": false,
    "category": "Compute optimized",
    "gpuNum": 0,
    "hideHardwareSpecs": false,
    "memoryGiB": 192,
    "name": "ml.c5.24xlarge",
    "vcpuNum": 96
   },
   {
    "_defaultOrder": 29,
    "_isFastLaunch": true,
    "category": "Accelerated computing",
    "gpuNum": 1,
    "hideHardwareSpecs": false,
    "memoryGiB": 16,
    "name": "ml.g4dn.xlarge",
    "vcpuNum": 4
   },
   {
    "_defaultOrder": 30,
    "_isFastLaunch": false,
    "category": "Accelerated computing",
    "gpuNum": 1,
    "hideHardwareSpecs": false,
    "memoryGiB": 32,
    "name": "ml.g4dn.2xlarge",
    "vcpuNum": 8
   },
   {
    "_defaultOrder": 31,
    "_isFastLaunch": false,
    "category": "Accelerated computing",
    "gpuNum": 1,
    "hideHardwareSpecs": false,
    "memoryGiB": 64,
    "name": "ml.g4dn.4xlarge",
    "vcpuNum": 16
   },
   {
    "_defaultOrder": 32,
    "_isFastLaunch": false,
    "category": "Accelerated computing",
    "gpuNum": 1,
    "hideHardwareSpecs": false,
    "memoryGiB": 128,
    "name": "ml.g4dn.8xlarge",
    "vcpuNum": 32
   },
   {
    "_defaultOrder": 33,
    "_isFastLaunch": false,
    "category": "Accelerated computing",
    "gpuNum": 4,
    "hideHardwareSpecs": false,
    "memoryGiB": 192,
    "name": "ml.g4dn.12xlarge",
    "vcpuNum": 48
   },
   {
    "_defaultOrder": 34,
    "_isFastLaunch": false,
    "category": "Accelerated computing",
    "gpuNum": 1,
    "hideHardwareSpecs": false,
    "memoryGiB": 256,
    "name": "ml.g4dn.16xlarge",
    "vcpuNum": 64
   },
   {
    "_defaultOrder": 35,
    "_isFastLaunch": false,
    "category": "Accelerated computing",
    "gpuNum": 1,
    "hideHardwareSpecs": false,
    "memoryGiB": 61,
    "name": "ml.p3.2xlarge",
    "vcpuNum": 8
   },
   {
    "_defaultOrder": 36,
    "_isFastLaunch": false,
    "category": "Accelerated computing",
    "gpuNum": 4,
    "hideHardwareSpecs": false,
    "memoryGiB": 244,
    "name": "ml.p3.8xlarge",
    "vcpuNum": 32
   },
   {
    "_defaultOrder": 37,
    "_isFastLaunch": false,
    "category": "Accelerated computing",
    "gpuNum": 8,
    "hideHardwareSpecs": false,
    "memoryGiB": 488,
    "name": "ml.p3.16xlarge",
    "vcpuNum": 64
   },
   {
    "_defaultOrder": 38,
    "_isFastLaunch": false,
    "category": "Accelerated computing",
    "gpuNum": 8,
    "hideHardwareSpecs": false,
    "memoryGiB": 768,
    "name": "ml.p3dn.24xlarge",
    "vcpuNum": 96
   },
   {
    "_defaultOrder": 39,
    "_isFastLaunch": false,
    "category": "Memory Optimized",
    "gpuNum": 0,
    "hideHardwareSpecs": false,
    "memoryGiB": 16,
    "name": "ml.r5.large",
    "vcpuNum": 2
   },
   {
    "_defaultOrder": 40,
    "_isFastLaunch": false,
    "category": "Memory Optimized",
    "gpuNum": 0,
    "hideHardwareSpecs": false,
    "memoryGiB": 32,
    "name": "ml.r5.xlarge",
    "vcpuNum": 4
   },
   {
    "_defaultOrder": 41,
    "_isFastLaunch": false,
    "category": "Memory Optimized",
    "gpuNum": 0,
    "hideHardwareSpecs": false,
    "memoryGiB": 64,
    "name": "ml.r5.2xlarge",
    "vcpuNum": 8
   },
   {
    "_defaultOrder": 42,
    "_isFastLaunch": false,
    "category": "Memory Optimized",
    "gpuNum": 0,
    "hideHardwareSpecs": false,
    "memoryGiB": 128,
    "name": "ml.r5.4xlarge",
    "vcpuNum": 16
   },
   {
    "_defaultOrder": 43,
    "_isFastLaunch": false,
    "category": "Memory Optimized",
    "gpuNum": 0,
    "hideHardwareSpecs": false,
    "memoryGiB": 256,
    "name": "ml.r5.8xlarge",
    "vcpuNum": 32
   },
   {
    "_defaultOrder": 44,
    "_isFastLaunch": false,
    "category": "Memory Optimized",
    "gpuNum": 0,
    "hideHardwareSpecs": false,
    "memoryGiB": 384,
    "name": "ml.r5.12xlarge",
    "vcpuNum": 48
   },
   {
    "_defaultOrder": 45,
    "_isFastLaunch": false,
    "category": "Memory Optimized",
    "gpuNum": 0,
    "hideHardwareSpecs": false,
    "memoryGiB": 512,
    "name": "ml.r5.16xlarge",
    "vcpuNum": 64
   },
   {
    "_defaultOrder": 46,
    "_isFastLaunch": false,
    "category": "Memory Optimized",
    "gpuNum": 0,
    "hideHardwareSpecs": false,
    "memoryGiB": 768,
    "name": "ml.r5.24xlarge",
    "vcpuNum": 96
   },
   {
    "_defaultOrder": 47,
    "_isFastLaunch": false,
    "category": "Accelerated computing",
    "gpuNum": 1,
    "hideHardwareSpecs": false,
    "memoryGiB": 16,
    "name": "ml.g5.xlarge",
    "vcpuNum": 4
   },
   {
    "_defaultOrder": 48,
    "_isFastLaunch": false,
    "category": "Accelerated computing",
    "gpuNum": 1,
    "hideHardwareSpecs": false,
    "memoryGiB": 32,
    "name": "ml.g5.2xlarge",
    "vcpuNum": 8
   },
   {
    "_defaultOrder": 49,
    "_isFastLaunch": false,
    "category": "Accelerated computing",
    "gpuNum": 1,
    "hideHardwareSpecs": false,
    "memoryGiB": 64,
    "name": "ml.g5.4xlarge",
    "vcpuNum": 16
   },
   {
    "_defaultOrder": 50,
    "_isFastLaunch": false,
    "category": "Accelerated computing",
    "gpuNum": 1,
    "hideHardwareSpecs": false,
    "memoryGiB": 128,
    "name": "ml.g5.8xlarge",
    "vcpuNum": 32
   },
   {
    "_defaultOrder": 51,
    "_isFastLaunch": false,
    "category": "Accelerated computing",
    "gpuNum": 1,
    "hideHardwareSpecs": false,
    "memoryGiB": 256,
    "name": "ml.g5.16xlarge",
    "vcpuNum": 64
   },
   {
    "_defaultOrder": 52,
    "_isFastLaunch": false,
    "category": "Accelerated computing",
    "gpuNum": 4,
    "hideHardwareSpecs": false,
    "memoryGiB": 192,
    "name": "ml.g5.12xlarge",
    "vcpuNum": 48
   },
   {
    "_defaultOrder": 53,
    "_isFastLaunch": false,
    "category": "Accelerated computing",
    "gpuNum": 4,
    "hideHardwareSpecs": false,
    "memoryGiB": 384,
    "name": "ml.g5.24xlarge",
    "vcpuNum": 96
   },
   {
    "_defaultOrder": 54,
    "_isFastLaunch": false,
    "category": "Accelerated computing",
    "gpuNum": 8,
    "hideHardwareSpecs": false,
    "memoryGiB": 768,
    "name": "ml.g5.48xlarge",
    "vcpuNum": 192
   },
   {
    "_defaultOrder": 55,
    "_isFastLaunch": false,
    "category": "Accelerated computing",
    "gpuNum": 8,
    "hideHardwareSpecs": false,
    "memoryGiB": 1152,
    "name": "ml.p4d.24xlarge",
    "vcpuNum": 96
   },
   {
    "_defaultOrder": 56,
    "_isFastLaunch": false,
    "category": "Accelerated computing",
    "gpuNum": 8,
    "hideHardwareSpecs": false,
    "memoryGiB": 1152,
    "name": "ml.p4de.24xlarge",
    "vcpuNum": 96
   }
  ],
  "instance_type": "ml.t3.large",
  "kernelspec": {
   "display_name": "Python 3 (Data Science 3.0)",
   "language": "python",
   "name": "python3__SAGEMAKER_INTERNAL__arn:aws:sagemaker:us-east-1:081325390199:image/sagemaker-data-science-310-v1"
  },
  "language_info": {
   "codemirror_mode": {
    "name": "ipython",
    "version": 3
   },
   "file_extension": ".py",
   "mimetype": "text/x-python",
   "name": "python",
   "nbconvert_exporter": "python",
   "pygments_lexer": "ipython3",
   "version": "3.10.6"
  }
 },
 "nbformat": 4,
 "nbformat_minor": 4
}
