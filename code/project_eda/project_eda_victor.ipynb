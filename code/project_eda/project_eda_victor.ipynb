{
 "cells": [
  {
   "cell_type": "raw",
   "metadata": {},
   "source": [
    "---\n",
    "format:\n",
    "  html:\n",
    "    embed-resources: true\n",
    "    toc: true\n",
    "    theme: default\n",
    "    code-copy: true\n",
    "    code-line-numbers: true\n",
    "    highlight-style: github\n",
    "---"
   ]
  },
  {
   "cell_type": "markdown",
   "metadata": {},
   "source": [
    "## 1. Project Topics"
   ]
  },
  {
   "cell_type": "markdown",
   "metadata": {},
   "source": [
    "### Exploratory 1: Determine if NSFW posts post affects user interaction.\n",
    "\n"
   ]
  },
  {
   "cell_type": "markdown",
   "metadata": {},
   "source": [
    "### Exploratory 2: Determine what is the correlation that exists between the number of comments and the score of a post.\n",
    "\n"
   ]
  },
  {
   "cell_type": "markdown",
   "metadata": {},
   "source": [
    "### Exploratory 3: Determine the times of the day when posts typically receive the most engagement.\n",
    " "
   ]
  },
  {
   "cell_type": "markdown",
   "metadata": {},
   "source": [
    "## 2. EDA"
   ]
  },
  {
   "cell_type": "markdown",
   "metadata": {},
   "source": [
    "### Bucket checks"
   ]
  },
  {
   "cell_type": "code",
   "execution_count": 2,
   "metadata": {
    "tags": []
   },
   "outputs": [
    {
     "name": "stdout",
     "output_type": "stream",
     "text": [
      "2023-08-29 23:43:16 sagemaker-studio-692960231031-wo7kgoszj2g\n",
      "2023-08-29 23:50:01 sagemaker-us-east-1-692960231031\n",
      "2023-08-30 00:34:21 vad49\n",
      "2023-09-16 16:02:10 vad49-labdata\n"
     ]
    }
   ],
   "source": [
    "!aws s3 ls\n"
   ]
  },
  {
   "cell_type": "code",
   "execution_count": 18,
   "metadata": {
    "tags": []
   },
   "outputs": [
    {
     "name": "stdout",
     "output_type": "stream",
     "text": [
      "                           PRE comments/\n",
      "                           PRE submissions/\n"
     ]
    }
   ],
   "source": [
    "#!aws s3 ls s3://vad49/project_lowercase_test/\n",
    "#!aws s3 ls s3://project17-bucket-alex/project_jan2021/\n",
    "\n",
    "!aws s3 ls s3://project17-bucket-alex/project_2022_1/\n",
    "\n",
    "\n",
    "#!aws s3 cp s3://project17-bucket-alex/eda_ideas.txt -"
   ]
  },
  {
   "cell_type": "markdown",
   "metadata": {
    "tags": []
   },
   "source": [
    "### Setup"
   ]
  },
  {
   "cell_type": "code",
   "execution_count": null,
   "metadata": {
    "tags": []
   },
   "outputs": [],
   "source": [
    "# Setup - Run only once per Kernel App\n",
    "%conda install openjdk -y\n",
    "\n",
    "# install PySpark\n",
    "%pip install pyspark==3.2.0 s3fs pyarrow\n",
    "\n",
    "# restart kernel\n",
    "from IPython.core.display import HTML\n",
    "HTML(\"<script>Jupyter.notebook.kernel.restart()</script>\")\n"
   ]
  },
  {
   "cell_type": "code",
   "execution_count": 5,
   "metadata": {},
   "outputs": [],
   "source": [
    "from pyspark.sql import SparkSession, DataFrame\n",
    "from pyspark.sql import functions as F\n",
    "from pyspark.sql.functions import col, length, isnan, when, count, regexp_extract, weekofyear, hour, avg, to_date, unix_timestamp, lit, corr\n",
    "\n",
    "\n",
    "import pandas as pd\n",
    "import seaborn as sns\n",
    "import matplotlib.pyplot as plt\n",
    "\n",
    "pd.set_option('display.max_colwidth', 50) \n",
    "#pd.set_option('display.width', None)\n",
    "pd.set_option('display.max_columns', None)\n"
   ]
  },
  {
   "cell_type": "code",
   "execution_count": null,
   "metadata": {
    "tags": []
   },
   "outputs": [],
   "source": [
    "# Import pyspark and build Spark session\n",
    "\n",
    "spark = (\n",
    "    SparkSession.builder.appName(\"PySparkApp\")\n",
    "    .config(\"spark.jars.packages\", \"org.apache.hadoop:hadoop-aws:3.2.2\")\n",
    "    .config(\n",
    "        \"fs.s3a.aws.credentials.provider\",\n",
    "        \"com.amazonaws.auth.ContainerCredentialsProvider\",\n",
    "    )\n",
    "    .getOrCreate()\n",
    ")\n",
    "\n",
    "print(spark.version)"
   ]
  },
  {
   "cell_type": "markdown",
   "metadata": {},
   "source": [
    "### Bring in submissions and comments data"
   ]
  },
  {
   "cell_type": "code",
   "execution_count": 16,
   "metadata": {},
   "outputs": [
    {
     "name": "stdout",
     "output_type": "stream",
     "text": [
      "reading submissions from s3a://project17-bucket-alex/project_jan2021//submissions\n",
      "CPU times: user 1.01 ms, sys: 3.27 ms, total: 4.28 ms\n",
      "Wall time: 846 ms\n"
     ]
    }
   ],
   "source": [
    "%%time\n",
    "\n",
    "# to read a single month\n",
    "s3_path_submissions = f\"s3a://project17-bucket-alex/project_jan2021//submissions\"\n",
    "\n",
    "#s3_path_submissions = f\"s3a://project17-bucket-alex/project_2022_1//submissions\"\n",
    "\n",
    "print(f\"reading submissions from {s3_path_submissions}\")\n",
    "\n",
    "submissions = spark.read.parquet(s3_path_submissions, header=True)\n"
   ]
  },
  {
   "cell_type": "code",
   "execution_count": 8,
   "metadata": {},
   "outputs": [
    {
     "name": "stdout",
     "output_type": "stream",
     "text": [
      "CPU times: user 4 µs, sys: 0 ns, total: 4 µs\n",
      "Wall time: 7.63 µs\n"
     ]
    }
   ],
   "source": [
    "%%time\n",
    "\n",
    "# to read a single month\n",
    "#s3_path_comments = f\"s3a://project17-bucket-alex/project_jan2021//comments\"\n",
    "#print(f\"reading submissions from {s3_path_comments}\")\n",
    "\n",
    "#comments = spark.read.parquet(s3_path_comments, header=True)\n"
   ]
  },
  {
   "cell_type": "code",
   "execution_count": null,
   "metadata": {},
   "outputs": [],
   "source": [
    "%%time\n",
    "\n",
    "# read the full year\n",
    "\n",
    "# Read in data from project bucket\n",
    "bucket = \"project17-bucket-alex\"\n",
    "\n",
    "# List of 12 directories each containing 1 month of data\n",
    "directories = [\"project_2022_\"+str(i)+\"/submissions\" for i in range(1,13)]\n",
    "\n",
    "# Iterate through 12 directories and merge each monthly data set to create one big data set\n",
    "submissions = None\n",
    "for directory in directories:\n",
    "    s3_path = f\"s3a://{bucket}/{directory}\"\n",
    "    month_df = spark.read.parquet(s3_path, header = True)\n",
    "    \n",
    "    if submissions is None:\n",
    "        submissions = month_df\n",
    "    else:\n",
    "        submissions = submissions.union(month_df)\n",
    "\n",
    "        \n",
    "directories = [\"project_2022_\"+str(i)+\"/comments\" for i in range(1,13)]\n",
    "comments = None\n",
    "for directory in directories:\n",
    "    s3_path = f\"s3a://{bucket}/{directory}\"\n",
    "    month_df = spark.read.parquet(s3_path, header = True)\n",
    "    \n",
    "    if comments is None:\n",
    "        comments = month_df\n",
    "    else:\n",
    "        comments = comments.union(month_df)\n",
    "\n"
   ]
  },
  {
   "cell_type": "code",
   "execution_count": 10,
   "metadata": {},
   "outputs": [
    {
     "ename": "AttributeError",
     "evalue": "'NoneType' object has no attribute 'sample'",
     "output_type": "error",
     "traceback": [
      "\u001b[0;31m---------------------------------------------------------------------------\u001b[0m",
      "\u001b[0;31mAttributeError\u001b[0m                            Traceback (most recent call last)",
      "Cell \u001b[0;32mIn[10], line 1\u001b[0m\n\u001b[0;32m----> 1\u001b[0m submissions_small \u001b[38;5;241m=\u001b[39m \u001b[43msubmissions\u001b[49m\u001b[38;5;241;43m.\u001b[39;49m\u001b[43msample\u001b[49m(withReplacement\u001b[38;5;241m=\u001b[39m\u001b[38;5;28;01mFalse\u001b[39;00m, fraction\u001b[38;5;241m=\u001b[39m\u001b[38;5;241m0.01\u001b[39m, seed\u001b[38;5;241m=\u001b[39m\u001b[38;5;241m42\u001b[39m)\n\u001b[1;32m      2\u001b[0m comments_small \u001b[38;5;241m=\u001b[39m comments\u001b[38;5;241m.\u001b[39msample(withReplacement\u001b[38;5;241m=\u001b[39m\u001b[38;5;28;01mFalse\u001b[39;00m, fraction\u001b[38;5;241m=\u001b[39m\u001b[38;5;241m0.01\u001b[39m, seed\u001b[38;5;241m=\u001b[39m\u001b[38;5;241m42\u001b[39m)\n",
      "\u001b[0;31mAttributeError\u001b[0m: 'NoneType' object has no attribute 'sample'"
     ]
    }
   ],
   "source": [
    "submissions_small = submissions.sample(withReplacement=False, fraction=0.01, seed=42)\n",
    "comments_small = comments.sample(withReplacement=False, fraction=0.01, seed=42)\n"
   ]
  },
  {
   "cell_type": "code",
   "execution_count": null,
   "metadata": {},
   "outputs": [],
   "source": [
    "# create small dfs\n",
    "\n",
    "use_small = False  # to easily swap between the small and small dfs\n",
    "submissions_active = submissions_small if use_small else submissions\n",
    "comments_active = comments_small if use_small else comments\n"
   ]
  },
  {
   "cell_type": "code",
   "execution_count": null,
   "metadata": {},
   "outputs": [],
   "source": [
    "#cache - only for when working with the small version\n",
    "#submissions_active.cache()\n",
    "#comments_active.cache()\n"
   ]
  },
  {
   "cell_type": "markdown",
   "metadata": {
    "tags": []
   },
   "source": [
    "### 2.1 Report on the basic info about your dataset. What are the interesting columns? What is the schema? How many rows do you have? etc. etc.\n"
   ]
  },
  {
   "cell_type": "code",
   "execution_count": null,
   "metadata": {},
   "outputs": [],
   "source": [
    "\n",
    "print(f\"submissions shape: ({submissions_active.count()}, {len(submissions_active.columns)})\")\n",
    "print(f\"submissions shape: ({comments_active.count()}, {len(comments_active.columns)})\")\n",
    "\n",
    "\n"
   ]
  },
  {
   "cell_type": "markdown",
   "metadata": {},
   "source": [
    "Submissions"
   ]
  },
  {
   "cell_type": "code",
   "execution_count": 13,
   "metadata": {},
   "outputs": [
    {
     "name": "stdout",
     "output_type": "stream",
     "text": [
      "root\n",
      " |-- adserver_click_url: string (nullable = true)\n",
      " |-- adserver_imp_pixel: string (nullable = true)\n",
      " |-- archived: boolean (nullable = true)\n",
      " |-- author: string (nullable = true)\n",
      " |-- author_cakeday: boolean (nullable = true)\n",
      " |-- author_flair_css_class: string (nullable = true)\n",
      " |-- author_flair_text: string (nullable = true)\n",
      " |-- author_id: string (nullable = true)\n",
      " |-- brand_safe: boolean (nullable = true)\n",
      " |-- contest_mode: boolean (nullable = true)\n",
      " |-- created_utc: timestamp (nullable = true)\n",
      " |-- crosspost_parent: string (nullable = true)\n",
      " |-- crosspost_parent_list: array (nullable = true)\n",
      " |    |-- element: struct (containsNull = true)\n",
      " |    |    |-- approved_at_utc: string (nullable = true)\n",
      " |    |    |-- approved_by: string (nullable = true)\n",
      " |    |    |-- archived: boolean (nullable = true)\n",
      " |    |    |-- author: string (nullable = true)\n",
      " |    |    |-- author_flair_css_class: string (nullable = true)\n",
      " |    |    |-- author_flair_text: string (nullable = true)\n",
      " |    |    |-- banned_at_utc: string (nullable = true)\n",
      " |    |    |-- banned_by: string (nullable = true)\n",
      " |    |    |-- brand_safe: boolean (nullable = true)\n",
      " |    |    |-- can_gild: boolean (nullable = true)\n",
      " |    |    |-- can_mod_post: boolean (nullable = true)\n",
      " |    |    |-- clicked: boolean (nullable = true)\n",
      " |    |    |-- contest_mode: boolean (nullable = true)\n",
      " |    |    |-- created: double (nullable = true)\n",
      " |    |    |-- created_utc: double (nullable = true)\n",
      " |    |    |-- distinguished: string (nullable = true)\n",
      " |    |    |-- domain: string (nullable = true)\n",
      " |    |    |-- downs: long (nullable = true)\n",
      " |    |    |-- edited: boolean (nullable = true)\n",
      " |    |    |-- gilded: long (nullable = true)\n",
      " |    |    |-- hidden: boolean (nullable = true)\n",
      " |    |    |-- hide_score: boolean (nullable = true)\n",
      " |    |    |-- id: string (nullable = true)\n",
      " |    |    |-- is_crosspostable: boolean (nullable = true)\n",
      " |    |    |-- is_reddit_media_domain: boolean (nullable = true)\n",
      " |    |    |-- is_self: boolean (nullable = true)\n",
      " |    |    |-- is_video: boolean (nullable = true)\n",
      " |    |    |-- likes: string (nullable = true)\n",
      " |    |    |-- link_flair_css_class: string (nullable = true)\n",
      " |    |    |-- link_flair_text: string (nullable = true)\n",
      " |    |    |-- locked: boolean (nullable = true)\n",
      " |    |    |-- media: string (nullable = true)\n",
      " |    |    |-- mod_reports: array (nullable = true)\n",
      " |    |    |    |-- element: string (containsNull = true)\n",
      " |    |    |-- name: string (nullable = true)\n",
      " |    |    |-- num_comments: long (nullable = true)\n",
      " |    |    |-- num_crossposts: long (nullable = true)\n",
      " |    |    |-- num_reports: string (nullable = true)\n",
      " |    |    |-- over_18: boolean (nullable = true)\n",
      " |    |    |-- parent_whitelist_status: string (nullable = true)\n",
      " |    |    |-- permalink: string (nullable = true)\n",
      " |    |    |-- pinned: boolean (nullable = true)\n",
      " |    |    |-- quarantine: boolean (nullable = true)\n",
      " |    |    |-- removal_reason: string (nullable = true)\n",
      " |    |    |-- report_reasons: string (nullable = true)\n",
      " |    |    |-- saved: boolean (nullable = true)\n",
      " |    |    |-- score: long (nullable = true)\n",
      " |    |    |-- secure_media: string (nullable = true)\n",
      " |    |    |-- selftext: string (nullable = true)\n",
      " |    |    |-- selftext_html: string (nullable = true)\n",
      " |    |    |-- spoiler: boolean (nullable = true)\n",
      " |    |    |-- stickied: boolean (nullable = true)\n",
      " |    |    |-- subreddit: string (nullable = true)\n",
      " |    |    |-- subreddit_id: string (nullable = true)\n",
      " |    |    |-- subreddit_name_prefixed: string (nullable = true)\n",
      " |    |    |-- subreddit_type: string (nullable = true)\n",
      " |    |    |-- suggested_sort: string (nullable = true)\n",
      " |    |    |-- thumbnail: string (nullable = true)\n",
      " |    |    |-- thumbnail_height: string (nullable = true)\n",
      " |    |    |-- thumbnail_width: string (nullable = true)\n",
      " |    |    |-- title: string (nullable = true)\n",
      " |    |    |-- ups: long (nullable = true)\n",
      " |    |    |-- url: string (nullable = true)\n",
      " |    |    |-- user_reports: array (nullable = true)\n",
      " |    |    |    |-- element: string (containsNull = true)\n",
      " |    |    |-- view_count: string (nullable = true)\n",
      " |    |    |-- visited: boolean (nullable = true)\n",
      " |    |    |-- whitelist_status: string (nullable = true)\n",
      " |-- disable_comments: boolean (nullable = true)\n",
      " |-- distinguished: string (nullable = true)\n",
      " |-- domain: string (nullable = true)\n",
      " |-- domain_override: string (nullable = true)\n",
      " |-- edited: string (nullable = true)\n",
      " |-- embed_type: string (nullable = true)\n",
      " |-- embed_url: string (nullable = true)\n",
      " |-- gilded: long (nullable = true)\n",
      " |-- hidden: boolean (nullable = true)\n",
      " |-- hide_score: boolean (nullable = true)\n",
      " |-- href_url: string (nullable = true)\n",
      " |-- id: string (nullable = true)\n",
      " |-- imp_pixel: string (nullable = true)\n",
      " |-- is_crosspostable: boolean (nullable = true)\n",
      " |-- is_reddit_media_domain: boolean (nullable = true)\n",
      " |-- is_self: boolean (nullable = true)\n",
      " |-- is_video: boolean (nullable = true)\n",
      " |-- link_flair_css_class: string (nullable = true)\n",
      " |-- link_flair_text: string (nullable = true)\n",
      " |-- locked: boolean (nullable = true)\n",
      " |-- media: struct (nullable = true)\n",
      " |    |-- event_id: string (nullable = true)\n",
      " |    |-- oembed: struct (nullable = true)\n",
      " |    |    |-- author_name: string (nullable = true)\n",
      " |    |    |-- author_url: string (nullable = true)\n",
      " |    |    |-- cache_age: long (nullable = true)\n",
      " |    |    |-- description: string (nullable = true)\n",
      " |    |    |-- height: long (nullable = true)\n",
      " |    |    |-- html: string (nullable = true)\n",
      " |    |    |-- provider_name: string (nullable = true)\n",
      " |    |    |-- provider_url: string (nullable = true)\n",
      " |    |    |-- thumbnail_height: long (nullable = true)\n",
      " |    |    |-- thumbnail_url: string (nullable = true)\n",
      " |    |    |-- thumbnail_width: long (nullable = true)\n",
      " |    |    |-- title: string (nullable = true)\n",
      " |    |    |-- type: string (nullable = true)\n",
      " |    |    |-- url: string (nullable = true)\n",
      " |    |    |-- version: string (nullable = true)\n",
      " |    |    |-- width: long (nullable = true)\n",
      " |    |-- reddit_video: struct (nullable = true)\n",
      " |    |    |-- dash_url: string (nullable = true)\n",
      " |    |    |-- duration: long (nullable = true)\n",
      " |    |    |-- fallback_url: string (nullable = true)\n",
      " |    |    |-- height: long (nullable = true)\n",
      " |    |    |-- hls_url: string (nullable = true)\n",
      " |    |    |-- is_gif: boolean (nullable = true)\n",
      " |    |    |-- scrubber_media_url: string (nullable = true)\n",
      " |    |    |-- transcoding_status: string (nullable = true)\n",
      " |    |    |-- width: long (nullable = true)\n",
      " |    |-- type: string (nullable = true)\n",
      " |-- media_embed: struct (nullable = true)\n",
      " |    |-- content: string (nullable = true)\n",
      " |    |-- height: long (nullable = true)\n",
      " |    |-- scrolling: boolean (nullable = true)\n",
      " |    |-- width: long (nullable = true)\n",
      " |-- mobile_ad_url: string (nullable = true)\n",
      " |-- num_comments: long (nullable = true)\n",
      " |-- num_crossposts: long (nullable = true)\n",
      " |-- original_link: string (nullable = true)\n",
      " |-- over_18: boolean (nullable = true)\n",
      " |-- parent_whitelist_status: string (nullable = true)\n",
      " |-- permalink: string (nullable = true)\n",
      " |-- pinned: boolean (nullable = true)\n",
      " |-- post_hint: string (nullable = true)\n",
      " |-- preview: struct (nullable = true)\n",
      " |    |-- enabled: boolean (nullable = true)\n",
      " |    |-- images: array (nullable = true)\n",
      " |    |    |-- element: struct (containsNull = true)\n",
      " |    |    |    |-- id: string (nullable = true)\n",
      " |    |    |    |-- resolutions: array (nullable = true)\n",
      " |    |    |    |    |-- element: struct (containsNull = true)\n",
      " |    |    |    |    |    |-- height: long (nullable = true)\n",
      " |    |    |    |    |    |-- url: string (nullable = true)\n",
      " |    |    |    |    |    |-- width: long (nullable = true)\n",
      " |    |    |    |-- source: struct (nullable = true)\n",
      " |    |    |    |    |-- height: long (nullable = true)\n",
      " |    |    |    |    |-- url: string (nullable = true)\n",
      " |    |    |    |    |-- width: long (nullable = true)\n",
      " |    |    |    |-- variants: struct (nullable = true)\n",
      " |    |    |    |    |-- gif: struct (nullable = true)\n",
      " |    |    |    |    |    |-- resolutions: array (nullable = true)\n",
      " |    |    |    |    |    |    |-- element: struct (containsNull = true)\n",
      " |    |    |    |    |    |    |    |-- height: long (nullable = true)\n",
      " |    |    |    |    |    |    |    |-- url: string (nullable = true)\n",
      " |    |    |    |    |    |    |    |-- width: long (nullable = true)\n",
      " |    |    |    |    |    |-- source: struct (nullable = true)\n",
      " |    |    |    |    |    |    |-- height: long (nullable = true)\n",
      " |    |    |    |    |    |    |-- url: string (nullable = true)\n",
      " |    |    |    |    |    |    |-- width: long (nullable = true)\n",
      " |    |    |    |    |-- mp4: struct (nullable = true)\n",
      " |    |    |    |    |    |-- resolutions: array (nullable = true)\n",
      " |    |    |    |    |    |    |-- element: struct (containsNull = true)\n",
      " |    |    |    |    |    |    |    |-- height: long (nullable = true)\n",
      " |    |    |    |    |    |    |    |-- url: string (nullable = true)\n",
      " |    |    |    |    |    |    |    |-- width: long (nullable = true)\n",
      " |    |    |    |    |    |-- source: struct (nullable = true)\n",
      " |    |    |    |    |    |    |-- height: long (nullable = true)\n",
      " |    |    |    |    |    |    |-- url: string (nullable = true)\n",
      " |    |    |    |    |    |    |-- width: long (nullable = true)\n",
      " |    |    |    |    |-- nsfw: struct (nullable = true)\n",
      " |    |    |    |    |    |-- resolutions: array (nullable = true)\n",
      " |    |    |    |    |    |    |-- element: struct (containsNull = true)\n",
      " |    |    |    |    |    |    |    |-- height: long (nullable = true)\n",
      " |    |    |    |    |    |    |    |-- url: string (nullable = true)\n",
      " |    |    |    |    |    |    |    |-- width: long (nullable = true)\n",
      " |    |    |    |    |    |-- source: struct (nullable = true)\n",
      " |    |    |    |    |    |    |-- height: long (nullable = true)\n",
      " |    |    |    |    |    |    |-- url: string (nullable = true)\n",
      " |    |    |    |    |    |    |-- width: long (nullable = true)\n",
      " |    |    |    |    |-- obfuscated: struct (nullable = true)\n",
      " |    |    |    |    |    |-- resolutions: array (nullable = true)\n",
      " |    |    |    |    |    |    |-- element: struct (containsNull = true)\n",
      " |    |    |    |    |    |    |    |-- height: long (nullable = true)\n",
      " |    |    |    |    |    |    |    |-- url: string (nullable = true)\n",
      " |    |    |    |    |    |    |    |-- width: long (nullable = true)\n",
      " |    |    |    |    |    |-- source: struct (nullable = true)\n",
      " |    |    |    |    |    |    |-- height: long (nullable = true)\n",
      " |    |    |    |    |    |    |-- url: string (nullable = true)\n",
      " |    |    |    |    |    |    |-- width: long (nullable = true)\n",
      " |-- promoted: boolean (nullable = true)\n",
      " |-- promoted_by: string (nullable = true)\n",
      " |-- promoted_display_name: string (nullable = true)\n",
      " |-- promoted_url: string (nullable = true)\n",
      " |-- retrieved_on: timestamp (nullable = true)\n",
      " |-- score: long (nullable = true)\n",
      " |-- secure_media: struct (nullable = true)\n",
      " |    |-- event_id: string (nullable = true)\n",
      " |    |-- oembed: struct (nullable = true)\n",
      " |    |    |-- author_name: string (nullable = true)\n",
      " |    |    |-- author_url: string (nullable = true)\n",
      " |    |    |-- cache_age: long (nullable = true)\n",
      " |    |    |-- description: string (nullable = true)\n",
      " |    |    |-- height: long (nullable = true)\n",
      " |    |    |-- html: string (nullable = true)\n",
      " |    |    |-- provider_name: string (nullable = true)\n",
      " |    |    |-- provider_url: string (nullable = true)\n",
      " |    |    |-- thumbnail_height: long (nullable = true)\n",
      " |    |    |-- thumbnail_url: string (nullable = true)\n",
      " |    |    |-- thumbnail_width: long (nullable = true)\n",
      " |    |    |-- title: string (nullable = true)\n",
      " |    |    |-- type: string (nullable = true)\n",
      " |    |    |-- url: string (nullable = true)\n",
      " |    |    |-- version: string (nullable = true)\n",
      " |    |    |-- width: long (nullable = true)\n",
      " |    |-- type: string (nullable = true)\n",
      " |-- secure_media_embed: struct (nullable = true)\n",
      " |    |-- content: string (nullable = true)\n",
      " |    |-- height: long (nullable = true)\n",
      " |    |-- media_domain_url: string (nullable = true)\n",
      " |    |-- scrolling: boolean (nullable = true)\n",
      " |    |-- width: long (nullable = true)\n",
      " |-- selftext: string (nullable = true)\n",
      " |-- spoiler: boolean (nullable = true)\n",
      " |-- stickied: boolean (nullable = true)\n",
      " |-- subreddit: string (nullable = true)\n",
      " |-- subreddit_id: string (nullable = true)\n",
      " |-- suggested_sort: string (nullable = true)\n",
      " |-- third_party_trackers: array (nullable = true)\n",
      " |    |-- element: string (containsNull = true)\n",
      " |-- third_party_tracking: string (nullable = true)\n",
      " |-- third_party_tracking_2: string (nullable = true)\n",
      " |-- thumbnail: string (nullable = true)\n",
      " |-- thumbnail_height: long (nullable = true)\n",
      " |-- thumbnail_width: long (nullable = true)\n",
      " |-- title: string (nullable = true)\n",
      " |-- url: string (nullable = true)\n",
      " |-- whitelist_status: string (nullable = true)\n",
      "\n"
     ]
    }
   ],
   "source": [
    "submissions_active.printSchema()"
   ]
  },
  {
   "cell_type": "markdown",
   "metadata": {},
   "source": [
    "Comments"
   ]
  },
  {
   "cell_type": "code",
   "execution_count": 14,
   "metadata": {},
   "outputs": [
    {
     "name": "stdout",
     "output_type": "stream",
     "text": [
      "root\n",
      " |-- author: string (nullable = true)\n",
      " |-- author_cakeday: boolean (nullable = true)\n",
      " |-- author_flair_css_class: string (nullable = true)\n",
      " |-- author_flair_text: string (nullable = true)\n",
      " |-- body: string (nullable = true)\n",
      " |-- can_gild: boolean (nullable = true)\n",
      " |-- controversiality: long (nullable = true)\n",
      " |-- created_utc: timestamp (nullable = true)\n",
      " |-- distinguished: string (nullable = true)\n",
      " |-- edited: string (nullable = true)\n",
      " |-- gilded: long (nullable = true)\n",
      " |-- id: string (nullable = true)\n",
      " |-- is_submitter: boolean (nullable = true)\n",
      " |-- link_id: string (nullable = true)\n",
      " |-- parent_id: string (nullable = true)\n",
      " |-- permalink: string (nullable = true)\n",
      " |-- retrieved_on: timestamp (nullable = true)\n",
      " |-- score: long (nullable = true)\n",
      " |-- stickied: boolean (nullable = true)\n",
      " |-- subreddit: string (nullable = true)\n",
      " |-- subreddit_id: string (nullable = true)\n",
      "\n"
     ]
    }
   ],
   "source": [
    "comments_active.printSchema()"
   ]
  },
  {
   "cell_type": "markdown",
   "metadata": {},
   "source": [
    "### 2.2 Conduct basic data quality checks! Make sure there are no missing values, check the length of the comments, and remove rows of data that might be corrupted. Even if you think all your data is perfect, you still need to demonstrate that with your analysis.\n",
    "\n"
   ]
  },
  {
   "cell_type": "code",
   "execution_count": 15,
   "metadata": {
    "tags": []
   },
   "outputs": [],
   "source": [
    "\n",
    "def check_and_remove_missing(df: DataFrame, threshold: int = 100) -> DataFrame:\n",
    "\n",
    "    # check for missing values\n",
    "    missing_values = df.select([count(when(col(c).isNull(), c)).alias(c) for c in df.columns])\n",
    "\n",
    "    # show the missing values count for each column\n",
    "    missing_values_collected = missing_values.collect()[0].asDict()\n",
    "    print(\"Missing values in each column:\")\n",
    "    \n",
    "    for column, missing_count in missing_values_collected.items():\n",
    "        print(f\"{column}: {missing_count}\")\n",
    "\n",
    "    \n",
    "    # identify columns with missing values above threshold\n",
    "    columns_to_drop = [column for column, missing_count in missing_values_collected.items() if missing_count > threshold]\n",
    "\n",
    "    # drop the identified columns from the dataframe\n",
    "    df = df.drop(*columns_to_drop)\n",
    "    \n",
    "    \n",
    "    # recalculate missing values\n",
    "    missing_values = df.select([count(when(col(c).isNull(), c)).alias(c) for c in df.columns])\n",
    "    missing_values_collected = missing_values.collect()[0].asDict()\n",
    "    \n",
    "    \n",
    "    # print updated missing values count\n",
    "    print(\"Missing values after column removal:\")\n",
    "    for column, missing_count in missing_values_collected.items():\n",
    "        print(f\"{column}: {missing_count}\")\n",
    "    \n",
    "    \n",
    "    return df\n",
    "\n"
   ]
  },
  {
   "cell_type": "code",
   "execution_count": 16,
   "metadata": {
    "tags": []
   },
   "outputs": [
    {
     "name": "stderr",
     "output_type": "stream",
     "text": [
      "                                                                                \r"
     ]
    },
    {
     "name": "stdout",
     "output_type": "stream",
     "text": [
      "Missing values in each column:\n",
      "adserver_click_url: 251492\n",
      "adserver_imp_pixel: 251492\n",
      "archived: 0\n",
      "author: 0\n",
      "author_cakeday: 251051\n",
      "author_flair_css_class: 250003\n",
      "author_flair_text: 248395\n",
      "author_id: 251492\n",
      "brand_safe: 251492\n",
      "contest_mode: 0\n",
      "created_utc: 0\n",
      "crosspost_parent: 251002\n",
      "crosspost_parent_list: 251002\n",
      "disable_comments: 251492\n",
      "distinguished: 251428\n",
      "domain: 0\n",
      "domain_override: 251492\n",
      "edited: 0\n",
      "embed_type: 251492\n",
      "embed_url: 251492\n",
      "gilded: 0\n",
      "hidden: 0\n",
      "hide_score: 0\n",
      "href_url: 251492\n",
      "id: 0\n",
      "imp_pixel: 251492\n",
      "is_crosspostable: 0\n",
      "is_reddit_media_domain: 0\n",
      "is_self: 0\n",
      "is_video: 0\n",
      "link_flair_css_class: 202787\n",
      "link_flair_text: 195369\n",
      "locked: 0\n",
      "media: 251357\n",
      "media_embed: 0\n",
      "mobile_ad_url: 251492\n",
      "num_comments: 0\n",
      "num_crossposts: 0\n",
      "original_link: 251492\n",
      "over_18: 0\n",
      "parent_whitelist_status: 0\n",
      "permalink: 0\n",
      "pinned: 0\n",
      "post_hint: 249271\n",
      "preview: 249271\n",
      "promoted: 251492\n",
      "promoted_by: 251492\n",
      "promoted_display_name: 251492\n",
      "promoted_url: 251492\n",
      "retrieved_on: 251492\n",
      "score: 0\n",
      "secure_media: 251357\n",
      "secure_media_embed: 0\n",
      "selftext: 0\n",
      "spoiler: 0\n",
      "stickied: 0\n",
      "subreddit: 0\n",
      "subreddit_id: 0\n",
      "suggested_sort: 206530\n",
      "third_party_trackers: 251492\n",
      "third_party_tracking: 251492\n",
      "third_party_tracking_2: 251492\n",
      "thumbnail: 0\n",
      "thumbnail_height: 250342\n",
      "thumbnail_width: 250342\n",
      "title: 0\n",
      "url: 0\n",
      "whitelist_status: 0\n"
     ]
    },
    {
     "name": "stderr",
     "output_type": "stream",
     "text": [
      "[Stage 11:==============================================>           (4 + 1) / 5]\r"
     ]
    },
    {
     "name": "stdout",
     "output_type": "stream",
     "text": [
      "Missing values after column removal:\n",
      "archived: 0\n",
      "author: 0\n",
      "contest_mode: 0\n",
      "created_utc: 0\n",
      "domain: 0\n",
      "edited: 0\n",
      "gilded: 0\n",
      "hidden: 0\n",
      "hide_score: 0\n",
      "id: 0\n",
      "is_crosspostable: 0\n",
      "is_reddit_media_domain: 0\n",
      "is_self: 0\n",
      "is_video: 0\n",
      "locked: 0\n",
      "media_embed: 0\n",
      "num_comments: 0\n",
      "num_crossposts: 0\n",
      "over_18: 0\n",
      "parent_whitelist_status: 0\n",
      "permalink: 0\n",
      "pinned: 0\n",
      "score: 0\n",
      "secure_media_embed: 0\n",
      "selftext: 0\n",
      "spoiler: 0\n",
      "stickied: 0\n",
      "subreddit: 0\n",
      "subreddit_id: 0\n",
      "thumbnail: 0\n",
      "title: 0\n",
      "url: 0\n",
      "whitelist_status: 0\n"
     ]
    },
    {
     "name": "stderr",
     "output_type": "stream",
     "text": [
      "                                                                                \r"
     ]
    }
   ],
   "source": [
    "submissions_active = check_and_remove_missing(submissions_active)\n",
    "\n"
   ]
  },
  {
   "cell_type": "code",
   "execution_count": 17,
   "metadata": {
    "tags": []
   },
   "outputs": [],
   "source": [
    "# turn to int for displaying\n",
    "\n",
    "columns_to_cast_submissions = [\n",
    "    \"archived\", \"contest_mode\", \"hidden\", \"hide_score\", \n",
    "    \"is_crosspostable\", \"is_reddit_media_domain\", \"is_self\",\n",
    "    \"is_video\", \"locked\", \"over_18\", \"pinned\", \"spoiler\", \"stickied\"\n",
    "]\n",
    "\n",
    "for column_name in columns_to_cast_submissions:\n",
    "    submissions_active = submissions_active.withColumn(column_name, col(column_name).cast(\"integer\"))\n",
    "\n",
    "    "
   ]
  },
  {
   "cell_type": "markdown",
   "metadata": {},
   "source": [
    "Let's remove submissions without a body should obviously go, but what about the submissions without a self text (deleted, removed or empty). We can keep where the author is empty."
   ]
  },
  {
   "cell_type": "code",
   "execution_count": 18,
   "metadata": {
    "tags": []
   },
   "outputs": [],
   "source": [
    "\n",
    "def clean_submissions(df: DataFrame) -> DataFrame:\n",
    "    \n",
    "    # define conditions\n",
    "    conditions = (col('selftext') != \"[removed]\") & (col('selftext') != \"[deleted]\") & (col('selftext').isNotNull() & (col('selftext') != \"\"))\n",
    "\n",
    "    \n",
    "    # apply filter\n",
    "    cleaned_df = df.filter(conditions)\n",
    "  \n",
    "\n",
    "    return cleaned_df\n",
    "\n",
    "\n"
   ]
  },
  {
   "cell_type": "code",
   "execution_count": 19,
   "metadata": {
    "tags": []
   },
   "outputs": [],
   "source": [
    "submissions_active = clean_submissions(submissions_active)\n"
   ]
  },
  {
   "cell_type": "code",
   "execution_count": 20,
   "metadata": {
    "tags": []
   },
   "outputs": [
    {
     "name": "stderr",
     "output_type": "stream",
     "text": [
      "                                                                                \r"
     ]
    },
    {
     "data": {
      "text/html": [
       "<div>\n",
       "<style scoped>\n",
       "    .dataframe tbody tr th:only-of-type {\n",
       "        vertical-align: middle;\n",
       "    }\n",
       "\n",
       "    .dataframe tbody tr th {\n",
       "        vertical-align: top;\n",
       "    }\n",
       "\n",
       "    .dataframe thead th {\n",
       "        text-align: right;\n",
       "    }\n",
       "</style>\n",
       "<table border=\"1\" class=\"dataframe\">\n",
       "  <thead>\n",
       "    <tr style=\"text-align: right;\">\n",
       "      <th></th>\n",
       "      <th>archived</th>\n",
       "      <th>author</th>\n",
       "      <th>contest_mode</th>\n",
       "      <th>created_utc</th>\n",
       "      <th>domain</th>\n",
       "      <th>edited</th>\n",
       "      <th>gilded</th>\n",
       "      <th>hidden</th>\n",
       "      <th>hide_score</th>\n",
       "      <th>id</th>\n",
       "      <th>is_crosspostable</th>\n",
       "      <th>is_reddit_media_domain</th>\n",
       "      <th>is_self</th>\n",
       "      <th>is_video</th>\n",
       "      <th>locked</th>\n",
       "      <th>media_embed</th>\n",
       "      <th>num_comments</th>\n",
       "      <th>num_crossposts</th>\n",
       "      <th>over_18</th>\n",
       "      <th>parent_whitelist_status</th>\n",
       "      <th>permalink</th>\n",
       "      <th>pinned</th>\n",
       "      <th>score</th>\n",
       "      <th>secure_media_embed</th>\n",
       "      <th>selftext</th>\n",
       "      <th>spoiler</th>\n",
       "      <th>stickied</th>\n",
       "      <th>subreddit</th>\n",
       "      <th>subreddit_id</th>\n",
       "      <th>thumbnail</th>\n",
       "      <th>title</th>\n",
       "      <th>url</th>\n",
       "      <th>whitelist_status</th>\n",
       "    </tr>\n",
       "  </thead>\n",
       "  <tbody>\n",
       "    <tr>\n",
       "      <th>0</th>\n",
       "      <td>0</td>\n",
       "      <td>throwaway268828</td>\n",
       "      <td>0</td>\n",
       "      <td>2021-01-01 23:34:53</td>\n",
       "      <td>self.TrueOffMyChest</td>\n",
       "      <td>false</td>\n",
       "      <td>0</td>\n",
       "      <td>0</td>\n",
       "      <td>0</td>\n",
       "      <td>kolu5v</td>\n",
       "      <td>1</td>\n",
       "      <td>0</td>\n",
       "      <td>1</td>\n",
       "      <td>0</td>\n",
       "      <td>0</td>\n",
       "      <td>(None, None, None, None)</td>\n",
       "      <td>1</td>\n",
       "      <td>0</td>\n",
       "      <td>0</td>\n",
       "      <td>some_ads</td>\n",
       "      <td>/r/TrueOffMyChest/comments/kolu5v/im_really_ti...</td>\n",
       "      <td>0</td>\n",
       "      <td>1</td>\n",
       "      <td>(None, None, None, None, None)</td>\n",
       "      <td>Hey everyone. The last couple of years have be...</td>\n",
       "      <td>0</td>\n",
       "      <td>0</td>\n",
       "      <td>TrueOffMyChest</td>\n",
       "      <td>t5_2yuqy</td>\n",
       "      <td>self</td>\n",
       "      <td>I'm really tired and not doing very well, and ...</td>\n",
       "      <td>https://www.reddit.com/r/TrueOffMyChest/commen...</td>\n",
       "      <td>some_ads</td>\n",
       "    </tr>\n",
       "    <tr>\n",
       "      <th>1</th>\n",
       "      <td>0</td>\n",
       "      <td>BioticAsariBabe</td>\n",
       "      <td>0</td>\n",
       "      <td>2021-01-01 23:35:56</td>\n",
       "      <td>self.NoStupidQuestions</td>\n",
       "      <td>false</td>\n",
       "      <td>0</td>\n",
       "      <td>0</td>\n",
       "      <td>0</td>\n",
       "      <td>koluth</td>\n",
       "      <td>1</td>\n",
       "      <td>0</td>\n",
       "      <td>1</td>\n",
       "      <td>0</td>\n",
       "      <td>0</td>\n",
       "      <td>(None, None, None, None)</td>\n",
       "      <td>2</td>\n",
       "      <td>0</td>\n",
       "      <td>0</td>\n",
       "      <td>all_ads</td>\n",
       "      <td>/r/NoStupidQuestions/comments/koluth/how_do_i_...</td>\n",
       "      <td>0</td>\n",
       "      <td>1</td>\n",
       "      <td>(None, None, None, None, None)</td>\n",
       "      <td>Hi folks, I've been diving through Google on t...</td>\n",
       "      <td>0</td>\n",
       "      <td>0</td>\n",
       "      <td>NoStupidQuestions</td>\n",
       "      <td>t5_2w844</td>\n",
       "      <td>self</td>\n",
       "      <td>How do I forward my mail when I only know the ...</td>\n",
       "      <td>https://www.reddit.com/r/NoStupidQuestions/com...</td>\n",
       "      <td>all_ads</td>\n",
       "    </tr>\n",
       "    <tr>\n",
       "      <th>2</th>\n",
       "      <td>0</td>\n",
       "      <td>Bygeorge7654</td>\n",
       "      <td>0</td>\n",
       "      <td>2021-01-01 23:36:22</td>\n",
       "      <td>self.relationship_advice</td>\n",
       "      <td>false</td>\n",
       "      <td>0</td>\n",
       "      <td>0</td>\n",
       "      <td>0</td>\n",
       "      <td>kolv3z</td>\n",
       "      <td>1</td>\n",
       "      <td>0</td>\n",
       "      <td>1</td>\n",
       "      <td>0</td>\n",
       "      <td>0</td>\n",
       "      <td>(None, None, None, None)</td>\n",
       "      <td>7</td>\n",
       "      <td>0</td>\n",
       "      <td>0</td>\n",
       "      <td>all_ads</td>\n",
       "      <td>/r/relationship_advice/comments/kolv3z/self_33...</td>\n",
       "      <td>0</td>\n",
       "      <td>1</td>\n",
       "      <td>(None, None, None, None, None)</td>\n",
       "      <td>During the relationship it was pretty one side...</td>\n",
       "      <td>0</td>\n",
       "      <td>0</td>\n",
       "      <td>relationship_advice</td>\n",
       "      <td>t5_2r0cn</td>\n",
       "      <td>self</td>\n",
       "      <td>Self [33M] and ex girlfriend [29F] sending me ...</td>\n",
       "      <td>https://www.reddit.com/r/relationship_advice/c...</td>\n",
       "      <td>all_ads</td>\n",
       "    </tr>\n",
       "    <tr>\n",
       "      <th>3</th>\n",
       "      <td>0</td>\n",
       "      <td>shortstack114811</td>\n",
       "      <td>0</td>\n",
       "      <td>2021-01-01 23:36:30</td>\n",
       "      <td>self.NoStupidQuestions</td>\n",
       "      <td>false</td>\n",
       "      <td>0</td>\n",
       "      <td>0</td>\n",
       "      <td>0</td>\n",
       "      <td>kolv71</td>\n",
       "      <td>1</td>\n",
       "      <td>0</td>\n",
       "      <td>1</td>\n",
       "      <td>0</td>\n",
       "      <td>0</td>\n",
       "      <td>(None, None, None, None)</td>\n",
       "      <td>3</td>\n",
       "      <td>0</td>\n",
       "      <td>0</td>\n",
       "      <td>all_ads</td>\n",
       "      <td>/r/NoStupidQuestions/comments/kolv71/if_i_soak...</td>\n",
       "      <td>0</td>\n",
       "      <td>1</td>\n",
       "      <td>(None, None, None, None, None)</td>\n",
       "      <td>I know it seems like such a silly question but...</td>\n",
       "      <td>0</td>\n",
       "      <td>0</td>\n",
       "      <td>NoStupidQuestions</td>\n",
       "      <td>t5_2w844</td>\n",
       "      <td>self</td>\n",
       "      <td>If I soak in a bath using Dr. Teal's hemp seed...</td>\n",
       "      <td>https://www.reddit.com/r/NoStupidQuestions/com...</td>\n",
       "      <td>all_ads</td>\n",
       "    </tr>\n",
       "    <tr>\n",
       "      <th>4</th>\n",
       "      <td>0</td>\n",
       "      <td>lucie1986</td>\n",
       "      <td>0</td>\n",
       "      <td>2021-01-01 23:37:14</td>\n",
       "      <td>self.relationship_advice</td>\n",
       "      <td>false</td>\n",
       "      <td>0</td>\n",
       "      <td>0</td>\n",
       "      <td>0</td>\n",
       "      <td>kolvo6</td>\n",
       "      <td>1</td>\n",
       "      <td>0</td>\n",
       "      <td>1</td>\n",
       "      <td>0</td>\n",
       "      <td>0</td>\n",
       "      <td>(None, None, None, None)</td>\n",
       "      <td>10</td>\n",
       "      <td>0</td>\n",
       "      <td>0</td>\n",
       "      <td>all_ads</td>\n",
       "      <td>/r/relationship_advice/comments/kolvo6/a_quest...</td>\n",
       "      <td>0</td>\n",
       "      <td>5</td>\n",
       "      <td>(None, None, None, None, None)</td>\n",
       "      <td>Am I weird for wanting a relationship where my...</td>\n",
       "      <td>0</td>\n",
       "      <td>0</td>\n",
       "      <td>relationship_advice</td>\n",
       "      <td>t5_2r0cn</td>\n",
       "      <td>self</td>\n",
       "      <td>A question for people</td>\n",
       "      <td>https://www.reddit.com/r/relationship_advice/c...</td>\n",
       "      <td>all_ads</td>\n",
       "    </tr>\n",
       "  </tbody>\n",
       "</table>\n",
       "</div>"
      ],
      "text/plain": [
       "   archived            author  contest_mode         created_utc  \\\n",
       "0         0   throwaway268828             0 2021-01-01 23:34:53   \n",
       "1         0   BioticAsariBabe             0 2021-01-01 23:35:56   \n",
       "2         0      Bygeorge7654             0 2021-01-01 23:36:22   \n",
       "3         0  shortstack114811             0 2021-01-01 23:36:30   \n",
       "4         0         lucie1986             0 2021-01-01 23:37:14   \n",
       "\n",
       "                     domain edited  gilded  hidden  hide_score      id  \\\n",
       "0       self.TrueOffMyChest  false       0       0           0  kolu5v   \n",
       "1    self.NoStupidQuestions  false       0       0           0  koluth   \n",
       "2  self.relationship_advice  false       0       0           0  kolv3z   \n",
       "3    self.NoStupidQuestions  false       0       0           0  kolv71   \n",
       "4  self.relationship_advice  false       0       0           0  kolvo6   \n",
       "\n",
       "   is_crosspostable  is_reddit_media_domain  is_self  is_video  locked  \\\n",
       "0                 1                       0        1         0       0   \n",
       "1                 1                       0        1         0       0   \n",
       "2                 1                       0        1         0       0   \n",
       "3                 1                       0        1         0       0   \n",
       "4                 1                       0        1         0       0   \n",
       "\n",
       "                media_embed  num_comments  num_crossposts  over_18  \\\n",
       "0  (None, None, None, None)             1               0        0   \n",
       "1  (None, None, None, None)             2               0        0   \n",
       "2  (None, None, None, None)             7               0        0   \n",
       "3  (None, None, None, None)             3               0        0   \n",
       "4  (None, None, None, None)            10               0        0   \n",
       "\n",
       "  parent_whitelist_status                                          permalink  \\\n",
       "0                some_ads  /r/TrueOffMyChest/comments/kolu5v/im_really_ti...   \n",
       "1                 all_ads  /r/NoStupidQuestions/comments/koluth/how_do_i_...   \n",
       "2                 all_ads  /r/relationship_advice/comments/kolv3z/self_33...   \n",
       "3                 all_ads  /r/NoStupidQuestions/comments/kolv71/if_i_soak...   \n",
       "4                 all_ads  /r/relationship_advice/comments/kolvo6/a_quest...   \n",
       "\n",
       "   pinned  score              secure_media_embed  \\\n",
       "0       0      1  (None, None, None, None, None)   \n",
       "1       0      1  (None, None, None, None, None)   \n",
       "2       0      1  (None, None, None, None, None)   \n",
       "3       0      1  (None, None, None, None, None)   \n",
       "4       0      5  (None, None, None, None, None)   \n",
       "\n",
       "                                            selftext  spoiler  stickied  \\\n",
       "0  Hey everyone. The last couple of years have be...        0         0   \n",
       "1  Hi folks, I've been diving through Google on t...        0         0   \n",
       "2  During the relationship it was pretty one side...        0         0   \n",
       "3  I know it seems like such a silly question but...        0         0   \n",
       "4  Am I weird for wanting a relationship where my...        0         0   \n",
       "\n",
       "             subreddit subreddit_id thumbnail  \\\n",
       "0       TrueOffMyChest     t5_2yuqy      self   \n",
       "1    NoStupidQuestions     t5_2w844      self   \n",
       "2  relationship_advice     t5_2r0cn      self   \n",
       "3    NoStupidQuestions     t5_2w844      self   \n",
       "4  relationship_advice     t5_2r0cn      self   \n",
       "\n",
       "                                               title  \\\n",
       "0  I'm really tired and not doing very well, and ...   \n",
       "1  How do I forward my mail when I only know the ...   \n",
       "2  Self [33M] and ex girlfriend [29F] sending me ...   \n",
       "3  If I soak in a bath using Dr. Teal's hemp seed...   \n",
       "4                              A question for people   \n",
       "\n",
       "                                                 url whitelist_status  \n",
       "0  https://www.reddit.com/r/TrueOffMyChest/commen...         some_ads  \n",
       "1  https://www.reddit.com/r/NoStupidQuestions/com...          all_ads  \n",
       "2  https://www.reddit.com/r/relationship_advice/c...          all_ads  \n",
       "3  https://www.reddit.com/r/NoStupidQuestions/com...          all_ads  \n",
       "4  https://www.reddit.com/r/relationship_advice/c...          all_ads  "
      ]
     },
     "metadata": {},
     "output_type": "display_data"
    }
   ],
   "source": [
    "display(submissions_active.limit(5).toPandas())"
   ]
  },
  {
   "cell_type": "markdown",
   "metadata": {},
   "source": [
    "Comments"
   ]
  },
  {
   "cell_type": "code",
   "execution_count": 21,
   "metadata": {
    "tags": []
   },
   "outputs": [
    {
     "name": "stderr",
     "output_type": "stream",
     "text": [
      "                                                                                \r"
     ]
    },
    {
     "name": "stdout",
     "output_type": "stream",
     "text": [
      "Missing values in each column:\n",
      "author: 0\n",
      "author_cakeday: 4109571\n",
      "author_flair_css_class: 4037493\n",
      "author_flair_text: 3523824\n",
      "body: 0\n",
      "can_gild: 0\n",
      "controversiality: 0\n",
      "created_utc: 0\n",
      "distinguished: 3994492\n",
      "edited: 0\n",
      "gilded: 0\n",
      "id: 0\n",
      "is_submitter: 0\n",
      "link_id: 0\n",
      "parent_id: 0\n",
      "permalink: 0\n",
      "retrieved_on: 0\n",
      "score: 0\n",
      "stickied: 0\n",
      "subreddit: 0\n",
      "subreddit_id: 0\n"
     ]
    },
    {
     "name": "stderr",
     "output_type": "stream",
     "text": [
      "[Stage 18:====================================================>   (14 + 1) / 15]\r"
     ]
    },
    {
     "name": "stdout",
     "output_type": "stream",
     "text": [
      "Missing values after column removal:\n",
      "author: 0\n",
      "body: 0\n",
      "can_gild: 0\n",
      "controversiality: 0\n",
      "created_utc: 0\n",
      "edited: 0\n",
      "gilded: 0\n",
      "id: 0\n",
      "is_submitter: 0\n",
      "link_id: 0\n",
      "parent_id: 0\n",
      "permalink: 0\n",
      "retrieved_on: 0\n",
      "score: 0\n",
      "stickied: 0\n",
      "subreddit: 0\n",
      "subreddit_id: 0\n"
     ]
    },
    {
     "name": "stderr",
     "output_type": "stream",
     "text": [
      "                                                                                \r"
     ]
    }
   ],
   "source": [
    "comments_active = check_and_remove_missing(comments_active)\n",
    "\n"
   ]
  },
  {
   "cell_type": "markdown",
   "metadata": {},
   "source": [
    "Now on to the comments."
   ]
  },
  {
   "cell_type": "markdown",
   "metadata": {},
   "source": [
    "Let's do the same for the body of the comments."
   ]
  },
  {
   "cell_type": "code",
   "execution_count": 22,
   "metadata": {
    "tags": []
   },
   "outputs": [],
   "source": [
    "def clean_comments(df: DataFrame) -> DataFrame:\n",
    "    \n",
    "    # define conditions\n",
    "    conditions = (col('body') != \"[removed]\") & (col('body') != \"[deleted]\") & (col('body').isNotNull() & (col('body') != \"\"))\n",
    "\n",
    "    \n",
    "    \n",
    "    # apply the filter\n",
    "    cleaned_df = df.filter(conditions)\n",
    "    \n",
    "    \n",
    "    \n",
    "    return cleaned_df\n",
    "\n",
    "\n"
   ]
  },
  {
   "cell_type": "code",
   "execution_count": 23,
   "metadata": {},
   "outputs": [],
   "source": [
    "comments_active = clean_comments(comments_active)\n"
   ]
  },
  {
   "cell_type": "code",
   "execution_count": 24,
   "metadata": {
    "tags": []
   },
   "outputs": [],
   "source": [
    "# turn to ints for displaying\n",
    "columns_to_cast_comments = [\n",
    "    \"can_gild\", \"stickied\", \"is_submitter\"\n",
    "]\n",
    "\n",
    "for column_name in columns_to_cast_comments:\n",
    "    comments_active = comments_active.withColumn(column_name, col(column_name).cast(\"integer\"))\n",
    "\n",
    "\n",
    "\n"
   ]
  },
  {
   "cell_type": "code",
   "execution_count": 25,
   "metadata": {
    "tags": []
   },
   "outputs": [
    {
     "data": {
      "text/html": [
       "<div>\n",
       "<style scoped>\n",
       "    .dataframe tbody tr th:only-of-type {\n",
       "        vertical-align: middle;\n",
       "    }\n",
       "\n",
       "    .dataframe tbody tr th {\n",
       "        vertical-align: top;\n",
       "    }\n",
       "\n",
       "    .dataframe thead th {\n",
       "        text-align: right;\n",
       "    }\n",
       "</style>\n",
       "<table border=\"1\" class=\"dataframe\">\n",
       "  <thead>\n",
       "    <tr style=\"text-align: right;\">\n",
       "      <th></th>\n",
       "      <th>author</th>\n",
       "      <th>body</th>\n",
       "      <th>can_gild</th>\n",
       "      <th>controversiality</th>\n",
       "      <th>created_utc</th>\n",
       "      <th>edited</th>\n",
       "      <th>gilded</th>\n",
       "      <th>id</th>\n",
       "      <th>is_submitter</th>\n",
       "      <th>link_id</th>\n",
       "      <th>parent_id</th>\n",
       "      <th>permalink</th>\n",
       "      <th>retrieved_on</th>\n",
       "      <th>score</th>\n",
       "      <th>stickied</th>\n",
       "      <th>subreddit</th>\n",
       "      <th>subreddit_id</th>\n",
       "    </tr>\n",
       "  </thead>\n",
       "  <tbody>\n",
       "    <tr>\n",
       "      <th>0</th>\n",
       "      <td>AnaphoricReference</td>\n",
       "      <td>Going out of his way to help or protect her. G...</td>\n",
       "      <td>1</td>\n",
       "      <td>0</td>\n",
       "      <td>2021-01-28 15:16:41</td>\n",
       "      <td>false</td>\n",
       "      <td>0</td>\n",
       "      <td>gl3matc</td>\n",
       "      <td>0</td>\n",
       "      <td>t3_l6ksq0</td>\n",
       "      <td>t3_l6ksq0</td>\n",
       "      <td>/r/AskMen/comments/l6ksq0/if_its_true_that_guy...</td>\n",
       "      <td>2021-05-29 06:04:15</td>\n",
       "      <td>3</td>\n",
       "      <td>0</td>\n",
       "      <td>AskMen</td>\n",
       "      <td>t5_2s30g</td>\n",
       "    </tr>\n",
       "    <tr>\n",
       "      <th>1</th>\n",
       "      <td>ajsmith0429</td>\n",
       "      <td>My gf doesn't like when I watch porn or am cau...</td>\n",
       "      <td>1</td>\n",
       "      <td>0</td>\n",
       "      <td>2021-01-28 15:16:41</td>\n",
       "      <td>false</td>\n",
       "      <td>0</td>\n",
       "      <td>gl3mau1</td>\n",
       "      <td>0</td>\n",
       "      <td>t3_l6okyk</td>\n",
       "      <td>t3_l6okyk</td>\n",
       "      <td>/r/unpopularopinion/comments/l6okyk/i_dont_wan...</td>\n",
       "      <td>2021-05-29 06:04:16</td>\n",
       "      <td>1</td>\n",
       "      <td>0</td>\n",
       "      <td>unpopularopinion</td>\n",
       "      <td>t5_2tk0s</td>\n",
       "    </tr>\n",
       "    <tr>\n",
       "      <th>2</th>\n",
       "      <td>laser50</td>\n",
       "      <td>A rather large portion of my family got into a...</td>\n",
       "      <td>1</td>\n",
       "      <td>0</td>\n",
       "      <td>2021-01-28 15:16:41</td>\n",
       "      <td>false</td>\n",
       "      <td>0</td>\n",
       "      <td>gl3mau5</td>\n",
       "      <td>0</td>\n",
       "      <td>t3_l6u2dm</td>\n",
       "      <td>t3_l6u2dm</td>\n",
       "      <td>/r/AmItheAsshole/comments/l6u2dm/aita_for_not_...</td>\n",
       "      <td>2021-05-29 06:04:16</td>\n",
       "      <td>1</td>\n",
       "      <td>0</td>\n",
       "      <td>AmItheAsshole</td>\n",
       "      <td>t5_2xhvq</td>\n",
       "    </tr>\n",
       "    <tr>\n",
       "      <th>3</th>\n",
       "      <td>BertTheNerd</td>\n",
       "      <td>An obvious NTA , but dont call your mum a bitc...</td>\n",
       "      <td>1</td>\n",
       "      <td>1</td>\n",
       "      <td>2021-01-28 15:16:41</td>\n",
       "      <td>1611847891</td>\n",
       "      <td>0</td>\n",
       "      <td>gl3mavc</td>\n",
       "      <td>0</td>\n",
       "      <td>t3_l6vkwf</td>\n",
       "      <td>t3_l6vkwf</td>\n",
       "      <td>/r/AmItheAsshole/comments/l6vkwf/aita_mum_call...</td>\n",
       "      <td>2021-05-29 06:04:16</td>\n",
       "      <td>0</td>\n",
       "      <td>0</td>\n",
       "      <td>AmItheAsshole</td>\n",
       "      <td>t5_2xhvq</td>\n",
       "    </tr>\n",
       "    <tr>\n",
       "      <th>4</th>\n",
       "      <td>TiaMaria-AndLucozade</td>\n",
       "      <td>Should be put down isn't literal. Doesn't chan...</td>\n",
       "      <td>1</td>\n",
       "      <td>0</td>\n",
       "      <td>2021-01-28 15:16:41</td>\n",
       "      <td>false</td>\n",
       "      <td>0</td>\n",
       "      <td>gl3mavt</td>\n",
       "      <td>0</td>\n",
       "      <td>t3_l1e1a5</td>\n",
       "      <td>t1_gl3m029</td>\n",
       "      <td>/r/unpopularopinion/comments/l1e1a5/kink_shami...</td>\n",
       "      <td>2021-05-29 06:04:16</td>\n",
       "      <td>0</td>\n",
       "      <td>0</td>\n",
       "      <td>unpopularopinion</td>\n",
       "      <td>t5_2tk0s</td>\n",
       "    </tr>\n",
       "  </tbody>\n",
       "</table>\n",
       "</div>"
      ],
      "text/plain": [
       "                 author                                               body  \\\n",
       "0    AnaphoricReference  Going out of his way to help or protect her. G...   \n",
       "1           ajsmith0429  My gf doesn't like when I watch porn or am cau...   \n",
       "2               laser50  A rather large portion of my family got into a...   \n",
       "3           BertTheNerd  An obvious NTA , but dont call your mum a bitc...   \n",
       "4  TiaMaria-AndLucozade  Should be put down isn't literal. Doesn't chan...   \n",
       "\n",
       "   can_gild  controversiality         created_utc      edited  gilded  \\\n",
       "0         1                 0 2021-01-28 15:16:41       false       0   \n",
       "1         1                 0 2021-01-28 15:16:41       false       0   \n",
       "2         1                 0 2021-01-28 15:16:41       false       0   \n",
       "3         1                 1 2021-01-28 15:16:41  1611847891       0   \n",
       "4         1                 0 2021-01-28 15:16:41       false       0   \n",
       "\n",
       "        id  is_submitter    link_id   parent_id  \\\n",
       "0  gl3matc             0  t3_l6ksq0   t3_l6ksq0   \n",
       "1  gl3mau1             0  t3_l6okyk   t3_l6okyk   \n",
       "2  gl3mau5             0  t3_l6u2dm   t3_l6u2dm   \n",
       "3  gl3mavc             0  t3_l6vkwf   t3_l6vkwf   \n",
       "4  gl3mavt             0  t3_l1e1a5  t1_gl3m029   \n",
       "\n",
       "                                           permalink        retrieved_on  \\\n",
       "0  /r/AskMen/comments/l6ksq0/if_its_true_that_guy... 2021-05-29 06:04:15   \n",
       "1  /r/unpopularopinion/comments/l6okyk/i_dont_wan... 2021-05-29 06:04:16   \n",
       "2  /r/AmItheAsshole/comments/l6u2dm/aita_for_not_... 2021-05-29 06:04:16   \n",
       "3  /r/AmItheAsshole/comments/l6vkwf/aita_mum_call... 2021-05-29 06:04:16   \n",
       "4  /r/unpopularopinion/comments/l1e1a5/kink_shami... 2021-05-29 06:04:16   \n",
       "\n",
       "   score  stickied         subreddit subreddit_id  \n",
       "0      3         0            AskMen     t5_2s30g  \n",
       "1      1         0  unpopularopinion     t5_2tk0s  \n",
       "2      1         0     AmItheAsshole     t5_2xhvq  \n",
       "3      0         0     AmItheAsshole     t5_2xhvq  \n",
       "4      0         0  unpopularopinion     t5_2tk0s  "
      ]
     },
     "metadata": {},
     "output_type": "display_data"
    }
   ],
   "source": [
    "display(comments_active.limit(5).toPandas())"
   ]
  },
  {
   "cell_type": "markdown",
   "metadata": {
    "tags": []
   },
   "source": [
    "Final shape"
   ]
  },
  {
   "cell_type": "code",
   "execution_count": 26,
   "metadata": {
    "tags": []
   },
   "outputs": [
    {
     "name": "stderr",
     "output_type": "stream",
     "text": [
      "                                                                                \r"
     ]
    },
    {
     "name": "stdout",
     "output_type": "stream",
     "text": [
      "submissions shape: (72816, 33)\n"
     ]
    },
    {
     "name": "stderr",
     "output_type": "stream",
     "text": [
      "[Stage 25:====================================================>   (14 + 1) / 15]\r"
     ]
    },
    {
     "name": "stdout",
     "output_type": "stream",
     "text": [
      "submissions shape: (3789462, 17)\n"
     ]
    },
    {
     "name": "stderr",
     "output_type": "stream",
     "text": [
      "                                                                                \r"
     ]
    }
   ],
   "source": [
    "\n",
    "print(f\"submissions shape: ({submissions_active.count()}, {len(submissions_active.columns)})\")\n",
    "print(f\"submissions shape: ({comments_active.count()}, {len(comments_active.columns)})\")\n"
   ]
  },
  {
   "cell_type": "code",
   "execution_count": 27,
   "metadata": {},
   "outputs": [
    {
     "name": "stderr",
     "output_type": "stream",
     "text": [
      "[Stage 28:==============================================>           (4 + 1) / 5]\r"
     ]
    },
    {
     "name": "stdout",
     "output_type": "stream",
     "text": [
      "+-------------------+-----+\n",
      "|          subreddit|count|\n",
      "+-------------------+-----+\n",
      "|     TrueOffMyChest| 5424|\n",
      "|   unpopularopinion| 9485|\n",
      "|           antiwork|  758|\n",
      "|       socialskills| 1925|\n",
      "|             AskMen| 1469|\n",
      "|      AmItheAsshole| 6272|\n",
      "|relationship_advice|24064|\n",
      "|  explainlikeimfive| 1849|\n",
      "|       OutOfTheLoop|  576|\n",
      "|               tifu| 1708|\n",
      "|  NoStupidQuestions|18969|\n",
      "|           AskWomen|  317|\n",
      "+-------------------+-----+\n",
      "\n"
     ]
    },
    {
     "name": "stderr",
     "output_type": "stream",
     "text": [
      "                                                                                \r"
     ]
    }
   ],
   "source": [
    "submissions_active.groupby('subreddit').count().show()\n",
    "\n"
   ]
  },
  {
   "cell_type": "markdown",
   "metadata": {},
   "source": [
    "### 2.5 Use data transformations to make AT LEAST 3 new variables that are relevant to your business questions. We cannot be more specific because this depends on your project and what you want to explore!\n",
    "\n"
   ]
  },
  {
   "cell_type": "code",
   "execution_count": 28,
   "metadata": {
    "tags": []
   },
   "outputs": [],
   "source": [
    "\n",
    "# define weights\n",
    "weight_comments = 0.5\n",
    "weight_score = 0.5\n",
    "\n",
    "\n",
    "# make the new column\n",
    "submissions_active = submissions_active.withColumn(\n",
    "    'interaction_score',\n",
    "    (col('num_comments') * weight_comments) + (col('score') * weight_score)\n",
    ")\n",
    "\n"
   ]
  },
  {
   "cell_type": "code",
   "execution_count": 29,
   "metadata": {
    "tags": []
   },
   "outputs": [
    {
     "name": "stdout",
     "output_type": "stream",
     "text": [
      "root\n",
      " |-- archived: integer (nullable = true)\n",
      " |-- author: string (nullable = true)\n",
      " |-- contest_mode: integer (nullable = true)\n",
      " |-- created_utc: timestamp (nullable = true)\n",
      " |-- domain: string (nullable = true)\n",
      " |-- edited: string (nullable = true)\n",
      " |-- gilded: long (nullable = true)\n",
      " |-- hidden: integer (nullable = true)\n",
      " |-- hide_score: integer (nullable = true)\n",
      " |-- id: string (nullable = true)\n",
      " |-- is_crosspostable: integer (nullable = true)\n",
      " |-- is_reddit_media_domain: integer (nullable = true)\n",
      " |-- is_self: integer (nullable = true)\n",
      " |-- is_video: integer (nullable = true)\n",
      " |-- locked: integer (nullable = true)\n",
      " |-- media_embed: struct (nullable = true)\n",
      " |    |-- content: string (nullable = true)\n",
      " |    |-- height: long (nullable = true)\n",
      " |    |-- scrolling: boolean (nullable = true)\n",
      " |    |-- width: long (nullable = true)\n",
      " |-- num_comments: long (nullable = true)\n",
      " |-- num_crossposts: long (nullable = true)\n",
      " |-- over_18: integer (nullable = true)\n",
      " |-- parent_whitelist_status: string (nullable = true)\n",
      " |-- permalink: string (nullable = true)\n",
      " |-- pinned: integer (nullable = true)\n",
      " |-- score: long (nullable = true)\n",
      " |-- secure_media_embed: struct (nullable = true)\n",
      " |    |-- content: string (nullable = true)\n",
      " |    |-- height: long (nullable = true)\n",
      " |    |-- media_domain_url: string (nullable = true)\n",
      " |    |-- scrolling: boolean (nullable = true)\n",
      " |    |-- width: long (nullable = true)\n",
      " |-- selftext: string (nullable = true)\n",
      " |-- spoiler: integer (nullable = true)\n",
      " |-- stickied: integer (nullable = true)\n",
      " |-- subreddit: string (nullable = true)\n",
      " |-- subreddit_id: string (nullable = true)\n",
      " |-- thumbnail: string (nullable = true)\n",
      " |-- title: string (nullable = true)\n",
      " |-- url: string (nullable = true)\n",
      " |-- whitelist_status: string (nullable = true)\n",
      " |-- comments_and_score: double (nullable = true)\n",
      "\n"
     ]
    }
   ],
   "source": [
    "# check\n",
    "submissions_active.printSchema()"
   ]
  },
  {
   "cell_type": "code",
   "execution_count": 30,
   "metadata": {
    "tags": []
   },
   "outputs": [
    {
     "name": "stdout",
     "output_type": "stream",
     "text": [
      "root\n",
      " |-- author: string (nullable = true)\n",
      " |-- body: string (nullable = true)\n",
      " |-- can_gild: integer (nullable = true)\n",
      " |-- controversiality: long (nullable = true)\n",
      " |-- created_utc: timestamp (nullable = true)\n",
      " |-- edited: string (nullable = true)\n",
      " |-- gilded: long (nullable = true)\n",
      " |-- id: string (nullable = true)\n",
      " |-- is_submitter: integer (nullable = true)\n",
      " |-- link_id: string (nullable = true)\n",
      " |-- parent_id: string (nullable = true)\n",
      " |-- permalink: string (nullable = true)\n",
      " |-- retrieved_on: timestamp (nullable = true)\n",
      " |-- score: long (nullable = true)\n",
      " |-- stickied: integer (nullable = true)\n",
      " |-- subreddit: string (nullable = true)\n",
      " |-- subreddit_id: string (nullable = true)\n",
      " |-- week_of_year: integer (nullable = true)\n",
      " |-- hour_of_day: integer (nullable = true)\n",
      "\n"
     ]
    }
   ],
   "source": [
    "\n",
    "# make new cols\n",
    "comments_active = comments_active.withColumn('week_of_year', F.weekofyear('created_utc'))\n",
    "comments_active = comments_active.withColumn('hour_of_day', F.hour('created_utc'))\n",
    "\n",
    "# check\n",
    "comments_active.printSchema()"
   ]
  },
  {
   "cell_type": "markdown",
   "metadata": {},
   "source": [
    "### 2.3 Produce at least 5 interesting graphs about your dataset. Think about the dimensions that are interesting for your Reddit data! There are millions of choices. Make sure your graphs are connected to your business questions.\n",
    "\n"
   ]
  },
  {
   "cell_type": "markdown",
   "metadata": {},
   "source": [
    "Topic 1"
   ]
  },
  {
   "cell_type": "code",
   "execution_count": 31,
   "metadata": {},
   "outputs": [
    {
     "name": "stderr",
     "output_type": "stream",
     "text": [
      "[Stage 31:==============================================>           (4 + 1) / 5]\r"
     ]
    },
    {
     "name": "stdout",
     "output_type": "stream",
     "text": [
      "+-------+-----+\n",
      "|over_18|count|\n",
      "+-------+-----+\n",
      "|      1| 1181|\n",
      "|      0|71635|\n",
      "+-------+-----+\n",
      "\n"
     ]
    },
    {
     "name": "stderr",
     "output_type": "stream",
     "text": [
      "                                                                                \r"
     ]
    }
   ],
   "source": [
    "submissions_active.groupby('over_18').count().show()\n"
   ]
  },
  {
   "cell_type": "code",
   "execution_count": 32,
   "metadata": {
    "tags": []
   },
   "outputs": [
    {
     "name": "stderr",
     "output_type": "stream",
     "text": [
      "                                                                                \r"
     ]
    }
   ],
   "source": [
    "# get true cases for over_18\n",
    "true_count = submissions_active.filter(col('over_18') == 1).count()\n",
    "\n",
    "# sample the same number of false cases\n",
    "false_count = submissions_active.filter(col('over_18') == 0).count()\n",
    "fraction = true_count / false_count\n",
    "\n",
    "sampled_false = submissions_active.filter(col('over_18') == 0).sample(withReplacement=False, fraction=fraction, seed=42)\n",
    "sampled_false = sampled_false.limit(true_count)\n",
    "\n",
    "\n",
    "# combine\n",
    "combined = submissions_active.filter(col('over_18') == 1).unionAll(sampled_false)\n",
    "\n"
   ]
  },
  {
   "cell_type": "code",
   "execution_count": 33,
   "metadata": {
    "tags": []
   },
   "outputs": [
    {
     "name": "stderr",
     "output_type": "stream",
     "text": [
      "                                                                                \r"
     ]
    }
   ],
   "source": [
    "# convert combined Spark DataFrame to pandas\n",
    "pandas_df = combined.toPandas()\n",
    "\n",
    "# ensure 'over_18' is a string\n",
    "pandas_df['over_18'] = pandas_df['over_18'].map({0: 'False', 1: 'True'})\n",
    "\n",
    "\n",
    "# remove rows with more than 200 comments\n",
    "#pandas_df = pandas_df[pandas_df['num_comments'] <= 200]\n",
    "\n",
    "\n",
    "# save\n",
    "pandas_df.to_csv('../../data/eda-plots/box-plot-nsfw-data.csv', index=False)\n",
    "\n",
    "\n"
   ]
  },
  {
   "cell_type": "code",
   "execution_count": 34,
   "metadata": {
    "tags": []
   },
   "outputs": [
    {
     "data": {
      "text/plain": [
       "<Figure size 1000x600 with 0 Axes>"
      ]
     },
     "metadata": {},
     "output_type": "display_data"
    },
    {
     "data": {
      "image/png": "[encoded data removed]",
      "text/plain": [
       "<Figure size 640x480 with 1 Axes>"
      ]
     },
     "metadata": {},
     "output_type": "display_data"
    }
   ],
   "source": [
    "\n",
    "# simple plot for checking the data\n",
    "plt.figure(figsize=(10, 6))\n",
    "ax = pandas_df.boxplot(by='over_18', column=['num_comments'], grid=False)\n",
    "\n",
    "# format\n",
    "ax.set_title('Box Plot of Scores by Over 18 Status')\n",
    "ax.set_xlabel('Over 18 Status')\n",
    "ax.set_ylabel('Comments')\n",
    "plt.suptitle('') \n",
    "\n",
    "# show\n",
    "plt.show()\n"
   ]
  },
  {
   "cell_type": "code",
   "execution_count": 35,
   "metadata": {
    "tags": []
   },
   "outputs": [
    {
     "data": {
      "text/plain": [
       "<Figure size 1000x600 with 0 Axes>"
      ]
     },
     "metadata": {},
     "output_type": "display_data"
    },
    {
     "data": {
      "image/png": "[encoded data removed]",
      "text/plain": [
       "<Figure size 640x480 with 1 Axes>"
      ]
     },
     "metadata": {},
     "output_type": "display_data"
    }
   ],
   "source": [
    "# simple plot for checking the data\n",
    "plt.figure(figsize=(10, 6))\n",
    "ax = pandas_df.boxplot(by='over_18', column=['interaction_score'], grid=False)\n",
    "\n",
    "# format\n",
    "ax.set_title('Box Plot of Scores by Over 18 Status')\n",
    "ax.set_xlabel('Over 18 Status')\n",
    "ax.set_ylabel('Comments and Score')\n",
    "plt.suptitle('') \n",
    "\n",
    "# show\n",
    "plt.show()"
   ]
  },
  {
   "cell_type": "code",
   "execution_count": 36,
   "metadata": {
    "tags": []
   },
   "outputs": [
    {
     "name": "stdout",
     "output_type": "stream",
     "text": [
      "Counts for 'over_18' in the DataFrame:\n",
      "True     1181\n",
      "False    1181\n",
      "Name: over_18, dtype: int64\n"
     ]
    }
   ],
   "source": [
    "# check\n",
    "counts = pandas_df['over_18'].value_counts()\n",
    "print(\"Counts for 'over_18' in the DataFrame:\")\n",
    "print(counts)\n"
   ]
  },
  {
   "cell_type": "code",
   "execution_count": null,
   "metadata": {},
   "outputs": [],
   "source": []
  },
  {
   "cell_type": "markdown",
   "metadata": {},
   "source": [
    "Topic 2"
   ]
  },
  {
   "cell_type": "code",
   "execution_count": 37,
   "metadata": {
    "tags": []
   },
   "outputs": [
    {
     "name": "stderr",
     "output_type": "stream",
     "text": [
      "                                                                                \r"
     ]
    }
   ],
   "source": [
    "\n",
    "# group by 'subreddit' and calculate the mean of 'num_comments' and 'score'\n",
    "subreddit_means = submissions_active.groupBy('subreddit') \\\n",
    "                                    .agg(F.mean('num_comments').alias('mean_num_comments'), \n",
    "                                         F.mean('score').alias('mean_score'))\n",
    "\n",
    "# convert to pandas\n",
    "pandas_df_means = subreddit_means.toPandas()\n",
    "\n",
    "# ensure the 'subreddit' is treated as a category\n",
    "pandas_df_means['subreddit'] = pandas_df_means['subreddit'].astype('category')\n",
    "\n",
    "# save data\n",
    "pandas_df_means.to_csv('../../data/eda-plots/mean-comments-vs-mean-score-data.csv', index=False)\n",
    "\n",
    "\n"
   ]
  },
  {
   "cell_type": "code",
   "execution_count": 38,
   "metadata": {},
   "outputs": [
    {
     "data": {
      "image/png": "[encoded data removed]",
      "text/plain": [
       "<Figure size 1200x800 with 1 Axes>"
      ]
     },
     "metadata": {},
     "output_type": "display_data"
    }
   ],
   "source": [
    "\n",
    "# basic plot for checking data\n",
    "plt.figure(figsize=(12, 8))\n",
    "scatter_plot = sns.scatterplot(data=pandas_df_means, \n",
    "                               x='mean_num_comments', \n",
    "                               y='mean_score', \n",
    "                               hue='subreddit')\n",
    "\n",
    "# format\n",
    "scatter_plot.set_title('Scatter Plot of Mean Comments vs. Mean Score, Hued by Subreddit')\n",
    "scatter_plot.set_xlabel('Mean Number of Comments')\n",
    "scatter_plot.set_ylabel('Mean Score')\n",
    "plt.legend(title='Subreddit', loc='upper right')\n",
    "\n",
    "\n",
    "# show\n",
    "plt.show()\n",
    "\n"
   ]
  },
  {
   "cell_type": "markdown",
   "metadata": {},
   "source": [
    "Topic 3"
   ]
  },
  {
   "cell_type": "code",
   "execution_count": 39,
   "metadata": {
    "tags": []
   },
   "outputs": [
    {
     "name": "stderr",
     "output_type": "stream",
     "text": [
      "                                                                                \r"
     ]
    }
   ],
   "source": [
    "\n",
    "# filter out before Jan 3rd, 2021 and it will be considered week 53 of 2020\n",
    "comments_active = comments_active.filter(to_date(col('created_utc')) > lit('2021-01-03'))\n",
    "\n",
    "\n",
    "# group and pivot\n",
    "comments_grouped = comments_active.groupBy('week_of_year', 'hour_of_day').count()\n",
    "comments_pivot = comments_grouped.groupBy('week_of_year').pivot('hour_of_day').avg('count').orderBy('week_of_year')\n",
    "\n",
    "# convert to pandas\n",
    "comments_pivot_df = comments_pivot.toPandas().set_index('week_of_year')\n",
    "\n",
    "\n",
    "# save\n",
    "comments_pivot_df.to_csv('../../data/eda-plots/average-comments-hour-and-week-data.csv', index=True)\n",
    "\n"
   ]
  },
  {
   "cell_type": "code",
   "execution_count": 40,
   "metadata": {
    "tags": []
   },
   "outputs": [
    {
     "data": {
      "image/png": "[encoded data removed]",
      "text/plain": [
       "<Figure size 1500x1000 with 2 Axes>"
      ]
     },
     "metadata": {},
     "output_type": "display_data"
    }
   ],
   "source": [
    "# basic plot for checking data\n",
    "plt.figure(figsize=(15, 10))\n",
    "sns.heatmap(comments_pivot_df, cmap='viridis')\n",
    "plt.title('Average Number of Comments per Hour and Week of the Year')\n",
    "plt.xlabel('Hour of Day')\n",
    "plt.ylabel('Week of the Year')\n",
    "plt.show()\n",
    "\n"
   ]
  },
  {
   "cell_type": "markdown",
   "metadata": {},
   "source": [
    "### 2.4 Produce at least 3 interesting summary tables about your dataset. You can decide how to split up your data into categories, time slices, etc. There are infinite ways you can make summary statistics. Be unique, creative, and interesting!\n",
    "\n"
   ]
  },
  {
   "cell_type": "code",
   "execution_count": 41,
   "metadata": {},
   "outputs": [
    {
     "name": "stderr",
     "output_type": "stream",
     "text": [
      "[Stage 65:==============================================>           (4 + 1) / 5]\r"
     ]
    },
    {
     "name": "stdout",
     "output_type": "stream",
     "text": [
      "+-------------------+-----------------------+\n",
      "|          subreddit|correlation_coefficient|\n",
      "+-------------------+-----------------------+\n",
      "|     TrueOffMyChest|     0.8545432276488629|\n",
      "|   unpopularopinion|      0.843296536142201|\n",
      "|           antiwork|     0.8068856199690001|\n",
      "|       socialskills|      0.834382506259139|\n",
      "|             AskMen|     0.8468371697875884|\n",
      "|      AmItheAsshole|     0.8104258004972631|\n",
      "|relationship_advice|     0.7381668983737222|\n",
      "|  explainlikeimfive|     0.8527938151180964|\n",
      "|       OutOfTheLoop|     0.9203358971690881|\n",
      "|               tifu|      0.931179178568243|\n",
      "|  NoStupidQuestions|     0.7273653903052063|\n",
      "|           AskWomen|     0.8411305643519686|\n",
      "+-------------------+-----------------------+\n",
      "\n"
     ]
    },
    {
     "name": "stderr",
     "output_type": "stream",
     "text": [
      "                                                                                \r"
     ]
    }
   ],
   "source": [
    "# calculate correlations\n",
    "correlation_by_subreddit = submissions_active.groupBy('subreddit') \\\n",
    "                                             .agg(corr(col('num_comments'), col('score')).alias('correlation_coefficient'))\n",
    "correlation_by_subreddit.show()\n",
    "\n",
    "\n",
    "# pd and save\n",
    "pandas_df_correlation_table = correlation_by_subreddit.toPandas()\n",
    "pandas_df_correlation_table.to_csv('../../data/eda-plots/correlation_by_subreddit.csv', index=False)\n"
   ]
  },
  {
   "cell_type": "markdown",
   "metadata": {},
   "source": [
    "### 2.6 Implement regex searches for specific keywords of interest to produce dummy variables and then make statistics that are related to your business questions. Note, that you DO NOT have to do textual cleaning of the data at this point. The next assignment on NLP will focus on the textual cleaning and analysis aspect.\n",
    "\n"
   ]
  },
  {
   "cell_type": "code",
   "execution_count": 43,
   "metadata": {},
   "outputs": [
    {
     "name": "stderr",
     "output_type": "stream",
     "text": [
      "[Stage 77:====================================================>   (14 + 1) / 15]\r"
     ]
    },
    {
     "name": "stdout",
     "output_type": "stream",
     "text": [
      "  fascinating entertaining   boring\n",
      "        count        count    count\n",
      "1        2180         1877     6473\n",
      "0     3417116      3417419  3412823\n"
     ]
    },
    {
     "name": "stderr",
     "output_type": "stream",
     "text": [
      "                                                                                \r"
     ]
    }
   ],
   "source": [
    "\n",
    "keywords = ['fascinating', 'entertaining', 'boring']\n",
    "combined_counts = {}\n",
    "\n",
    "# init dataframe not work on original\n",
    "comments_active_dummies = comments_active\n",
    "\n",
    "\n",
    "# create dummies\n",
    "for keyword in keywords:\n",
    "    comments_active_dummies = comments_active_dummies.withColumn(\n",
    "        keyword, \n",
    "        (regexp_extract(col('body'), f'\\\\b{keyword}\\\\b', 0) != '').cast('integer')\n",
    "    )\n",
    "\n",
    "\n",
    "\n",
    "# loop through keyworkds, get count and collect\n",
    "for keyword in keywords:\n",
    "    count_df = comments_active_dummies.groupBy(keyword).count().toPandas()\n",
    "    count_df.set_index(keyword, inplace=True)  # Set the keyword column as the index\n",
    "    combined_counts[keyword] = count_df\n",
    "\n",
    "    \n",
    "# concat\n",
    "combined_df = pd.concat(combined_counts.values(), axis=1, keys=combined_counts.keys())\n",
    "\n",
    "# check\n",
    "print(combined_df)\n",
    "\n",
    "\n",
    "# save data\n",
    "\n",
    "combined_df.to_csv('../../data/eda-plots/dummies_keywords_count.csv')\n",
    "\n"
   ]
  },
  {
   "cell_type": "markdown",
   "metadata": {},
   "source": [
    "### 2.7 Find some type of external data to join onto your Reddit data. Don’t know what to pick? Consider a time-related dataset. Stock prices, game details over time, active users on a platform, sports scores, covid cases, etc., etc. While you may not need to join this external data with your entire dataset, you must have at least one analysis that connects to external data. You do not have to join the external data and analyze it yet, just find it.\n",
    "\n"
   ]
  },
  {
   "cell_type": "markdown",
   "metadata": {},
   "source": [
    "### If you are planning to make any custom datasets that are derived from your Reddit data, make them now. These datasets might be graph-focused, or maybe they are time series focused, it is completely up to you!"
   ]
  }
 ],
 "metadata": {
  "availableInstances": [
   {
    "_defaultOrder": 0,
    "_isFastLaunch": true,
    "category": "General purpose",
    "gpuNum": 0,
    "hideHardwareSpecs": false,
    "memoryGiB": 4,
    "name": "ml.t3.medium",
    "vcpuNum": 2
   },
   {
    "_defaultOrder": 1,
    "_isFastLaunch": false,
    "category": "General purpose",
    "gpuNum": 0,
    "hideHardwareSpecs": false,
    "memoryGiB": 8,
    "name": "ml.t3.large",
    "vcpuNum": 2
   },
   {
    "_defaultOrder": 2,
    "_isFastLaunch": false,
    "category": "General purpose",
    "gpuNum": 0,
    "hideHardwareSpecs": false,
    "memoryGiB": 16,
    "name": "ml.t3.xlarge",
    "vcpuNum": 4
   },
   {
    "_defaultOrder": 3,
    "_isFastLaunch": false,
    "category": "General purpose",
    "gpuNum": 0,
    "hideHardwareSpecs": false,
    "memoryGiB": 32,
    "name": "ml.t3.2xlarge",
    "vcpuNum": 8
   },
   {
    "_defaultOrder": 4,
    "_isFastLaunch": true,
    "category": "General purpose",
    "gpuNum": 0,
    "hideHardwareSpecs": false,
    "memoryGiB": 8,
    "name": "ml.m5.large",
    "vcpuNum": 2
   },
   {
    "_defaultOrder": 5,
    "_isFastLaunch": false,
    "category": "General purpose",
    "gpuNum": 0,
    "hideHardwareSpecs": false,
    "memoryGiB": 16,
    "name": "ml.m5.xlarge",
    "vcpuNum": 4
   },
   {
    "_defaultOrder": 6,
    "_isFastLaunch": false,
    "category": "General purpose",
    "gpuNum": 0,
    "hideHardwareSpecs": false,
    "memoryGiB": 32,
    "name": "ml.m5.2xlarge",
    "vcpuNum": 8
   },
   {
    "_defaultOrder": 7,
    "_isFastLaunch": false,
    "category": "General purpose",
    "gpuNum": 0,
    "hideHardwareSpecs": false,
    "memoryGiB": 64,
    "name": "ml.m5.4xlarge",
    "vcpuNum": 16
   },
   {
    "_defaultOrder": 8,
    "_isFastLaunch": false,
    "category": "General purpose",
    "gpuNum": 0,
    "hideHardwareSpecs": false,
    "memoryGiB": 128,
    "name": "ml.m5.8xlarge",
    "vcpuNum": 32
   },
   {
    "_defaultOrder": 9,
    "_isFastLaunch": false,
    "category": "General purpose",
    "gpuNum": 0,
    "hideHardwareSpecs": false,
    "memoryGiB": 192,
    "name": "ml.m5.12xlarge",
    "vcpuNum": 48
   },
   {
    "_defaultOrder": 10,
    "_isFastLaunch": false,
    "category": "General purpose",
    "gpuNum": 0,
    "hideHardwareSpecs": false,
    "memoryGiB": 256,
    "name": "ml.m5.16xlarge",
    "vcpuNum": 64
   },
   {
    "_defaultOrder": 11,
    "_isFastLaunch": false,
    "category": "General purpose",
    "gpuNum": 0,
    "hideHardwareSpecs": false,
    "memoryGiB": 384,
    "name": "ml.m5.24xlarge",
    "vcpuNum": 96
   },
   {
    "_defaultOrder": 12,
    "_isFastLaunch": false,
    "category": "General purpose",
    "gpuNum": 0,
    "hideHardwareSpecs": false,
    "memoryGiB": 8,
    "name": "ml.m5d.large",
    "vcpuNum": 2
   },
   {
    "_defaultOrder": 13,
    "_isFastLaunch": false,
    "category": "General purpose",
    "gpuNum": 0,
    "hideHardwareSpecs": false,
    "memoryGiB": 16,
    "name": "ml.m5d.xlarge",
    "vcpuNum": 4
   },
   {
    "_defaultOrder": 14,
    "_isFastLaunch": false,
    "category": "General purpose",
    "gpuNum": 0,
    "hideHardwareSpecs": false,
    "memoryGiB": 32,
    "name": "ml.m5d.2xlarge",
    "vcpuNum": 8
   },
   {
    "_defaultOrder": 15,
    "_isFastLaunch": false,
    "category": "General purpose",
    "gpuNum": 0,
    "hideHardwareSpecs": false,
    "memoryGiB": 64,
    "name": "ml.m5d.4xlarge",
    "vcpuNum": 16
   },
   {
    "_defaultOrder": 16,
    "_isFastLaunch": false,
    "category": "General purpose",
    "gpuNum": 0,
    "hideHardwareSpecs": false,
    "memoryGiB": 128,
    "name": "ml.m5d.8xlarge",
    "vcpuNum": 32
   },
   {
    "_defaultOrder": 17,
    "_isFastLaunch": false,
    "category": "General purpose",
    "gpuNum": 0,
    "hideHardwareSpecs": false,
    "memoryGiB": 192,
    "name": "ml.m5d.12xlarge",
    "vcpuNum": 48
   },
   {
    "_defaultOrder": 18,
    "_isFastLaunch": false,
    "category": "General purpose",
    "gpuNum": 0,
    "hideHardwareSpecs": false,
    "memoryGiB": 256,
    "name": "ml.m5d.16xlarge",
    "vcpuNum": 64
   },
   {
    "_defaultOrder": 19,
    "_isFastLaunch": false,
    "category": "General purpose",
    "gpuNum": 0,
    "hideHardwareSpecs": false,
    "memoryGiB": 384,
    "name": "ml.m5d.24xlarge",
    "vcpuNum": 96
   },
   {
    "_defaultOrder": 20,
    "_isFastLaunch": false,
    "category": "General purpose",
    "gpuNum": 0,
    "hideHardwareSpecs": true,
    "memoryGiB": 0,
    "name": "ml.geospatial.interactive",
    "supportedImageNames": [
     "sagemaker-geospatial-v1-0"
    ],
    "vcpuNum": 0
   },
   {
    "_defaultOrder": 21,
    "_isFastLaunch": true,
    "category": "Compute optimized",
    "gpuNum": 0,
    "hideHardwareSpecs": false,
    "memoryGiB": 4,
    "name": "ml.c5.large",
    "vcpuNum": 2
   },
   {
    "_defaultOrder": 22,
    "_isFastLaunch": false,
    "category": "Compute optimized",
    "gpuNum": 0,
    "hideHardwareSpecs": false,
    "memoryGiB": 8,
    "name": "ml.c5.xlarge",
    "vcpuNum": 4
   },
   {
    "_defaultOrder": 23,
    "_isFastLaunch": false,
    "category": "Compute optimized",
    "gpuNum": 0,
    "hideHardwareSpecs": false,
    "memoryGiB": 16,
    "name": "ml.c5.2xlarge",
    "vcpuNum": 8
   },
   {
    "_defaultOrder": 24,
    "_isFastLaunch": false,
    "category": "Compute optimized",
    "gpuNum": 0,
    "hideHardwareSpecs": false,
    "memoryGiB": 32,
    "name": "ml.c5.4xlarge",
    "vcpuNum": 16
   },
   {
    "_defaultOrder": 25,
    "_isFastLaunch": false,
    "category": "Compute optimized",
    "gpuNum": 0,
    "hideHardwareSpecs": false,
    "memoryGiB": 72,
    "name": "ml.c5.9xlarge",
    "vcpuNum": 36
   },
   {
    "_defaultOrder": 26,
    "_isFastLaunch": false,
    "category": "Compute optimized",
    "gpuNum": 0,
    "hideHardwareSpecs": false,
    "memoryGiB": 96,
    "name": "ml.c5.12xlarge",
    "vcpuNum": 48
   },
   {
    "_defaultOrder": 27,
    "_isFastLaunch": false,
    "category": "Compute optimized",
    "gpuNum": 0,
    "hideHardwareSpecs": false,
    "memoryGiB": 144,
    "name": "ml.c5.18xlarge",
    "vcpuNum": 72
   },
   {
    "_defaultOrder": 28,
    "_isFastLaunch": false,
    "category": "Compute optimized",
    "gpuNum": 0,
    "hideHardwareSpecs": false,
    "memoryGiB": 192,
    "name": "ml.c5.24xlarge",
    "vcpuNum": 96
   },
   {
    "_defaultOrder": 29,
    "_isFastLaunch": true,
    "category": "Accelerated computing",
    "gpuNum": 1,
    "hideHardwareSpecs": false,
    "memoryGiB": 16,
    "name": "ml.g4dn.xlarge",
    "vcpuNum": 4
   },
   {
    "_defaultOrder": 30,
    "_isFastLaunch": false,
    "category": "Accelerated computing",
    "gpuNum": 1,
    "hideHardwareSpecs": false,
    "memoryGiB": 32,
    "name": "ml.g4dn.2xlarge",
    "vcpuNum": 8
   },
   {
    "_defaultOrder": 31,
    "_isFastLaunch": false,
    "category": "Accelerated computing",
    "gpuNum": 1,
    "hideHardwareSpecs": false,
    "memoryGiB": 64,
    "name": "ml.g4dn.4xlarge",
    "vcpuNum": 16
   },
   {
    "_defaultOrder": 32,
    "_isFastLaunch": false,
    "category": "Accelerated computing",
    "gpuNum": 1,
    "hideHardwareSpecs": false,
    "memoryGiB": 128,
    "name": "ml.g4dn.8xlarge",
    "vcpuNum": 32
   },
   {
    "_defaultOrder": 33,
    "_isFastLaunch": false,
    "category": "Accelerated computing",
    "gpuNum": 4,
    "hideHardwareSpecs": false,
    "memoryGiB": 192,
    "name": "ml.g4dn.12xlarge",
    "vcpuNum": 48
   },
   {
    "_defaultOrder": 34,
    "_isFastLaunch": false,
    "category": "Accelerated computing",
    "gpuNum": 1,
    "hideHardwareSpecs": false,
    "memoryGiB": 256,
    "name": "ml.g4dn.16xlarge",
    "vcpuNum": 64
   },
   {
    "_defaultOrder": 35,
    "_isFastLaunch": false,
    "category": "Accelerated computing",
    "gpuNum": 1,
    "hideHardwareSpecs": false,
    "memoryGiB": 61,
    "name": "ml.p3.2xlarge",
    "vcpuNum": 8
   },
   {
    "_defaultOrder": 36,
    "_isFastLaunch": false,
    "category": "Accelerated computing",
    "gpuNum": 4,
    "hideHardwareSpecs": false,
    "memoryGiB": 244,
    "name": "ml.p3.8xlarge",
    "vcpuNum": 32
   },
   {
    "_defaultOrder": 37,
    "_isFastLaunch": false,
    "category": "Accelerated computing",
    "gpuNum": 8,
    "hideHardwareSpecs": false,
    "memoryGiB": 488,
    "name": "ml.p3.16xlarge",
    "vcpuNum": 64
   },
   {
    "_defaultOrder": 38,
    "_isFastLaunch": false,
    "category": "Accelerated computing",
    "gpuNum": 8,
    "hideHardwareSpecs": false,
    "memoryGiB": 768,
    "name": "ml.p3dn.24xlarge",
    "vcpuNum": 96
   },
   {
    "_defaultOrder": 39,
    "_isFastLaunch": false,
    "category": "Memory Optimized",
    "gpuNum": 0,
    "hideHardwareSpecs": false,
    "memoryGiB": 16,
    "name": "ml.r5.large",
    "vcpuNum": 2
   },
   {
    "_defaultOrder": 40,
    "_isFastLaunch": false,
    "category": "Memory Optimized",
    "gpuNum": 0,
    "hideHardwareSpecs": false,
    "memoryGiB": 32,
    "name": "ml.r5.xlarge",
    "vcpuNum": 4
   },
   {
    "_defaultOrder": 41,
    "_isFastLaunch": false,
    "category": "Memory Optimized",
    "gpuNum": 0,
    "hideHardwareSpecs": false,
    "memoryGiB": 64,
    "name": "ml.r5.2xlarge",
    "vcpuNum": 8
   },
   {
    "_defaultOrder": 42,
    "_isFastLaunch": false,
    "category": "Memory Optimized",
    "gpuNum": 0,
    "hideHardwareSpecs": false,
    "memoryGiB": 128,
    "name": "ml.r5.4xlarge",
    "vcpuNum": 16
   },
   {
    "_defaultOrder": 43,
    "_isFastLaunch": false,
    "category": "Memory Optimized",
    "gpuNum": 0,
    "hideHardwareSpecs": false,
    "memoryGiB": 256,
    "name": "ml.r5.8xlarge",
    "vcpuNum": 32
   },
   {
    "_defaultOrder": 44,
    "_isFastLaunch": false,
    "category": "Memory Optimized",
    "gpuNum": 0,
    "hideHardwareSpecs": false,
    "memoryGiB": 384,
    "name": "ml.r5.12xlarge",
    "vcpuNum": 48
   },
   {
    "_defaultOrder": 45,
    "_isFastLaunch": false,
    "category": "Memory Optimized",
    "gpuNum": 0,
    "hideHardwareSpecs": false,
    "memoryGiB": 512,
    "name": "ml.r5.16xlarge",
    "vcpuNum": 64
   },
   {
    "_defaultOrder": 46,
    "_isFastLaunch": false,
    "category": "Memory Optimized",
    "gpuNum": 0,
    "hideHardwareSpecs": false,
    "memoryGiB": 768,
    "name": "ml.r5.24xlarge",
    "vcpuNum": 96
   },
   {
    "_defaultOrder": 47,
    "_isFastLaunch": false,
    "category": "Accelerated computing",
    "gpuNum": 1,
    "hideHardwareSpecs": false,
    "memoryGiB": 16,
    "name": "ml.g5.xlarge",
    "vcpuNum": 4
   },
   {
    "_defaultOrder": 48,
    "_isFastLaunch": false,
    "category": "Accelerated computing",
    "gpuNum": 1,
    "hideHardwareSpecs": false,
    "memoryGiB": 32,
    "name": "ml.g5.2xlarge",
    "vcpuNum": 8
   },
   {
    "_defaultOrder": 49,
    "_isFastLaunch": false,
    "category": "Accelerated computing",
    "gpuNum": 1,
    "hideHardwareSpecs": false,
    "memoryGiB": 64,
    "name": "ml.g5.4xlarge",
    "vcpuNum": 16
   },
   {
    "_defaultOrder": 50,
    "_isFastLaunch": false,
    "category": "Accelerated computing",
    "gpuNum": 1,
    "hideHardwareSpecs": false,
    "memoryGiB": 128,
    "name": "ml.g5.8xlarge",
    "vcpuNum": 32
   },
   {
    "_defaultOrder": 51,
    "_isFastLaunch": false,
    "category": "Accelerated computing",
    "gpuNum": 1,
    "hideHardwareSpecs": false,
    "memoryGiB": 256,
    "name": "ml.g5.16xlarge",
    "vcpuNum": 64
   },
   {
    "_defaultOrder": 52,
    "_isFastLaunch": false,
    "category": "Accelerated computing",
    "gpuNum": 4,
    "hideHardwareSpecs": false,
    "memoryGiB": 192,
    "name": "ml.g5.12xlarge",
    "vcpuNum": 48
   },
   {
    "_defaultOrder": 53,
    "_isFastLaunch": false,
    "category": "Accelerated computing",
    "gpuNum": 4,
    "hideHardwareSpecs": false,
    "memoryGiB": 384,
    "name": "ml.g5.24xlarge",
    "vcpuNum": 96
   },
   {
    "_defaultOrder": 54,
    "_isFastLaunch": false,
    "category": "Accelerated computing",
    "gpuNum": 8,
    "hideHardwareSpecs": false,
    "memoryGiB": 768,
    "name": "ml.g5.48xlarge",
    "vcpuNum": 192
   },
   {
    "_defaultOrder": 55,
    "_isFastLaunch": false,
    "category": "Accelerated computing",
    "gpuNum": 8,
    "hideHardwareSpecs": false,
    "memoryGiB": 1152,
    "name": "ml.p4d.24xlarge",
    "vcpuNum": 96
   },
   {
    "_defaultOrder": 56,
    "_isFastLaunch": false,
    "category": "Accelerated computing",
    "gpuNum": 8,
    "hideHardwareSpecs": false,
    "memoryGiB": 1152,
    "name": "ml.p4de.24xlarge",
    "vcpuNum": 96
   },
   {
    "_defaultOrder": 57,
    "_isFastLaunch": false,
    "category": "Accelerated computing",
    "gpuNum": 0,
    "hideHardwareSpecs": false,
    "memoryGiB": 32,
    "name": "ml.trn1.2xlarge",
    "vcpuNum": 8
   },
   {
    "_defaultOrder": 58,
    "_isFastLaunch": false,
    "category": "Accelerated computing",
    "gpuNum": 0,
    "hideHardwareSpecs": false,
    "memoryGiB": 512,
    "name": "ml.trn1.32xlarge",
    "vcpuNum": 128
   },
   {
    "_defaultOrder": 59,
    "_isFastLaunch": false,
    "category": "Accelerated computing",
    "gpuNum": 0,
    "hideHardwareSpecs": false,
    "memoryGiB": 512,
    "name": "ml.trn1n.32xlarge",
    "vcpuNum": 128
   }
  ],
  "instance_type": "ml.t3.large",
  "kernelspec": {
   "display_name": "Python 3 (Data Science 3.0)",
   "language": "python",
   "name": "python3__SAGEMAKER_INTERNAL__arn:aws:sagemaker:us-east-1:081325390199:image/sagemaker-data-science-310-v1"
  },
  "language_info": {
   "codemirror_mode": {
    "name": "ipython",
    "version": 3
   },
   "file_extension": ".py",
   "mimetype": "text/x-python",
   "name": "python",
   "nbconvert_exporter": "python",
   "pygments_lexer": "ipython3",
   "version": "3.10.6"
  }
 },
 "nbformat": 4,
 "nbformat_minor": 4
}
