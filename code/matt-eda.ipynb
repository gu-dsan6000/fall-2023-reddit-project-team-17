{
 "cells": [
  {
   "cell_type": "markdown",
   "metadata": {},
   "source": [
    "## Setup\n",
    "\n",
    "Here, we install JDK and set the proper paths using conda."
   ]
  },
  {
   "cell_type": "code",
   "execution_count": null,
   "metadata": {
    "tags": []
   },
   "outputs": [],
   "source": [
    "# Setup - Run only once per Kernel App\n",
    "%conda install openjdk -y\n",
    "\n",
    "# install PySpark\n",
    "%pip install pyspark==3.3.0\n",
    "\n",
    "# restart kernel\n",
    "from IPython.core.display import HTML\n",
    "HTML(\"<script>Jupyter.notebook.kernel.restart()</script>\")"
   ]
  },
  {
   "cell_type": "markdown",
   "metadata": {},
   "source": [
    "## Start the Spark Session\n",
    "\n",
    "Here, we start the `spark` session."
   ]
  },
  {
   "cell_type": "code",
   "execution_count": null,
   "metadata": {
    "tags": []
   },
   "outputs": [],
   "source": [
    "# Import pyspark and build Spark session\n",
    "from pyspark.sql import SparkSession\n",
    "\n",
    "spark = (\n",
    "    SparkSession.builder.appName(\"PySparkApp\")\n",
    "    .config(\"spark.jars.packages\", \"org.apache.hadoop:hadoop-aws:3.2.2\")\n",
    "    .config(\n",
    "        \"fs.s3a.aws.credentials.provider\",\n",
    "        \"com.amazonaws.auth.ContainerCredentialsProvider\",\n",
    "    )\n",
    "    .getOrCreate()\n",
    ")\n",
    "\n",
    "print(spark.version)"
   ]
  },
  {
   "cell_type": "markdown",
   "metadata": {},
   "source": [
    "## Test Reading in Data from Shared Bucket\n",
    "\n",
    "Here, we try to read in a file that Alex created in our shared bucket, to ensure that someone in the group can read a file that is owned by someone else."
   ]
  },
  {
   "cell_type": "code",
   "execution_count": 4,
   "metadata": {
    "tags": []
   },
   "outputs": [
    {
     "name": "stdout",
     "output_type": "stream",
     "text": [
      "23/11/08 02:45:11 WARN MetricsConfig: Cannot locate configuration: tried hadoop-metrics2-s3a-file-system.properties,hadoop-metrics2.properties\n"
     ]
    },
    {
     "name": "stderr",
     "output_type": "stream",
     "text": [
      "[Stage 0:>                                                          (0 + 1) / 1]\r"
     ]
    },
    {
     "name": "stdout",
     "output_type": "stream",
     "text": [
      "+--------------------+\n",
      "|               value|\n",
      "+--------------------+\n",
      "| Possible EDA Ideas:|\n",
      "|                    |\n",
      "|1. For reddit pos...|\n",
      "|                    |\n",
      "|2. We could analy...|\n",
      "|                    |\n",
      "|3. This is more o...|\n",
      "|                    |\n",
      "|4. Videos posted ...|\n",
      "+--------------------+\n",
      "\n",
      "CPU times: user 5.75 ms, sys: 3.47 ms, total: 9.22 ms\n",
      "Wall time: 8.3 s\n"
     ]
    },
    {
     "name": "stderr",
     "output_type": "stream",
     "text": [
      "                                                                                \r"
     ]
    }
   ],
   "source": [
    "%%time\n",
    "t = spark.read.text(\n",
    "    \"s3a://project17-bucket-alex/eda_ideas.txt\"\n",
    ")\n",
    "t.show()"
   ]
  },
  {
   "cell_type": "markdown",
   "metadata": {},
   "source": [
    "## Test Writing Data into Shared Bucket\n",
    "\n",
    "Here, we try to write a small data frame into the shared bucket."
   ]
  },
  {
   "cell_type": "code",
   "execution_count": 28,
   "metadata": {
    "tags": []
   },
   "outputs": [
    {
     "name": "stderr",
     "output_type": "stream",
     "text": [
      "[Stage 37:>                                                         (0 + 1) / 1]\r"
     ]
    },
    {
     "name": "stdout",
     "output_type": "stream",
     "text": [
      "+--------+---+-----+------+\n",
      "|Category| ID|Truth| Value|\n",
      "+--------+---+-----+------+\n",
      "|       A|  1| true|121.44|\n",
      "|       B|  2|false|300.01|\n",
      "|       C|  3| null| 10.99|\n",
      "|       E|  4| true| 33.87|\n",
      "+--------+---+-----+------+\n",
      "\n",
      "CPU times: user 631 ms, sys: 62.4 ms, total: 693 ms\n",
      "Wall time: 2.03 s\n"
     ]
    },
    {
     "name": "stderr",
     "output_type": "stream",
     "text": [
      "                                                                                \r"
     ]
    }
   ],
   "source": [
    "%%time\n",
    "\n",
    "data = [{\"Category\": 'A', \"ID\": 1, \"Value\": 121.44, \"Truth\": True},\n",
    "        {\"Category\": 'B', \"ID\": 2, \"Value\": 300.01, \"Truth\": False},\n",
    "        {\"Category\": 'C', \"ID\": 3, \"Value\": 10.99, \"Truth\": None},\n",
    "        {\"Category\": 'E', \"ID\": 4, \"Value\": 33.87, \"Truth\": True}\n",
    "        ]\n",
    "\n",
    "df = spark.createDataFrame(data)\n",
    "df.show()"
   ]
  },
  {
   "cell_type": "code",
   "execution_count": 29,
   "metadata": {
    "tags": []
   },
   "outputs": [
    {
     "name": "stdout",
     "output_type": "stream",
     "text": [
      "23/11/08 03:11:23 WARN AbstractS3ACommitterFactory: Using standard FileOutputCommitter to commit work. This is slow and potentially unsafe.\n",
      "23/11/08 03:11:23 WARN AbstractS3ACommitterFactory: Using standard FileOutputCommitter to commit work. This is slow and potentially unsafe.\n",
      "23/11/08 03:11:23 WARN AbstractS3ACommitterFactory: Using standard FileOutputCommitter to commit work. This is slow and potentially unsafe.\n"
     ]
    },
    {
     "name": "stderr",
     "output_type": "stream",
     "text": [
      "                                                                                \r"
     ]
    }
   ],
   "source": [
    "df.write.csv(\n",
    "    \"s3a://project17-bucket-alex/matt-test-csv.csv\"\n",
    ")"
   ]
  },
  {
   "cell_type": "markdown",
   "metadata": {},
   "source": [
    "## Read in the Data\n",
    "\n",
    "Here, now that we have our shared bucket configured properly, we can read our filtered project data."
   ]
  },
  {
   "cell_type": "markdown",
   "metadata": {},
   "source": [
    "### Comments - Read the Data"
   ]
  },
  {
   "cell_type": "code",
   "execution_count": 5,
   "metadata": {
    "tags": []
   },
   "outputs": [
    {
     "name": "stderr",
     "output_type": "stream",
     "text": [
      "[Stage 2:>                                                          (0 + 1) / 1]\r"
     ]
    },
    {
     "name": "stdout",
     "output_type": "stream",
     "text": [
      "CPU times: user 21.3 ms, sys: 2.84 ms, total: 24.2 ms\n",
      "Wall time: 6.99 s\n"
     ]
    },
    {
     "name": "stderr",
     "output_type": "stream",
     "text": [
      "                                                                                \r"
     ]
    }
   ],
   "source": [
    "%%time\n",
    "comments = spark.read.parquet(\n",
    "    's3a://project17-bucket-alex/project_jan2021/comments/*.parquet',\n",
    "    header = True\n",
    ")"
   ]
  },
  {
   "cell_type": "markdown",
   "metadata": {},
   "source": [
    "### Comments - View the Data"
   ]
  },
  {
   "cell_type": "code",
   "execution_count": 6,
   "metadata": {
    "tags": []
   },
   "outputs": [
    {
     "name": "stderr",
     "output_type": "stream",
     "text": [
      "[Stage 3:>                                                          (0 + 1) / 1]\r"
     ]
    },
    {
     "name": "stdout",
     "output_type": "stream",
     "text": [
      "+-------------------+--------------------+--------------------+----------+---------+-------+-------------------+\n",
      "|          subreddit|              author|                body| parent_id|  link_id|     id|        created_utc|\n",
      "+-------------------+--------------------+--------------------+----------+---------+-------+-------------------+\n",
      "|             AskMen|  AnaphoricReference|Going out of his ...| t3_l6ksq0|t3_l6ksq0|gl3matc|2021-01-28 15:16:41|\n",
      "|   unpopularopinion|         ajsmith0429|My gf doesn't lik...| t3_l6okyk|t3_l6okyk|gl3mau1|2021-01-28 15:16:41|\n",
      "|      AmItheAsshole|             laser50|A rather large po...| t3_l6u2dm|t3_l6u2dm|gl3mau5|2021-01-28 15:16:41|\n",
      "|      AmItheAsshole|         BertTheNerd|An obvious NTA , ...| t3_l6vkwf|t3_l6vkwf|gl3mavc|2021-01-28 15:16:41|\n",
      "|   unpopularopinion|TiaMaria-AndLucozade|Should be put dow...|t1_gl3m029|t3_l1e1a5|gl3mavt|2021-01-28 15:16:41|\n",
      "|      AmItheAsshole|     throwRA_ShareIt|It's her choice, ...|t1_gl3lx60|t3_l6vpgn|gl3mb82|2021-01-28 15:16:44|\n",
      "|relationship_advice|           [deleted]|           [deleted]|t1_gl2zf7d|t3_l6va4r|gl3mba8|2021-01-28 15:16:45|\n",
      "|      AmItheAsshole| Ecstatic-Product-69|Dude you’re so NT...| t3_l6u2dm|t3_l6u2dm|gl3mbe7|2021-01-28 15:16:45|\n",
      "|   unpopularopinion|      thinkingsimian|Good luck. Goldma...| t3_l6quwo|t3_l6quwo|gl3mbf4|2021-01-28 15:16:46|\n",
      "|             AskMen|           yuhmutha1|Are people not sa...| t3_l6wbyr|t3_l6wbyr|gl3mbkz|2021-01-28 15:16:47|\n",
      "+-------------------+--------------------+--------------------+----------+---------+-------+-------------------+\n",
      "only showing top 10 rows\n",
      "\n"
     ]
    },
    {
     "name": "stderr",
     "output_type": "stream",
     "text": [
      "                                                                                \r"
     ]
    }
   ],
   "source": [
    "comments.select(['subreddit', 'author', 'body', 'parent_id', 'link_id', 'id', 'created_utc']).show(10)"
   ]
  },
  {
   "cell_type": "markdown",
   "metadata": {},
   "source": [
    "### Comments - Print the Shape of the Data"
   ]
  },
  {
   "cell_type": "code",
   "execution_count": 7,
   "metadata": {
    "tags": []
   },
   "outputs": [
    {
     "name": "stderr",
     "output_type": "stream",
     "text": [
      "                                                                                \r"
     ]
    },
    {
     "data": {
      "text/plain": [
       "(4122561, 21)"
      ]
     },
     "execution_count": 7,
     "metadata": {},
     "output_type": "execute_result"
    }
   ],
   "source": [
    "comments.count(), len(comments.columns)"
   ]
  },
  {
   "cell_type": "markdown",
   "metadata": {},
   "source": [
    "### Comments - Print the Schema"
   ]
  },
  {
   "cell_type": "code",
   "execution_count": 8,
   "metadata": {
    "tags": []
   },
   "outputs": [
    {
     "name": "stdout",
     "output_type": "stream",
     "text": [
      "root\n",
      " |-- author: string (nullable = true)\n",
      " |-- author_cakeday: boolean (nullable = true)\n",
      " |-- author_flair_css_class: string (nullable = true)\n",
      " |-- author_flair_text: string (nullable = true)\n",
      " |-- body: string (nullable = true)\n",
      " |-- can_gild: boolean (nullable = true)\n",
      " |-- controversiality: long (nullable = true)\n",
      " |-- created_utc: timestamp (nullable = true)\n",
      " |-- distinguished: string (nullable = true)\n",
      " |-- edited: string (nullable = true)\n",
      " |-- gilded: long (nullable = true)\n",
      " |-- id: string (nullable = true)\n",
      " |-- is_submitter: boolean (nullable = true)\n",
      " |-- link_id: string (nullable = true)\n",
      " |-- parent_id: string (nullable = true)\n",
      " |-- permalink: string (nullable = true)\n",
      " |-- retrieved_on: timestamp (nullable = true)\n",
      " |-- score: long (nullable = true)\n",
      " |-- stickied: boolean (nullable = true)\n",
      " |-- subreddit: string (nullable = true)\n",
      " |-- subreddit_id: string (nullable = true)\n",
      "\n"
     ]
    }
   ],
   "source": [
    "comments.printSchema()"
   ]
  },
  {
   "cell_type": "markdown",
   "metadata": {},
   "source": [
    "### Submissions - Read the Data"
   ]
  },
  {
   "cell_type": "code",
   "execution_count": 9,
   "metadata": {
    "tags": []
   },
   "outputs": [
    {
     "name": "stderr",
     "output_type": "stream",
     "text": [
      "                                                                                \r"
     ]
    },
    {
     "name": "stdout",
     "output_type": "stream",
     "text": [
      "23/11/08 02:48:22 WARN package: Truncated the string representation of a plan since it was too large. This behavior can be adjusted by setting 'spark.sql.debug.maxToStringFields'.\n",
      "CPU times: user 7.3 ms, sys: 3.56 ms, total: 10.9 ms\n",
      "Wall time: 2.68 s\n"
     ]
    }
   ],
   "source": [
    "%%time\n",
    "submissions = spark.read.parquet(\n",
    "    's3a://project17-bucket-alex/project_jan2021/submissions/*.parquet',\n",
    "    header = True\n",
    ")"
   ]
  },
  {
   "cell_type": "markdown",
   "metadata": {},
   "source": [
    "### Submissions - View the Data"
   ]
  },
  {
   "cell_type": "code",
   "execution_count": 10,
   "metadata": {
    "tags": []
   },
   "outputs": [
    {
     "name": "stdout",
     "output_type": "stream",
     "text": [
      "+-------------------+---------------+--------------------+--------------------+-------------------+------------+\n",
      "|          subreddit|         author|               title|            selftext|        created_utc|num_comments|\n",
      "+-------------------+---------------+--------------------+--------------------+-------------------+------------+\n",
      "|relationship_advice|      [deleted]|I feel like my pa...|           [deleted]|2021-01-01 23:34:26|           5|\n",
      "|      AmItheAsshole|    WiseSeason0|AITA for asking m...|           [removed]|2021-01-01 23:34:34|           1|\n",
      "|     TrueOffMyChest|throwaway268828|I'm really tired ...|Hey everyone. The...|2021-01-01 23:34:53|           1|\n",
      "|             AskMen|      [deleted]|Ditched by a guy ...|           [removed]|2021-01-01 23:34:56|           0|\n",
      "|   unpopularopinion|      [deleted]|Marijuana is the ...|           [removed]|2021-01-01 23:34:58|           2|\n",
      "|   unpopularopinion|      [deleted]|If the roads are ...|           [removed]|2021-01-01 23:35:10|           0|\n",
      "|relationship_advice|ThrowRA29484993|Me and my gf are ...|           [removed]|2021-01-01 23:35:29|           1|\n",
      "|relationship_advice|      [deleted]|I (25f) don't fin...|           [removed]|2021-01-01 23:35:53|           1|\n",
      "|           AskWomen|      [deleted]|Cis ladies in str...|           [removed]|2021-01-01 23:35:54|           1|\n",
      "|  NoStupidQuestions|BioticAsariBabe|How do I forward ...|Hi folks, I've be...|2021-01-01 23:35:56|           2|\n",
      "+-------------------+---------------+--------------------+--------------------+-------------------+------------+\n",
      "only showing top 10 rows\n",
      "\n"
     ]
    }
   ],
   "source": [
    "submissions.select(['subreddit', 'author', 'title', 'selftext', 'created_utc', 'num_comments']).show(10)"
   ]
  },
  {
   "cell_type": "markdown",
   "metadata": {},
   "source": [
    "### Submissions - Print the Shape of the Data"
   ]
  },
  {
   "cell_type": "code",
   "execution_count": 11,
   "metadata": {
    "tags": []
   },
   "outputs": [
    {
     "name": "stderr",
     "output_type": "stream",
     "text": [
      "                                                                                \r"
     ]
    },
    {
     "data": {
      "text/plain": [
       "(251492, 68)"
      ]
     },
     "execution_count": 11,
     "metadata": {},
     "output_type": "execute_result"
    }
   ],
   "source": [
    "submissions.count(), len(submissions.columns)"
   ]
  },
  {
   "cell_type": "markdown",
   "metadata": {},
   "source": [
    "### Submissions - Print the Schema"
   ]
  },
  {
   "cell_type": "code",
   "execution_count": 12,
   "metadata": {
    "tags": []
   },
   "outputs": [
    {
     "name": "stdout",
     "output_type": "stream",
     "text": [
      "root\n",
      " |-- adserver_click_url: string (nullable = true)\n",
      " |-- adserver_imp_pixel: string (nullable = true)\n",
      " |-- archived: boolean (nullable = true)\n",
      " |-- author: string (nullable = true)\n",
      " |-- author_cakeday: boolean (nullable = true)\n",
      " |-- author_flair_css_class: string (nullable = true)\n",
      " |-- author_flair_text: string (nullable = true)\n",
      " |-- author_id: string (nullable = true)\n",
      " |-- brand_safe: boolean (nullable = true)\n",
      " |-- contest_mode: boolean (nullable = true)\n",
      " |-- created_utc: timestamp (nullable = true)\n",
      " |-- crosspost_parent: string (nullable = true)\n",
      " |-- crosspost_parent_list: array (nullable = true)\n",
      " |    |-- element: struct (containsNull = true)\n",
      " |    |    |-- approved_at_utc: string (nullable = true)\n",
      " |    |    |-- approved_by: string (nullable = true)\n",
      " |    |    |-- archived: boolean (nullable = true)\n",
      " |    |    |-- author: string (nullable = true)\n",
      " |    |    |-- author_flair_css_class: string (nullable = true)\n",
      " |    |    |-- author_flair_text: string (nullable = true)\n",
      " |    |    |-- banned_at_utc: string (nullable = true)\n",
      " |    |    |-- banned_by: string (nullable = true)\n",
      " |    |    |-- brand_safe: boolean (nullable = true)\n",
      " |    |    |-- can_gild: boolean (nullable = true)\n",
      " |    |    |-- can_mod_post: boolean (nullable = true)\n",
      " |    |    |-- clicked: boolean (nullable = true)\n",
      " |    |    |-- contest_mode: boolean (nullable = true)\n",
      " |    |    |-- created: double (nullable = true)\n",
      " |    |    |-- created_utc: double (nullable = true)\n",
      " |    |    |-- distinguished: string (nullable = true)\n",
      " |    |    |-- domain: string (nullable = true)\n",
      " |    |    |-- downs: long (nullable = true)\n",
      " |    |    |-- edited: boolean (nullable = true)\n",
      " |    |    |-- gilded: long (nullable = true)\n",
      " |    |    |-- hidden: boolean (nullable = true)\n",
      " |    |    |-- hide_score: boolean (nullable = true)\n",
      " |    |    |-- id: string (nullable = true)\n",
      " |    |    |-- is_crosspostable: boolean (nullable = true)\n",
      " |    |    |-- is_reddit_media_domain: boolean (nullable = true)\n",
      " |    |    |-- is_self: boolean (nullable = true)\n",
      " |    |    |-- is_video: boolean (nullable = true)\n",
      " |    |    |-- likes: string (nullable = true)\n",
      " |    |    |-- link_flair_css_class: string (nullable = true)\n",
      " |    |    |-- link_flair_text: string (nullable = true)\n",
      " |    |    |-- locked: boolean (nullable = true)\n",
      " |    |    |-- media: string (nullable = true)\n",
      " |    |    |-- mod_reports: array (nullable = true)\n",
      " |    |    |    |-- element: string (containsNull = true)\n",
      " |    |    |-- name: string (nullable = true)\n",
      " |    |    |-- num_comments: long (nullable = true)\n",
      " |    |    |-- num_crossposts: long (nullable = true)\n",
      " |    |    |-- num_reports: string (nullable = true)\n",
      " |    |    |-- over_18: boolean (nullable = true)\n",
      " |    |    |-- parent_whitelist_status: string (nullable = true)\n",
      " |    |    |-- permalink: string (nullable = true)\n",
      " |    |    |-- pinned: boolean (nullable = true)\n",
      " |    |    |-- quarantine: boolean (nullable = true)\n",
      " |    |    |-- removal_reason: string (nullable = true)\n",
      " |    |    |-- report_reasons: string (nullable = true)\n",
      " |    |    |-- saved: boolean (nullable = true)\n",
      " |    |    |-- score: long (nullable = true)\n",
      " |    |    |-- secure_media: string (nullable = true)\n",
      " |    |    |-- selftext: string (nullable = true)\n",
      " |    |    |-- selftext_html: string (nullable = true)\n",
      " |    |    |-- spoiler: boolean (nullable = true)\n",
      " |    |    |-- stickied: boolean (nullable = true)\n",
      " |    |    |-- subreddit: string (nullable = true)\n",
      " |    |    |-- subreddit_id: string (nullable = true)\n",
      " |    |    |-- subreddit_name_prefixed: string (nullable = true)\n",
      " |    |    |-- subreddit_type: string (nullable = true)\n",
      " |    |    |-- suggested_sort: string (nullable = true)\n",
      " |    |    |-- thumbnail: string (nullable = true)\n",
      " |    |    |-- thumbnail_height: string (nullable = true)\n",
      " |    |    |-- thumbnail_width: string (nullable = true)\n",
      " |    |    |-- title: string (nullable = true)\n",
      " |    |    |-- ups: long (nullable = true)\n",
      " |    |    |-- url: string (nullable = true)\n",
      " |    |    |-- user_reports: array (nullable = true)\n",
      " |    |    |    |-- element: string (containsNull = true)\n",
      " |    |    |-- view_count: string (nullable = true)\n",
      " |    |    |-- visited: boolean (nullable = true)\n",
      " |    |    |-- whitelist_status: string (nullable = true)\n",
      " |-- disable_comments: boolean (nullable = true)\n",
      " |-- distinguished: string (nullable = true)\n",
      " |-- domain: string (nullable = true)\n",
      " |-- domain_override: string (nullable = true)\n",
      " |-- edited: string (nullable = true)\n",
      " |-- embed_type: string (nullable = true)\n",
      " |-- embed_url: string (nullable = true)\n",
      " |-- gilded: long (nullable = true)\n",
      " |-- hidden: boolean (nullable = true)\n",
      " |-- hide_score: boolean (nullable = true)\n",
      " |-- href_url: string (nullable = true)\n",
      " |-- id: string (nullable = true)\n",
      " |-- imp_pixel: string (nullable = true)\n",
      " |-- is_crosspostable: boolean (nullable = true)\n",
      " |-- is_reddit_media_domain: boolean (nullable = true)\n",
      " |-- is_self: boolean (nullable = true)\n",
      " |-- is_video: boolean (nullable = true)\n",
      " |-- link_flair_css_class: string (nullable = true)\n",
      " |-- link_flair_text: string (nullable = true)\n",
      " |-- locked: boolean (nullable = true)\n",
      " |-- media: struct (nullable = true)\n",
      " |    |-- event_id: string (nullable = true)\n",
      " |    |-- oembed: struct (nullable = true)\n",
      " |    |    |-- author_name: string (nullable = true)\n",
      " |    |    |-- author_url: string (nullable = true)\n",
      " |    |    |-- cache_age: long (nullable = true)\n",
      " |    |    |-- description: string (nullable = true)\n",
      " |    |    |-- height: long (nullable = true)\n",
      " |    |    |-- html: string (nullable = true)\n",
      " |    |    |-- provider_name: string (nullable = true)\n",
      " |    |    |-- provider_url: string (nullable = true)\n",
      " |    |    |-- thumbnail_height: long (nullable = true)\n",
      " |    |    |-- thumbnail_url: string (nullable = true)\n",
      " |    |    |-- thumbnail_width: long (nullable = true)\n",
      " |    |    |-- title: string (nullable = true)\n",
      " |    |    |-- type: string (nullable = true)\n",
      " |    |    |-- url: string (nullable = true)\n",
      " |    |    |-- version: string (nullable = true)\n",
      " |    |    |-- width: long (nullable = true)\n",
      " |    |-- reddit_video: struct (nullable = true)\n",
      " |    |    |-- dash_url: string (nullable = true)\n",
      " |    |    |-- duration: long (nullable = true)\n",
      " |    |    |-- fallback_url: string (nullable = true)\n",
      " |    |    |-- height: long (nullable = true)\n",
      " |    |    |-- hls_url: string (nullable = true)\n",
      " |    |    |-- is_gif: boolean (nullable = true)\n",
      " |    |    |-- scrubber_media_url: string (nullable = true)\n",
      " |    |    |-- transcoding_status: string (nullable = true)\n",
      " |    |    |-- width: long (nullable = true)\n",
      " |    |-- type: string (nullable = true)\n",
      " |-- media_embed: struct (nullable = true)\n",
      " |    |-- content: string (nullable = true)\n",
      " |    |-- height: long (nullable = true)\n",
      " |    |-- scrolling: boolean (nullable = true)\n",
      " |    |-- width: long (nullable = true)\n",
      " |-- mobile_ad_url: string (nullable = true)\n",
      " |-- num_comments: long (nullable = true)\n",
      " |-- num_crossposts: long (nullable = true)\n",
      " |-- original_link: string (nullable = true)\n",
      " |-- over_18: boolean (nullable = true)\n",
      " |-- parent_whitelist_status: string (nullable = true)\n",
      " |-- permalink: string (nullable = true)\n",
      " |-- pinned: boolean (nullable = true)\n",
      " |-- post_hint: string (nullable = true)\n",
      " |-- preview: struct (nullable = true)\n",
      " |    |-- enabled: boolean (nullable = true)\n",
      " |    |-- images: array (nullable = true)\n",
      " |    |    |-- element: struct (containsNull = true)\n",
      " |    |    |    |-- id: string (nullable = true)\n",
      " |    |    |    |-- resolutions: array (nullable = true)\n",
      " |    |    |    |    |-- element: struct (containsNull = true)\n",
      " |    |    |    |    |    |-- height: long (nullable = true)\n",
      " |    |    |    |    |    |-- url: string (nullable = true)\n",
      " |    |    |    |    |    |-- width: long (nullable = true)\n",
      " |    |    |    |-- source: struct (nullable = true)\n",
      " |    |    |    |    |-- height: long (nullable = true)\n",
      " |    |    |    |    |-- url: string (nullable = true)\n",
      " |    |    |    |    |-- width: long (nullable = true)\n",
      " |    |    |    |-- variants: struct (nullable = true)\n",
      " |    |    |    |    |-- gif: struct (nullable = true)\n",
      " |    |    |    |    |    |-- resolutions: array (nullable = true)\n",
      " |    |    |    |    |    |    |-- element: struct (containsNull = true)\n",
      " |    |    |    |    |    |    |    |-- height: long (nullable = true)\n",
      " |    |    |    |    |    |    |    |-- url: string (nullable = true)\n",
      " |    |    |    |    |    |    |    |-- width: long (nullable = true)\n",
      " |    |    |    |    |    |-- source: struct (nullable = true)\n",
      " |    |    |    |    |    |    |-- height: long (nullable = true)\n",
      " |    |    |    |    |    |    |-- url: string (nullable = true)\n",
      " |    |    |    |    |    |    |-- width: long (nullable = true)\n",
      " |    |    |    |    |-- mp4: struct (nullable = true)\n",
      " |    |    |    |    |    |-- resolutions: array (nullable = true)\n",
      " |    |    |    |    |    |    |-- element: struct (containsNull = true)\n",
      " |    |    |    |    |    |    |    |-- height: long (nullable = true)\n",
      " |    |    |    |    |    |    |    |-- url: string (nullable = true)\n",
      " |    |    |    |    |    |    |    |-- width: long (nullable = true)\n",
      " |    |    |    |    |    |-- source: struct (nullable = true)\n",
      " |    |    |    |    |    |    |-- height: long (nullable = true)\n",
      " |    |    |    |    |    |    |-- url: string (nullable = true)\n",
      " |    |    |    |    |    |    |-- width: long (nullable = true)\n",
      " |    |    |    |    |-- nsfw: struct (nullable = true)\n",
      " |    |    |    |    |    |-- resolutions: array (nullable = true)\n",
      " |    |    |    |    |    |    |-- element: struct (containsNull = true)\n",
      " |    |    |    |    |    |    |    |-- height: long (nullable = true)\n",
      " |    |    |    |    |    |    |    |-- url: string (nullable = true)\n",
      " |    |    |    |    |    |    |    |-- width: long (nullable = true)\n",
      " |    |    |    |    |    |-- source: struct (nullable = true)\n",
      " |    |    |    |    |    |    |-- height: long (nullable = true)\n",
      " |    |    |    |    |    |    |-- url: string (nullable = true)\n",
      " |    |    |    |    |    |    |-- width: long (nullable = true)\n",
      " |    |    |    |    |-- obfuscated: struct (nullable = true)\n",
      " |    |    |    |    |    |-- resolutions: array (nullable = true)\n",
      " |    |    |    |    |    |    |-- element: struct (containsNull = true)\n",
      " |    |    |    |    |    |    |    |-- height: long (nullable = true)\n",
      " |    |    |    |    |    |    |    |-- url: string (nullable = true)\n",
      " |    |    |    |    |    |    |    |-- width: long (nullable = true)\n",
      " |    |    |    |    |    |-- source: struct (nullable = true)\n",
      " |    |    |    |    |    |    |-- height: long (nullable = true)\n",
      " |    |    |    |    |    |    |-- url: string (nullable = true)\n",
      " |    |    |    |    |    |    |-- width: long (nullable = true)\n",
      " |-- promoted: boolean (nullable = true)\n",
      " |-- promoted_by: string (nullable = true)\n",
      " |-- promoted_display_name: string (nullable = true)\n",
      " |-- promoted_url: string (nullable = true)\n",
      " |-- retrieved_on: timestamp (nullable = true)\n",
      " |-- score: long (nullable = true)\n",
      " |-- secure_media: struct (nullable = true)\n",
      " |    |-- event_id: string (nullable = true)\n",
      " |    |-- oembed: struct (nullable = true)\n",
      " |    |    |-- author_name: string (nullable = true)\n",
      " |    |    |-- author_url: string (nullable = true)\n",
      " |    |    |-- cache_age: long (nullable = true)\n",
      " |    |    |-- description: string (nullable = true)\n",
      " |    |    |-- height: long (nullable = true)\n",
      " |    |    |-- html: string (nullable = true)\n",
      " |    |    |-- provider_name: string (nullable = true)\n",
      " |    |    |-- provider_url: string (nullable = true)\n",
      " |    |    |-- thumbnail_height: long (nullable = true)\n",
      " |    |    |-- thumbnail_url: string (nullable = true)\n",
      " |    |    |-- thumbnail_width: long (nullable = true)\n",
      " |    |    |-- title: string (nullable = true)\n",
      " |    |    |-- type: string (nullable = true)\n",
      " |    |    |-- url: string (nullable = true)\n",
      " |    |    |-- version: string (nullable = true)\n",
      " |    |    |-- width: long (nullable = true)\n",
      " |    |-- type: string (nullable = true)\n",
      " |-- secure_media_embed: struct (nullable = true)\n",
      " |    |-- content: string (nullable = true)\n",
      " |    |-- height: long (nullable = true)\n",
      " |    |-- media_domain_url: string (nullable = true)\n",
      " |    |-- scrolling: boolean (nullable = true)\n",
      " |    |-- width: long (nullable = true)\n",
      " |-- selftext: string (nullable = true)\n",
      " |-- spoiler: boolean (nullable = true)\n",
      " |-- stickied: boolean (nullable = true)\n",
      " |-- subreddit: string (nullable = true)\n",
      " |-- subreddit_id: string (nullable = true)\n",
      " |-- suggested_sort: string (nullable = true)\n",
      " |-- third_party_trackers: array (nullable = true)\n",
      " |    |-- element: string (containsNull = true)\n",
      " |-- third_party_tracking: string (nullable = true)\n",
      " |-- third_party_tracking_2: string (nullable = true)\n",
      " |-- thumbnail: string (nullable = true)\n",
      " |-- thumbnail_height: long (nullable = true)\n",
      " |-- thumbnail_width: long (nullable = true)\n",
      " |-- title: string (nullable = true)\n",
      " |-- url: string (nullable = true)\n",
      " |-- whitelist_status: string (nullable = true)\n",
      "\n"
     ]
    }
   ],
   "source": [
    "submissions.printSchema()"
   ]
  },
  {
   "cell_type": "markdown",
   "metadata": {},
   "source": [
    "## Explore the Data"
   ]
  },
  {
   "cell_type": "markdown",
   "metadata": {},
   "source": [
    "### Comments - Value Counts by Subreddit\n",
    "\n",
    "Here, we see how many comments we obtained across our twelve subreddits."
   ]
  },
  {
   "cell_type": "code",
   "execution_count": 13,
   "metadata": {
    "tags": []
   },
   "outputs": [
    {
     "name": "stderr",
     "output_type": "stream",
     "text": [
      "[Stage 13:====================================================>   (14 + 1) / 15]\r"
     ]
    },
    {
     "name": "stdout",
     "output_type": "stream",
     "text": [
      "+-------------------+-------+\n",
      "|          subreddit|  count|\n",
      "+-------------------+-------+\n",
      "|      AmItheAsshole|1363161|\n",
      "|relationship_advice| 725527|\n",
      "|   unpopularopinion| 687764|\n",
      "|  NoStupidQuestions| 377907|\n",
      "|             AskMen| 262630|\n",
      "|     TrueOffMyChest| 182287|\n",
      "|               tifu| 135717|\n",
      "|  explainlikeimfive| 124443|\n",
      "|           AskWomen| 121377|\n",
      "|       OutOfTheLoop|  68282|\n",
      "|           antiwork|  46843|\n",
      "|       socialskills|  26623|\n",
      "+-------------------+-------+\n",
      "\n"
     ]
    },
    {
     "name": "stderr",
     "output_type": "stream",
     "text": [
      "                                                                                \r"
     ]
    }
   ],
   "source": [
    "comments.groupBy('subreddit').count().orderBy('count', ascending = False).show()"
   ]
  },
  {
   "cell_type": "markdown",
   "metadata": {},
   "source": [
    "### Submissions - Value Counts by Subreddit\n",
    "\n",
    "Here, we see how many submissions we obtained across our twelve subreddits."
   ]
  },
  {
   "cell_type": "code",
   "execution_count": 14,
   "metadata": {
    "tags": []
   },
   "outputs": [
    {
     "name": "stderr",
     "output_type": "stream",
     "text": [
      "[Stage 16:==============================================>           (4 + 1) / 5]\r"
     ]
    },
    {
     "name": "stdout",
     "output_type": "stream",
     "text": [
      "+-------------------+-----+\n",
      "|          subreddit|count|\n",
      "+-------------------+-----+\n",
      "|relationship_advice|60643|\n",
      "|  NoStupidQuestions|48014|\n",
      "|   unpopularopinion|42196|\n",
      "|      AmItheAsshole|32084|\n",
      "|  explainlikeimfive|14905|\n",
      "|             AskMen|14127|\n",
      "|     TrueOffMyChest|12086|\n",
      "|           AskWomen| 9955|\n",
      "|       OutOfTheLoop| 5865|\n",
      "|               tifu| 5654|\n",
      "|       socialskills| 3575|\n",
      "|           antiwork| 2388|\n",
      "+-------------------+-----+\n",
      "\n"
     ]
    },
    {
     "name": "stderr",
     "output_type": "stream",
     "text": [
      "                                                                                \r"
     ]
    }
   ],
   "source": [
    "submissions.groupBy('subreddit').count().orderBy('count', ascending = False).show()"
   ]
  },
  {
   "cell_type": "markdown",
   "metadata": {},
   "source": [
    "### Comments - Filter for Non-Deleted, Non-Removed Posts\n",
    "\n",
    "Here, we filter the data for comments that are not labeled as having been deleted or removed."
   ]
  },
  {
   "cell_type": "code",
   "execution_count": 21,
   "metadata": {
    "tags": []
   },
   "outputs": [
    {
     "name": "stdout",
     "output_type": "stream",
     "text": [
      "+-----------------+--------------------+--------------------+----------+---------+-------+-------------------+\n",
      "|        subreddit|              author|                body| parent_id|  link_id|     id|        created_utc|\n",
      "+-----------------+--------------------+--------------------+----------+---------+-------+-------------------+\n",
      "|           AskMen|  AnaphoricReference|Going out of his ...| t3_l6ksq0|t3_l6ksq0|gl3matc|2021-01-28 15:16:41|\n",
      "| unpopularopinion|         ajsmith0429|My gf doesn't lik...| t3_l6okyk|t3_l6okyk|gl3mau1|2021-01-28 15:16:41|\n",
      "|    AmItheAsshole|             laser50|A rather large po...| t3_l6u2dm|t3_l6u2dm|gl3mau5|2021-01-28 15:16:41|\n",
      "|    AmItheAsshole|         BertTheNerd|An obvious NTA , ...| t3_l6vkwf|t3_l6vkwf|gl3mavc|2021-01-28 15:16:41|\n",
      "| unpopularopinion|TiaMaria-AndLucozade|Should be put dow...|t1_gl3m029|t3_l1e1a5|gl3mavt|2021-01-28 15:16:41|\n",
      "|    AmItheAsshole|     throwRA_ShareIt|It's her choice, ...|t1_gl3lx60|t3_l6vpgn|gl3mb82|2021-01-28 15:16:44|\n",
      "|    AmItheAsshole| Ecstatic-Product-69|Dude you’re so NT...| t3_l6u2dm|t3_l6u2dm|gl3mbe7|2021-01-28 15:16:45|\n",
      "| unpopularopinion|      thinkingsimian|Good luck. Goldma...| t3_l6quwo|t3_l6quwo|gl3mbf4|2021-01-28 15:16:46|\n",
      "|           AskMen|           yuhmutha1|Are people not sa...| t3_l6wbyr|t3_l6wbyr|gl3mbkz|2021-01-28 15:16:47|\n",
      "|explainlikeimfive|              berael|\"Center\" is a mea...| t3_l6ydrl|t3_l6ydrl|gl3mbl5|2021-01-28 15:16:47|\n",
      "+-----------------+--------------------+--------------------+----------+---------+-------+-------------------+\n",
      "only showing top 10 rows\n",
      "\n"
     ]
    },
    {
     "name": "stderr",
     "output_type": "stream",
     "text": [
      "                                                                                \r"
     ]
    }
   ],
   "source": [
    "invalid_comments = ['[deleted]', '[removed]']\n",
    "\n",
    "comments_valid = comments.filter(~comments.body.isin(invalid_comments))\n",
    "comments_valid.select(['subreddit', 'author', 'body', 'parent_id', 'link_id', 'id', 'created_utc']).show(10)"
   ]
  },
  {
   "cell_type": "code",
   "execution_count": 24,
   "metadata": {
    "tags": []
   },
   "outputs": [
    {
     "name": "stderr",
     "output_type": "stream",
     "text": [
      "                                                                                \r"
     ]
    },
    {
     "data": {
      "text/plain": [
       "(3789551, 21)"
      ]
     },
     "execution_count": 24,
     "metadata": {},
     "output_type": "execute_result"
    }
   ],
   "source": [
    "comments_valid.count(), len(comments_valid.columns)"
   ]
  },
  {
   "cell_type": "code",
   "execution_count": 30,
   "metadata": {
    "tags": []
   },
   "outputs": [
    {
     "name": "stderr",
     "output_type": "stream",
     "text": [
      "[Stage 40:====================================================>   (14 + 1) / 15]\r"
     ]
    },
    {
     "name": "stdout",
     "output_type": "stream",
     "text": [
      "+-------------------+-------+\n",
      "|          subreddit|  count|\n",
      "+-------------------+-------+\n",
      "|      AmItheAsshole|1285691|\n",
      "|relationship_advice| 666464|\n",
      "|   unpopularopinion| 627841|\n",
      "|  NoStupidQuestions| 347425|\n",
      "|             AskMen| 235467|\n",
      "|     TrueOffMyChest| 165243|\n",
      "|               tifu| 123415|\n",
      "|  explainlikeimfive| 108701|\n",
      "|           AskWomen| 107431|\n",
      "|       OutOfTheLoop|  54927|\n",
      "|           antiwork|  42569|\n",
      "|       socialskills|  24377|\n",
      "+-------------------+-------+\n",
      "\n"
     ]
    },
    {
     "name": "stderr",
     "output_type": "stream",
     "text": [
      "                                                                                \r"
     ]
    }
   ],
   "source": [
    "comment_counts = comments_valid.groupBy('subreddit').count().orderBy('count', ascending = False)\n",
    "comment_counts.show()"
   ]
  },
  {
   "cell_type": "markdown",
   "metadata": {},
   "source": [
    "### Submissions - Filter for Non-Deleted, Non-Removed Posts\n",
    "\n",
    "Here, we filter the data for submissions that are not labeled as having been deleted or removed."
   ]
  },
  {
   "cell_type": "code",
   "execution_count": 22,
   "metadata": {
    "tags": []
   },
   "outputs": [
    {
     "name": "stdout",
     "output_type": "stream",
     "text": [
      "+-------------------+-------------------+--------------------+--------------------+-------------------+------------+\n",
      "|          subreddit|             author|               title|            selftext|        created_utc|num_comments|\n",
      "+-------------------+-------------------+--------------------+--------------------+-------------------+------------+\n",
      "|     TrueOffMyChest|    throwaway268828|I'm really tired ...|Hey everyone. The...|2021-01-01 23:34:53|           1|\n",
      "|  NoStupidQuestions|    BioticAsariBabe|How do I forward ...|Hi folks, I've be...|2021-01-01 23:35:56|           2|\n",
      "|relationship_advice|       Bygeorge7654|Self [33M] and ex...|During the relati...|2021-01-01 23:36:22|           7|\n",
      "|  NoStupidQuestions|   shortstack114811|If I soak in a ba...|I know it seems l...|2021-01-01 23:36:30|           3|\n",
      "|relationship_advice|          lucie1986|A question for pe...|Am I weird for wa...|2021-01-01 23:37:14|          10|\n",
      "|      AmItheAsshole|          [deleted]|AITA for letting ...|I'm the oldest of...|2021-01-01 23:37:32|          23|\n",
      "|      AmItheAsshole|     pleasantville7|AITA for preventi...|I know it sounds ...|2021-01-01 23:37:50|          16|\n",
      "|relationship_advice|WateredDownHotSauce|Should I (28F) te...|Background: I've ...|2021-01-01 23:37:58|           5|\n",
      "|relationship_advice| causticCrabdicator|I (F18) started c...|so I've been play...|2021-01-01 23:38:26|           1|\n",
      "|     TrueOffMyChest|        SassyWaters|Covid took my gra...|All year I have b...|2021-01-01 23:38:26|           4|\n",
      "+-------------------+-------------------+--------------------+--------------------+-------------------+------------+\n",
      "only showing top 10 rows\n",
      "\n"
     ]
    }
   ],
   "source": [
    "invalid_submissions = ['[deleted]', '[removed]']\n",
    "\n",
    "submissions_valid = submissions.filter(~submissions.selftext.isin(invalid_submissions))\n",
    "submissions_valid.select(['subreddit', 'author', 'title', 'selftext', 'created_utc', 'num_comments']).show(10)"
   ]
  },
  {
   "cell_type": "code",
   "execution_count": 23,
   "metadata": {
    "tags": []
   },
   "outputs": [
    {
     "name": "stderr",
     "output_type": "stream",
     "text": [
      "                                                                                \r"
     ]
    },
    {
     "data": {
      "text/plain": [
       "(86173, 68)"
      ]
     },
     "execution_count": 23,
     "metadata": {},
     "output_type": "execute_result"
    }
   ],
   "source": [
    "submissions_valid.count(), len(submissions_valid.columns)"
   ]
  },
  {
   "cell_type": "code",
   "execution_count": 32,
   "metadata": {
    "tags": []
   },
   "outputs": [
    {
     "name": "stderr",
     "output_type": "stream",
     "text": [
      "[Stage 43:==============================================>           (4 + 1) / 5]\r"
     ]
    },
    {
     "name": "stdout",
     "output_type": "stream",
     "text": [
      "+-------------------+-----+\n",
      "|          subreddit|count|\n",
      "+-------------------+-----+\n",
      "|  NoStupidQuestions|27219|\n",
      "|relationship_advice|24064|\n",
      "|   unpopularopinion| 9486|\n",
      "|      AmItheAsshole| 6273|\n",
      "|     TrueOffMyChest| 5689|\n",
      "|  explainlikeimfive| 3580|\n",
      "|             AskMen| 2578|\n",
      "|       socialskills| 2014|\n",
      "|           antiwork| 1733|\n",
      "|               tifu| 1711|\n",
      "|           AskWomen| 1250|\n",
      "|       OutOfTheLoop|  576|\n",
      "+-------------------+-----+\n",
      "\n"
     ]
    },
    {
     "name": "stderr",
     "output_type": "stream",
     "text": [
      "                                                                                \r"
     ]
    }
   ],
   "source": [
    "submission_counts = submissions_valid.groupBy('subreddit').count().orderBy('count', ascending = False)\n",
    "submission_counts.show()"
   ]
  },
  {
   "cell_type": "markdown",
   "metadata": {},
   "source": [
    "## Save Data for Visualization\n",
    "\n",
    "Here, we save data off for use in visualizations so that we don't have to re-run any of the heavy-lifting data pre-processing code above."
   ]
  },
  {
   "cell_type": "code",
   "execution_count": 35,
   "metadata": {
    "tags": []
   },
   "outputs": [
    {
     "name": "stderr",
     "output_type": "stream",
     "text": [
      "                                                                                \r"
     ]
    }
   ],
   "source": [
    "# save data for visualization outside AWS\n",
    "comment_counts.write.parquet(\n",
    "    \"s3a://project17-bucket-alex/matt-comment-subreddit-counts\"\n",
    ")"
   ]
  },
  {
   "cell_type": "code",
   "execution_count": 36,
   "metadata": {
    "tags": []
   },
   "outputs": [
    {
     "name": "stderr",
     "output_type": "stream",
     "text": [
      "                                                                                \r"
     ]
    }
   ],
   "source": [
    "# save data for visualization outside AWS\n",
    "submission_counts.write.parquet(\n",
    "    \"s3a://project17-bucket-alex/matt-submission-subreddit-counts\"\n",
    ")"
   ]
  },
  {
   "cell_type": "markdown",
   "metadata": {},
   "source": [
    "## Extract Age and Gender of Posts"
   ]
  },
  {
   "cell_type": "code",
   "execution_count": 65,
   "metadata": {
    "tags": []
   },
   "outputs": [
    {
     "name": "stderr",
     "output_type": "stream",
     "text": [
      "[Stage 61:>                                                         (0 + 1) / 1]\r"
     ]
    },
    {
     "name": "stdout",
     "output_type": "stream",
     "text": [
      "+---------------------------------------------------------------------------------------------------------------------------------------------------------------------------------------------------------------------------------------------------------------------------------------------------------------------------------------------------------------------------------------------------------------------------------------------------------------------------------------------------------------------------------------------------------------------------------------------------------------------------------------------------------------------------------------------------------------------------------------------------------------------------------------------------------------------------------------------------------------------------------------------------------------------------------------------------------------------------------------------------------------------------------------------------------------------------------------------------------------------------------------------------------------------------------------------------------------------------------------------------------------------------------------------------------------------------------------------------------------------------------------------------------------------------------------------------------------------------------------------------------------------------------------------------------------------------------------------------------------------------------------------------------------------------------------------------------------------------------------------------------------------------------------------------------------------------------------------------------------------------------------------------------------------------------------------------------------------------------------------------------------------------------------------------------------------------------------------------------------------------------------------------------------------------------------------------------------------------------------------------------------------------------------------------------------------------------------------------------------------------------------------------------------------------------------------------------------------------------------------------------------------------------------------------------------------------------------------------------------------------------------------------------------------------------------------------------------------------------------------------------------------+-----------------------------------+\n",
      "|selftext                                                                                                                                                                                                                                                                                                                                                                                                                                                                                                                                                                                                                                                                                                                                                                                                                                                                                                                                                                                                                                                                                                                                                                                                                                                                                                                                                                                                                                                                                                                                                                                                                                                                                                                                                                                                                                                                                                                                                                                                                                                                                                                                                                                                                                                                                                                                                                                                                                                                                                                                                                                                                                                                                                                                                             |ext                                |\n",
      "+---------------------------------------------------------------------------------------------------------------------------------------------------------------------------------------------------------------------------------------------------------------------------------------------------------------------------------------------------------------------------------------------------------------------------------------------------------------------------------------------------------------------------------------------------------------------------------------------------------------------------------------------------------------------------------------------------------------------------------------------------------------------------------------------------------------------------------------------------------------------------------------------------------------------------------------------------------------------------------------------------------------------------------------------------------------------------------------------------------------------------------------------------------------------------------------------------------------------------------------------------------------------------------------------------------------------------------------------------------------------------------------------------------------------------------------------------------------------------------------------------------------------------------------------------------------------------------------------------------------------------------------------------------------------------------------------------------------------------------------------------------------------------------------------------------------------------------------------------------------------------------------------------------------------------------------------------------------------------------------------------------------------------------------------------------------------------------------------------------------------------------------------------------------------------------------------------------------------------------------------------------------------------------------------------------------------------------------------------------------------------------------------------------------------------------------------------------------------------------------------------------------------------------------------------------------------------------------------------------------------------------------------------------------------------------------------------------------------------------------------------------------------+-----------------------------------+\n",
      "|i (f) became friends with this guy (m) in september when school started. he’s in my friend group and sometimes we help each other with hw. i wouldn’t say we’re super close but over time i definitely think we could be.\\n\\nlately he’s been getting a bit too close for comfort. he laid his head on my lap TWICE and kept calling me. he’s never called me one-on-one but he’s called the gc. i’m always the only person who picks up tho and he continues to call (i’ve started to not pick up)\\nsometimes we even flirt but i thought it was just a joke. like making dirty jokes and shit. in the friend group there’s three other girls and another guy. he only makes dirty jokes to me tho. i thought it was because he isn’t super close with the other guy and in the group we have the closest sense of humor.\\n\\nim scared he likes me (for other reasons as well) but still want to be friends.\\n\\nit’s especially awkward as well because im into someone else. the OTHER guy. (i’ll call the guy i want to friendzone “A” and this guy (guy im in to and the other person in the friend group) “B”). what makes A’s “flirting” even more awkward is that B also likes me back (it’s not official tho and we haven’t told anyone).\\n\\ni hate confrontation so don’t want to directly tell A that i don’t like him and instead like B. i also really like being friends with A and don’t want to ruin it. is there a way i can hint it while not making it awkward?                                                                                                                                                                                                                                                                                                                                                                                                                                                                                                                                                                                                                                                                                                                                                                                                                                                                                                                                                                                                                                                                                                                                                                                                                                                                                    |(f)                                |\n",
      "|extremely unstable relationships, very explosive arguments everyday with everybody. always hear her and her boyfriend arguing. mood changes abruptly and quickly, chanfes from loving and caring to very hateful quickly in an hour, can last for like a day or so. she thinks its everybody elses faults for her problems, totally oblivious that shes causing this chaos. which is a trait of personality disorders. she relies on explosiveness and extreme anger to control people and her relationships. comes off as really manipulative. she thinks everybody is against her all the time. she told me this. super socially anxious. how do u deal with someone like this? she refuses to go to family therapy with me and my parents. im really sure she has borderline. talkimg to her is like navigating a minefield, even talking about memes, she acts aggressive to me most of the time and acts like a dick. i cant crticize her for it cuz if i do she gets explosively extremely angry and makes me feel like shit.  im just gonna give her benefit of the doubt and assume its a mental problem instead of assuming a dick, but honestly it might be both. what should i do?                                                                                                                                                                                                                                                                                                                                                                                                                                                                                                                                                                                                                                                                                                                                                                                                                                                                                                                                                                                                                                                                                                                                                                                                                                                                                                                                                                                                                                                                                                                                                                        |                                   |\n",
      "|We’ve been seeing each other for a little over a year, and so far he’s the best boyfriend I’ve ever had; except for this one thing.  \\n\\nYou know that Ben Franklin quote, “Three can keep a secret if two of them are dead?”\\n\\nYou would think he coined it himself the way he abides by it. \\n\\nFor example, his friend has been sick for a while and didn’t want people to know. The only reason I know is because I eaves dropped on a conversation he was having on the phone with him. \\n\\nHad it been my friend that was sick I would’ve told him, not because I feel like he’s entitled to this information, but because I feel like secrets shouldn’t be kept between significant others. \\n\\nWe should be able to tell each other these things, and trust that what we tell each other stays between us; yet, he just doesn’t seem to feel the same way. \\n\\nI don’t know if it’s because of one of his exes or something, but how do I get him to see that I’m someone he can rely on?\\n\\nTLDR: he doesn’t tell me the secrets in his life for fear of me telling other people.                                                                                                                                                                                                                                                                                                                                                                                                                                                                                                                                                                                                                                                                                                                                                                                                                                                                                                                                                                                                                                                                                                                                                                                                                                                                                                                                                                                                                                                                                                                                                                                                                                                                          |                                   |\n",
      "|This is the first time I have ever posted anything. I have a long- time friend whom I have known for years and years. \\n\\nHe’s married now but he travels for his job and we are still close.  Specifically, If he’s in a town that I want to visit I will go stay with him for the weekend. We always sleep in the same bed and once in a while we will fool around a little bit. But HE’S MARRIED — I CAN’T/WON’T DO THAT, esp. at my Jurassic stage of life !!\\n\\n I know his wife, in fact I helped them get together.  He (being a red-blooded American male) keeps wanting sex.  He is really nice to me and i am finally sort of attracted to him.\\n\\nAnybody on Reddit have an opinion??  [joke]\\n\\nR.W.                                                                                                                                                                                                                                                                                                                                                                                                                                                                                                                                                                                                                                                                                                                                                                                                                                                                                                                                                                                                                                                                                                                                                                                                                                                                                                                                                                                                                                                                                                                                                                                                                                                                                                                                                                                                                                                                                                                                                                                                                                                     |(being a red-blooded American male)|\n",
      "|I(18M) am the calm collective quiet person at my school, ive been told by several girls that i'm \"too nice\". Its not even something that i forcefully do its just the way i am to everyone who i think is decent. Like i'm the type of person to wake up early in the morning just to make my wifes favorite breakfast just to see her smile.\\n\\nBut ive heard that being a nice guy is a turn off for most girls my age, is this true?                                                                                                                                                                                                                                                                                                                                                                                                                                                                                                                                                                                                                                                                                                                                                                                                                                                                                                                                                                                                                                                                                                                                                                                                                                                                                                                                                                                                                                                                                                                                                                                                                                                                                                                                                                                                                                                                                                                                                                                                                                                                                                                                                                                                                                                                                                                              |(18M)                              |\n",
      "|My boyfriend left me alone on nye to go drink when I have Covid…. Wtf \\n\\nJust because his results are negative and mine are positive. Like who wants to spend nye without their person?                                                                                                                                                                                                                                                                                                                                                                                                                                                                                                                                                                                                                                                                                                                                                                                                                                                                                                                                                                                                                                                                                                                                                                                                                                                                                                                                                                                                                                                                                                                                                                                                                                                                                                                                                                                                                                                                                                                                                                                                                                                                                                                                                                                                                                                                                                                                                                                                                                                                                                                                                                             |                                   |\n",
      "|I’ll start off by saying that English isn’t my first language so excuse me if there are any grammar mistakes. \\n\\nI’ve been in a relationship for almost 4 years now. I’m 27, he’s 41. He has 2 kids from a a previous relationship, co-parenting. \\n\\nHe’s always had a “bad temper”. I might be exaggerating but I don’t know anymore at this point. I’ve always tried to understand it and work around it but I’ve been feeling like I’m walking on eggshells. \\n\\nFor example tonight was NYE and the kids are here. He woke them up to count down and see fireworks. When the firework started he went upstairs and watched with them while I was sitting downstairs, alone. \\n\\nHe didn’t ask anything if I wanted to join or watch with them. So I stayed downstairs. I was looking for our cats as they were scared as hell and I guess I closed a door too hard so he asked me what’s wrong and why I was acting that way. I said I’m sorry and moved on. He asked me where I was and I said I was sitting alone, downstairs. I said it twice or something and he instantly got mad. He said I was pissing him off telling him pultiple times I was alone and stormed off. I didn’t want to start a fight so I went to bed.\\n\\nThis has happened many times. The second I’m saying something, he gets mad and tells me to not act this way. \\n\\nI’m at a point where I don’t speak up anymore, I try to stay as silent as possible and not say anything that might upset him. \\n\\nAm I the problem? Am I too rude? I’m truly lost.                                                                                                                                                                                                                                                                                                                                                                                                                                                                                                                                                                                                                                                                                                                                                                                                                                                                                                                                                                                                                                                                                                                                                                                                                          |                                   |\n",
      "|I'm specifically talking in Instagram. I have 2 accounts. 1 public and the other one is private. My Bf (Male 19) keeps following then unfollowing the personal account, once in a while. This have happened more than 3 times. So I'm starting to feel like a meaning could be behind it. I didn't ask him about it since it wasn't a big deal to me at first, I thought it might have been by mistake. But now I'm kinda getting mixed feelings about this... what's the point of unfollowing and then requesting to follow? Or what's the point of unfollowing my private account when you are still following me on my public one? Any thoughts?                                                                                                                                                                                                                                                                                                                                                                                                                                                                                                                                                                                                                                                                                                                                                                                                                                                                                                                                                                                                                                                                                                                                                                                                                                                                                                                                                                                                                                                                                                                                                                                                                                                                                                                                                                                                                                                                                                                                                                                                                                                                                                                  |(Male 19)                          |\n",
      "|I’ve been dating my current girlfriend for 4 months now, and we haven’t had sex yet. Recently though, she’s been talking more about it and wants to do it very soon. I faked the flu for a week to delay it because for some reason i’m scared. I’m not scared of sex. I’ve had sex before, but this is the first time it would be with a girl i actually love. She’s still a virgin and i think I’m scared i won’t do good and will ruin her first time. I don’t want to keep delaying it, however, because last night i had a dream that she was on facetime with me having sex with another guy. i don’t think she would actually do this, but i see this as my brain telling me if i don’t do it someone else will. I don’t know if there’s any advice you can give for this situation, but anything helps. thank you guys.                                                                                                                                                                                                                                                                                                                                                                                                                                                                                                                                                                                                                                                                                                                                                                                                                                                                                                                                                                                                                                                                                                                                                                                                                                                                                                                                                                                                                                                                                                                                                                                                                                                                                                                                                                                                                                                                                                                                      |                                   |\n",
      "|My girlfriend (19F) and I (19M) have been dating for around 5 months and have recently started being more sexual, she's not confortable yet with bjs and that's okay for me, however when she does hand jobs, I can't finish for the life of me, I am perfectly able to do it on my own and stay hard when she tries it, but nothing comes out. After like 10 minutes of trying she gets tired and we move on, yet I end up feeling unfunfilled, I have tried not masturbating for over 2 weeks and still nothing happens.\\n\\nI'm not sure why this happens and if someone could give some advice on why this is happening and how I could help it I would greatly appreciate it.\\n\\nTLDR: read the title :)                                                                                                                                                                                                                                                                                                                                                                                                                                                                                                                                                                                                                                                                                                                                                                                                                                                                                                                                                                                                                                                                                                                                                                                                                                                                                                                                                                                                                                                                                                                                                                                                                                                                                                                                                                                                                                                                                                                                                                                                                                                         |(19F)                              |\n",
      "|Just here to kind of vent and put my story out there, nothing I can really do, but my ex girlfriends Chinese and her parents are somewhat traditional, they come from an arranged marriage but compared to their extended family in China they're probably the most liberal of the family.\\n\\nMe and my girlfriend have been dating almost 2 years, the last 3 months we've been doing long distance due to her having to go to a trauma treatment facility due to her having anxiety and panic attacks and getting stuck in her head for weeks. She decided to go to the facility while she was still on her parents very quality health insurance. Her dad just paid the entire sum of expenses which was something absurd like \\~$30 grand. Then against her will they forced her into a halfway house and covered those expenses as well, so she feels extremely indebted to them but also trapped.\\n\\nHer parents are kind of the reason why she has her traumatic experiences and are very controlling, (obviously) but she admirers her dad he is successful and she just feels like she can't go against his wishes. I was on the verge of moving in and getting a place with her when she contacted me sounding kind of afraid that her dad wanted to talk to me, I was curious about what and she was thinking he was going to ask about my intentions in our relationship. What he called to say is that he can't approve of our relationship because I currently don't have a career he deemed reliable in case we decided to start a family, although I feel if it wasn't that it'd be something else with him.\\n\\nShe's heart broken and so am I, all we can tell each other on the phone is we love each other over and over again but I simply don't have power in this situation, I asked him if there was anything I could do to make him comfortable about us being together and he just doesn't see it working. He makes her feel like she's so behind in life and all I do is try to console her and be there for her but its just to difficult of a decision for her to make seeing as how he basically will threaten to disown her if we continue talking and I love her to much to make her choose, I don't believe in ultimatums.\\n\\nI texted her today that if she wants me to fight for her I will but that ultimately its her decision and she feels she cant defy her dad, we ended it by me just telling her I love her and want her to be happy, and she told me she loved me to, and that was it.\\n\\nI don't know what kind of advice I'm looking for but anyway thanks for reading\\n\\ntl;dr ex girlfriends dad forced us to break up even though were in love but she's vulnerable and afraid to defy him for fear of being disowned|(obviously)                        |\n",
      "|I know this is probably common, but just wanted to get some insight into what helped others. I made the move to split with my partner of 3 years a few weeks ago. Across the board we were in different places, financially, work priority, life goals, sexual boundries, level of affection, sexual compatability. We were just not going anywhere good. I was constantly trying to change her and she was constantly letting me. I know staying longer would've ended in disaster, there were too many things to change. I would've been settling or it wouldve ended explosively a few more years down the line.\\n\\nRegardless, my brain wants her back. I come up with reasons to want to talk to her, I come up with rationalisations about how I could 'deal' with it. How I 'should' deal with it since its not that bad. She was a kind person at heart (I think), but we wern't right for each other from day 1. It just hurts so much to say goodbye. \\n\\nAnother part which my brain hangs onto (which I hate), is that she was attractive. She was the body type I like and would be considered a '10' by most in terms of pure facial features. Its an annoying thing when I cant help but think I wont find someone the same even though I would prefer someone who loves me and is affectionate and wants to have a sex even if they arent a '10'. Looks never mattered to me until now..now its all my brain thinks about.\\n\\nI am going to therapy in a few days (first session ever), but has anyone done this before? Does anyone have some techniques their therapist game them that could help me?                                                                                                                                                                                                                                                                                                                                                                                                                                                                                                                                                                                                                                                                                                                                                                                                                                                                                                                                                                                                                                                                                                                                              |(I think)                          |\n",
      "|Me [18M] and my girlfriend [18F] have been in a perfect relationship since day 1 and we see each other almost every day and always have so much fun together. We have also just applied to universities all around the US, mostly in California and Ivy League schools. \\n\\nWe are scared that we end up in different schools because we have different preferences as to where to study. We suffer being away from each other being together would be so much better than long distance.\\n\\nI want to be with her so much that I could change where I want to study just for us to be closer. We have 5 months to recieve offers and choose where to study and 4 months after that to move to the universities.\\n\\nBeing apart is a constant fear that I lose sleep over. Any advice would be greatly appreciated.                                                                                                                                                                                                                                                                                                                                                                                                                                                                                                                                                                                                                                                                                                                                                                                                                                                                                                                                                                                                                                                                                                                                                                                                                                                                                                                                                                                                                                                                                                                                                                                                                                                                                                                                                                                                                                                                                                                                                  |                                   |\n",
      "|I have a 5 week old baby, so as you can probably imagine, in exhausted. My partner hasn’t helped at all since Monday (which is a while other issue) so if I didn’t have the help of my parents (we live with them) I wouldn’t get a break at all. \\n\\nLast night was New Years, and my partner went to his friends house to celebrate. I got Bub settled and fed, and pumped enough for a feed so I could come up for a few hours while my parents watched my baby. It was really nice being able to hang out with people my own age and have a bit of fun without having to worry (too much) about my child. \\n\\nBy the time I got there, my partner was pretty drunk, and honestly was very annoying and wouldn’t stop when I asked. He was very aggressively kissing me, and licking my face because he thought it was funny. I asked him to stop every time because I hadn’t met most of the people at the party and didn’t want to he tounged in front of a bunch of strangers. \\n\\nWhen we left, he kept poking my ears and touching my face. I told him to stop so many times, because I didn’t want to be distracted while driving. He was mocking me and just being a dick, and continuing to do it. The last time I told him to stop he got out of the car and told me to leave. So I did - which I know makes me a horrible partner. \\n\\nI drove a few minuets down the road to the next exit, turned around and went back. Then he screamed at me for leaving and refused to get in the car, told me to leave or he’d walk on the road. We were on the express way, at 2:30am, half an hours drive from home and he was drunk. I called my dad crying (also to explain why I was late coming home) and he pretty much told me if he wants to be a dickhead to just leave him. I had to get home to my baby and he was yelling at me to leave. I didn’t want to go, but I felt like I was making his situation worse, so I did. He turned up at home 4 hours later. \\n\\nI don’t know what advice I need, but I can’t talk to my friends about this and just need to vent. Am I a bad partner for leaving him? How do I even get through this and continue a relationship with someone who is a fuckhead every time he drinks? I love him but I’m so over it, I can’t look after my baby and a grown man who wants to act like a child. I just wanted to have a nice night, and start the new year happy but it’s been fucked.                                                                                                                                                                                                                                                                                                                             |(which is a while other issue)     |\n",
      "|My gf (18) just moved in with me (20). I wanted to get her out of her toxic home environment. We've been together only 6 months. I do love her but as someone who values my alone time I'm not sure how I feel about sharing a room and being together 24/7. Perhaps this was too soon? I've never done this before. Any advice?                                                                                                                                                                                                                                                                                                                                                                                                                                                                                                                                                                                                                                                                                                                                                                                                                                                                                                                                                                                                                                                                                                                                                                                                                                                                                                                                                                                                                                                                                                                                                                                                                                                                                                                                                                                                                                                                                                                                                                                                                                                                                                                                                                                                                                                                                                                                                                                                                                     |(18)                               |\n",
      "|My boyfriend of 2 years and I just recently got engaged. Like any other relationship, we’ve had our ups and downs. We had one of our biggest arguments tonight. I don’t remember how it got to this point but my fiancé shouted that he can’t fully trust me. My fiancé said he wants to trust me but can’t because of how he’s been hurt before in his past relationships. He also said he doesn’t know when he’ll be able to fully trust me. It hurts me because after being together for two years and getting engaged, I now find out that he doesn’t even trust me. On top of that, he’s upset because I don’t let him get out of his “work mode” when he gets home before “bombarding” him with “nagging” and requests to go run errands. He also blurted out that he’s not sure if he wants to have kids anymore. Now, I’ve always dreamed of becoming a mother and having a family. We’ve even discussed this early in our relationship and he agreed. I don’t know what to do at this point. I tried not to admit it because I’ve invested so much in this relationship and, hell, we’re engaged now. But I’m not happy anymore. Sure, I have days where this relationship makes me happy but with all of the arguments and revelations, I don’t know how much longer I can try to be happy. I feel like I’m just tired of it all. What should I do?                                                                                                                                                                                                                                                                                                                                                                                                                                                                                                                                                                                                                                                                                                                                                                                                                                                                                                                                                                                                                                                                                                                                                                                                                                                                                                                                                                                                        |                                   |\n",
      "| I really want to help my girlfriend when it comes to these thoughts but it seems like I cant. I am trying my best to reassure her every time but everything I say and do she just doubts because of my experience with my ex. When I lied to my ex before, I was only 14 and I was really bad back then. I am 22 now and I changed for her, us, and our relationship and she knows that. I really love her truly and I know she loves me too but she really doubts everything I say because of that experience. I got hurt when she told me she doubts everything I say. I do not want to break up with her and I know she does not want to also. I really really love her. Please help me. I do not want her to go through those thoughts alone. Breaking up is not an option.                                                                                                                                                                                                                                                                                                                                                                                                                                                                                                                                                                                                                                                                                                                                                                                                                                                                                                                                                                                                                                                                                                                                                                                                                                                                                                                                                                                                                                                                                                                                                                                                                                                                                                                                                                                                                                                                                                                                                                                     |                                   |\n",
      "|https://www.reddit.com/r/relationship_advice/comments/rqteez/only_met_her_yesterday/?utm_medium=android_app&amp;utm_source=share\\n\\nWe have been texting a bit sending each other valorant videos, also she told me a bit abut her future without me asking. \\n\\nI wished her a happy new years and she texted me back \"aww happy new years to you too\".\\n\\nIs this a sign at all?                                                                                                                                                                                                                                                                                                                                                                                                                                                                                                                                                                                                                                                                                                                                                                                                                                                                                                                                                                                                                                                                                                                                                                                                                                                                                                                                                                                                                                                                                                                                                                                                                                                                                                                                                                                                                                                                                                                                                                                                                                                                                                                                                                                                                                                                                                                                                                                   |                                   |\n",
      "|I asked a guy if we talked or we were just friends because I was a little confused. His response was “you know what’s going on between us”, then I asked him what he meant by that and he said it again. So now I’m even more confused, any idea what he means?                                                                                                                                                                                                                                                                                                                                                                                                                                                                                                                                                                                                                                                                                                                                                                                                                                                                                                                                                                                                                                                                                                                                                                                                                                                                                                                                                                                                                                                                                                                                                                                                                                                                                                                                                                                                                                                                                                                                                                                                                                                                                                                                                                                                                                                                                                                                                                                                                                                                                                      |                                   |\n",
      "|I’ve worked as an large contest judge, event organizer, owned my own small food business, actor, singer, seminar speaker, photographer, videographer, a film assistant director, and many more.  \\n\\nThe point is I have very high standards for myself and unfortunately I put my high standards on my friends and family by giving my honest opinion about things when they ask me about stuff without ill intent. I really don’t do it to make people feel bad, I genuinely say things for constructive criticism but not everyone is like me and is okay with them or something the have or are doing being criticized.  \\n\\nTLDR: How do I stop doing that or what am I suppose to do?   \\n\\nMy main concern is it affects my relationship with my gf sometimes                                                                                                                                                                                                                                                                                                                                                                                                                                                                                                                                                                                                                                                                                                                                                                                                                                                                                                                                                                                                                                                                                                                                                                                                                                                                                                                                                                                                                                                                                                                                                                                                                                                                                                                                                                                                                                                                                                                                                                                                 |                                   |\n",
      "+---------------------------------------------------------------------------------------------------------------------------------------------------------------------------------------------------------------------------------------------------------------------------------------------------------------------------------------------------------------------------------------------------------------------------------------------------------------------------------------------------------------------------------------------------------------------------------------------------------------------------------------------------------------------------------------------------------------------------------------------------------------------------------------------------------------------------------------------------------------------------------------------------------------------------------------------------------------------------------------------------------------------------------------------------------------------------------------------------------------------------------------------------------------------------------------------------------------------------------------------------------------------------------------------------------------------------------------------------------------------------------------------------------------------------------------------------------------------------------------------------------------------------------------------------------------------------------------------------------------------------------------------------------------------------------------------------------------------------------------------------------------------------------------------------------------------------------------------------------------------------------------------------------------------------------------------------------------------------------------------------------------------------------------------------------------------------------------------------------------------------------------------------------------------------------------------------------------------------------------------------------------------------------------------------------------------------------------------------------------------------------------------------------------------------------------------------------------------------------------------------------------------------------------------------------------------------------------------------------------------------------------------------------------------------------------------------------------------------------------------------------------------+-----------------------------------+\n",
      "only showing top 20 rows\n",
      "\n"
     ]
    },
    {
     "name": "stderr",
     "output_type": "stream",
     "text": [
      "                                                                                \r"
     ]
    }
   ],
   "source": [
    "submissions_valid.filter(col('subreddit') == 'relationship_advice')\\\n",
    "                 .withColumn(\"ext\", regexp_extract(col('selftext'), '\\(([^)]+)\\)', 0))\\\n",
    "                 .select(['selftext', 'ext'])\\\n",
    "                 .show(20, truncate = False)"
   ]
  },
  {
   "cell_type": "code",
   "execution_count": null,
   "metadata": {},
   "outputs": [],
   "source": []
  },
  {
   "cell_type": "code",
   "execution_count": null,
   "metadata": {},
   "outputs": [],
   "source": []
  },
  {
   "cell_type": "markdown",
   "metadata": {},
   "source": [
    "# Processing large datasets with Apache Spark and Amazon SageMaker\n",
    "\n",
    "***This notebook run on `Data Science 3.0 - Python 3` kernel on a `ml.t3.large` instance***."
   ]
  },
  {
   "cell_type": "markdown",
   "metadata": {},
   "source": [
    "Amazon SageMaker Processing Jobs are used  to analyze data and evaluate machine learning models on Amazon SageMaker. With Processing, you can use a simplified, managed experience on SageMaker to run your data processing workloads, such as feature engineering, data validation, model evaluation, and model interpretation. You can also use the Amazon SageMaker Processing APIs during the experimentation phase and after the code is deployed in production to evaluate performance.\n",
    "\n",
    "        \n"
   ]
  },
  {
   "cell_type": "markdown",
   "metadata": {},
   "source": [
    "![](https://docs.aws.amazon.com/images/sagemaker/latest/dg/images/Processing-1.png)"
   ]
  },
  {
   "cell_type": "markdown",
   "metadata": {},
   "source": [
    "The preceding diagram shows how Amazon SageMaker spins up a Processing job. Amazon SageMaker takes your script, copies your data from Amazon Simple Storage Service (Amazon S3), and then pulls a processing container. The processing container image can either be an Amazon SageMaker built-in image or a custom image that you provide. The underlying infrastructure for a Processing job is fully managed by Amazon SageMaker. Cluster resources are provisioned for the duration of your job, and cleaned up when a job completes. The output of the Processing job is stored in the Amazon S3 bucket you specified."
   ]
  },
  {
   "cell_type": "markdown",
   "metadata": {},
   "source": [
    "## Our workflow for processing large amounts of data with SageMaker\n",
    "\n",
    "We can divide our workflow into two steps:\n",
    "    \n",
    "1. Work with a small subset of the data with Spark running in local model in a SageMaker Studio Notebook.\n",
    "\n",
    "1. Once we are able to work with the small subset of data we can provide the same code (as a Python script rather than a series of interactive steps) to SageMaker Processing which launched a Spark cluster, runs out code and terminates the cluster."
   ]
  },
  {
   "cell_type": "markdown",
   "metadata": {},
   "source": [
    "## In this notebook...\n",
    "\n",
    "We will analyze the [Pushshift Reddit dataset](https://arxiv.org/pdf/2001.08435.pdf) to be used for the project and then we will run a SageMaker Processing Job to filter out the comments and submissions from subreddits of interest. The filtered data will be stored in your account's s3 bucket and it is this filtered data that you will be using for your project."
   ]
  },
  {
   "cell_type": "markdown",
   "metadata": {},
   "source": [
    "## Setup\n",
    "We need an available Java installation to run pyspark. The easiest way to do this is to install JDK and set the proper paths using conda"
   ]
  },
  {
   "cell_type": "code",
   "execution_count": 1,
   "metadata": {
    "tags": []
   },
   "outputs": [
    {
     "name": "stdout",
     "output_type": "stream",
     "text": [
      "Collecting package metadata (current_repodata.json): done\n",
      "Solving environment: done\n",
      "\n",
      "\n",
      "==> WARNING: A newer version of conda exists. <==\n",
      "  current version: 23.3.1\n",
      "  latest version: 23.9.0\n",
      "\n",
      "Please update conda by running\n",
      "\n",
      "    $ conda update -n base -c defaults conda\n",
      "\n",
      "Or to minimize the number of packages updated during conda update use\n",
      "\n",
      "     conda install conda=23.9.0\n",
      "\n",
      "\n",
      "\n",
      "# All requested packages already installed.\n",
      "\n",
      "\n",
      "Note: you may need to restart the kernel to use updated packages.\n",
      "Collecting pyspark==3.3.0\n",
      "  Downloading pyspark-3.3.0.tar.gz (281.3 MB)\n",
      "\u001b[2K     \u001b[90m━━━━━━━━━━━━━━━━━━━━━━━━━━━━━━━━━━━━━━━\u001b[0m \u001b[32m281.3/281.3 MB\u001b[0m \u001b[31m3.1 MB/s\u001b[0m eta \u001b[36m0:00:00\u001b[0m00:01\u001b[0m00:01\u001b[0m\n",
      "\u001b[?25h  Preparing metadata (setup.py) ... \u001b[?25ldone\n",
      "\u001b[?25hCollecting py4j==0.10.9.5 (from pyspark==3.3.0)\n",
      "  Downloading py4j-0.10.9.5-py2.py3-none-any.whl (199 kB)\n",
      "\u001b[2K     \u001b[90m━━━━━━━━━━━━━━━━━━━━━━━━━━━━━━━━━━━━━━━\u001b[0m \u001b[32m199.7/199.7 kB\u001b[0m \u001b[31m3.1 MB/s\u001b[0m eta \u001b[36m0:00:00\u001b[0m00:01\u001b[0m\n",
      "\u001b[?25hBuilding wheels for collected packages: pyspark\n",
      "  Building wheel for pyspark (setup.py) ... \u001b[?25ldone\n",
      "\u001b[?25h  Created wheel for pyspark: filename=pyspark-3.3.0-py2.py3-none-any.whl size=281764004 sha256=6c133b4d950ebdb6df985d965051bb47abca1a3a7a74318689acf396b3ddf8cd\n",
      "  Stored in directory: /root/.cache/pip/wheels/81/9c/6c/d5200fcf351ffa39cbe09911e99703283624cd037df58070d9\n",
      "Successfully built pyspark\n",
      "Installing collected packages: py4j, pyspark\n",
      "  Attempting uninstall: py4j\n",
      "    Found existing installation: py4j 0.10.9.2\n",
      "    Uninstalling py4j-0.10.9.2:\n",
      "      Successfully uninstalled py4j-0.10.9.2\n",
      "  Attempting uninstall: pyspark\n",
      "    Found existing installation: pyspark 3.2.0\n",
      "    Uninstalling pyspark-3.2.0:\n",
      "      Successfully uninstalled pyspark-3.2.0\n",
      "Successfully installed py4j-0.10.9.5 pyspark-3.3.0\n",
      "\u001b[33mWARNING: Running pip as the 'root' user can result in broken permissions and conflicting behaviour with the system package manager. It is recommended to use a virtual environment instead: https://pip.pypa.io/warnings/venv\u001b[0m\u001b[33m\n",
      "\u001b[0m\n",
      "\u001b[1m[\u001b[0m\u001b[34;49mnotice\u001b[0m\u001b[1;39;49m]\u001b[0m\u001b[39;49m A new release of pip is available: \u001b[0m\u001b[31;49m23.2.1\u001b[0m\u001b[39;49m -> \u001b[0m\u001b[32;49m23.3\u001b[0m\n",
      "\u001b[1m[\u001b[0m\u001b[34;49mnotice\u001b[0m\u001b[1;39;49m]\u001b[0m\u001b[39;49m To update, run: \u001b[0m\u001b[32;49mpip install --upgrade pip\u001b[0m\n",
      "Note: you may need to restart the kernel to use updated packages.\n"
     ]
    },
    {
     "data": {
      "text/html": [
       "<script>Jupyter.notebook.kernel.restart()</script>"
      ],
      "text/plain": [
       "<IPython.core.display.HTML object>"
      ]
     },
     "execution_count": 1,
     "metadata": {},
     "output_type": "execute_result"
    }
   ],
   "source": [
    "# Setup - Run only once per Kernel App\n",
    "%conda install openjdk -y\n",
    "\n",
    "# install PySpark\n",
    "%pip install pyspark==3.3.0\n",
    "\n",
    "# restart kernel\n",
    "from IPython.core.display import HTML\n",
    "HTML(\"<script>Jupyter.notebook.kernel.restart()</script>\")"
   ]
  },
  {
   "cell_type": "markdown",
   "metadata": {},
   "source": [
    "## Utilize S3 Data within local PySpark\n",
    "* By specifying the `hadoop-aws` jar in our Spark config we're able to access S3 datasets using the s3a file prefix. \n",
    "* Since we've already authenticated ourself to SageMaker Studio , we can use our assumed SageMaker ExecutionRole for any S3 reads/writes by setting the credential provider as `ContainerCredentialsProvider`"
   ]
  },
  {
   "cell_type": "code",
   "execution_count": 3,
   "metadata": {
    "tags": []
   },
   "outputs": [
    {
     "name": "stderr",
     "output_type": "stream",
     "text": [
      "Warning: Ignoring non-Spark config property: fs.s3a.aws.credentials.provider\n"
     ]
    },
    {
     "name": "stdout",
     "output_type": "stream",
     "text": [
      ":: loading settings :: url = jar:file:/opt/conda/lib/python3.10/site-packages/pyspark/jars/ivy-2.5.0.jar!/org/apache/ivy/core/settings/ivysettings.xml\n"
     ]
    },
    {
     "name": "stderr",
     "output_type": "stream",
     "text": [
      "Ivy Default Cache set to: /root/.ivy2/cache\n",
      "The jars for the packages stored in: /root/.ivy2/jars\n",
      "org.apache.hadoop#hadoop-aws added as a dependency\n",
      ":: resolving dependencies :: org.apache.spark#spark-submit-parent-827b6407-0b89-45ae-aeca-1072d8b5e277;1.0\n",
      "\tconfs: [default]\n",
      "\tfound org.apache.hadoop#hadoop-aws;3.2.2 in central\n",
      "\tfound com.amazonaws#aws-java-sdk-bundle;1.11.563 in central\n",
      ":: resolution report :: resolve 452ms :: artifacts dl 24ms\n",
      "\t:: modules in use:\n",
      "\tcom.amazonaws#aws-java-sdk-bundle;1.11.563 from central in [default]\n",
      "\torg.apache.hadoop#hadoop-aws;3.2.2 from central in [default]\n",
      "\t---------------------------------------------------------------------\n",
      "\t|                  |            modules            ||   artifacts   |\n",
      "\t|       conf       | number| search|dwnlded|evicted|| number|dwnlded|\n",
      "\t---------------------------------------------------------------------\n",
      "\t|      default     |   2   |   0   |   0   |   0   ||   2   |   0   |\n",
      "\t---------------------------------------------------------------------\n",
      ":: retrieving :: org.apache.spark#spark-submit-parent-827b6407-0b89-45ae-aeca-1072d8b5e277\n",
      "\tconfs: [default]\n",
      "\t0 artifacts copied, 2 already retrieved (0kB/20ms)\n"
     ]
    },
    {
     "name": "stdout",
     "output_type": "stream",
     "text": [
      "23/10/19 13:45:27 WARN NativeCodeLoader: Unable to load native-hadoop library for your platform... using builtin-java classes where applicable\n"
     ]
    },
    {
     "name": "stderr",
     "output_type": "stream",
     "text": [
      "Setting default log level to \"WARN\".\n",
      "To adjust logging level use sc.setLogLevel(newLevel). For SparkR, use setLogLevel(newLevel).\n"
     ]
    },
    {
     "name": "stdout",
     "output_type": "stream",
     "text": [
      "23/10/19 13:45:30 WARN Utils: Service 'SparkUI' could not bind on port 4040. Attempting port 4041.\n",
      "3.3.0\n"
     ]
    }
   ],
   "source": [
    "# Import pyspark and build Spark session\n",
    "from pyspark.sql import SparkSession\n",
    "\n",
    "spark = (\n",
    "    SparkSession.builder.appName(\"PySparkApp\")\n",
    "    .config(\"spark.jars.packages\", \"org.apache.hadoop:hadoop-aws:3.2.2\")\n",
    "    .config(\n",
    "        \"fs.s3a.aws.credentials.provider\",\n",
    "        \"com.amazonaws.auth.ContainerCredentialsProvider\",\n",
    "    )\n",
    "    .getOrCreate()\n",
    ")\n",
    "\n",
    "print(spark.version)"
   ]
  },
  {
   "cell_type": "markdown",
   "metadata": {},
   "source": [
    "### Reading data into a Spark Dataframe\n",
    "Note that we will be using the \"s3a\" adapter (read more [here](https://aws.amazon.com/blogs/opensource/community-collaboration-the-s3a-story)). S3A enables Hadoop to directly read and write Amazon S3 objects."
   ]
  },
  {
   "cell_type": "code",
   "execution_count": 4,
   "metadata": {
    "tags": []
   },
   "outputs": [
    {
     "name": "stderr",
     "output_type": "stream",
     "text": [
      "23/10/18 19:39:49 WARN MetricsConfig: Cannot locate configuration: tried hadoop-metrics2-s3a-file-system.properties,hadoop-metrics2.properties\n",
      "                                                                                \r"
     ]
    },
    {
     "name": "stdout",
     "output_type": "stream",
     "text": [
      "+-------------------+----------------------+--------------------+--------------------+----------------+-----------+-------------+------+------+-------+---------+----------+------------+-----+--------+--------------------+------------+\n",
      "|             author|author_flair_css_class|   author_flair_text|                body|controversiality|created_utc|distinguished|edited|gilded|     id|  link_id| parent_id|retrieved_on|score|stickied|           subreddit|subreddit_id|\n",
      "+-------------------+----------------------+--------------------+--------------------+----------------+-----------+-------------+------+------+-------+---------+----------+------------+-----+--------+--------------------+------------+\n",
      "|          y26404986|                  null|                null|Mmmmm ... is this...|               0| 1641098735|         null|  null|     0|hqwcail|t3_rtzn1c| t3_rtzn1c|  1645567209|    1|   false|          RedditSets|   t5_3psukr|\n",
      "|            iTwango|                  null|                null|\"Aren't you a lit...|               0| 1641098735|         null|  null|     0|hqwcaim|t3_rtwci2|t1_hqvbwwp|  1645567209|    2|   false|   NoStupidQuestions|    t5_2w844|\n",
      "|       SandiegoJack|                  null|                null|“Full”\\n\\nAlso if...|               0| 1641098735|         null|  null|     0|hqwcain|t3_rsu2gf|t1_hqp04wj|  1645567209|    1|   false|WarhammerCompetitive|    t5_3mrre|\n",
      "|        Happy-Kevin|                  null|                null|Could possibly be...|               0| 1641098735|         null|  null|     0|hqwcaio|t3_rop938|t1_hq3sq1e|  1645567209|    1|   false|          OculusLink|   t5_25gzcy|\n",
      "|         branden110|  oklahoma-sheet1-r...|:oklahoma: :wyomi...|YOURE GONNA DIE I...|               0| 1641098735|         null|  null|     0|hqwcaip|t3_rtx6ev|t1_hqwc6yz|  1645567209|    2|   false|                 CFB|    t5_2qm9d|\n",
      "|         imsexytoby|                  null|                null|My husband once n...|               0| 1641098735|         null|  null|     0|hqwcaiq|t3_rtfail|t1_hqst17e|  1645567209|    1|   false|       breastfeeding|    t5_2rdj4|\n",
      "|      tryantsupermo|                  null|        Kleptomaniac|Only in time Ochacko|               0| 1641098735|         null|  null|     0|hqwcair|t3_rtja2w| t3_rtja2w|  1645567209|    5|   false|  BokuNoMetaAcademia|    t5_9mbir|\n",
      "|        jstoltpojke|                  null|                null|Where do we get t...|               0| 1641098735|         null|  null|     0|hqwcais|t3_ru1hre| t3_ru1hre|  1645567209|    1|   false|           jerkbudss|   t5_3b1ay1|\n",
      "|          ManaMonoR|                  null|                null|ate some hot dogs...|               0| 1641098735|         null|  null|     0|hqwcait|t3_ru1km9|t1_hqwc6za|  1645567209|    2|   false|              delta8|   t5_2kpdau|\n",
      "|         cassity282|                  null|    Partassipant [4]|why would you ass...|               0| 1641098735|         null|  null|     0|hqwcaiu|t3_rtugjy|t1_hqw4xt7|  1645567209|   37|   false|       AmItheAsshole|    t5_2xhvq|\n",
      "|     BalanceMaestro|                  null|Moron, son of Mor...|Yes.  some people...|               0| 1641098735|         null|  null|     0|hqwcaiv|t3_rtq1hj| t3_rtq1hj|  1645567209|    2|   false|            exmormon|    t5_2r0gj|\n",
      "|      MrVictor01010|                  null|OU - Computer Eng...|       Did you pass?|               0| 1641098735|         null|  null|     0|hqwcaiw|t3_kwimro|t1_gj7ws35|  1645567209|    1|   false| EngineeringStudents|    t5_2sh0b|\n",
      "|            inminit|                  null|                null|I saw this.\\n\\n&a...|               0| 1641098735|         null|  null|     0|hqwcaix|t3_ru0q6u|t1_hqw9lpw|  1645567209|    5|   false|    AlgorandOfficial|    t5_wm2x2|\n",
      "|       xxxC0Y0T3xxx|                  null|                null|They were a bit s...|               0| 1641098735|         null|  null|     0|hqwcaiy|t3_rpzvm5|t1_hqwc3gs|  1645567209|    2|   false|     WorldCrossovers|   t5_2i51nq|\n",
      "| SharedZoneBeyMoist|                  null|                null|Dry Herb Vape, I'...|               0| 1641098735|         null|  null|     0|hqwcaiz|t3_rti5m6|t1_hqsvwbw|  1645567209|    0|   false|             uktrees|    t5_2si9d|\n",
      "|          [deleted]|                  null|                null|           [removed]|               0| 1641098735|         null|  null|     0|hqwcaj0|t3_rtx6ev| t3_rtx6ev|  1645567209|    7|   false|                 CFB|    t5_2qm9d|\n",
      "|     twinnedcalcite|                  null|                null|No a single place...|               0| 1641098735|         null|  null|     0|hqwcaj1|t3_rt95xd|t1_hquwpnt|  1645567209|    1|   false|          iceskating|    t5_2rguz|\n",
      "|             FE4R3D|                  null|                null|I was just prescr...|               0| 1641098735|         null|  null|     0|hqwcaj2|t3_rtptnx| t3_rtptnx|  1645567209|    1|   false|              Asthma|    t5_2s8vp|\n",
      "|Dazzling_Ostrich606|                  null|                null|I never realized ...|               0| 1641098735|         null|  null|     0|hqwcaj3|t3_rtx1lp|t1_hqw1zmm|  1645567209|    3|   false|       marvelstudios|    t5_2uii8|\n",
      "|  Every_Thought5834|                  null|                null|Been in your shoe...|               0| 1641098735|         null|  null|     0|hqwcaj4|t3_ru0mzq| t3_ru0mzq|  1645567209|    5|   false|            Marriage|    t5_2reak|\n",
      "+-------------------+----------------------+--------------------+--------------------+----------------+-----------+-------------+------+------+-------+---------+----------+------------+-----+--------+--------------------+------------+\n",
      "only showing top 20 rows\n",
      "\n",
      "CPU times: user 191 ms, sys: 25.9 ms, total: 217 ms\n",
      "Wall time: 1min 21s\n"
     ]
    }
   ],
   "source": [
    "%%time\n",
    "comments = spark.read.parquet(\n",
    "    \"s3a://bigdatateaching/reddit/parquet/comments/yyyy=*/mm=*/*comments*.parquet\",\n",
    "    header=True\n",
    ")\n",
    "comments.show()"
   ]
  },
  {
   "cell_type": "code",
   "execution_count": 5,
   "metadata": {
    "tags": []
   },
   "outputs": [
    {
     "name": "stderr",
     "output_type": "stream",
     "text": [
      "[Stage 5:>                                                          (0 + 1) / 1]\r"
     ]
    },
    {
     "name": "stdout",
     "output_type": "stream",
     "text": [
      "+------------------+----------------------+--------------------+-----------+-------------+--------------------+-------------+------+-------+------+------------+-------+----------+------------+-----+--------------------+--------+--------------------+------------+--------------------+--------------------+\n",
      "|            author|author_flair_css_class|   author_flair_text|created_utc|distinguished|              domain|       edited|    id|is_self|locked|num_comments|over_18|quarantine|retrieved_on|score|            selftext|stickied|           subreddit|subreddit_id|               title|                 url|\n",
      "+------------------+----------------------+--------------------+-----------+-------------+--------------------+-------------+------+-------+------+------------+-------+----------+------------+-----+--------------------+--------+--------------------+------------+--------------------+--------------------+\n",
      "|         [deleted]|                  null|                null| 1640997058|         null|           i.redd.it|         null|rkrds9|  false| false|           0|  false|     false|  1656064284|    3|           [deleted]|   false|antitheistcheesecake|   t5_56ml5q|           straw man|https://i.redd.it...|\n",
      "|         [deleted]|                  null|                null| 1640997058|         null|self.antitheistch...|         null|rkrhyh|   true| false|           1|  false|     false|  1656064280|    1|           [removed]|   false|antitheistcheesecake|   t5_56ml5q|   [deleted by user]|https://www.reddi...|\n",
      "|         [deleted]|                  null|                null| 1640997058|         null|           i.redd.it|         null|rkrjf5|  false| false|          12|  false|     false|  1656064278|   55|                    |   false|antitheistcheesecake|   t5_56ml5q|The sexual revolu...|https://i.redd.it...|\n",
      "|         [deleted]|                  null|                null| 1640997058|         null|self.antitheistch...|         null|rkrk3b|   true| false|           1|  false|     false|  1656064278|    2|           [removed]|   false|antitheistcheesecake|   t5_56ml5q|   [deleted by user]|https://www.reddi...|\n",
      "|         [deleted]|                  null|                null| 1640997058|         null|           i.redd.it|         null|rkrlu7|  false| false|           6|  false|     false|  1656064276|   41|                    |   false|antitheistcheesecake|   t5_56ml5q|in reality is the...|https://i.redd.it...|\n",
      "|         [deleted]|                  null|                null| 1640997058|         null|self.antitheistch...|         null|rkrmkl|   true| false|           1|  false|     false|  1656064276|    1|           [removed]|   false|antitheistcheesecake|   t5_56ml5q|   [deleted by user]|https://www.reddi...|\n",
      "|            qatlrn|                  null|                null| 1640996362|    moderator|  self.ProjectListen|1.640996737E9|rt0ohv|   true| false|          28|  false|     false|  1654200024|   14|As we bring in th...|   false|       ProjectListen|   t5_4ie55f|Introducing The P...|https://www.reddi...|\n",
      "|           NBA_MOD|                   NBA|  [NBA] Scott Foster| 1640995200|         null|            self.nba|1.641006311E9|rt6ogv|   true| false|          21|  false|     false|  1654199632|    9|##General Informa...|   false|                 nba|    t5_2qo4s|GAME THREAD: New ...|https://www.reddi...|\n",
      "|      FPPenSwapBot|                  null|                 Bot| 1640995200|         null|       self.Pen_Swap|         null|rt6ogw|   true| false|        1884|  false|     false|  1654199632|   22|Post your confirm...|   false|            Pen_Swap|    t5_2tyn2|January 2022 Conf...|https://www.reddi...|\n",
      "|    Donald_Filimon|                  null|        🎨 Artist 🎨| 1640995200|         null|          opensea.io|         null|rt6ogx|  false| false|           2|  false|     false|  1654199632|    1|                    |   false|     NFTsMarketplace|   t5_4147ke|CryptoCoinBank – ...|https://opensea.i...|\n",
      "|       YarnSwapBot|                  null|                 Bot| 1640995200|         null|       self.Yarnswap|         null|rt6ogy|   true| false|          16|  false|     false|  1654199632|    2|Post your confirm...|   false|            Yarnswap|    t5_2rx58|January 2022 Conf...|https://www.reddi...|\n",
      "|           NBA_MOD|                   NBA|  [NBA] Scott Foster| 1640995200|         null|            self.nba|1.641007038E9|rt6ogz|   true| false|          26|  false|     false|  1654199632|   11|##General Informa...|   false|                 nba|    t5_2qo4s|GAME THREAD: San ...|https://www.reddi...|\n",
      "|         [deleted]|                  null|                null| 1640995200|         null|    self.isthislegal|         null|rt6oh0|   true| false|           2|  false|     false|  1654199632|    3|           [removed]|   false|         isthislegal|    t5_2t5h4|   [deleted by user]|https://www.reddi...|\n",
      "|          OtterSou|                  null|                null| 1640995200|         null|        self.ISO8601|         null|rt6oh1|   true| false|          13|  false|     false|  1654199632|  404|Here's to another...|   false|             ISO8601|    t5_2tez4|Happy 2022-01-01T...|https://www.reddi...|\n",
      "|       nearbyareas|                  null|                null| 1640995200|         null|           self.COPD|         null|rt6oh2|   true| false|          13|  false|     false|  1654199632|    3|Also can PFT test...|   false|                COPD|    t5_2wk9n|Copd life expectancy|https://www.reddi...|\n",
      "|           Tokyono|                  null|                null| 1640995200|         null|           i.redd.it|         null|rt6oh5|  false| false|           0|  false|     false|  1654199632|   32|                    |   false|              museum|    t5_2rti0|Briton Riviere - ...|https://i.redd.it...|\n",
      "|Ok-Assignment-6458|                  null|                null| 1640995200|         null|         redgifs.com|         null|rt6oh6|  false| false|           0|   true|     false|  1654199632|    6|                    |   false|       HaveToHaveHer|    t5_3brmn|Blonde With A Nic...|https://www.redgi...|\n",
      "|        Ok-Fly1879|                  null|                null| 1640995200|         null|           i.redd.it|         null|rt6oh7|  false| false|           9|  false|     false|  1654199632|  125|                    |   false|       DannyGonzalez|    t5_mljgb|      Danny GONzalez|https://i.redd.it...|\n",
      "|    Shimmering-Sky|                      |:AMQ::STAR::MAL:h...| 1640995200|         null|          self.anime|         null|rt6oh8|   true| false|          44|  false|     false|  1654199632|   32|#***[Hajimari wa ...|   false|               anime|    t5_2qh22|REMINDER - Cross ...|https://www.reddi...|\n",
      "|          Abyss002|                  null|                null| 1640995200|         null|     self.allthemods|         null|rt6oha|   true| false|           0|  false|     false|  1654199632|    1|           [removed]|   false|          allthemods|    t5_32q4b|[Modded Server | ...|https://www.reddi...|\n",
      "+------------------+----------------------+--------------------+-----------+-------------+--------------------+-------------+------+-------+------+------------+-------+----------+------------+-----+--------------------+--------+--------------------+------------+--------------------+--------------------+\n",
      "only showing top 20 rows\n",
      "\n",
      "CPU times: user 24.8 ms, sys: 4.68 ms, total: 29.5 ms\n",
      "Wall time: 23.9 s\n"
     ]
    },
    {
     "name": "stderr",
     "output_type": "stream",
     "text": [
      "                                                                                \r"
     ]
    }
   ],
   "source": [
    "%%time\n",
    "submissions = spark.read.parquet(\n",
    "    \"s3a://bigdatateaching/reddit/parquet/submissions/yyyy=*/mm=*/*submissions*.parquet\",\n",
    "    header=True\n",
    ")\n",
    "submissions.show()"
   ]
  },
  {
   "cell_type": "code",
   "execution_count": 6,
   "metadata": {
    "tags": []
   },
   "outputs": [
    {
     "name": "stderr",
     "output_type": "stream",
     "text": [
      "[Stage 6:======================================================>(450 + 1) / 451]\r"
     ]
    },
    {
     "name": "stdout",
     "output_type": "stream",
     "text": [
      "shape of the submissions dataframe is 313,972,841x21\n",
      "CPU times: user 268 ms, sys: 47.8 ms, total: 315 ms\n",
      "Wall time: 1min 52s\n"
     ]
    },
    {
     "name": "stderr",
     "output_type": "stream",
     "text": [
      "                                                                                \r"
     ]
    }
   ],
   "source": [
    "%%time\n",
    "print(f\"shape of the submissions dataframe is {submissions.count():,}x{len(submissions.columns)}\") "
   ]
  },
  {
   "cell_type": "code",
   "execution_count": 7,
   "metadata": {
    "tags": []
   },
   "outputs": [
    {
     "name": "stderr",
     "output_type": "stream",
     "text": [
      "[Stage 11:>                                                         (0 + 1) / 1]\r"
     ]
    },
    {
     "name": "stdout",
     "output_type": "stream",
     "text": [
      "shape of the comments dataframe is 3,076,907,105x17\n",
      "CPU times: user 2.12 s, sys: 523 ms, total: 2.64 s\n",
      "Wall time: 21min 55s\n"
     ]
    },
    {
     "name": "stderr",
     "output_type": "stream",
     "text": [
      "                                                                                \r"
     ]
    }
   ],
   "source": [
    "%%time\n",
    "print(f\"shape of the comments dataframe is {comments.count():,}x{len(comments.columns)}\") "
   ]
  },
  {
   "cell_type": "markdown",
   "metadata": {},
   "source": [
    "## Exploratory data analysis\n",
    "Let us find the number of submissions and comments per subreddit. We will use SparkSQL for this."
   ]
  },
  {
   "cell_type": "code",
   "execution_count": 8,
   "metadata": {
    "tags": []
   },
   "outputs": [],
   "source": [
    "submissions.createOrReplaceTempView(\"submissions\")\n",
    "comments.createOrReplaceTempView(\"comments\")"
   ]
  },
  {
   "cell_type": "code",
   "execution_count": 9,
   "metadata": {
    "tags": []
   },
   "outputs": [
    {
     "name": "stderr",
     "output_type": "stream",
     "text": [
      "[Stage 14:===================================================>    (11 + 1) / 12]\r"
     ]
    },
    {
     "name": "stdout",
     "output_type": "stream",
     "text": [
      "+-------------------+-------+\n",
      "|          subreddit|  count|\n",
      "+-------------------+-------+\n",
      "|          AskReddit|2820312|\n",
      "|       dirtykikpals|1797324|\n",
      "|           dirtyr4r|1645658|\n",
      "|        GaySnapchat|1294169|\n",
      "|          jerkbudss|1226116|\n",
      "|          teenagers| 992427|\n",
      "|      DirtySnapchat| 924343|\n",
      "|      FreeKarma4You| 740495|\n",
      "|relationship_advice| 714845|\n",
      "|      AutoNewspaper| 701442|\n",
      "|        MassiveCock| 694869|\n",
      "|            FemBoys| 653319|\n",
      "|               cock| 642364|\n",
      "|              memes| 631451|\n",
      "|     wifepictrading| 621277|\n",
      "|          Eldenring| 616378|\n",
      "|           gonewild| 607159|\n",
      "|         needysluts| 584244|\n",
      "|     PokemonGoRaids| 575693|\n",
      "|      Roleplaybuddy| 555313|\n",
      "+-------------------+-------+\n",
      "only showing top 20 rows\n",
      "\n",
      "CPU times: user 453 ms, sys: 104 ms, total: 558 ms\n",
      "Wall time: 8min 20s\n"
     ]
    },
    {
     "name": "stderr",
     "output_type": "stream",
     "text": [
      "                                                                                \r"
     ]
    }
   ],
   "source": [
    "%%time\n",
    "\n",
    "sql_str=\"select subreddit, count(id) as count from submissions group by subreddit order by count desc\"\n",
    "submissions_subreddit_count = spark.sql(sql_str)\n",
    "submissions_subreddit_count.show()"
   ]
  },
  {
   "cell_type": "markdown",
   "metadata": {},
   "source": [
    "## Process S3 data with SageMaker Processing Job `PySparkProcessor`\n",
    "\n",
    "We are going to move the above processing code in a Python file and then submit that file to SageMaker Processing Job's [`PySparkProcessor`](https://sagemaker.readthedocs.io/en/stable/amazon_sagemaker_processing.html#pysparkprocessor)."
   ]
  },
  {
   "cell_type": "code",
   "execution_count": 13,
   "metadata": {
    "tags": []
   },
   "outputs": [],
   "source": [
    "!mkdir -p ./code"
   ]
  },
  {
   "cell_type": "code",
   "execution_count": 56,
   "metadata": {
    "tags": []
   },
   "outputs": [
    {
     "name": "stdout",
     "output_type": "stream",
     "text": [
      "Overwriting ./code/process.py\n"
     ]
    }
   ],
   "source": [
    "%%writefile ./code/process.py\n",
    "\n",
    "import os\n",
    "import logging\n",
    "import argparse\n",
    "\n",
    "# Import pyspark and build Spark session\n",
    "from pyspark.sql.functions import *\n",
    "from pyspark.sql.types import (\n",
    "    DoubleType,\n",
    "    IntegerType,\n",
    "    StringType,\n",
    "    StructField,\n",
    "    StructType,\n",
    ")\n",
    "from pyspark.sql import SparkSession\n",
    "from pyspark.sql.functions import col\n",
    "\n",
    "logging.basicConfig(format='%(asctime)s,%(levelname)s,%(module)s,%(filename)s,%(lineno)d,%(message)s', level=logging.DEBUG)\n",
    "logger = logging.getLogger()\n",
    "logger.setLevel(logging.DEBUG)\n",
    "logger.addHandler(logging.StreamHandler(sys.stdout))\n",
    "\n",
    "def main():\n",
    "    parser = argparse.ArgumentParser(description=\"app inputs and outputs\")\n",
    "    parser.add_argument(\"--s3_dataset_path_commments\", type=str, help=\"Path of dataset in S3 for reddit comments\")\n",
    "    parser.add_argument(\"--s3_dataset_path_submissions\", type=str, help=\"Path of dataset in S3 for reddit submissions\")\n",
    "    parser.add_argument(\"--s3_output_bucket\", type=str, help=\"s3 output bucket\")\n",
    "    parser.add_argument(\"--s3_output_prefix\", type=str, help=\"s3 output prefix\")\n",
    "    parser.add_argument(\"--subreddits\", type=str, help=\"comma separate list of subreddits of interest\")\n",
    "    args = parser.parse_args()\n",
    "\n",
    "    spark = SparkSession.builder.appName(\"PySparkApp\").getOrCreate()\n",
    "    logger.info(f\"spark version = {spark.version}\")\n",
    "    \n",
    "    # This is needed to save RDDs which is the only way to write nested Dataframes into CSV format\n",
    "    sc = spark.sparkContext\n",
    "    sc._jsc.hadoopConfiguration().set(\n",
    "        \"mapred.output.committer.class\", \"org.apache.hadoop.mapred.FileOutputCommitter\"\n",
    "    )\n",
    "\n",
    "   \n",
    "    # Downloading the data from S3 into a Dataframe\n",
    "    logger.info(f\"going to read {args.s3_dataset_path_commments}\")\n",
    "    comments = spark.read.parquet(args.s3_dataset_path_commments, header=True)\n",
    "    logger.info(f\"finished reading files...\")\n",
    "    \n",
    "    logger.info(f\"going to read {args.s3_dataset_path_submissions}\")\n",
    "    submissions = spark.read.parquet(args.s3_dataset_path_submissions, header=True)\n",
    "    logger.info(f\"finished reading files...\")\n",
    "    \n",
    "    # filter the dataframe to only keep the subreddits of interest\n",
    "    subreddits = [s.strip() for s in args.subreddits.split(\",\")]\n",
    "    submissions_filtered = submissions.where(lower(col(\"subreddit\")).isin(subreddits))\n",
    "    comments_filtered = comments.where(lower(col(\"subreddit\")).isin(subreddits))\n",
    "    \n",
    "    # save the filtered dataframes so that these files can now be used for future analysis\n",
    "    s3_path = f\"s3://{args.s3_output_bucket}/{args.s3_output_prefix}/comments\"\n",
    "    logger.info(f\"going to write comments for {subreddits} in {s3_path}\")\n",
    "    logger.info(f\"shape of the comments_filtered dataframe is {comments_filtered.count():,}x{len(comments_filtered.columns)}\")\n",
    "    comments_filtered.write.mode(\"overwrite\").parquet(s3_path)\n",
    "    \n",
    "    s3_path = f\"s3://{args.s3_output_bucket}/{args.s3_output_prefix}/submissions\"\n",
    "    logger.info(f\"going to write submissions for {subreddits} in {s3_path}\")\n",
    "    logger.info(f\"shape of the submissions_filtered dataframe is {submissions_filtered.count():,}x{len(submissions_filtered.columns)}\")\n",
    "    submissions_filtered.write.mode(\"overwrite\").parquet(s3_path)\n",
    "\n",
    "if __name__ == \"__main__\":\n",
    "    main()"
   ]
  },
  {
   "cell_type": "markdown",
   "metadata": {},
   "source": [
    "Now submit this code to SageMaker Processing Job."
   ]
  },
  {
   "cell_type": "code",
   "execution_count": 57,
   "metadata": {
    "tags": []
   },
   "outputs": [
    {
     "name": "stdout",
     "output_type": "stream",
     "text": [
      "sagemaker.config INFO - Not applying SDK defaults from location: /etc/xdg/sagemaker/config.yaml\n",
      "sagemaker.config INFO - Not applying SDK defaults from location: /root/.config/sagemaker/config.yaml\n",
      "sagemaker.config INFO - Not applying SDK defaults from location: /etc/xdg/sagemaker/config.yaml\n",
      "sagemaker.config INFO - Not applying SDK defaults from location: /root/.config/sagemaker/config.yaml\n",
      "sagemaker.config INFO - Not applying SDK defaults from location: /etc/xdg/sagemaker/config.yaml\n",
      "sagemaker.config INFO - Not applying SDK defaults from location: /root/.config/sagemaker/config.yaml\n"
     ]
    },
    {
     "name": "stderr",
     "output_type": "stream",
     "text": [
      "INFO:sagemaker:Creating processing-job with name sm-spark-project-2023-10-19-20-15-37-645\n"
     ]
    },
    {
     "name": "stdout",
     "output_type": "stream",
     "text": [
      "....................................................................................................................!CPU times: user 1.32 s, sys: 123 ms, total: 1.44 s\n",
      "Wall time: 9min 51s\n"
     ]
    }
   ],
   "source": [
    "%%time\n",
    "import sagemaker\n",
    "from sagemaker.spark.processing import PySparkProcessor\n",
    "\n",
    "# Setup the PySpark processor to run the job. Note the instance type and instance count parameters. SageMaker will create these many instances of this type for the spark job.\n",
    "role = sagemaker.get_execution_role()\n",
    "spark_processor = PySparkProcessor(\n",
    "    base_job_name=\"sm-spark-project\",\n",
    "    framework_version=\"3.3\",\n",
    "    role=role,\n",
    "    instance_count=6,\n",
    "    instance_type=\"ml.m5.xlarge\",\n",
    "    max_runtime_in_seconds=3600,\n",
    ")\n",
    "\n",
    "# s3 paths\n",
    "session = sagemaker.Session()\n",
    "bucket = session.default_bucket()\n",
    "s3_dataset_path_commments = \"s3://bigdatateaching/reddit-parquet/comments/year=2021/month=1/*.parquet\"\n",
    "s3_dataset_path_submissions = \"s3://bigdatateaching/reddit-parquet/submissions/year=2021/month=1/*.parquet\"\n",
    "output_prefix_data = \"project\"\n",
    "output_prefix_logs = f\"spark_logs\"\n",
    "\n",
    "# modify this comma separated list to choose the subreddits of interest\n",
    "subreddits = \"technology,chatgpt\"\n",
    "    \n",
    "# run the job now, the arguments array is provided as command line to the Python script (Spark code in this case).\n",
    "spark_processor.run(\n",
    "    submit_app=\"./code/process.py\",\n",
    "    arguments=[\n",
    "        \"--s3_dataset_path_commments\",\n",
    "        s3_dataset_path_commments,\n",
    "        \"--s3_dataset_path_submissions\",\n",
    "        s3_dataset_path_submissions,\n",
    "        \"--s3_output_bucket\",\n",
    "        bucket,\n",
    "        \"--s3_output_prefix\",\n",
    "        output_prefix_data,\n",
    "        \"--subreddits\",\n",
    "        subreddits,\n",
    "    ],\n",
    "    spark_event_logs_s3_uri=\"s3://{}/{}/spark_event_logs\".format(bucket, output_prefix_logs),\n",
    "    logs=False,\n",
    ")"
   ]
  },
  {
   "cell_type": "markdown",
   "metadata": {},
   "source": [
    "## Read the filtered data\n",
    "\n",
    "Now that we have filtered the data to only keep submissions and comments from subreddits of interest. Let us read data from the s3 path where we saved the filtered data."
   ]
  },
  {
   "cell_type": "code",
   "execution_count": 58,
   "metadata": {},
   "outputs": [
    {
     "name": "stdout",
     "output_type": "stream",
     "text": [
      "reading submissions from s3a://sagemaker-us-east-1-038932893404/project/comments\n"
     ]
    },
    {
     "name": "stderr",
     "output_type": "stream",
     "text": [
      "[Stage 67:===================================================>      (8 + 1) / 9]\r"
     ]
    },
    {
     "name": "stdout",
     "output_type": "stream",
     "text": [
      "shape of the comments dataframe is 274,356x21\n",
      "CPU times: user 19.1 ms, sys: 0 ns, total: 19.1 ms\n",
      "Wall time: 31.6 s\n"
     ]
    },
    {
     "name": "stderr",
     "output_type": "stream",
     "text": [
      "                                                                                \r"
     ]
    }
   ],
   "source": [
    "%%time\n",
    "s3_path = f\"s3a://{bucket}/{output_prefix_data}/comments\"\n",
    "print(f\"reading submissions from {s3_path}\")\n",
    "comments = spark.read.parquet(s3_path, header=True)\n",
    "print(f\"shape of the comments dataframe is {comments.count():,}x{len(comments.columns)}\")"
   ]
  },
  {
   "cell_type": "code",
   "execution_count": 59,
   "metadata": {
    "tags": []
   },
   "outputs": [
    {
     "name": "stdout",
     "output_type": "stream",
     "text": [
      "root\n",
      " |-- author: string (nullable = true)\n",
      " |-- author_cakeday: boolean (nullable = true)\n",
      " |-- author_flair_css_class: string (nullable = true)\n",
      " |-- author_flair_text: string (nullable = true)\n",
      " |-- body: string (nullable = true)\n",
      " |-- can_gild: boolean (nullable = true)\n",
      " |-- controversiality: long (nullable = true)\n",
      " |-- created_utc: timestamp (nullable = true)\n",
      " |-- distinguished: string (nullable = true)\n",
      " |-- edited: string (nullable = true)\n",
      " |-- gilded: long (nullable = true)\n",
      " |-- id: string (nullable = true)\n",
      " |-- is_submitter: boolean (nullable = true)\n",
      " |-- link_id: string (nullable = true)\n",
      " |-- parent_id: string (nullable = true)\n",
      " |-- permalink: string (nullable = true)\n",
      " |-- retrieved_on: timestamp (nullable = true)\n",
      " |-- score: long (nullable = true)\n",
      " |-- stickied: boolean (nullable = true)\n",
      " |-- subreddit: string (nullable = true)\n",
      " |-- subreddit_id: string (nullable = true)\n",
      "\n"
     ]
    }
   ],
   "source": [
    "comments.printSchema()"
   ]
  },
  {
   "cell_type": "code",
   "execution_count": 60,
   "metadata": {
    "tags": []
   },
   "outputs": [
    {
     "name": "stdout",
     "output_type": "stream",
     "text": [
      "+----------+------------------+--------------------+----------+---------+-------+-------------------+\n",
      "| subreddit|            author|                body| parent_id|  link_id|     id|        created_utc|\n",
      "+----------+------------------+--------------------+----------+---------+-------+-------------------+\n",
      "|technology|   GoUnionOrGoHome|I'm not talking j...|t1_gifdzl5|t3_ks169v|gifqqti|2021-01-07 16:12:53|\n",
      "|technology|         suntehnik|Why you advertise...|t1_giafqic|t3_krkfcr|gifqr3r|2021-01-07 16:12:56|\n",
      "|technology|             gzunk|&gt;If your worri...|t1_gifooo3|t3_kscmqc|gifqrez|2021-01-07 16:13:00|\n",
      "|technology|ValidatingUsername|Please read your ...|t1_gifqe37|t3_ks169v|gifqryn|2021-01-07 16:13:07|\n",
      "|technology|     AutoModerator|Due to the proxim...| t3_ksgf0s|t3_ksgf0s|gifqs2b|2021-01-07 16:13:08|\n",
      "|technology|         [deleted]|           [removed]|t1_gifp7gn|t3_ks169v|gifqst1|2021-01-07 16:13:18|\n",
      "|technology|    CountChoculahh|My guess is that ...|t1_gifp9gw|t3_ks169v|gifqt1x|2021-01-07 16:13:21|\n",
      "|technology|              Head|Where do I find G...|t1_gidu4bx|t3_ks169v|gifqtjj|2021-01-07 16:13:28|\n",
      "|technology|         [deleted]|           [removed]| t3_ksgb0y|t3_ksgb0y|gifqu9u|2021-01-07 16:13:37|\n",
      "|technology|             popny|       The subwoofer|t1_gifm4g6|t3_kscte9|gifqvaq|2021-01-07 16:13:51|\n",
      "|technology|         [deleted]|           [removed]| t3_ksft2b|t3_ksft2b|gifqw6r|2021-01-07 16:14:02|\n",
      "|technology|           zer04ll|ReFS tells you if...|t1_gifqrez|t3_kscmqc|gifqwdo|2021-01-07 16:14:04|\n",
      "|technology|             gzunk|I wouldn't confla...|t1_gifiqsf|t3_kscmqc|gifqx4l|2021-01-07 16:14:14|\n",
      "|technology|   RacistsAreFacts|You literally thi...|t1_gieulq8|t3_kqsvwt|gifqx5w|2021-01-07 16:14:15|\n",
      "|technology|           CactusJ|I pretty much onl...|t1_gif916l|t3_ks169v|gifqxy6|2021-01-07 16:14:25|\n",
      "|technology|        nodeath370|I think you are t...|t1_gifo9g8|t3_ksfp8x|gifqyca|2021-01-07 16:14:30|\n",
      "|technology|         cafeclimb|What!!!!! Noooooo...|t1_gielym1|t3_ks3x79|gifqzf0|2021-01-07 16:14:44|\n",
      "|technology|           AbeRego|I think it's impo...|t1_gidzzgr|t3_ks169v|gifqzgl|2021-01-07 16:14:44|\n",
      "|technology|       DeaDestBeaT|Im sorry, I didn’...|t1_gifqt1x|t3_ks169v|gifqzuq|2021-01-07 16:14:49|\n",
      "|technology|     AutoModerator|Due to the proxim...| t3_ksggh2|t3_ksggh2|gifr0dl|2021-01-07 16:14:56|\n",
      "+----------+------------------+--------------------+----------+---------+-------+-------------------+\n",
      "only showing top 20 rows\n",
      "\n"
     ]
    },
    {
     "name": "stderr",
     "output_type": "stream",
     "text": [
      "                                                                                \r"
     ]
    }
   ],
   "source": [
    "# display a subset of columns\n",
    "comments.select(\"subreddit\", \"author\", \"body\", \"parent_id\", \"link_id\", \"id\", \"created_utc\").show()"
   ]
  },
  {
   "cell_type": "code",
   "execution_count": 61,
   "metadata": {
    "tags": []
   },
   "outputs": [
    {
     "name": "stdout",
     "output_type": "stream",
     "text": [
      "reading submissions from s3a://sagemaker-us-east-1-038932893404/project/submissions\n"
     ]
    },
    {
     "name": "stderr",
     "output_type": "stream",
     "text": [
      "[Stage 72:===========================================>              (3 + 1) / 4]\r"
     ]
    },
    {
     "name": "stdout",
     "output_type": "stream",
     "text": [
      "shape of the submissions dataframe is 14,142x68\n",
      "CPU times: user 14 ms, sys: 995 µs, total: 15 ms\n",
      "Wall time: 14.9 s\n"
     ]
    },
    {
     "name": "stderr",
     "output_type": "stream",
     "text": [
      "                                                                                \r"
     ]
    }
   ],
   "source": [
    "%%time\n",
    "s3_path = f\"s3a://{bucket}/{output_prefix_data}/submissions\"\n",
    "print(f\"reading submissions from {s3_path}\")\n",
    "submissions = spark.read.parquet(s3_path, header=True)\n",
    "print(f\"shape of the submissions dataframe is {submissions.count():,}x{len(submissions.columns)}\")"
   ]
  },
  {
   "cell_type": "code",
   "execution_count": 62,
   "metadata": {
    "tags": []
   },
   "outputs": [
    {
     "name": "stdout",
     "output_type": "stream",
     "text": [
      "root\n",
      " |-- adserver_click_url: string (nullable = true)\n",
      " |-- adserver_imp_pixel: string (nullable = true)\n",
      " |-- archived: boolean (nullable = true)\n",
      " |-- author: string (nullable = true)\n",
      " |-- author_cakeday: boolean (nullable = true)\n",
      " |-- author_flair_css_class: string (nullable = true)\n",
      " |-- author_flair_text: string (nullable = true)\n",
      " |-- author_id: string (nullable = true)\n",
      " |-- brand_safe: boolean (nullable = true)\n",
      " |-- contest_mode: boolean (nullable = true)\n",
      " |-- created_utc: timestamp (nullable = true)\n",
      " |-- crosspost_parent: string (nullable = true)\n",
      " |-- crosspost_parent_list: array (nullable = true)\n",
      " |    |-- element: struct (containsNull = true)\n",
      " |    |    |-- approved_at_utc: string (nullable = true)\n",
      " |    |    |-- approved_by: string (nullable = true)\n",
      " |    |    |-- archived: boolean (nullable = true)\n",
      " |    |    |-- author: string (nullable = true)\n",
      " |    |    |-- author_flair_css_class: string (nullable = true)\n",
      " |    |    |-- author_flair_text: string (nullable = true)\n",
      " |    |    |-- banned_at_utc: string (nullable = true)\n",
      " |    |    |-- banned_by: string (nullable = true)\n",
      " |    |    |-- brand_safe: boolean (nullable = true)\n",
      " |    |    |-- can_gild: boolean (nullable = true)\n",
      " |    |    |-- can_mod_post: boolean (nullable = true)\n",
      " |    |    |-- clicked: boolean (nullable = true)\n",
      " |    |    |-- contest_mode: boolean (nullable = true)\n",
      " |    |    |-- created: double (nullable = true)\n",
      " |    |    |-- created_utc: double (nullable = true)\n",
      " |    |    |-- distinguished: string (nullable = true)\n",
      " |    |    |-- domain: string (nullable = true)\n",
      " |    |    |-- downs: long (nullable = true)\n",
      " |    |    |-- edited: boolean (nullable = true)\n",
      " |    |    |-- gilded: long (nullable = true)\n",
      " |    |    |-- hidden: boolean (nullable = true)\n",
      " |    |    |-- hide_score: boolean (nullable = true)\n",
      " |    |    |-- id: string (nullable = true)\n",
      " |    |    |-- is_crosspostable: boolean (nullable = true)\n",
      " |    |    |-- is_reddit_media_domain: boolean (nullable = true)\n",
      " |    |    |-- is_self: boolean (nullable = true)\n",
      " |    |    |-- is_video: boolean (nullable = true)\n",
      " |    |    |-- likes: string (nullable = true)\n",
      " |    |    |-- link_flair_css_class: string (nullable = true)\n",
      " |    |    |-- link_flair_text: string (nullable = true)\n",
      " |    |    |-- locked: boolean (nullable = true)\n",
      " |    |    |-- media: string (nullable = true)\n",
      " |    |    |-- mod_reports: array (nullable = true)\n",
      " |    |    |    |-- element: string (containsNull = true)\n",
      " |    |    |-- name: string (nullable = true)\n",
      " |    |    |-- num_comments: long (nullable = true)\n",
      " |    |    |-- num_crossposts: long (nullable = true)\n",
      " |    |    |-- num_reports: string (nullable = true)\n",
      " |    |    |-- over_18: boolean (nullable = true)\n",
      " |    |    |-- parent_whitelist_status: string (nullable = true)\n",
      " |    |    |-- permalink: string (nullable = true)\n",
      " |    |    |-- pinned: boolean (nullable = true)\n",
      " |    |    |-- quarantine: boolean (nullable = true)\n",
      " |    |    |-- removal_reason: string (nullable = true)\n",
      " |    |    |-- report_reasons: string (nullable = true)\n",
      " |    |    |-- saved: boolean (nullable = true)\n",
      " |    |    |-- score: long (nullable = true)\n",
      " |    |    |-- secure_media: string (nullable = true)\n",
      " |    |    |-- selftext: string (nullable = true)\n",
      " |    |    |-- selftext_html: string (nullable = true)\n",
      " |    |    |-- spoiler: boolean (nullable = true)\n",
      " |    |    |-- stickied: boolean (nullable = true)\n",
      " |    |    |-- subreddit: string (nullable = true)\n",
      " |    |    |-- subreddit_id: string (nullable = true)\n",
      " |    |    |-- subreddit_name_prefixed: string (nullable = true)\n",
      " |    |    |-- subreddit_type: string (nullable = true)\n",
      " |    |    |-- suggested_sort: string (nullable = true)\n",
      " |    |    |-- thumbnail: string (nullable = true)\n",
      " |    |    |-- thumbnail_height: string (nullable = true)\n",
      " |    |    |-- thumbnail_width: string (nullable = true)\n",
      " |    |    |-- title: string (nullable = true)\n",
      " |    |    |-- ups: long (nullable = true)\n",
      " |    |    |-- url: string (nullable = true)\n",
      " |    |    |-- user_reports: array (nullable = true)\n",
      " |    |    |    |-- element: string (containsNull = true)\n",
      " |    |    |-- view_count: string (nullable = true)\n",
      " |    |    |-- visited: boolean (nullable = true)\n",
      " |    |    |-- whitelist_status: string (nullable = true)\n",
      " |-- disable_comments: boolean (nullable = true)\n",
      " |-- distinguished: string (nullable = true)\n",
      " |-- domain: string (nullable = true)\n",
      " |-- domain_override: string (nullable = true)\n",
      " |-- edited: string (nullable = true)\n",
      " |-- embed_type: string (nullable = true)\n",
      " |-- embed_url: string (nullable = true)\n",
      " |-- gilded: long (nullable = true)\n",
      " |-- hidden: boolean (nullable = true)\n",
      " |-- hide_score: boolean (nullable = true)\n",
      " |-- href_url: string (nullable = true)\n",
      " |-- id: string (nullable = true)\n",
      " |-- imp_pixel: string (nullable = true)\n",
      " |-- is_crosspostable: boolean (nullable = true)\n",
      " |-- is_reddit_media_domain: boolean (nullable = true)\n",
      " |-- is_self: boolean (nullable = true)\n",
      " |-- is_video: boolean (nullable = true)\n",
      " |-- link_flair_css_class: string (nullable = true)\n",
      " |-- link_flair_text: string (nullable = true)\n",
      " |-- locked: boolean (nullable = true)\n",
      " |-- media: struct (nullable = true)\n",
      " |    |-- event_id: string (nullable = true)\n",
      " |    |-- oembed: struct (nullable = true)\n",
      " |    |    |-- author_name: string (nullable = true)\n",
      " |    |    |-- author_url: string (nullable = true)\n",
      " |    |    |-- cache_age: long (nullable = true)\n",
      " |    |    |-- description: string (nullable = true)\n",
      " |    |    |-- height: long (nullable = true)\n",
      " |    |    |-- html: string (nullable = true)\n",
      " |    |    |-- provider_name: string (nullable = true)\n",
      " |    |    |-- provider_url: string (nullable = true)\n",
      " |    |    |-- thumbnail_height: long (nullable = true)\n",
      " |    |    |-- thumbnail_url: string (nullable = true)\n",
      " |    |    |-- thumbnail_width: long (nullable = true)\n",
      " |    |    |-- title: string (nullable = true)\n",
      " |    |    |-- type: string (nullable = true)\n",
      " |    |    |-- url: string (nullable = true)\n",
      " |    |    |-- version: string (nullable = true)\n",
      " |    |    |-- width: long (nullable = true)\n",
      " |    |-- reddit_video: struct (nullable = true)\n",
      " |    |    |-- dash_url: string (nullable = true)\n",
      " |    |    |-- duration: long (nullable = true)\n",
      " |    |    |-- fallback_url: string (nullable = true)\n",
      " |    |    |-- height: long (nullable = true)\n",
      " |    |    |-- hls_url: string (nullable = true)\n",
      " |    |    |-- is_gif: boolean (nullable = true)\n",
      " |    |    |-- scrubber_media_url: string (nullable = true)\n",
      " |    |    |-- transcoding_status: string (nullable = true)\n",
      " |    |    |-- width: long (nullable = true)\n",
      " |    |-- type: string (nullable = true)\n",
      " |-- media_embed: struct (nullable = true)\n",
      " |    |-- content: string (nullable = true)\n",
      " |    |-- height: long (nullable = true)\n",
      " |    |-- scrolling: boolean (nullable = true)\n",
      " |    |-- width: long (nullable = true)\n",
      " |-- mobile_ad_url: string (nullable = true)\n",
      " |-- num_comments: long (nullable = true)\n",
      " |-- num_crossposts: long (nullable = true)\n",
      " |-- original_link: string (nullable = true)\n",
      " |-- over_18: boolean (nullable = true)\n",
      " |-- parent_whitelist_status: string (nullable = true)\n",
      " |-- permalink: string (nullable = true)\n",
      " |-- pinned: boolean (nullable = true)\n",
      " |-- post_hint: string (nullable = true)\n",
      " |-- preview: struct (nullable = true)\n",
      " |    |-- enabled: boolean (nullable = true)\n",
      " |    |-- images: array (nullable = true)\n",
      " |    |    |-- element: struct (containsNull = true)\n",
      " |    |    |    |-- id: string (nullable = true)\n",
      " |    |    |    |-- resolutions: array (nullable = true)\n",
      " |    |    |    |    |-- element: struct (containsNull = true)\n",
      " |    |    |    |    |    |-- height: long (nullable = true)\n",
      " |    |    |    |    |    |-- url: string (nullable = true)\n",
      " |    |    |    |    |    |-- width: long (nullable = true)\n",
      " |    |    |    |-- source: struct (nullable = true)\n",
      " |    |    |    |    |-- height: long (nullable = true)\n",
      " |    |    |    |    |-- url: string (nullable = true)\n",
      " |    |    |    |    |-- width: long (nullable = true)\n",
      " |    |    |    |-- variants: struct (nullable = true)\n",
      " |    |    |    |    |-- gif: struct (nullable = true)\n",
      " |    |    |    |    |    |-- resolutions: array (nullable = true)\n",
      " |    |    |    |    |    |    |-- element: struct (containsNull = true)\n",
      " |    |    |    |    |    |    |    |-- height: long (nullable = true)\n",
      " |    |    |    |    |    |    |    |-- url: string (nullable = true)\n",
      " |    |    |    |    |    |    |    |-- width: long (nullable = true)\n",
      " |    |    |    |    |    |-- source: struct (nullable = true)\n",
      " |    |    |    |    |    |    |-- height: long (nullable = true)\n",
      " |    |    |    |    |    |    |-- url: string (nullable = true)\n",
      " |    |    |    |    |    |    |-- width: long (nullable = true)\n",
      " |    |    |    |    |-- mp4: struct (nullable = true)\n",
      " |    |    |    |    |    |-- resolutions: array (nullable = true)\n",
      " |    |    |    |    |    |    |-- element: struct (containsNull = true)\n",
      " |    |    |    |    |    |    |    |-- height: long (nullable = true)\n",
      " |    |    |    |    |    |    |    |-- url: string (nullable = true)\n",
      " |    |    |    |    |    |    |    |-- width: long (nullable = true)\n",
      " |    |    |    |    |    |-- source: struct (nullable = true)\n",
      " |    |    |    |    |    |    |-- height: long (nullable = true)\n",
      " |    |    |    |    |    |    |-- url: string (nullable = true)\n",
      " |    |    |    |    |    |    |-- width: long (nullable = true)\n",
      " |    |    |    |    |-- nsfw: struct (nullable = true)\n",
      " |    |    |    |    |    |-- resolutions: array (nullable = true)\n",
      " |    |    |    |    |    |    |-- element: struct (containsNull = true)\n",
      " |    |    |    |    |    |    |    |-- height: long (nullable = true)\n",
      " |    |    |    |    |    |    |    |-- url: string (nullable = true)\n",
      " |    |    |    |    |    |    |    |-- width: long (nullable = true)\n",
      " |    |    |    |    |    |-- source: struct (nullable = true)\n",
      " |    |    |    |    |    |    |-- height: long (nullable = true)\n",
      " |    |    |    |    |    |    |-- url: string (nullable = true)\n",
      " |    |    |    |    |    |    |-- width: long (nullable = true)\n",
      " |    |    |    |    |-- obfuscated: struct (nullable = true)\n",
      " |    |    |    |    |    |-- resolutions: array (nullable = true)\n",
      " |    |    |    |    |    |    |-- element: struct (containsNull = true)\n",
      " |    |    |    |    |    |    |    |-- height: long (nullable = true)\n",
      " |    |    |    |    |    |    |    |-- url: string (nullable = true)\n",
      " |    |    |    |    |    |    |    |-- width: long (nullable = true)\n",
      " |    |    |    |    |    |-- source: struct (nullable = true)\n",
      " |    |    |    |    |    |    |-- height: long (nullable = true)\n",
      " |    |    |    |    |    |    |-- url: string (nullable = true)\n",
      " |    |    |    |    |    |    |-- width: long (nullable = true)\n",
      " |-- promoted: boolean (nullable = true)\n",
      " |-- promoted_by: string (nullable = true)\n",
      " |-- promoted_display_name: string (nullable = true)\n",
      " |-- promoted_url: string (nullable = true)\n",
      " |-- retrieved_on: timestamp (nullable = true)\n",
      " |-- score: long (nullable = true)\n",
      " |-- secure_media: struct (nullable = true)\n",
      " |    |-- event_id: string (nullable = true)\n",
      " |    |-- oembed: struct (nullable = true)\n",
      " |    |    |-- author_name: string (nullable = true)\n",
      " |    |    |-- author_url: string (nullable = true)\n",
      " |    |    |-- cache_age: long (nullable = true)\n",
      " |    |    |-- description: string (nullable = true)\n",
      " |    |    |-- height: long (nullable = true)\n",
      " |    |    |-- html: string (nullable = true)\n",
      " |    |    |-- provider_name: string (nullable = true)\n",
      " |    |    |-- provider_url: string (nullable = true)\n",
      " |    |    |-- thumbnail_height: long (nullable = true)\n",
      " |    |    |-- thumbnail_url: string (nullable = true)\n",
      " |    |    |-- thumbnail_width: long (nullable = true)\n",
      " |    |    |-- title: string (nullable = true)\n",
      " |    |    |-- type: string (nullable = true)\n",
      " |    |    |-- url: string (nullable = true)\n",
      " |    |    |-- version: string (nullable = true)\n",
      " |    |    |-- width: long (nullable = true)\n",
      " |    |-- type: string (nullable = true)\n",
      " |-- secure_media_embed: struct (nullable = true)\n",
      " |    |-- content: string (nullable = true)\n",
      " |    |-- height: long (nullable = true)\n",
      " |    |-- media_domain_url: string (nullable = true)\n",
      " |    |-- scrolling: boolean (nullable = true)\n",
      " |    |-- width: long (nullable = true)\n",
      " |-- selftext: string (nullable = true)\n",
      " |-- spoiler: boolean (nullable = true)\n",
      " |-- stickied: boolean (nullable = true)\n",
      " |-- subreddit: string (nullable = true)\n",
      " |-- subreddit_id: string (nullable = true)\n",
      " |-- suggested_sort: string (nullable = true)\n",
      " |-- third_party_trackers: array (nullable = true)\n",
      " |    |-- element: string (containsNull = true)\n",
      " |-- third_party_tracking: string (nullable = true)\n",
      " |-- third_party_tracking_2: string (nullable = true)\n",
      " |-- thumbnail: string (nullable = true)\n",
      " |-- thumbnail_height: long (nullable = true)\n",
      " |-- thumbnail_width: long (nullable = true)\n",
      " |-- title: string (nullable = true)\n",
      " |-- url: string (nullable = true)\n",
      " |-- whitelist_status: string (nullable = true)\n",
      "\n"
     ]
    }
   ],
   "source": [
    "submissions.printSchema()"
   ]
  },
  {
   "cell_type": "code",
   "execution_count": 63,
   "metadata": {
    "tags": []
   },
   "outputs": [
    {
     "name": "stdout",
     "output_type": "stream",
     "text": [
      "+----------+--------------------+--------------------+---------+-------------------+------------+\n",
      "| subreddit|              author|               title| selftext|        created_utc|num_comments|\n",
      "+----------+--------------------+--------------------+---------+-------------------+------------+\n",
      "|technology|     awaysomearticle|Increasing demand...|         |2021-01-20 05:57:34|           0|\n",
      "|technology|         johnlouis99|How to Change D'L...|[removed]|2021-01-20 05:58:38|           0|\n",
      "|technology|   keeptrying_always|     Sharing an Idea|[removed]|2021-01-20 05:58:48|           2|\n",
      "|technology|AgreeableGuarantee83|Mobile App Develo...|         |2021-01-20 06:02:49|           1|\n",
      "|technology|      solankimeera71|Samsung launches ...|         |2021-01-20 06:05:16|           0|\n",
      "|technology|          nwotnagrom|Alibaba's Jack Ma...|         |2021-01-20 06:10:02|           4|\n",
      "|technology|       alexharry0003|Barclays Bank Cus...|[removed]|2021-01-20 06:10:43|           0|\n",
      "|technology|           [deleted]|Jack Ma makes fir...|[deleted]|2021-01-20 06:15:22|           5|\n",
      "|technology|         johnlouis99|How to Activate o...|[removed]|2021-01-20 06:17:50|           0|\n",
      "|technology|       jalabulajangs|India is reported...|         |2021-01-20 06:19:58|           2|\n",
      "|technology| 4000Sjinfotechgroup|What is the Best ...|[removed]|2021-01-20 06:20:50|           0|\n",
      "|technology|       magnificent18|TRAP | Covid Tran...|         |2021-01-20 06:21:29|           2|\n",
      "|technology|      jameswoods2124|How to Set Up Net...|         |2021-01-20 06:25:18|           1|\n",
      "|technology|        Ritikgiri123|Honor 20 pro smar...|         |2021-01-20 06:30:20|           0|\n",
      "|technology|         johnlouis99|How to Use Roku E...|[removed]|2021-01-20 06:31:38|           0|\n",
      "|technology|         Indrayani_p|Mobile Analytics ...|         |2021-01-20 06:42:12|           0|\n",
      "|technology|           Doovester|Anything like Goo...|[removed]|2021-01-15 18:59:29|           1|\n",
      "|technology|           arnambiar|Amazon Mivi Colla...|         |2021-01-15 19:01:43|           0|\n",
      "|technology|Fit_Faithlessness398|Definetely worth ...|         |2021-01-15 19:04:27|           1|\n",
      "|technology|        DefesaemFoco|Um dos maiores pe...|         |2021-01-15 19:09:17|           0|\n",
      "+----------+--------------------+--------------------+---------+-------------------+------------+\n",
      "only showing top 20 rows\n",
      "\n"
     ]
    }
   ],
   "source": [
    "# display a subset of columns\n",
    "submissions.select(\"subreddit\", \"author\", \"title\", \"selftext\", \"created_utc\", \"num_comments\").show()"
   ]
  },
  {
   "cell_type": "code",
   "execution_count": null,
   "metadata": {},
   "outputs": [],
   "source": []
  },
  {
   "cell_type": "code",
   "execution_count": null,
   "metadata": {},
   "outputs": [],
   "source": []
  }
 ],
 "metadata": {
  "availableInstances": [
   {
    "_defaultOrder": 0,
    "_isFastLaunch": true,
    "category": "General purpose",
    "gpuNum": 0,
    "hideHardwareSpecs": false,
    "memoryGiB": 4,
    "name": "ml.t3.medium",
    "vcpuNum": 2
   },
   {
    "_defaultOrder": 1,
    "_isFastLaunch": false,
    "category": "General purpose",
    "gpuNum": 0,
    "hideHardwareSpecs": false,
    "memoryGiB": 8,
    "name": "ml.t3.large",
    "vcpuNum": 2
   },
   {
    "_defaultOrder": 2,
    "_isFastLaunch": false,
    "category": "General purpose",
    "gpuNum": 0,
    "hideHardwareSpecs": false,
    "memoryGiB": 16,
    "name": "ml.t3.xlarge",
    "vcpuNum": 4
   },
   {
    "_defaultOrder": 3,
    "_isFastLaunch": false,
    "category": "General purpose",
    "gpuNum": 0,
    "hideHardwareSpecs": false,
    "memoryGiB": 32,
    "name": "ml.t3.2xlarge",
    "vcpuNum": 8
   },
   {
    "_defaultOrder": 4,
    "_isFastLaunch": true,
    "category": "General purpose",
    "gpuNum": 0,
    "hideHardwareSpecs": false,
    "memoryGiB": 8,
    "name": "ml.m5.large",
    "vcpuNum": 2
   },
   {
    "_defaultOrder": 5,
    "_isFastLaunch": false,
    "category": "General purpose",
    "gpuNum": 0,
    "hideHardwareSpecs": false,
    "memoryGiB": 16,
    "name": "ml.m5.xlarge",
    "vcpuNum": 4
   },
   {
    "_defaultOrder": 6,
    "_isFastLaunch": false,
    "category": "General purpose",
    "gpuNum": 0,
    "hideHardwareSpecs": false,
    "memoryGiB": 32,
    "name": "ml.m5.2xlarge",
    "vcpuNum": 8
   },
   {
    "_defaultOrder": 7,
    "_isFastLaunch": false,
    "category": "General purpose",
    "gpuNum": 0,
    "hideHardwareSpecs": false,
    "memoryGiB": 64,
    "name": "ml.m5.4xlarge",
    "vcpuNum": 16
   },
   {
    "_defaultOrder": 8,
    "_isFastLaunch": false,
    "category": "General purpose",
    "gpuNum": 0,
    "hideHardwareSpecs": false,
    "memoryGiB": 128,
    "name": "ml.m5.8xlarge",
    "vcpuNum": 32
   },
   {
    "_defaultOrder": 9,
    "_isFastLaunch": false,
    "category": "General purpose",
    "gpuNum": 0,
    "hideHardwareSpecs": false,
    "memoryGiB": 192,
    "name": "ml.m5.12xlarge",
    "vcpuNum": 48
   },
   {
    "_defaultOrder": 10,
    "_isFastLaunch": false,
    "category": "General purpose",
    "gpuNum": 0,
    "hideHardwareSpecs": false,
    "memoryGiB": 256,
    "name": "ml.m5.16xlarge",
    "vcpuNum": 64
   },
   {
    "_defaultOrder": 11,
    "_isFastLaunch": false,
    "category": "General purpose",
    "gpuNum": 0,
    "hideHardwareSpecs": false,
    "memoryGiB": 384,
    "name": "ml.m5.24xlarge",
    "vcpuNum": 96
   },
   {
    "_defaultOrder": 12,
    "_isFastLaunch": false,
    "category": "General purpose",
    "gpuNum": 0,
    "hideHardwareSpecs": false,
    "memoryGiB": 8,
    "name": "ml.m5d.large",
    "vcpuNum": 2
   },
   {
    "_defaultOrder": 13,
    "_isFastLaunch": false,
    "category": "General purpose",
    "gpuNum": 0,
    "hideHardwareSpecs": false,
    "memoryGiB": 16,
    "name": "ml.m5d.xlarge",
    "vcpuNum": 4
   },
   {
    "_defaultOrder": 14,
    "_isFastLaunch": false,
    "category": "General purpose",
    "gpuNum": 0,
    "hideHardwareSpecs": false,
    "memoryGiB": 32,
    "name": "ml.m5d.2xlarge",
    "vcpuNum": 8
   },
   {
    "_defaultOrder": 15,
    "_isFastLaunch": false,
    "category": "General purpose",
    "gpuNum": 0,
    "hideHardwareSpecs": false,
    "memoryGiB": 64,
    "name": "ml.m5d.4xlarge",
    "vcpuNum": 16
   },
   {
    "_defaultOrder": 16,
    "_isFastLaunch": false,
    "category": "General purpose",
    "gpuNum": 0,
    "hideHardwareSpecs": false,
    "memoryGiB": 128,
    "name": "ml.m5d.8xlarge",
    "vcpuNum": 32
   },
   {
    "_defaultOrder": 17,
    "_isFastLaunch": false,
    "category": "General purpose",
    "gpuNum": 0,
    "hideHardwareSpecs": false,
    "memoryGiB": 192,
    "name": "ml.m5d.12xlarge",
    "vcpuNum": 48
   },
   {
    "_defaultOrder": 18,
    "_isFastLaunch": false,
    "category": "General purpose",
    "gpuNum": 0,
    "hideHardwareSpecs": false,
    "memoryGiB": 256,
    "name": "ml.m5d.16xlarge",
    "vcpuNum": 64
   },
   {
    "_defaultOrder": 19,
    "_isFastLaunch": false,
    "category": "General purpose",
    "gpuNum": 0,
    "hideHardwareSpecs": false,
    "memoryGiB": 384,
    "name": "ml.m5d.24xlarge",
    "vcpuNum": 96
   },
   {
    "_defaultOrder": 20,
    "_isFastLaunch": false,
    "category": "General purpose",
    "gpuNum": 0,
    "hideHardwareSpecs": true,
    "memoryGiB": 0,
    "name": "ml.geospatial.interactive",
    "supportedImageNames": [
     "sagemaker-geospatial-v1-0"
    ],
    "vcpuNum": 0
   },
   {
    "_defaultOrder": 21,
    "_isFastLaunch": true,
    "category": "Compute optimized",
    "gpuNum": 0,
    "hideHardwareSpecs": false,
    "memoryGiB": 4,
    "name": "ml.c5.large",
    "vcpuNum": 2
   },
   {
    "_defaultOrder": 22,
    "_isFastLaunch": false,
    "category": "Compute optimized",
    "gpuNum": 0,
    "hideHardwareSpecs": false,
    "memoryGiB": 8,
    "name": "ml.c5.xlarge",
    "vcpuNum": 4
   },
   {
    "_defaultOrder": 23,
    "_isFastLaunch": false,
    "category": "Compute optimized",
    "gpuNum": 0,
    "hideHardwareSpecs": false,
    "memoryGiB": 16,
    "name": "ml.c5.2xlarge",
    "vcpuNum": 8
   },
   {
    "_defaultOrder": 24,
    "_isFastLaunch": false,
    "category": "Compute optimized",
    "gpuNum": 0,
    "hideHardwareSpecs": false,
    "memoryGiB": 32,
    "name": "ml.c5.4xlarge",
    "vcpuNum": 16
   },
   {
    "_defaultOrder": 25,
    "_isFastLaunch": false,
    "category": "Compute optimized",
    "gpuNum": 0,
    "hideHardwareSpecs": false,
    "memoryGiB": 72,
    "name": "ml.c5.9xlarge",
    "vcpuNum": 36
   },
   {
    "_defaultOrder": 26,
    "_isFastLaunch": false,
    "category": "Compute optimized",
    "gpuNum": 0,
    "hideHardwareSpecs": false,
    "memoryGiB": 96,
    "name": "ml.c5.12xlarge",
    "vcpuNum": 48
   },
   {
    "_defaultOrder": 27,
    "_isFastLaunch": false,
    "category": "Compute optimized",
    "gpuNum": 0,
    "hideHardwareSpecs": false,
    "memoryGiB": 144,
    "name": "ml.c5.18xlarge",
    "vcpuNum": 72
   },
   {
    "_defaultOrder": 28,
    "_isFastLaunch": false,
    "category": "Compute optimized",
    "gpuNum": 0,
    "hideHardwareSpecs": false,
    "memoryGiB": 192,
    "name": "ml.c5.24xlarge",
    "vcpuNum": 96
   },
   {
    "_defaultOrder": 29,
    "_isFastLaunch": true,
    "category": "Accelerated computing",
    "gpuNum": 1,
    "hideHardwareSpecs": false,
    "memoryGiB": 16,
    "name": "ml.g4dn.xlarge",
    "vcpuNum": 4
   },
   {
    "_defaultOrder": 30,
    "_isFastLaunch": false,
    "category": "Accelerated computing",
    "gpuNum": 1,
    "hideHardwareSpecs": false,
    "memoryGiB": 32,
    "name": "ml.g4dn.2xlarge",
    "vcpuNum": 8
   },
   {
    "_defaultOrder": 31,
    "_isFastLaunch": false,
    "category": "Accelerated computing",
    "gpuNum": 1,
    "hideHardwareSpecs": false,
    "memoryGiB": 64,
    "name": "ml.g4dn.4xlarge",
    "vcpuNum": 16
   },
   {
    "_defaultOrder": 32,
    "_isFastLaunch": false,
    "category": "Accelerated computing",
    "gpuNum": 1,
    "hideHardwareSpecs": false,
    "memoryGiB": 128,
    "name": "ml.g4dn.8xlarge",
    "vcpuNum": 32
   },
   {
    "_defaultOrder": 33,
    "_isFastLaunch": false,
    "category": "Accelerated computing",
    "gpuNum": 4,
    "hideHardwareSpecs": false,
    "memoryGiB": 192,
    "name": "ml.g4dn.12xlarge",
    "vcpuNum": 48
   },
   {
    "_defaultOrder": 34,
    "_isFastLaunch": false,
    "category": "Accelerated computing",
    "gpuNum": 1,
    "hideHardwareSpecs": false,
    "memoryGiB": 256,
    "name": "ml.g4dn.16xlarge",
    "vcpuNum": 64
   },
   {
    "_defaultOrder": 35,
    "_isFastLaunch": false,
    "category": "Accelerated computing",
    "gpuNum": 1,
    "hideHardwareSpecs": false,
    "memoryGiB": 61,
    "name": "ml.p3.2xlarge",
    "vcpuNum": 8
   },
   {
    "_defaultOrder": 36,
    "_isFastLaunch": false,
    "category": "Accelerated computing",
    "gpuNum": 4,
    "hideHardwareSpecs": false,
    "memoryGiB": 244,
    "name": "ml.p3.8xlarge",
    "vcpuNum": 32
   },
   {
    "_defaultOrder": 37,
    "_isFastLaunch": false,
    "category": "Accelerated computing",
    "gpuNum": 8,
    "hideHardwareSpecs": false,
    "memoryGiB": 488,
    "name": "ml.p3.16xlarge",
    "vcpuNum": 64
   },
   {
    "_defaultOrder": 38,
    "_isFastLaunch": false,
    "category": "Accelerated computing",
    "gpuNum": 8,
    "hideHardwareSpecs": false,
    "memoryGiB": 768,
    "name": "ml.p3dn.24xlarge",
    "vcpuNum": 96
   },
   {
    "_defaultOrder": 39,
    "_isFastLaunch": false,
    "category": "Memory Optimized",
    "gpuNum": 0,
    "hideHardwareSpecs": false,
    "memoryGiB": 16,
    "name": "ml.r5.large",
    "vcpuNum": 2
   },
   {
    "_defaultOrder": 40,
    "_isFastLaunch": false,
    "category": "Memory Optimized",
    "gpuNum": 0,
    "hideHardwareSpecs": false,
    "memoryGiB": 32,
    "name": "ml.r5.xlarge",
    "vcpuNum": 4
   },
   {
    "_defaultOrder": 41,
    "_isFastLaunch": false,
    "category": "Memory Optimized",
    "gpuNum": 0,
    "hideHardwareSpecs": false,
    "memoryGiB": 64,
    "name": "ml.r5.2xlarge",
    "vcpuNum": 8
   },
   {
    "_defaultOrder": 42,
    "_isFastLaunch": false,
    "category": "Memory Optimized",
    "gpuNum": 0,
    "hideHardwareSpecs": false,
    "memoryGiB": 128,
    "name": "ml.r5.4xlarge",
    "vcpuNum": 16
   },
   {
    "_defaultOrder": 43,
    "_isFastLaunch": false,
    "category": "Memory Optimized",
    "gpuNum": 0,
    "hideHardwareSpecs": false,
    "memoryGiB": 256,
    "name": "ml.r5.8xlarge",
    "vcpuNum": 32
   },
   {
    "_defaultOrder": 44,
    "_isFastLaunch": false,
    "category": "Memory Optimized",
    "gpuNum": 0,
    "hideHardwareSpecs": false,
    "memoryGiB": 384,
    "name": "ml.r5.12xlarge",
    "vcpuNum": 48
   },
   {
    "_defaultOrder": 45,
    "_isFastLaunch": false,
    "category": "Memory Optimized",
    "gpuNum": 0,
    "hideHardwareSpecs": false,
    "memoryGiB": 512,
    "name": "ml.r5.16xlarge",
    "vcpuNum": 64
   },
   {
    "_defaultOrder": 46,
    "_isFastLaunch": false,
    "category": "Memory Optimized",
    "gpuNum": 0,
    "hideHardwareSpecs": false,
    "memoryGiB": 768,
    "name": "ml.r5.24xlarge",
    "vcpuNum": 96
   },
   {
    "_defaultOrder": 47,
    "_isFastLaunch": false,
    "category": "Accelerated computing",
    "gpuNum": 1,
    "hideHardwareSpecs": false,
    "memoryGiB": 16,
    "name": "ml.g5.xlarge",
    "vcpuNum": 4
   },
   {
    "_defaultOrder": 48,
    "_isFastLaunch": false,
    "category": "Accelerated computing",
    "gpuNum": 1,
    "hideHardwareSpecs": false,
    "memoryGiB": 32,
    "name": "ml.g5.2xlarge",
    "vcpuNum": 8
   },
   {
    "_defaultOrder": 49,
    "_isFastLaunch": false,
    "category": "Accelerated computing",
    "gpuNum": 1,
    "hideHardwareSpecs": false,
    "memoryGiB": 64,
    "name": "ml.g5.4xlarge",
    "vcpuNum": 16
   },
   {
    "_defaultOrder": 50,
    "_isFastLaunch": false,
    "category": "Accelerated computing",
    "gpuNum": 1,
    "hideHardwareSpecs": false,
    "memoryGiB": 128,
    "name": "ml.g5.8xlarge",
    "vcpuNum": 32
   },
   {
    "_defaultOrder": 51,
    "_isFastLaunch": false,
    "category": "Accelerated computing",
    "gpuNum": 1,
    "hideHardwareSpecs": false,
    "memoryGiB": 256,
    "name": "ml.g5.16xlarge",
    "vcpuNum": 64
   },
   {
    "_defaultOrder": 52,
    "_isFastLaunch": false,
    "category": "Accelerated computing",
    "gpuNum": 4,
    "hideHardwareSpecs": false,
    "memoryGiB": 192,
    "name": "ml.g5.12xlarge",
    "vcpuNum": 48
   },
   {
    "_defaultOrder": 53,
    "_isFastLaunch": false,
    "category": "Accelerated computing",
    "gpuNum": 4,
    "hideHardwareSpecs": false,
    "memoryGiB": 384,
    "name": "ml.g5.24xlarge",
    "vcpuNum": 96
   },
   {
    "_defaultOrder": 54,
    "_isFastLaunch": false,
    "category": "Accelerated computing",
    "gpuNum": 8,
    "hideHardwareSpecs": false,
    "memoryGiB": 768,
    "name": "ml.g5.48xlarge",
    "vcpuNum": 192
   },
   {
    "_defaultOrder": 55,
    "_isFastLaunch": false,
    "category": "Accelerated computing",
    "gpuNum": 8,
    "hideHardwareSpecs": false,
    "memoryGiB": 1152,
    "name": "ml.p4d.24xlarge",
    "vcpuNum": 96
   },
   {
    "_defaultOrder": 56,
    "_isFastLaunch": false,
    "category": "Accelerated computing",
    "gpuNum": 8,
    "hideHardwareSpecs": false,
    "memoryGiB": 1152,
    "name": "ml.p4de.24xlarge",
    "vcpuNum": 96
   }
  ],
  "instance_type": "ml.t3.large",
  "kernelspec": {
   "display_name": "Python 3 (Data Science 3.0)",
   "language": "python",
   "name": "python3__SAGEMAKER_INTERNAL__arn:aws:sagemaker:us-east-1:081325390199:image/sagemaker-data-science-310-v1"
  },
  "language_info": {
   "codemirror_mode": {
    "name": "ipython",
    "version": 3
   },
   "file_extension": ".py",
   "mimetype": "text/x-python",
   "name": "python",
   "nbconvert_exporter": "python",
   "pygments_lexer": "ipython3",
   "version": "3.10.6"
  }
 },
 "nbformat": 4,
 "nbformat_minor": 4
}
