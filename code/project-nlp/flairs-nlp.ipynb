{
 "cells": [
  {
   "cell_type": "markdown",
   "id": "d5aff044-b74d-4c47-9956-0de10f5b0696",
   "metadata": {},
   "source": [
    "# Flair Prediction/Sentiment Natural Language Processing\n",
    "\n",
    "In this notebook, text posts from r/AmItheAsshole (r/AITA) are processed using various NLP techniques to isolate important word frequencies and patterns. Additionally, sentiment analysis is applied to these data to find interesting patterns/trends within the text posts across different flairs. This analysis only concerns r/AITA posts that are tagged with of the four \"primary\" flairs, being Not the A-hole (NTA), Asshole (YTA), No A-holes here (NAH), and Everybody Sucks (ESH).\n",
    "\n",
    "First, we must read in the data from the project S3 bucket and subset it accordingly to only valid (i.e., remove text posts with no body and area also assigned one of the 4 primary flairs)."
   ]
  },
  {
   "cell_type": "code",
   "execution_count": 2,
   "id": "c900c4e0-ef94-4fec-9d48-37d3d6ed3e7c",
   "metadata": {
    "tags": []
   },
   "outputs": [
    {
     "name": "stdout",
     "output_type": "stream",
     "text": [
      "Collecting package metadata (current_repodata.json): done\n",
      "Solving environment: - \n",
      "The environment is inconsistent, please check the package plan carefully\n",
      "The following packages are causing the inconsistency:\n",
      "\n",
      "  - defaults/linux-64::anaconda-client==1.7.2=py37_0\n",
      "  - defaults/noarch::anaconda-project==0.8.4=py_0\n",
      "  - defaults/linux-64::bokeh==1.4.0=py37_0\n",
      "  - defaults/noarch::dask==2.11.0=py_0\n",
      "  - defaults/linux-64::distributed==2.11.0=py37_0\n",
      "  - defaults/linux-64::spyder==4.0.1=py37_0\n",
      "  - defaults/linux-64::watchdog==0.10.2=py37_0\n",
      "failed with initial frozen solve. Retrying with flexible solve.\n",
      "Solving environment: failed with repodata from current_repodata.json, will retry with next repodata source.\n",
      "Collecting package metadata (repodata.json): done\n",
      "Solving environment: - \n",
      "The environment is inconsistent, please check the package plan carefully\n",
      "The following packages are causing the inconsistency:\n",
      "\n",
      "  - defaults/linux-64::anaconda-client==1.7.2=py37_0\n",
      "  - defaults/noarch::anaconda-project==0.8.4=py_0\n",
      "  - defaults/linux-64::bokeh==1.4.0=py37_0\n",
      "  - defaults/noarch::dask==2.11.0=py_0\n",
      "  - defaults/linux-64::distributed==2.11.0=py37_0\n",
      "  - defaults/linux-64::spyder==4.0.1=py37_0\n",
      "  - defaults/linux-64::watchdog==0.10.2=py37_0\n",
      "done\n",
      "\n",
      "## Package Plan ##\n",
      "\n",
      "  environment location: /opt/conda\n",
      "\n",
      "  added / updated specs:\n",
      "    - openjdk\n",
      "\n",
      "\n",
      "The following packages will be downloaded:\n",
      "\n",
      "    package                    |            build\n",
      "    ---------------------------|-----------------\n",
      "    ca-certificates-2023.08.22 |       h06a4308_0         123 KB\n",
      "    certifi-2022.12.7          |   py37h06a4308_0         150 KB\n",
      "    conda-22.9.0               |   py37h06a4308_0         878 KB\n",
      "    openjdk-8.0.152            |       h7b6447c_3        57.4 MB\n",
      "    openssl-1.1.1w             |       h7f8727e_0         3.7 MB\n",
      "    pyyaml-5.3.1               |   py37h7b6447c_0         181 KB\n",
      "    ------------------------------------------------------------\n",
      "                                           Total:        62.4 MB\n",
      "\n",
      "The following NEW packages will be INSTALLED:\n",
      "\n",
      "  openjdk            pkgs/main/linux-64::openjdk-8.0.152-h7b6447c_3 None\n",
      "  pyyaml             pkgs/main/linux-64::pyyaml-5.3.1-py37h7b6447c_0 None\n",
      "\n",
      "The following packages will be UPDATED:\n",
      "\n",
      "  ca-certificates    conda-forge::ca-certificates-2023.7.2~ --> pkgs/main::ca-certificates-2023.08.22-h06a4308_0 None\n",
      "  openssl            conda-forge::openssl-1.1.1l-h7f98852_0 --> pkgs/main::openssl-1.1.1w-h7f8727e_0 None\n",
      "\n",
      "The following packages will be SUPERSEDED by a higher-priority channel:\n",
      "\n",
      "  certifi            conda-forge/noarch::certifi-2023.7.22~ --> pkgs/main/linux-64::certifi-2022.12.7-py37h06a4308_0 None\n",
      "  conda              conda-forge::conda-22.9.0-py37h89c186~ --> pkgs/main::conda-22.9.0-py37h06a4308_0 None\n",
      "\n",
      "\n",
      "\n",
      "Downloading and Extracting Packages\n",
      "conda-22.9.0         | 878 KB    | ##################################### | 100% \n",
      "openjdk-8.0.152      | 57.4 MB   | ##################################### | 100% \n",
      "pyyaml-5.3.1         | 181 KB    | ##################################### | 100% \n",
      "ca-certificates-2023 | 123 KB    | ##################################### | 100% \n",
      "certifi-2022.12.7    | 150 KB    | ##################################### | 100% \n",
      "openssl-1.1.1w       | 3.7 MB    | ##################################### | 100% \n",
      "Preparing transaction: done\n",
      "Verifying transaction: done\n",
      "Executing transaction: done\n",
      "Retrieving notices: ...working... done\n",
      "\n",
      "Note: you may need to restart the kernel to use updated packages.\n",
      "Collecting pyspark==3.4.0\n",
      "  Using cached pyspark-3.4.0-py2.py3-none-any.whl\n",
      "Collecting py4j==0.10.9.7 (from pyspark==3.4.0)\n",
      "  Using cached py4j-0.10.9.7-py2.py3-none-any.whl (200 kB)\n",
      "\u001b[33mDEPRECATION: pyodbc 4.0.0-unsupported has a non-standard version number. pip 23.3 will enforce this behaviour change. A possible replacement is to upgrade to a newer version of pyodbc or contact the author to suggest that they release a version with a conforming version number. Discussion can be found at https://github.com/pypa/pip/issues/12063\u001b[0m\u001b[33m\n",
      "\u001b[0mInstalling collected packages: py4j, pyspark\n",
      "Successfully installed py4j-0.10.9.7 pyspark-3.4.0\n",
      "\u001b[33mWARNING: Running pip as the 'root' user can result in broken permissions and conflicting behaviour with the system package manager. It is recommended to use a virtual environment instead: https://pip.pypa.io/warnings/venv\u001b[0m\u001b[33m\n",
      "\u001b[0m\n",
      "\u001b[1m[\u001b[0m\u001b[34;49mnotice\u001b[0m\u001b[1;39;49m]\u001b[0m\u001b[39;49m A new release of pip is available: \u001b[0m\u001b[31;49m23.2.1\u001b[0m\u001b[39;49m -> \u001b[0m\u001b[32;49m23.3.1\u001b[0m\n",
      "\u001b[1m[\u001b[0m\u001b[34;49mnotice\u001b[0m\u001b[1;39;49m]\u001b[0m\u001b[39;49m To update, run: \u001b[0m\u001b[32;49mpip install --upgrade pip\u001b[0m\n",
      "Note: you may need to restart the kernel to use updated packages.\n",
      "Collecting spark-nlp==5.1.3\n",
      "  Obtaining dependency information for spark-nlp==5.1.3 from https://files.pythonhosted.org/packages/cd/7d/bc0eca4c9ec4c9c1d9b28c42c2f07942af70980a7d912d0aceebf8db32dd/spark_nlp-5.1.3-py2.py3-none-any.whl.metadata\n",
      "  Using cached spark_nlp-5.1.3-py2.py3-none-any.whl.metadata (53 kB)\n",
      "Using cached spark_nlp-5.1.3-py2.py3-none-any.whl (537 kB)\n",
      "\u001b[33mDEPRECATION: pyodbc 4.0.0-unsupported has a non-standard version number. pip 23.3 will enforce this behaviour change. A possible replacement is to upgrade to a newer version of pyodbc or contact the author to suggest that they release a version with a conforming version number. Discussion can be found at https://github.com/pypa/pip/issues/12063\u001b[0m\u001b[33m\n",
      "\u001b[0mInstalling collected packages: spark-nlp\n",
      "Successfully installed spark-nlp-5.1.3\n",
      "\u001b[33mWARNING: Running pip as the 'root' user can result in broken permissions and conflicting behaviour with the system package manager. It is recommended to use a virtual environment instead: https://pip.pypa.io/warnings/venv\u001b[0m\u001b[33m\n",
      "\u001b[0m\n",
      "\u001b[1m[\u001b[0m\u001b[34;49mnotice\u001b[0m\u001b[1;39;49m]\u001b[0m\u001b[39;49m A new release of pip is available: \u001b[0m\u001b[31;49m23.2.1\u001b[0m\u001b[39;49m -> \u001b[0m\u001b[32;49m23.3.1\u001b[0m\n",
      "\u001b[1m[\u001b[0m\u001b[34;49mnotice\u001b[0m\u001b[1;39;49m]\u001b[0m\u001b[39;49m To update, run: \u001b[0m\u001b[32;49mpip install --upgrade pip\u001b[0m\n",
      "Note: you may need to restart the kernel to use updated packages.\n"
     ]
    },
    {
     "data": {
      "text/html": [
       "<script>Jupyter.notebook.kernel.restart()</script>"
      ],
      "text/plain": [
       "<IPython.core.display.HTML object>"
      ]
     },
     "execution_count": 2,
     "metadata": {},
     "output_type": "execute_result"
    }
   ],
   "source": [
    "# Setup - Run only once per Kernel App\n",
    "%conda install openjdk -y\n",
    "\n",
    "# install PySpark\n",
    "%pip install pyspark==3.4.0\n",
    "\n",
    "# install spark-nlp\n",
    "%pip install spark-nlp==5.1.3\n",
    "\n",
    "# restart kernel\n",
    "from IPython.core.display import HTML\n",
    "HTML(\"<script>Jupyter.notebook.kernel.restart()</script>\")"
   ]
  },
  {
   "cell_type": "code",
   "execution_count": 4,
   "id": "1e5c2dd7-3033-416b-bfed-fb624cf91761",
   "metadata": {
    "tags": []
   },
   "outputs": [],
   "source": [
    "import matplotlib.pyplot as plt\n",
    "import seaborn as sns\n",
    "import numpy as np\n",
    "import pandas as pd\n",
    "import re\n",
    "import os\n",
    "import json\n",
    "import random\n",
    "import pyspark.sql.functions as F\n",
    "from sparknlp.base import *\n",
    "from pyspark.ml import Pipeline\n",
    "from sparknlp.annotator import *\n",
    "import pyspark.sql.functions as F\n",
    "from pyspark.sql import SparkSession\n",
    "from sparknlp.pretrained import PretrainedPipeline"
   ]
  },
  {
   "cell_type": "code",
   "execution_count": 7,
   "id": "99479c82-2efc-4b10-9b87-178086e363d6",
   "metadata": {
    "tags": []
   },
   "outputs": [
    {
     "name": "stdout",
     "output_type": "stream",
     "text": [
      "Spark version: 3.4.0\n"
     ]
    }
   ],
   "source": [
    "# Import pyspark and build Spark session\n",
    "spark = SparkSession.builder \\\n",
    "    .appName(\"Spark NLP\")\\\n",
    "    .master(\"local[*]\")\\\n",
    "    .config(\"spark.driver.memory\",\"16G\")\\\n",
    "    .config(\"spark.driver.maxResultSize\", \"0\") \\\n",
    "    .config(\"spark.kryoserializer.buffer.max\", \"2000M\")\\\n",
    "    .config(\"spark.jars.packages\", \"com.johnsnowlabs.nlp:spark-nlp_2.12:5.1.3,org.apache.hadoop:hadoop-aws:3.2.2\")\\\n",
    "    .config(\"fs.s3a.aws.credentials.provider\", \"com.amazonaws.auth.ContainerCredentialsProvider\")\\\n",
    "    .getOrCreate()\n",
    "\n",
    "print(f\"Spark version: {spark.version}\")\n",
    "#print(f\"SparkNLP version: {sparknlp.version}\")"
   ]
  },
  {
   "cell_type": "markdown",
   "id": "5db3cc30-cd68-4da8-be90-ce967ee409d6",
   "metadata": {},
   "source": [
    "Now we establish an NLP pipeline below to process the data and apply a pretrained sentiment model below:"
   ]
  },
  {
   "cell_type": "code",
   "execution_count": 11,
   "id": "83c0e6aa-1cc4-47bb-816b-803b19a8e799",
   "metadata": {},
   "outputs": [
    {
     "name": "stdout",
     "output_type": "stream",
     "text": [
      "+-------------+--------------------+--------------------+--------------------+-------------------+------------+---------------+\n",
      "|    subreddit|              author|               title|            selftext|        created_utc|num_comments|link_flair_text|\n",
      "+-------------+--------------------+--------------------+--------------------+-------------------+------------+---------------+\n",
      "|AmItheAsshole|       geosunsetmoth|AITA for refusing...|I (NB 19) am auti...|2022-01-22 18:15:30|         425| Not the A-hole|\n",
      "|AmItheAsshole|           pezewuziz|AITA for charging...|So for a bit of b...|2022-01-22 18:28:39|          56| Everyone Sucks|\n",
      "|AmItheAsshole|            twilipig|AITA for refusing...|Just a bit of bac...|2022-01-22 18:52:52|          52| Not the A-hole|\n",
      "|AmItheAsshole|              joreia|AITA for not want...|So I’m (32F) a mo...|2022-01-13 02:17:23|          29| Not the A-hole|\n",
      "|AmItheAsshole|       BazilbeeChuck|AITA for offering...|\\nI (29M) have a ...|2022-01-13 02:32:24|         470|        Asshole|\n",
      "|AmItheAsshole|          Purrrrpurr|AITA for telling ...|So this isn’t sup...|2022-01-13 02:38:03|          20| Not the A-hole|\n",
      "|AmItheAsshole| throwaway2019to2022|AITA for refusing...|In December of 20...|2022-01-13 02:42:40|          33| Not the A-hole|\n",
      "|AmItheAsshole|         WolfieSammy|AITA for being up...|Please don't post...|2022-01-13 02:43:34|          37| Not the A-hole|\n",
      "|AmItheAsshole|       Jupitervenuss|WIBTA telling a f...|I’m currently a c...|2022-01-13 02:44:42|          22| Not the A-hole|\n",
      "|AmItheAsshole|            Khaymann|AITA for refusing...|So I'll have to h...|2022-01-13 02:47:56|          36| Not the A-hole|\n",
      "|AmItheAsshole|      bored-at-home-|AITA for telling ...|My partner (28M) ...|2022-01-13 23:47:00|          26| Not the A-hole|\n",
      "|AmItheAsshole|     nobsforthemess1|AITA for “exposin...|So pretty quick s...|2022-01-13 23:50:04|         404| Not the A-hole|\n",
      "|AmItheAsshole|KitchenAccountant591|AITA for embarras...|Sorry it's a bit ...|2022-01-13 23:51:41|          18| Not the A-hole|\n",
      "|AmItheAsshole|   Awkward-Target436|AITA For Calling ...|I'm using \"uncle\"...|2022-01-13 23:57:25|          17| Not the A-hole|\n",
      "|AmItheAsshole|         AmayaKurama|WIBTA if I went o...|Obligatory on mob...|2022-01-14 00:11:34|          21|        Asshole|\n",
      "|AmItheAsshole|           [deleted]|AITA for accommod...|Hi all!\\n\\nI(43F)...|2022-01-14 00:11:43|        2920|        Asshole|\n",
      "|AmItheAsshole|         simplywebby|AITA for calling ...|We’re in a discor...|2022-01-14 00:13:44|          10| Not the A-hole|\n",
      "|AmItheAsshole|    Other-Amoeba4721|WIBTA if I took a...|I've never posted...|2022-01-31 02:32:07|          19|        Asshole|\n",
      "|AmItheAsshole|Relative_Potential92|AITA for dropping...|My older brother ...|2022-01-31 02:33:08|        1640| Not the A-hole|\n",
      "|AmItheAsshole|     Natural_Dog3625|AITA for asking m...|I always have to ...|2022-01-31 02:36:10|          38| Not the A-hole|\n",
      "+-------------+--------------------+--------------------+--------------------+-------------------+------------+---------------+\n",
      "only showing top 20 rows\n",
      "\n",
      "shape of the subsetted submissions dataframe of appropriately flaired posts is 110,387x68\n"
     ]
    }
   ],
   "source": [
    "%%time\n",
    "\n",
    "# Read in data from project bucket\n",
    "bucket = \"project17-bucket-alex\"\n",
    "output_prefix_data = \"project_2022\"\n",
    "\n",
    "# List of 12 directories each containing 1 month of data\n",
    "directories = [\"project_2022_\"+str(i)+\"/submissions\" for i in range(1,13)]\n",
    "\n",
    "# Iterate through 12 directories and merge each monthly data set to create one big data set\n",
    "df = None\n",
    "for directory in directories:\n",
    "    s3_path = f\"s3a://{bucket}/{directory}\"\n",
    "    month_df = spark.read.parquet(s3_path, header = True)\n",
    "\n",
    "    if df is None:\n",
    "        df = month_df\n",
    "    else:\n",
    "        df = df.union(month_df)\n",
    "\n",
    "submissions = df\n",
    "\n",
    "# Here we subset the submissions to only include posts from r/AmItheAsshole for the subsequent analysis\n",
    "raw_aita = submissions.filter(F.col('subreddit') == \"AmItheAsshole\")\n",
    "\n",
    "# filter submissions to remove deleted/removed posts\n",
    "aita = raw_aita.filter((F.col('selftext') != '[removed]') & (F.col('selftext') != '[deleted]' ))\n",
    "\n",
    "# Filter submissions to only include posts tagged with the 4 primary flairs\n",
    "acceptable_flairs = ['Everyone Sucks', 'Not the A-hole', 'No A-holes here', 'Asshole']\n",
    "df_flairs = aita.where(F.col('link_flair_text').isin(acceptable_flairs))\n",
    "df_flairs.select(\"subreddit\", \"author\", \"title\", \"selftext\", \"created_utc\", \"num_comments\", \"link_flair_text\").show()\n",
    "print(f\"shape of the subsetted submissions dataframe of appropriately flaired posts is {df_flairs.count():,}x{len(df_flairs.columns)}\")"
   ]
  },
  {
   "cell_type": "code",
   "execution_count": 9,
   "id": "02d4cadf-ae32-42cf-8e78-a56a27a56e2a",
   "metadata": {
    "tags": []
   },
   "outputs": [],
   "source": [
    "import sagemaker\n",
    "session = sagemaker.Session()\n",
    "bucket = \"project17-bucket-alex\""
   ]
  },
  {
   "cell_type": "code",
   "execution_count": 8,
   "id": "d41a7fe6-c262-4ee4-a361-866441004b08",
   "metadata": {
    "tags": []
   },
   "outputs": [
    {
     "name": "stdout",
     "output_type": "stream",
     "text": [
      "tfhub_use download started this may take some time.\n",
      "Approximate size to download 923.7 MB\n",
      "[OK!]\n",
      "sentimentdl_use_twitter download started this may take some time.\n",
      "Approximate size to download 11.4 MB\n",
      "[OK!]\n"
     ]
    }
   ],
   "source": [
    "MODEL_NAME = 'sentimentdl_use_twitter'\n",
    "\n",
    "documentAssembler = DocumentAssembler().setInputCol(\"selftext\").setOutputCol(\"document\")\n",
    "    \n",
    "use = UniversalSentenceEncoder.pretrained(name = \"tfhub_use\", lang = \"en\")\\\n",
    " .setInputCols([\"document\"])\\\n",
    " .setOutputCol(\"sentence_embeddings\")\n",
    "\n",
    "\n",
    "sentimentdl = SentimentDLModel.pretrained(name=MODEL_NAME, lang = \"en\")\\\n",
    "    .setInputCols([\"sentence_embeddings\"])\\\n",
    "    .setOutputCol(\"sentiment\")\n",
    "\n",
    "nlpPipeline = Pipeline(\n",
    "      stages = [\n",
    "          documentAssembler,\n",
    "          use,\n",
    "          sentimentdl\n",
    "      ])"
   ]
  },
  {
   "cell_type": "code",
   "execution_count": 16,
   "id": "bd7575cb-a047-4791-8125-fb6485c07e31",
   "metadata": {},
   "outputs": [
    {
     "name": "stdout",
     "output_type": "stream",
     "text": [
      "CPU times: user 15.3 ms, sys: 1.9 ms, total: 17.2 ms\n",
      "Wall time: 2.39 s\n"
     ]
    }
   ],
   "source": [
    "%%time\n",
    "pipelineModel = nlpPipeline.fit(df_flairs)\n",
    "results = pipelineModel.transform(df_flairs)"
   ]
  },
  {
   "cell_type": "code",
   "execution_count": 17,
   "id": "88550061-fc88-4909-bf2b-abed487f3dec",
   "metadata": {},
   "outputs": [
    {
     "name": "stdout",
     "output_type": "stream",
     "text": [
      "+--------------------+--------------------+---------+---------------+------------+\n",
      "|            selftext| sentence_embeddings|sentiment|link_flair_text|num_comments|\n",
      "+--------------------+--------------------+---------+---------------+------------+\n",
      "|I (NB 19) am auti...|[{sentence_embedd...| negative| Not the A-hole|         425|\n",
      "|So for a bit of b...|[{sentence_embedd...| negative| Everyone Sucks|          56|\n",
      "|Just a bit of bac...|[{sentence_embedd...| negative| Not the A-hole|          52|\n",
      "|So I’m (32F) a mo...|[{sentence_embedd...| negative| Not the A-hole|          29|\n",
      "|\\nI (29M) have a ...|[{sentence_embedd...| positive|        Asshole|         470|\n",
      "|So this isn’t sup...|[{sentence_embedd...| negative| Not the A-hole|          20|\n",
      "|In December of 20...|[{sentence_embedd...| negative| Not the A-hole|          33|\n",
      "|Please don't post...|[{sentence_embedd...| negative| Not the A-hole|          37|\n",
      "|I’m currently a c...|[{sentence_embedd...| negative| Not the A-hole|          22|\n",
      "|So I'll have to h...|[{sentence_embedd...| negative| Not the A-hole|          36|\n",
      "|My partner (28M) ...|[{sentence_embedd...| negative| Not the A-hole|          26|\n",
      "|So pretty quick s...|[{sentence_embedd...| positive| Not the A-hole|         404|\n",
      "|Sorry it's a bit ...|[{sentence_embedd...| negative| Not the A-hole|          18|\n",
      "|I'm using \"uncle\"...|[{sentence_embedd...| negative| Not the A-hole|          17|\n",
      "|Obligatory on mob...|[{sentence_embedd...| negative|        Asshole|          21|\n",
      "|Hi all!\\n\\nI(43F)...|[{sentence_embedd...| negative|        Asshole|        2920|\n",
      "|We’re in a discor...|[{sentence_embedd...| negative| Not the A-hole|          10|\n",
      "|I've never posted...|[{sentence_embedd...| negative|        Asshole|          19|\n",
      "|My older brother ...|[{sentence_embedd...| negative| Not the A-hole|        1640|\n",
      "|I always have to ...|[{sentence_embedd...| negative| Not the A-hole|          38|\n",
      "+--------------------+--------------------+---------+---------------+------------+\n",
      "only showing top 20 rows\n",
      "\n",
      "CPU times: user 10.8 ms, sys: 5.73 ms, total: 16.6 ms\n",
      "Wall time: 21.5 s\n"
     ]
    }
   ],
   "source": [
    "%%time\n",
    "results = results.withColumn('sentiment', F.explode(results.sentiment.result))\n",
    "final_data = results.select('selftext', 'sentence_embeddings','sentiment', \"link_flair_text\", \"num_comments\")\n",
    "final_data.persist()\n",
    "final_data.show()"
   ]
  },
  {
   "cell_type": "code",
   "execution_count": null,
   "id": "8e3474bd-4fc2-4f63-8a2f-dfc7b7f0f4a6",
   "metadata": {},
   "outputs": [],
   "source": [
    "final_data.printSchema()"
   ]
  },
  {
   "cell_type": "markdown",
   "id": "8ef2bccf-1e2a-4cf4-8aa4-31dba99414d0",
   "metadata": {},
   "source": [
    "Now that we have applied a pretrained sentiment model to our r/AITA reddit posts, we can now summarize these results in a table by flair. We will group by each flair and sentiment type."
   ]
  },
  {
   "cell_type": "code",
   "execution_count": 18,
   "id": "296ffca9-ff0b-457b-8014-2f7ecce2c5ea",
   "metadata": {
    "tags": []
   },
   "outputs": [
    {
     "name": "stdout",
     "output_type": "stream",
     "text": [
      "+---------------+---------+-----+\n",
      "|link_flair_text|sentiment|count|\n",
      "+---------------+---------+-----+\n",
      "|        Asshole| positive| 1087|\n",
      "|No A-holes here| positive|  390|\n",
      "| Not the A-hole| negative|79541|\n",
      "|        Asshole| negative|13995|\n",
      "| Everyone Sucks| positive|  203|\n",
      "|No A-holes here|  neutral|  126|\n",
      "| Not the A-hole| positive| 4310|\n",
      "|        Asshole|  neutral|  383|\n",
      "| Not the A-hole|  neutral| 1643|\n",
      "| Everyone Sucks|  neutral|   74|\n",
      "|No A-holes here| negative| 4675|\n",
      "| Everyone Sucks| negative| 3960|\n",
      "+---------------+---------+-----+\n",
      "\n"
     ]
    }
   ],
   "source": [
    "%%time\n",
    "cols = ['link_flair_text', 'sentiment']\n",
    "sum_counts = final_data.groupBy(cols).count()\n",
    "sum_counts.show()"
   ]
  },
  {
   "cell_type": "code",
   "execution_count": 77,
   "id": "ffd01cba-98d7-4837-a1ee-b5573221c140",
   "metadata": {
    "tags": []
   },
   "outputs": [],
   "source": [
    "# We can save this dataframe in our repo for later visualization and summarization\n",
    "df_sent_baseline = sum_counts.toPandas()\n",
    "df_sent_baseline.to_parquet(\"../../data/nlp-data/aita_sentiments.parquet\")"
   ]
  },
  {
   "cell_type": "code",
   "execution_count": 27,
   "id": "ec3ebac8-29a5-4ad1-b55e-7a8ba50bf7f4",
   "metadata": {
    "tags": []
   },
   "outputs": [
    {
     "data": {
      "text/html": [
       "<div>\n",
       "<style scoped>\n",
       "    .dataframe tbody tr th:only-of-type {\n",
       "        vertical-align: middle;\n",
       "    }\n",
       "\n",
       "    .dataframe tbody tr th {\n",
       "        vertical-align: top;\n",
       "    }\n",
       "\n",
       "    .dataframe thead th {\n",
       "        text-align: right;\n",
       "    }\n",
       "</style>\n",
       "<table border=\"1\" class=\"dataframe\">\n",
       "  <thead>\n",
       "    <tr style=\"text-align: right;\">\n",
       "      <th></th>\n",
       "      <th>link_flair_text</th>\n",
       "      <th>sentiment</th>\n",
       "      <th>count</th>\n",
       "    </tr>\n",
       "  </thead>\n",
       "  <tbody>\n",
       "    <tr>\n",
       "      <th>3</th>\n",
       "      <td>Asshole</td>\n",
       "      <td>negative</td>\n",
       "      <td>13995</td>\n",
       "    </tr>\n",
       "    <tr>\n",
       "      <th>7</th>\n",
       "      <td>Asshole</td>\n",
       "      <td>neutral</td>\n",
       "      <td>383</td>\n",
       "    </tr>\n",
       "    <tr>\n",
       "      <th>0</th>\n",
       "      <td>Asshole</td>\n",
       "      <td>positive</td>\n",
       "      <td>1087</td>\n",
       "    </tr>\n",
       "    <tr>\n",
       "      <th>11</th>\n",
       "      <td>Everyone Sucks</td>\n",
       "      <td>negative</td>\n",
       "      <td>3960</td>\n",
       "    </tr>\n",
       "    <tr>\n",
       "      <th>9</th>\n",
       "      <td>Everyone Sucks</td>\n",
       "      <td>neutral</td>\n",
       "      <td>74</td>\n",
       "    </tr>\n",
       "    <tr>\n",
       "      <th>4</th>\n",
       "      <td>Everyone Sucks</td>\n",
       "      <td>positive</td>\n",
       "      <td>203</td>\n",
       "    </tr>\n",
       "    <tr>\n",
       "      <th>10</th>\n",
       "      <td>No A-holes here</td>\n",
       "      <td>negative</td>\n",
       "      <td>4675</td>\n",
       "    </tr>\n",
       "    <tr>\n",
       "      <th>5</th>\n",
       "      <td>No A-holes here</td>\n",
       "      <td>neutral</td>\n",
       "      <td>126</td>\n",
       "    </tr>\n",
       "    <tr>\n",
       "      <th>1</th>\n",
       "      <td>No A-holes here</td>\n",
       "      <td>positive</td>\n",
       "      <td>390</td>\n",
       "    </tr>\n",
       "    <tr>\n",
       "      <th>2</th>\n",
       "      <td>Not the A-hole</td>\n",
       "      <td>negative</td>\n",
       "      <td>79541</td>\n",
       "    </tr>\n",
       "    <tr>\n",
       "      <th>8</th>\n",
       "      <td>Not the A-hole</td>\n",
       "      <td>neutral</td>\n",
       "      <td>1643</td>\n",
       "    </tr>\n",
       "    <tr>\n",
       "      <th>6</th>\n",
       "      <td>Not the A-hole</td>\n",
       "      <td>positive</td>\n",
       "      <td>4310</td>\n",
       "    </tr>\n",
       "  </tbody>\n",
       "</table>\n",
       "</div>"
      ],
      "text/plain": [
       "    link_flair_text sentiment  count\n",
       "3           Asshole  negative  13995\n",
       "7           Asshole   neutral    383\n",
       "0           Asshole  positive   1087\n",
       "11   Everyone Sucks  negative   3960\n",
       "9    Everyone Sucks   neutral     74\n",
       "4    Everyone Sucks  positive    203\n",
       "10  No A-holes here  negative   4675\n",
       "5   No A-holes here   neutral    126\n",
       "1   No A-holes here  positive    390\n",
       "2    Not the A-hole  negative  79541\n",
       "8    Not the A-hole   neutral   1643\n",
       "6    Not the A-hole  positive   4310"
      ]
     },
     "execution_count": 27,
     "metadata": {},
     "output_type": "execute_result"
    }
   ],
   "source": [
    "df_sent_baseline.sort_values([\"link_flair_text\",\"sentiment\"])"
   ]
  },
  {
   "cell_type": "markdown",
   "id": "9b2071a4-ad7a-4010-b5b8-617cfe44298d",
   "metadata": {},
   "source": [
    "We can visualize the results of the sentiment analysis by flair in the chart below:"
   ]
  },
  {
   "cell_type": "code",
   "execution_count": 78,
   "id": "6f9fe880-c245-4d4f-bf43-4c85013c4548",
   "metadata": {
    "tags": []
   },
   "outputs": [],
   "source": [
    "df_pivot = df_sent_baseline.pivot(index = \"link_flair_text\", columns = \"sentiment\", values = \"count\")\n",
    "df_pivot.to_parquet(\"../../data/nlp-data/aita_sentiments_pivoted.parquet\")"
   ]
  },
  {
   "cell_type": "code",
   "execution_count": 55,
   "id": "b408111a-2ca9-452c-ad87-cbfbed891a32",
   "metadata": {
    "tags": []
   },
   "outputs": [
    {
     "data": {
      "image/png": "[encoded data removed]",
      "text/plain": [
       "<Figure size 640x480 with 1 Axes>"
      ]
     },
     "metadata": {},
     "output_type": "display_data"
    }
   ],
   "source": [
    "df_pivot.reset_index().plot(x = \"link_flair_text\",\n",
    "       kind = \"bar\",\n",
    "       stacked = False,\n",
    "       title = \"Grouped Bar Chart of Sentiments by Flair\")\n",
    "\n",
    "plt.show()"
   ]
  },
  {
   "cell_type": "markdown",
   "id": "025b9c2e-40f4-4d21-b943-d22bb19320ee",
   "metadata": {},
   "source": [
    "We can see that the plot above is not easily readable, so we will convert the counts into relative frequencies to compare the proportion of each flair type with positive, negative, and neutral sentiments."
   ]
  },
  {
   "cell_type": "code",
   "execution_count": 56,
   "id": "675079eb-d9a4-4bde-9a78-6991949864da",
   "metadata": {
    "tags": []
   },
   "outputs": [
    {
     "data": {
      "text/html": [
       "<div>\n",
       "<style scoped>\n",
       "    .dataframe tbody tr th:only-of-type {\n",
       "        vertical-align: middle;\n",
       "    }\n",
       "\n",
       "    .dataframe tbody tr th {\n",
       "        vertical-align: top;\n",
       "    }\n",
       "\n",
       "    .dataframe thead th {\n",
       "        text-align: right;\n",
       "    }\n",
       "</style>\n",
       "<table border=\"1\" class=\"dataframe\">\n",
       "  <thead>\n",
       "    <tr style=\"text-align: right;\">\n",
       "      <th>sentiment</th>\n",
       "      <th>negative</th>\n",
       "      <th>neutral</th>\n",
       "      <th>positive</th>\n",
       "    </tr>\n",
       "    <tr>\n",
       "      <th>link_flair_text</th>\n",
       "      <th></th>\n",
       "      <th></th>\n",
       "      <th></th>\n",
       "    </tr>\n",
       "  </thead>\n",
       "  <tbody>\n",
       "    <tr>\n",
       "      <th>Asshole</th>\n",
       "      <td>0.904947</td>\n",
       "      <td>0.024766</td>\n",
       "      <td>0.070288</td>\n",
       "    </tr>\n",
       "    <tr>\n",
       "      <th>Everyone Sucks</th>\n",
       "      <td>0.934624</td>\n",
       "      <td>0.017465</td>\n",
       "      <td>0.047911</td>\n",
       "    </tr>\n",
       "    <tr>\n",
       "      <th>No A-holes here</th>\n",
       "      <td>0.900597</td>\n",
       "      <td>0.024273</td>\n",
       "      <td>0.075130</td>\n",
       "    </tr>\n",
       "    <tr>\n",
       "      <th>Not the A-hole</th>\n",
       "      <td>0.930369</td>\n",
       "      <td>0.019218</td>\n",
       "      <td>0.050413</td>\n",
       "    </tr>\n",
       "  </tbody>\n",
       "</table>\n",
       "</div>"
      ],
      "text/plain": [
       "sentiment        negative   neutral  positive\n",
       "link_flair_text                              \n",
       "Asshole          0.904947  0.024766  0.070288\n",
       "Everyone Sucks   0.934624  0.017465  0.047911\n",
       "No A-holes here  0.900597  0.024273  0.075130\n",
       "Not the A-hole   0.930369  0.019218  0.050413"
      ]
     },
     "execution_count": 56,
     "metadata": {},
     "output_type": "execute_result"
    }
   ],
   "source": [
    "row_sums = df_pivot.sum(axis=1)\n",
    "df_pivot_prop = df_pivot.div(row_sums, axis=0)\n",
    "df_pivot_prop"
   ]
  },
  {
   "cell_type": "markdown",
   "id": "e3b3c4e8-f994-4b8c-a7e5-a542ecfdf4bf",
   "metadata": {},
   "source": [
    "Now with the relative frequencies acquired, we can now create a more legible and useful grouped bar chart of the sentiment occurrences by flair type in r/AITA."
   ]
  },
  {
   "cell_type": "code",
   "execution_count": 79,
   "id": "8fcaf549-6377-44e6-a136-53d73c9320ef",
   "metadata": {
    "tags": []
   },
   "outputs": [
    {
     "data": {
      "image/png": "[encoded data removed]",
      "text/plain": [
       "<Figure size 1100x500 with 1 Axes>"
      ]
     },
     "metadata": {},
     "output_type": "display_data"
    }
   ],
   "source": [
    "df_pivot_prop.reset_index().plot(x = \"link_flair_text\", \n",
    "                                 kind = \"bar\", stacked = False, \n",
    "                                 title = \"Grouped Bar Chart of Sentiments by Flair in r/AmItheAsshole\", \n",
    "                                 xlabel = \"Flair\",\n",
    "                                ylabel = \"Relative Frequency\",\n",
    "                                rot = 0,\n",
    "                                figsize = (11,5),\n",
    "                                color = [\"red\",\"gray\", \"green\"])\n",
    "plt.savefig(\"../../website-source/img/flair_sentiments_barchart.png\")\n",
    "plt.show()"
   ]
  },
  {
   "cell_type": "markdown",
   "id": "2ce74302-2010-43da-91cb-847363122eb1",
   "metadata": {},
   "source": [
    "As we can see above, the pretrained sentiment model identified the overwhelming majority of posts as having \"negative\" sentiment scores across all flair types. Next, we will analyze these sentiments with respect to the engagement a post receives, measured by the number of comments on the post. Below, we attempt to find relationships between sentiment score and number of comments."
   ]
  },
  {
   "cell_type": "code",
   "execution_count": 80,
   "id": "547dc887-2d28-41c6-aba1-2328c207613c",
   "metadata": {
    "tags": []
   },
   "outputs": [
    {
     "name": "stdout",
     "output_type": "stream",
     "text": [
      "+--------------------+--------------------+---------+---------------+------------+\n",
      "|            selftext| sentence_embeddings|sentiment|link_flair_text|num_comments|\n",
      "+--------------------+--------------------+---------+---------------+------------+\n",
      "|I (NB 19) am auti...|[{sentence_embedd...| negative| Not the A-hole|         425|\n",
      "|So for a bit of b...|[{sentence_embedd...| negative| Everyone Sucks|          56|\n",
      "|Just a bit of bac...|[{sentence_embedd...| negative| Not the A-hole|          52|\n",
      "|So I’m (32F) a mo...|[{sentence_embedd...| negative| Not the A-hole|          29|\n",
      "|\\nI (29M) have a ...|[{sentence_embedd...| positive|        Asshole|         470|\n",
      "|So this isn’t sup...|[{sentence_embedd...| negative| Not the A-hole|          20|\n",
      "|In December of 20...|[{sentence_embedd...| negative| Not the A-hole|          33|\n",
      "|Please don't post...|[{sentence_embedd...| negative| Not the A-hole|          37|\n",
      "|I’m currently a c...|[{sentence_embedd...| negative| Not the A-hole|          22|\n",
      "|So I'll have to h...|[{sentence_embedd...| negative| Not the A-hole|          36|\n",
      "|My partner (28M) ...|[{sentence_embedd...| negative| Not the A-hole|          26|\n",
      "|So pretty quick s...|[{sentence_embedd...| positive| Not the A-hole|         404|\n",
      "|Sorry it's a bit ...|[{sentence_embedd...| negative| Not the A-hole|          18|\n",
      "|I'm using \"uncle\"...|[{sentence_embedd...| negative| Not the A-hole|          17|\n",
      "|Obligatory on mob...|[{sentence_embedd...| negative|        Asshole|          21|\n",
      "|Hi all!\\n\\nI(43F)...|[{sentence_embedd...| negative|        Asshole|        2920|\n",
      "|We’re in a discor...|[{sentence_embedd...| negative| Not the A-hole|          10|\n",
      "|I've never posted...|[{sentence_embedd...| negative|        Asshole|          19|\n",
      "|My older brother ...|[{sentence_embedd...| negative| Not the A-hole|        1640|\n",
      "|I always have to ...|[{sentence_embedd...| negative| Not the A-hole|          38|\n",
      "+--------------------+--------------------+---------+---------------+------------+\n",
      "only showing top 20 rows\n",
      "\n"
     ]
    }
   ],
   "source": [
    "# Using these data we will conduct our analysis\n",
    "final_data.show()"
   ]
  },
  {
   "cell_type": "code",
   "execution_count": 87,
   "id": "9ef6c819-6f2d-4454-bd0d-c99aa6d385be",
   "metadata": {
    "tags": []
   },
   "outputs": [
    {
     "name": "stdout",
     "output_type": "stream",
     "text": [
      "CPU times: user 14.8 ms, sys: 415 µs, total: 15.2 ms\n",
      "Wall time: 1.45 s\n"
     ]
    },
    {
     "data": {
      "text/html": [
       "<div>\n",
       "<style scoped>\n",
       "    .dataframe tbody tr th:only-of-type {\n",
       "        vertical-align: middle;\n",
       "    }\n",
       "\n",
       "    .dataframe tbody tr th {\n",
       "        vertical-align: top;\n",
       "    }\n",
       "\n",
       "    .dataframe thead th {\n",
       "        text-align: right;\n",
       "    }\n",
       "</style>\n",
       "<table border=\"1\" class=\"dataframe\">\n",
       "  <thead>\n",
       "    <tr style=\"text-align: right;\">\n",
       "      <th></th>\n",
       "      <th>link_flair_text</th>\n",
       "      <th>sentiment</th>\n",
       "      <th>avg_num_comments</th>\n",
       "    </tr>\n",
       "  </thead>\n",
       "  <tbody>\n",
       "    <tr>\n",
       "      <th>3</th>\n",
       "      <td>Asshole</td>\n",
       "      <td>negative</td>\n",
       "      <td>242.204930</td>\n",
       "    </tr>\n",
       "    <tr>\n",
       "      <th>7</th>\n",
       "      <td>Asshole</td>\n",
       "      <td>neutral</td>\n",
       "      <td>225.590078</td>\n",
       "    </tr>\n",
       "    <tr>\n",
       "      <th>0</th>\n",
       "      <td>Asshole</td>\n",
       "      <td>positive</td>\n",
       "      <td>265.443422</td>\n",
       "    </tr>\n",
       "    <tr>\n",
       "      <th>11</th>\n",
       "      <td>Everyone Sucks</td>\n",
       "      <td>negative</td>\n",
       "      <td>104.879040</td>\n",
       "    </tr>\n",
       "    <tr>\n",
       "      <th>9</th>\n",
       "      <td>Everyone Sucks</td>\n",
       "      <td>neutral</td>\n",
       "      <td>172.310811</td>\n",
       "    </tr>\n",
       "    <tr>\n",
       "      <th>4</th>\n",
       "      <td>Everyone Sucks</td>\n",
       "      <td>positive</td>\n",
       "      <td>183.610837</td>\n",
       "    </tr>\n",
       "    <tr>\n",
       "      <th>10</th>\n",
       "      <td>No A-holes here</td>\n",
       "      <td>negative</td>\n",
       "      <td>63.152513</td>\n",
       "    </tr>\n",
       "    <tr>\n",
       "      <th>5</th>\n",
       "      <td>No A-holes here</td>\n",
       "      <td>neutral</td>\n",
       "      <td>67.738095</td>\n",
       "    </tr>\n",
       "    <tr>\n",
       "      <th>1</th>\n",
       "      <td>No A-holes here</td>\n",
       "      <td>positive</td>\n",
       "      <td>90.923077</td>\n",
       "    </tr>\n",
       "    <tr>\n",
       "      <th>2</th>\n",
       "      <td>Not the A-hole</td>\n",
       "      <td>negative</td>\n",
       "      <td>105.068179</td>\n",
       "    </tr>\n",
       "    <tr>\n",
       "      <th>8</th>\n",
       "      <td>Not the A-hole</td>\n",
       "      <td>neutral</td>\n",
       "      <td>128.069385</td>\n",
       "    </tr>\n",
       "    <tr>\n",
       "      <th>6</th>\n",
       "      <td>Not the A-hole</td>\n",
       "      <td>positive</td>\n",
       "      <td>148.397912</td>\n",
       "    </tr>\n",
       "  </tbody>\n",
       "</table>\n",
       "</div>"
      ],
      "text/plain": [
       "    link_flair_text sentiment  avg_num_comments\n",
       "3           Asshole  negative        242.204930\n",
       "7           Asshole   neutral        225.590078\n",
       "0           Asshole  positive        265.443422\n",
       "11   Everyone Sucks  negative        104.879040\n",
       "9    Everyone Sucks   neutral        172.310811\n",
       "4    Everyone Sucks  positive        183.610837\n",
       "10  No A-holes here  negative         63.152513\n",
       "5   No A-holes here   neutral         67.738095\n",
       "1   No A-holes here  positive         90.923077\n",
       "2    Not the A-hole  negative        105.068179\n",
       "8    Not the A-hole   neutral        128.069385\n",
       "6    Not the A-hole  positive        148.397912"
      ]
     },
     "execution_count": 87,
     "metadata": {},
     "output_type": "execute_result"
    }
   ],
   "source": [
    "%%time\n",
    "cols = ['link_flair_text', 'sentiment']\n",
    "avg_engage = final_data.groupBy(cols).agg(F.mean('num_comments').alias('avg_num_comments'))\n",
    "# Convert to pandas\n",
    "df_engage = avg_engage.toPandas()\n",
    "df_engage.sort_values(['link_flair_text', 'sentiment'])"
   ]
  },
  {
   "cell_type": "markdown",
   "id": "bfac0a7f-31c5-4c91-bba8-d00c90b13cdb",
   "metadata": {
    "tags": []
   },
   "source": [
    "We can see the average engagement by sentiment type in the table above. Next, we transform these data to a more digestible format that is more conducive to plotting."
   ]
  },
  {
   "cell_type": "code",
   "execution_count": 92,
   "id": "fcd8b25b-d425-41fc-a5a0-3f49f2b86f8f",
   "metadata": {
    "tags": []
   },
   "outputs": [
    {
     "data": {
      "text/html": [
       "<div>\n",
       "<style scoped>\n",
       "    .dataframe tbody tr th:only-of-type {\n",
       "        vertical-align: middle;\n",
       "    }\n",
       "\n",
       "    .dataframe tbody tr th {\n",
       "        vertical-align: top;\n",
       "    }\n",
       "\n",
       "    .dataframe thead th {\n",
       "        text-align: right;\n",
       "    }\n",
       "</style>\n",
       "<table border=\"1\" class=\"dataframe\">\n",
       "  <thead>\n",
       "    <tr style=\"text-align: right;\">\n",
       "      <th>sentiment</th>\n",
       "      <th>negative</th>\n",
       "      <th>neutral</th>\n",
       "      <th>positive</th>\n",
       "    </tr>\n",
       "    <tr>\n",
       "      <th>link_flair_text</th>\n",
       "      <th></th>\n",
       "      <th></th>\n",
       "      <th></th>\n",
       "    </tr>\n",
       "  </thead>\n",
       "  <tbody>\n",
       "    <tr>\n",
       "      <th>Asshole</th>\n",
       "      <td>242.204930</td>\n",
       "      <td>225.590078</td>\n",
       "      <td>265.443422</td>\n",
       "    </tr>\n",
       "    <tr>\n",
       "      <th>Everyone Sucks</th>\n",
       "      <td>104.879040</td>\n",
       "      <td>172.310811</td>\n",
       "      <td>183.610837</td>\n",
       "    </tr>\n",
       "    <tr>\n",
       "      <th>No A-holes here</th>\n",
       "      <td>63.152513</td>\n",
       "      <td>67.738095</td>\n",
       "      <td>90.923077</td>\n",
       "    </tr>\n",
       "    <tr>\n",
       "      <th>Not the A-hole</th>\n",
       "      <td>105.068179</td>\n",
       "      <td>128.069385</td>\n",
       "      <td>148.397912</td>\n",
       "    </tr>\n",
       "  </tbody>\n",
       "</table>\n",
       "</div>"
      ],
      "text/plain": [
       "sentiment          negative     neutral    positive\n",
       "link_flair_text                                    \n",
       "Asshole          242.204930  225.590078  265.443422\n",
       "Everyone Sucks   104.879040  172.310811  183.610837\n",
       "No A-holes here   63.152513   67.738095   90.923077\n",
       "Not the A-hole   105.068179  128.069385  148.397912"
      ]
     },
     "execution_count": 92,
     "metadata": {},
     "output_type": "execute_result"
    }
   ],
   "source": [
    "df_pivot = df_engage.pivot(index = \"link_flair_text\", columns = \"sentiment\", values = \"avg_num_comments\")\n",
    "df_pivot.to_parquet(\"../../data/nlp-data/aita_sentiments_engagements.parquet\")\n",
    "df_pivot"
   ]
  },
  {
   "cell_type": "code",
   "execution_count": 94,
   "id": "3ee6430a-1f3a-4aa0-b36b-b37e9e9e894f",
   "metadata": {
    "tags": []
   },
   "outputs": [
    {
     "data": {
      "image/png": "[encoded data removed]",
      "text/plain": [
       "<Figure size 1100x500 with 1 Axes>"
      ]
     },
     "metadata": {},
     "output_type": "display_data"
    }
   ],
   "source": [
    "df_pivot.reset_index().plot(x = \"link_flair_text\", \n",
    "                                 kind = \"bar\", stacked = False, \n",
    "                                 title = \"Grouped Bar Chart of Engagements by Flair and Sentiment in r/AmItheAsshole\", \n",
    "                                 xlabel = \"Flair\",\n",
    "                                ylabel = \"Average Number of Comments per Post\",\n",
    "                                rot = 0,\n",
    "                                figsize = (11,5),\n",
    "                                color = [\"red\",\"gray\", \"green\"])\n",
    "plt.savefig(\"../../website-source/img/flair_engagements_barchart.png\")\n",
    "plt.show()"
   ]
  },
  {
   "cell_type": "code",
   "execution_count": null,
   "id": "208b4ef1-78f6-4a72-969f-790cbe400336",
   "metadata": {},
   "outputs": [],
   "source": []
  },
  {
   "cell_type": "code",
   "execution_count": null,
   "id": "649c4db8-5310-4662-a6f5-71aa104009fd",
   "metadata": {},
   "outputs": [],
   "source": []
  },
  {
   "cell_type": "code",
   "execution_count": null,
   "id": "47dc7ec8-d61f-4614-84b5-5b6791fa46bf",
   "metadata": {},
   "outputs": [],
   "source": []
  },
  {
   "cell_type": "markdown",
   "id": "bde15a16-2c3c-40f9-af03-a5c3d6f5c722",
   "metadata": {},
   "source": [
    "The code below attempts to use a Sagemaker Processing Job to process and analyze these data from r/AITA. However there were some complications so we opted to analyze these data interactively in a Sagemaker Studio notebook above."
   ]
  },
  {
   "cell_type": "code",
   "execution_count": 6,
   "id": "1cda4890-ce4c-4a26-9dd4-242f26080b8e",
   "metadata": {
    "tags": []
   },
   "outputs": [
    {
     "name": "stdout",
     "output_type": "stream",
     "text": [
      "2023-11-18 05:32:14  708534094 spark-nlp-assembly-5.1.3.jar\n"
     ]
    }
   ],
   "source": [
    "import sagemaker\n",
    "session = sagemaker.Session()\n",
    "bucket = \"project17-bucket-alex\"\n",
    "!wget -qO- https://s3.amazonaws.com/auxdata.johnsnowlabs.com/public/jars/spark-nlp-assembly-5.1.3.jar | aws s3 cp - s3://{bucket}/lab8/spark-nlp-assembly-5.1.3.jar\n",
    "!aws s3 ls s3://{bucket}/lab8/spark-nlp-assembly-5.1.3.jar"
   ]
  },
  {
   "cell_type": "code",
   "execution_count": 3,
   "id": "f21641b8-035c-4bc1-bd4e-bb5532148478",
   "metadata": {},
   "outputs": [
    {
     "name": "stdout",
     "output_type": "stream",
     "text": [
      "Overwriting ./flair-process.py\n"
     ]
    }
   ],
   "source": [
    "%%writefile ./flair-process.py\n",
    "\n",
    "import os\n",
    "import sys\n",
    "import logging\n",
    "import argparse\n",
    "\n",
    "# Import pyspark and build Spark session\n",
    "from pyspark.sql.functions import *\n",
    "from pyspark.sql.types import (\n",
    "    DoubleType,\n",
    "    IntegerType,\n",
    "    StringType,\n",
    "    StructField,\n",
    "    StructType,\n",
    ")\n",
    "\n",
    "import json\n",
    "import sparknlp\n",
    "import numpy as np\n",
    "import pandas as pd\n",
    "from sparknlp.base import *\n",
    "from pyspark.ml import Pipeline\n",
    "from sparknlp.annotator import *\n",
    "import pyspark.sql.functions as F\n",
    "from pyspark.sql import SparkSession\n",
    "from sparknlp.pretrained import PretrainedPipeline\n",
    "\n",
    "logging.basicConfig(format='%(asctime)s,%(levelname)s,%(module)s,%(filename)s,%(lineno)d,%(message)s', level=logging.DEBUG)\n",
    "logger = logging.getLogger()\n",
    "logger.setLevel(logging.DEBUG)\n",
    "logger.addHandler(logging.StreamHandler(sys.stdout))\n",
    "\n",
    "def main():\n",
    "    parser = argparse.ArgumentParser(description=\"app inputs and outputs\")\n",
    "    parser.add_argument(\"--s3_dataset_path\", type=str, help=\"Path of dataset in S3\")\n",
    "    parser.add_argument(\"--s3_output_bucket\", type=str, help=\"s3 output bucket\")\n",
    "    parser.add_argument(\"--s3_output_key_prefix\", type=str, help=\"s3 output key prefix\")\n",
    "    args = parser.parse_args()\n",
    "    logger.info(f\"args={args}\")\n",
    "    \n",
    "    spark = SparkSession.builder \\\n",
    "    .appName(\"Spark NLP\")\\\n",
    "    .config(\"spark.driver.memory\",\"16G\")\\\n",
    "    .config(\"spark.driver.maxResultSize\", \"0\") \\\n",
    "    .config(\"spark.kryoserializer.buffer.max\", \"2000M\")\\\n",
    "    .config(\"spark.jars.packages\", \"com.johnsnowlabs.nlp:spark-nlp_2.12:5.1.3\")\\\n",
    "    .getOrCreate()\n",
    "    \n",
    "    logger.info(f\"Spark version: {spark.version}\")\n",
    "    logger.info(f\"sparknlp version: {sparknlp.version()}\")\n",
    "    \n",
    "    # This is needed to save RDDs which is the only way to write nested Dataframes into CSV format\n",
    "    sc = spark.sparkContext\n",
    "    sc._jsc.hadoopConfiguration().set(\n",
    "        \"mapred.output.committer.class\", \"org.apache.hadoop.mapred.FileOutputCommitter\"\n",
    "    )\n",
    "\n",
    "    # Defining the schema corresponding to the input data. The input data does not contain the headers\n",
    "    schema = StructType(\n",
    "        [\n",
    "            StructField(\"ID\", StringType(), True),\n",
    "            StructField(\"Content\", StringType(), True),\n",
    "            StructField(\"Summary\", StringType(), True),\n",
    "            StructField(\"Dataset\", StringType(), True)\n",
    "        ]\n",
    "    )\n",
    "    \n",
    "    # Downloading the data from S3 into a Dataframe\n",
    "    logger.info(f\"going to read {args.s3_dataset_path}\")\n",
    "    #df = spark.read.parquet(args.s3_dataset_path, header=True, schema=schema)\n",
    "    #df = df.repartition(64)\n",
    "    \n",
    "        # Read in data from project bucket\n",
    "    #bucket = \"project17-bucket-alex\"\n",
    "    #output_prefix_data = \"project_2022\"\n",
    "\n",
    "    # List of 12 directories each containing 1 month of data\n",
    "    directories = [\"project_2022_\"+str(i)+\"/submissions\" for i in range(1,13)]\n",
    "\n",
    "    # Iterate through 12 directories and merge each monthly data set to create one big data set\n",
    "    df = None\n",
    "    for directory in directories:\n",
    "        s3_path = f\"s3a://{bucket}/{directory}\"\n",
    "        month_df = spark.read.parquet(s3_path, header = True)\n",
    "\n",
    "        if df is None:\n",
    "            df = month_df\n",
    "        else:\n",
    "            df = df.union(month_df)\n",
    "    logger.info(f\"finished reading files...\")\n",
    "    \n",
    "    submissions = df\n",
    "\n",
    "    # Here we subset the submissions to only include posts from r/AmItheAsshole for the subsequent analysis\n",
    "    raw_aita = submissions.filter(F.col('subreddit') == \"AmItheAsshole\")\n",
    "\n",
    "    # filter submissions to remove deleted/removed posts\n",
    "    aita = raw_aita.filter((F.col('selftext') != '[removed]') & (F.col('selftext') != '[deleted]' ))\n",
    "\n",
    "    # Filter submissions to only include posts tagged with the 4 primary flairs\n",
    "    acceptable_flairs = ['Everyone Sucks', 'Not the A-hole', 'No A-holes here', 'Asshole']\n",
    "    df_flairs = aita.where(F.col('link_flair_text').isin(acceptable_flairs))\n",
    "    df_flairs.select(\"subreddit\", \"author\", \"title\", \"selftext\", \"created_utc\", \"num_comments\", \"link_flair_text\").show()\n",
    "    print(f\"shape of the subsetted submissions dataframe of appropriately flaired posts is {df_flairs.count():,}x{len(df_flairs.columns)}\")\n",
    "    df = df_flairs\n",
    "\n",
    "    \n",
    "    # get count\n",
    "    row_count = df.count()\n",
    "    # create a temp rdd and save to s3\n",
    "    line = [f\"count={row_count}\"]\n",
    "    logger.info(line)\n",
    "    l = [('count', row_count)]\n",
    "    tmp_df = spark.createDataFrame(l)\n",
    "    s3_path = \"s3://\" + os.path.join(args.s3_output_bucket, args.s3_output_key_prefix, \"count\")\n",
    "    logger.info(f\"going to save count to {s3_path}\")\n",
    "    # we want to write to a single file so coalesce\n",
    "    tmp_df.coalesce(1).write.format('csv').option('header', 'false').mode(\"overwrite\").save(s3_path)\n",
    "    \n",
    "    #df = df\\\n",
    "    #.withColumn('politics', F.col(\"Content\").rlike(\"\"\"(?i)politics|(?i)political|(?i)senate|(?i)democrats|(?i)republicans|(?i)government|(?i)president|(?i)prime minister|(?i)congress\"\"\"))\\\n",
    "    #.withColumn('sports', F.col(\"Content\").rlike(\"\"\"(?i)sport|(?i)ball|(?i)coach|(?i)goal|(?i)baseball|(?i)football|(?i)basketball\"\"\"))\\\n",
    "    #.withColumn('arts', F.col(\"Content\").rlike(\"\"\"(?i)art|(?i)painting|(?i)artist|(?i)museum|(?i)photography|(?i)sculpture\"\"\"))\\\n",
    "    #.withColumn('history', F.col(\"Content\").rlike(\"\"\"(?i)history|(?i)historical|(?i)ancient|(?i)archaeology|(?i)heritage|(?i)fossil\"\"\")).persist()\n",
    "    \n",
    "    #categories = ['politics', 'arts', 'sports', 'history']\n",
    "    #for c in categories:\n",
    "    #    df_soln = df.groupBy(c).count() #.toPandas().to_dict(orient='records')        \n",
    "    #    s3_path = \"s3://\" + os.path.join(args.s3_output_bucket, args.s3_output_key_prefix, c)\n",
    "    #    logger.info(f\"going to save dataframe to {s3_path}\")\n",
    "    #    # we want to write to a single file so coalesce\n",
    "    #    df_soln.coalesce(1).write.format('csv').option('header', 'false').mode(\"overwrite\").save(s3_path)\n",
    "\n",
    "    # sentiment analysis\n",
    "    MODEL_NAME = 'sentimentdl_use_twitter'\n",
    "    logger.info(f\"setting up an nlp pipeline with model={MODEL_NAME}\")\n",
    "    documentAssembler = DocumentAssembler()\\\n",
    "    .setInputCol(\"selftext\")\\\n",
    "    .setOutputCol(\"document\")\n",
    "    \n",
    "    use = UniversalSentenceEncoder.pretrained(name=\"tfhub_use\", lang=\"en\")\\\n",
    "     .setInputCols([\"document\"])\\\n",
    "     .setOutputCol(\"sentence_embeddings\")\n",
    "\n",
    "    sentimentdl = SentimentDLModel.pretrained(name=MODEL_NAME, lang=\"en\")\\\n",
    "    .setInputCols([\"sentence_embeddings\"])\\\n",
    "    .setOutputCol(\"sentiment\")\n",
    "\n",
    "    nlp_pipeline = Pipeline(\n",
    "      stages = [\n",
    "          documentAssembler,\n",
    "          use,\n",
    "          sentimentdl\n",
    "      ])\n",
    "    logger.info(f\"going to fit and transform pipeline on dataframe\")\n",
    "    pipeline_model = nlp_pipeline.fit(df)\n",
    "    results = pipeline_model.transform(df)\n",
    "    logger.info(f\"done with fit and transform pipeline on dataframe\")\n",
    "    \n",
    "    results=results.withColumn('sentiment', F.explode(results.sentiment.result))\n",
    "    final_data=results.select(\"subreddit\", \"author\", \"title\", \"selftext\", \"created_utc\", \"num_comments\", \"link_flair_text\",'sentiment')\n",
    "    final_data.persist()\n",
    "    #final_data.show()\n",
    "    cols = ['link_flair_text', 'sentiment']\n",
    "    #logger.info(f\"going to run a group by and count on columns={cols}\")\n",
    "    sum_counts = final_data.groupBy(cols).count()\n",
    "    logger.info(f\"going to convert sum_counts to dict\")\n",
    "    df_sent_baseline = sum_counts #.toPandas().to_dict(orient='records')\n",
    "    logger.info(df_sent_baseline)\n",
    "    s3_path = \"s3://\" + os.path.join(args.s3_output_bucket, args.s3_output_key_prefix, \"sentiment_baseline\")\n",
    "    logger.info(f\"going to save dataframe to {s3_path}\")\n",
    "    # we want to write to a single file so coalesce\n",
    "    df_sent_baseline.coalesce(1).write.format('csv').option('header', 'false').mode(\"overwrite\").save(s3_path)\n",
    "    logger.info(\"all done\")\n",
    "    \n",
    "if __name__ == \"__main__\":\n",
    "    main()"
   ]
  },
  {
   "cell_type": "code",
   "execution_count": 5,
   "id": "a02b508c-6d67-4937-91c6-802ffb621c6c",
   "metadata": {
    "tags": []
   },
   "outputs": [
    {
     "name": "stdout",
     "output_type": "stream",
     "text": [
      "account_id=862339729993, s3_dataset_path=s3://project17-bucket-alex\n"
     ]
    },
    {
     "name": "stderr",
     "output_type": "stream",
     "text": [
      "INFO:sagemaker:Creating processing-job with name sm-spark-project17-2023-11-18-13-24-48-488\n"
     ]
    },
    {
     "name": "stdout",
     "output_type": "stream",
     "text": [
      ".....................................................................................*"
     ]
    },
    {
     "ename": "UnexpectedStatusException",
     "evalue": "Error for Processing job sm-spark-project17-2023-11-18-13-24-48-488: Failed. Reason: AlgorithmError: See job logs for more information",
     "output_type": "error",
     "traceback": [
      "\u001b[0;31m---------------------------------------------------------------------------\u001b[0m",
      "\u001b[0;31mUnexpectedStatusException\u001b[0m                 Traceback (most recent call last)",
      "\u001b[0;32m<timed exec>\u001b[0m in \u001b[0;36m<module>\u001b[0;34m\u001b[0m\n",
      "\u001b[0;32m/opt/conda/lib/python3.7/site-packages/sagemaker/workflow/pipeline_context.py\u001b[0m in \u001b[0;36mwrapper\u001b[0;34m(*args, **kwargs)\u001b[0m\n\u001b[1;32m    309\u001b[0m             \u001b[0;32mreturn\u001b[0m \u001b[0m_StepArguments\u001b[0m\u001b[0;34m(\u001b[0m\u001b[0mretrieve_caller_name\u001b[0m\u001b[0;34m(\u001b[0m\u001b[0mself_instance\u001b[0m\u001b[0;34m)\u001b[0m\u001b[0;34m,\u001b[0m \u001b[0mrun_func\u001b[0m\u001b[0;34m,\u001b[0m \u001b[0;34m*\u001b[0m\u001b[0margs\u001b[0m\u001b[0;34m,\u001b[0m \u001b[0;34m**\u001b[0m\u001b[0mkwargs\u001b[0m\u001b[0;34m)\u001b[0m\u001b[0;34m\u001b[0m\u001b[0;34m\u001b[0m\u001b[0m\n\u001b[1;32m    310\u001b[0m \u001b[0;34m\u001b[0m\u001b[0m\n\u001b[0;32m--> 311\u001b[0;31m         \u001b[0;32mreturn\u001b[0m \u001b[0mrun_func\u001b[0m\u001b[0;34m(\u001b[0m\u001b[0;34m*\u001b[0m\u001b[0margs\u001b[0m\u001b[0;34m,\u001b[0m \u001b[0;34m**\u001b[0m\u001b[0mkwargs\u001b[0m\u001b[0;34m)\u001b[0m\u001b[0;34m\u001b[0m\u001b[0;34m\u001b[0m\u001b[0m\n\u001b[0m\u001b[1;32m    312\u001b[0m \u001b[0;34m\u001b[0m\u001b[0m\n\u001b[1;32m    313\u001b[0m     \u001b[0;32mreturn\u001b[0m \u001b[0mwrapper\u001b[0m\u001b[0;34m\u001b[0m\u001b[0;34m\u001b[0m\u001b[0m\n",
      "\u001b[0;32m/opt/conda/lib/python3.7/site-packages/sagemaker/spark/processing.py\u001b[0m in \u001b[0;36mrun\u001b[0;34m(self, submit_app, submit_py_files, submit_jars, submit_files, inputs, outputs, arguments, wait, logs, job_name, experiment_config, configuration, spark_event_logs_s3_uri, kms_key)\u001b[0m\n\u001b[1;32m    928\u001b[0m             \u001b[0mjob_name\u001b[0m\u001b[0;34m=\u001b[0m\u001b[0mself\u001b[0m\u001b[0;34m.\u001b[0m\u001b[0m_current_job_name\u001b[0m\u001b[0;34m,\u001b[0m\u001b[0;34m\u001b[0m\u001b[0;34m\u001b[0m\u001b[0m\n\u001b[1;32m    929\u001b[0m             \u001b[0mexperiment_config\u001b[0m\u001b[0;34m=\u001b[0m\u001b[0mexperiment_config\u001b[0m\u001b[0;34m,\u001b[0m\u001b[0;34m\u001b[0m\u001b[0;34m\u001b[0m\u001b[0m\n\u001b[0;32m--> 930\u001b[0;31m             \u001b[0mkms_key\u001b[0m\u001b[0;34m=\u001b[0m\u001b[0mkms_key\u001b[0m\u001b[0;34m,\u001b[0m\u001b[0;34m\u001b[0m\u001b[0;34m\u001b[0m\u001b[0m\n\u001b[0m\u001b[1;32m    931\u001b[0m         )\n\u001b[1;32m    932\u001b[0m \u001b[0;34m\u001b[0m\u001b[0m\n",
      "\u001b[0;32m/opt/conda/lib/python3.7/site-packages/sagemaker/workflow/pipeline_context.py\u001b[0m in \u001b[0;36mwrapper\u001b[0;34m(*args, **kwargs)\u001b[0m\n\u001b[1;32m    309\u001b[0m             \u001b[0;32mreturn\u001b[0m \u001b[0m_StepArguments\u001b[0m\u001b[0;34m(\u001b[0m\u001b[0mretrieve_caller_name\u001b[0m\u001b[0;34m(\u001b[0m\u001b[0mself_instance\u001b[0m\u001b[0;34m)\u001b[0m\u001b[0;34m,\u001b[0m \u001b[0mrun_func\u001b[0m\u001b[0;34m,\u001b[0m \u001b[0;34m*\u001b[0m\u001b[0margs\u001b[0m\u001b[0;34m,\u001b[0m \u001b[0;34m**\u001b[0m\u001b[0mkwargs\u001b[0m\u001b[0;34m)\u001b[0m\u001b[0;34m\u001b[0m\u001b[0;34m\u001b[0m\u001b[0m\n\u001b[1;32m    310\u001b[0m \u001b[0;34m\u001b[0m\u001b[0m\n\u001b[0;32m--> 311\u001b[0;31m         \u001b[0;32mreturn\u001b[0m \u001b[0mrun_func\u001b[0m\u001b[0;34m(\u001b[0m\u001b[0;34m*\u001b[0m\u001b[0margs\u001b[0m\u001b[0;34m,\u001b[0m \u001b[0;34m**\u001b[0m\u001b[0mkwargs\u001b[0m\u001b[0;34m)\u001b[0m\u001b[0;34m\u001b[0m\u001b[0;34m\u001b[0m\u001b[0m\n\u001b[0m\u001b[1;32m    312\u001b[0m \u001b[0;34m\u001b[0m\u001b[0m\n\u001b[1;32m    313\u001b[0m     \u001b[0;32mreturn\u001b[0m \u001b[0mwrapper\u001b[0m\u001b[0;34m\u001b[0m\u001b[0;34m\u001b[0m\u001b[0m\n",
      "\u001b[0;32m/opt/conda/lib/python3.7/site-packages/sagemaker/spark/processing.py\u001b[0m in \u001b[0;36mrun\u001b[0;34m(self, submit_app, inputs, outputs, arguments, wait, logs, job_name, experiment_config, kms_key)\u001b[0m\n\u001b[1;32m    267\u001b[0m             \u001b[0mjob_name\u001b[0m\u001b[0;34m,\u001b[0m\u001b[0;34m\u001b[0m\u001b[0;34m\u001b[0m\u001b[0m\n\u001b[1;32m    268\u001b[0m             \u001b[0mexperiment_config\u001b[0m\u001b[0;34m,\u001b[0m\u001b[0;34m\u001b[0m\u001b[0;34m\u001b[0m\u001b[0m\n\u001b[0;32m--> 269\u001b[0;31m             \u001b[0mkms_key\u001b[0m\u001b[0;34m,\u001b[0m\u001b[0;34m\u001b[0m\u001b[0;34m\u001b[0m\u001b[0m\n\u001b[0m\u001b[1;32m    270\u001b[0m         )\n\u001b[1;32m    271\u001b[0m \u001b[0;34m\u001b[0m\u001b[0m\n",
      "\u001b[0;32m/opt/conda/lib/python3.7/site-packages/sagemaker/workflow/pipeline_context.py\u001b[0m in \u001b[0;36mwrapper\u001b[0;34m(*args, **kwargs)\u001b[0m\n\u001b[1;32m    309\u001b[0m             \u001b[0;32mreturn\u001b[0m \u001b[0m_StepArguments\u001b[0m\u001b[0;34m(\u001b[0m\u001b[0mretrieve_caller_name\u001b[0m\u001b[0;34m(\u001b[0m\u001b[0mself_instance\u001b[0m\u001b[0;34m)\u001b[0m\u001b[0;34m,\u001b[0m \u001b[0mrun_func\u001b[0m\u001b[0;34m,\u001b[0m \u001b[0;34m*\u001b[0m\u001b[0margs\u001b[0m\u001b[0;34m,\u001b[0m \u001b[0;34m**\u001b[0m\u001b[0mkwargs\u001b[0m\u001b[0;34m)\u001b[0m\u001b[0;34m\u001b[0m\u001b[0;34m\u001b[0m\u001b[0m\n\u001b[1;32m    310\u001b[0m \u001b[0;34m\u001b[0m\u001b[0m\n\u001b[0;32m--> 311\u001b[0;31m         \u001b[0;32mreturn\u001b[0m \u001b[0mrun_func\u001b[0m\u001b[0;34m(\u001b[0m\u001b[0;34m*\u001b[0m\u001b[0margs\u001b[0m\u001b[0;34m,\u001b[0m \u001b[0;34m**\u001b[0m\u001b[0mkwargs\u001b[0m\u001b[0;34m)\u001b[0m\u001b[0;34m\u001b[0m\u001b[0;34m\u001b[0m\u001b[0m\n\u001b[0m\u001b[1;32m    312\u001b[0m \u001b[0;34m\u001b[0m\u001b[0m\n\u001b[1;32m    313\u001b[0m     \u001b[0;32mreturn\u001b[0m \u001b[0mwrapper\u001b[0m\u001b[0;34m\u001b[0m\u001b[0;34m\u001b[0m\u001b[0m\n",
      "\u001b[0;32m/opt/conda/lib/python3.7/site-packages/sagemaker/processing.py\u001b[0m in \u001b[0;36mrun\u001b[0;34m(self, code, inputs, outputs, arguments, wait, logs, job_name, experiment_config, kms_key)\u001b[0m\n\u001b[1;32m    686\u001b[0m         \u001b[0mself\u001b[0m\u001b[0;34m.\u001b[0m\u001b[0mjobs\u001b[0m\u001b[0;34m.\u001b[0m\u001b[0mappend\u001b[0m\u001b[0;34m(\u001b[0m\u001b[0mself\u001b[0m\u001b[0;34m.\u001b[0m\u001b[0mlatest_job\u001b[0m\u001b[0;34m)\u001b[0m\u001b[0;34m\u001b[0m\u001b[0;34m\u001b[0m\u001b[0m\n\u001b[1;32m    687\u001b[0m         \u001b[0;32mif\u001b[0m \u001b[0mwait\u001b[0m\u001b[0;34m:\u001b[0m\u001b[0;34m\u001b[0m\u001b[0;34m\u001b[0m\u001b[0m\n\u001b[0;32m--> 688\u001b[0;31m             \u001b[0mself\u001b[0m\u001b[0;34m.\u001b[0m\u001b[0mlatest_job\u001b[0m\u001b[0;34m.\u001b[0m\u001b[0mwait\u001b[0m\u001b[0;34m(\u001b[0m\u001b[0mlogs\u001b[0m\u001b[0;34m=\u001b[0m\u001b[0mlogs\u001b[0m\u001b[0;34m)\u001b[0m\u001b[0;34m\u001b[0m\u001b[0;34m\u001b[0m\u001b[0m\n\u001b[0m\u001b[1;32m    689\u001b[0m \u001b[0;34m\u001b[0m\u001b[0m\n\u001b[1;32m    690\u001b[0m     \u001b[0;32mdef\u001b[0m \u001b[0m_include_code_in_inputs\u001b[0m\u001b[0;34m(\u001b[0m\u001b[0mself\u001b[0m\u001b[0;34m,\u001b[0m \u001b[0minputs\u001b[0m\u001b[0;34m,\u001b[0m \u001b[0mcode\u001b[0m\u001b[0;34m,\u001b[0m \u001b[0mkms_key\u001b[0m\u001b[0;34m=\u001b[0m\u001b[0;32mNone\u001b[0m\u001b[0;34m)\u001b[0m\u001b[0;34m:\u001b[0m\u001b[0;34m\u001b[0m\u001b[0;34m\u001b[0m\u001b[0m\n",
      "\u001b[0;32m/opt/conda/lib/python3.7/site-packages/sagemaker/processing.py\u001b[0m in \u001b[0;36mwait\u001b[0;34m(self, logs)\u001b[0m\n\u001b[1;32m   1113\u001b[0m             \u001b[0mself\u001b[0m\u001b[0;34m.\u001b[0m\u001b[0msagemaker_session\u001b[0m\u001b[0;34m.\u001b[0m\u001b[0mlogs_for_processing_job\u001b[0m\u001b[0;34m(\u001b[0m\u001b[0mself\u001b[0m\u001b[0;34m.\u001b[0m\u001b[0mjob_name\u001b[0m\u001b[0;34m,\u001b[0m \u001b[0mwait\u001b[0m\u001b[0;34m=\u001b[0m\u001b[0;32mTrue\u001b[0m\u001b[0;34m)\u001b[0m\u001b[0;34m\u001b[0m\u001b[0;34m\u001b[0m\u001b[0m\n\u001b[1;32m   1114\u001b[0m         \u001b[0;32melse\u001b[0m\u001b[0;34m:\u001b[0m\u001b[0;34m\u001b[0m\u001b[0;34m\u001b[0m\u001b[0m\n\u001b[0;32m-> 1115\u001b[0;31m             \u001b[0mself\u001b[0m\u001b[0;34m.\u001b[0m\u001b[0msagemaker_session\u001b[0m\u001b[0;34m.\u001b[0m\u001b[0mwait_for_processing_job\u001b[0m\u001b[0;34m(\u001b[0m\u001b[0mself\u001b[0m\u001b[0;34m.\u001b[0m\u001b[0mjob_name\u001b[0m\u001b[0;34m)\u001b[0m\u001b[0;34m\u001b[0m\u001b[0;34m\u001b[0m\u001b[0m\n\u001b[0m\u001b[1;32m   1116\u001b[0m \u001b[0;34m\u001b[0m\u001b[0m\n\u001b[1;32m   1117\u001b[0m     \u001b[0;32mdef\u001b[0m \u001b[0mdescribe\u001b[0m\u001b[0;34m(\u001b[0m\u001b[0mself\u001b[0m\u001b[0;34m)\u001b[0m\u001b[0;34m:\u001b[0m\u001b[0;34m\u001b[0m\u001b[0;34m\u001b[0m\u001b[0m\n",
      "\u001b[0;32m/opt/conda/lib/python3.7/site-packages/sagemaker/session.py\u001b[0m in \u001b[0;36mwait_for_processing_job\u001b[0;34m(self, job, poll)\u001b[0m\n\u001b[1;32m   4287\u001b[0m         \"\"\"\n\u001b[1;32m   4288\u001b[0m         \u001b[0mdesc\u001b[0m \u001b[0;34m=\u001b[0m \u001b[0m_wait_until\u001b[0m\u001b[0;34m(\u001b[0m\u001b[0;32mlambda\u001b[0m\u001b[0;34m:\u001b[0m \u001b[0m_processing_job_status\u001b[0m\u001b[0;34m(\u001b[0m\u001b[0mself\u001b[0m\u001b[0;34m.\u001b[0m\u001b[0msagemaker_client\u001b[0m\u001b[0;34m,\u001b[0m \u001b[0mjob\u001b[0m\u001b[0;34m)\u001b[0m\u001b[0;34m,\u001b[0m \u001b[0mpoll\u001b[0m\u001b[0;34m)\u001b[0m\u001b[0;34m\u001b[0m\u001b[0;34m\u001b[0m\u001b[0m\n\u001b[0;32m-> 4289\u001b[0;31m         \u001b[0m_check_job_status\u001b[0m\u001b[0;34m(\u001b[0m\u001b[0mjob\u001b[0m\u001b[0;34m,\u001b[0m \u001b[0mdesc\u001b[0m\u001b[0;34m,\u001b[0m \u001b[0;34m\"ProcessingJobStatus\"\u001b[0m\u001b[0;34m)\u001b[0m\u001b[0;34m\u001b[0m\u001b[0;34m\u001b[0m\u001b[0m\n\u001b[0m\u001b[1;32m   4290\u001b[0m         \u001b[0;32mreturn\u001b[0m \u001b[0mdesc\u001b[0m\u001b[0;34m\u001b[0m\u001b[0;34m\u001b[0m\u001b[0m\n\u001b[1;32m   4291\u001b[0m \u001b[0;34m\u001b[0m\u001b[0m\n",
      "\u001b[0;32m/opt/conda/lib/python3.7/site-packages/sagemaker/session.py\u001b[0m in \u001b[0;36m_check_job_status\u001b[0;34m(job, desc, status_key_name)\u001b[0m\n\u001b[1;32m   6814\u001b[0m             \u001b[0mmessage\u001b[0m\u001b[0;34m=\u001b[0m\u001b[0mmessage\u001b[0m\u001b[0;34m,\u001b[0m\u001b[0;34m\u001b[0m\u001b[0;34m\u001b[0m\u001b[0m\n\u001b[1;32m   6815\u001b[0m             \u001b[0mallowed_statuses\u001b[0m\u001b[0;34m=\u001b[0m\u001b[0;34m[\u001b[0m\u001b[0;34m\"Completed\"\u001b[0m\u001b[0;34m,\u001b[0m \u001b[0;34m\"Stopped\"\u001b[0m\u001b[0;34m]\u001b[0m\u001b[0;34m,\u001b[0m\u001b[0;34m\u001b[0m\u001b[0;34m\u001b[0m\u001b[0m\n\u001b[0;32m-> 6816\u001b[0;31m             \u001b[0mactual_status\u001b[0m\u001b[0;34m=\u001b[0m\u001b[0mstatus\u001b[0m\u001b[0;34m,\u001b[0m\u001b[0;34m\u001b[0m\u001b[0;34m\u001b[0m\u001b[0m\n\u001b[0m\u001b[1;32m   6817\u001b[0m         )\n\u001b[1;32m   6818\u001b[0m \u001b[0;34m\u001b[0m\u001b[0m\n",
      "\u001b[0;31mUnexpectedStatusException\u001b[0m: Error for Processing job sm-spark-project17-2023-11-18-13-24-48-488: Failed. Reason: AlgorithmError: See job logs for more information"
     ]
    }
   ],
   "source": [
    "%%time\n",
    "import boto3\n",
    "import sagemaker\n",
    "from sagemaker.spark.processing import PySparkProcessor\n",
    "\n",
    "account_id = boto3.client('sts').get_caller_identity()['Account']\n",
    "\n",
    "# Setup the PySpark processor to run the job. Note the instance type and instance count parameters. SageMaker will create these many instances of this type for the spark job.\n",
    "role = sagemaker.get_execution_role()\n",
    "spark_processor = PySparkProcessor(\n",
    "    base_job_name=\"sm-spark-project17\",\n",
    "    image_uri=f\"{account_id}.dkr.ecr.us-east-1.amazonaws.com/sagemaker-spark:latest\",\n",
    "    role=role,\n",
    "    instance_count=8,\n",
    "    instance_type=\"ml.m5.xlarge\",\n",
    "    max_runtime_in_seconds=3600,\n",
    ")\n",
    "\n",
    "# s3 paths\n",
    "session = sagemaker.Session()\n",
    "bucket = \"project17-bucket-alex\"\n",
    "s3_dataset_path = f\"s3://{bucket}\"\n",
    "print(f\"account_id={account_id}, s3_dataset_path={s3_dataset_path}\")\n",
    "output_prefix_data = f\"flairs/data\"\n",
    "output_prefix_logs = f\"flairs/spark_logs\"\n",
    "\n",
    "\n",
    "# run the job now, the arguments array is provided as command line to the Python script (Spark code in this case).\n",
    "spark_processor.run(\n",
    "    submit_app=\"./flair-process.py\",\n",
    "    submit_jars=[f\"s3://{bucket}/lab8/spark-nlp-assembly-5.1.3.jar\"],\n",
    "    arguments=[\n",
    "        \"--s3_dataset_path\",\n",
    "        s3_dataset_path,\n",
    "        \"--s3_output_bucket\",\n",
    "        bucket,\n",
    "        \"--s3_output_key_prefix\",\n",
    "        output_prefix_data,\n",
    "    ],\n",
    "    spark_event_logs_s3_uri=\"s3://{}/{}/spark_event_logs\".format(bucket, output_prefix_logs),\n",
    "    logs=False,\n",
    ")"
   ]
  },
  {
   "cell_type": "code",
   "execution_count": null,
   "id": "0e62ebfa-a137-47eb-af11-54d3159153cd",
   "metadata": {},
   "outputs": [],
   "source": []
  },
  {
   "cell_type": "code",
   "execution_count": null,
   "id": "869c8c39-9d2b-4e73-9f3c-3a68ffef4d76",
   "metadata": {},
   "outputs": [],
   "source": []
  },
  {
   "cell_type": "code",
   "execution_count": null,
   "id": "bc0bb6e8-26df-4ede-a9cf-9885f9155761",
   "metadata": {},
   "outputs": [],
   "source": []
  }
 ],
 "metadata": {
  "availableInstances": [
   {
    "_defaultOrder": 0,
    "_isFastLaunch": true,
    "category": "General purpose",
    "gpuNum": 0,
    "hideHardwareSpecs": false,
    "memoryGiB": 4,
    "name": "ml.t3.medium",
    "vcpuNum": 2
   },
   {
    "_defaultOrder": 1,
    "_isFastLaunch": false,
    "category": "General purpose",
    "gpuNum": 0,
    "hideHardwareSpecs": false,
    "memoryGiB": 8,
    "name": "ml.t3.large",
    "vcpuNum": 2
   },
   {
    "_defaultOrder": 2,
    "_isFastLaunch": false,
    "category": "General purpose",
    "gpuNum": 0,
    "hideHardwareSpecs": false,
    "memoryGiB": 16,
    "name": "ml.t3.xlarge",
    "vcpuNum": 4
   },
   {
    "_defaultOrder": 3,
    "_isFastLaunch": false,
    "category": "General purpose",
    "gpuNum": 0,
    "hideHardwareSpecs": false,
    "memoryGiB": 32,
    "name": "ml.t3.2xlarge",
    "vcpuNum": 8
   },
   {
    "_defaultOrder": 4,
    "_isFastLaunch": true,
    "category": "General purpose",
    "gpuNum": 0,
    "hideHardwareSpecs": false,
    "memoryGiB": 8,
    "name": "ml.m5.large",
    "vcpuNum": 2
   },
   {
    "_defaultOrder": 5,
    "_isFastLaunch": false,
    "category": "General purpose",
    "gpuNum": 0,
    "hideHardwareSpecs": false,
    "memoryGiB": 16,
    "name": "ml.m5.xlarge",
    "vcpuNum": 4
   },
   {
    "_defaultOrder": 6,
    "_isFastLaunch": false,
    "category": "General purpose",
    "gpuNum": 0,
    "hideHardwareSpecs": false,
    "memoryGiB": 32,
    "name": "ml.m5.2xlarge",
    "vcpuNum": 8
   },
   {
    "_defaultOrder": 7,
    "_isFastLaunch": false,
    "category": "General purpose",
    "gpuNum": 0,
    "hideHardwareSpecs": false,
    "memoryGiB": 64,
    "name": "ml.m5.4xlarge",
    "vcpuNum": 16
   },
   {
    "_defaultOrder": 8,
    "_isFastLaunch": false,
    "category": "General purpose",
    "gpuNum": 0,
    "hideHardwareSpecs": false,
    "memoryGiB": 128,
    "name": "ml.m5.8xlarge",
    "vcpuNum": 32
   },
   {
    "_defaultOrder": 9,
    "_isFastLaunch": false,
    "category": "General purpose",
    "gpuNum": 0,
    "hideHardwareSpecs": false,
    "memoryGiB": 192,
    "name": "ml.m5.12xlarge",
    "vcpuNum": 48
   },
   {
    "_defaultOrder": 10,
    "_isFastLaunch": false,
    "category": "General purpose",
    "gpuNum": 0,
    "hideHardwareSpecs": false,
    "memoryGiB": 256,
    "name": "ml.m5.16xlarge",
    "vcpuNum": 64
   },
   {
    "_defaultOrder": 11,
    "_isFastLaunch": false,
    "category": "General purpose",
    "gpuNum": 0,
    "hideHardwareSpecs": false,
    "memoryGiB": 384,
    "name": "ml.m5.24xlarge",
    "vcpuNum": 96
   },
   {
    "_defaultOrder": 12,
    "_isFastLaunch": false,
    "category": "General purpose",
    "gpuNum": 0,
    "hideHardwareSpecs": false,
    "memoryGiB": 8,
    "name": "ml.m5d.large",
    "vcpuNum": 2
   },
   {
    "_defaultOrder": 13,
    "_isFastLaunch": false,
    "category": "General purpose",
    "gpuNum": 0,
    "hideHardwareSpecs": false,
    "memoryGiB": 16,
    "name": "ml.m5d.xlarge",
    "vcpuNum": 4
   },
   {
    "_defaultOrder": 14,
    "_isFastLaunch": false,
    "category": "General purpose",
    "gpuNum": 0,
    "hideHardwareSpecs": false,
    "memoryGiB": 32,
    "name": "ml.m5d.2xlarge",
    "vcpuNum": 8
   },
   {
    "_defaultOrder": 15,
    "_isFastLaunch": false,
    "category": "General purpose",
    "gpuNum": 0,
    "hideHardwareSpecs": false,
    "memoryGiB": 64,
    "name": "ml.m5d.4xlarge",
    "vcpuNum": 16
   },
   {
    "_defaultOrder": 16,
    "_isFastLaunch": false,
    "category": "General purpose",
    "gpuNum": 0,
    "hideHardwareSpecs": false,
    "memoryGiB": 128,
    "name": "ml.m5d.8xlarge",
    "vcpuNum": 32
   },
   {
    "_defaultOrder": 17,
    "_isFastLaunch": false,
    "category": "General purpose",
    "gpuNum": 0,
    "hideHardwareSpecs": false,
    "memoryGiB": 192,
    "name": "ml.m5d.12xlarge",
    "vcpuNum": 48
   },
   {
    "_defaultOrder": 18,
    "_isFastLaunch": false,
    "category": "General purpose",
    "gpuNum": 0,
    "hideHardwareSpecs": false,
    "memoryGiB": 256,
    "name": "ml.m5d.16xlarge",
    "vcpuNum": 64
   },
   {
    "_defaultOrder": 19,
    "_isFastLaunch": false,
    "category": "General purpose",
    "gpuNum": 0,
    "hideHardwareSpecs": false,
    "memoryGiB": 384,
    "name": "ml.m5d.24xlarge",
    "vcpuNum": 96
   },
   {
    "_defaultOrder": 20,
    "_isFastLaunch": false,
    "category": "General purpose",
    "gpuNum": 0,
    "hideHardwareSpecs": true,
    "memoryGiB": 0,
    "name": "ml.geospatial.interactive",
    "supportedImageNames": [
     "sagemaker-geospatial-v1-0"
    ],
    "vcpuNum": 0
   },
   {
    "_defaultOrder": 21,
    "_isFastLaunch": true,
    "category": "Compute optimized",
    "gpuNum": 0,
    "hideHardwareSpecs": false,
    "memoryGiB": 4,
    "name": "ml.c5.large",
    "vcpuNum": 2
   },
   {
    "_defaultOrder": 22,
    "_isFastLaunch": false,
    "category": "Compute optimized",
    "gpuNum": 0,
    "hideHardwareSpecs": false,
    "memoryGiB": 8,
    "name": "ml.c5.xlarge",
    "vcpuNum": 4
   },
   {
    "_defaultOrder": 23,
    "_isFastLaunch": false,
    "category": "Compute optimized",
    "gpuNum": 0,
    "hideHardwareSpecs": false,
    "memoryGiB": 16,
    "name": "ml.c5.2xlarge",
    "vcpuNum": 8
   },
   {
    "_defaultOrder": 24,
    "_isFastLaunch": false,
    "category": "Compute optimized",
    "gpuNum": 0,
    "hideHardwareSpecs": false,
    "memoryGiB": 32,
    "name": "ml.c5.4xlarge",
    "vcpuNum": 16
   },
   {
    "_defaultOrder": 25,
    "_isFastLaunch": false,
    "category": "Compute optimized",
    "gpuNum": 0,
    "hideHardwareSpecs": false,
    "memoryGiB": 72,
    "name": "ml.c5.9xlarge",
    "vcpuNum": 36
   },
   {
    "_defaultOrder": 26,
    "_isFastLaunch": false,
    "category": "Compute optimized",
    "gpuNum": 0,
    "hideHardwareSpecs": false,
    "memoryGiB": 96,
    "name": "ml.c5.12xlarge",
    "vcpuNum": 48
   },
   {
    "_defaultOrder": 27,
    "_isFastLaunch": false,
    "category": "Compute optimized",
    "gpuNum": 0,
    "hideHardwareSpecs": false,
    "memoryGiB": 144,
    "name": "ml.c5.18xlarge",
    "vcpuNum": 72
   },
   {
    "_defaultOrder": 28,
    "_isFastLaunch": false,
    "category": "Compute optimized",
    "gpuNum": 0,
    "hideHardwareSpecs": false,
    "memoryGiB": 192,
    "name": "ml.c5.24xlarge",
    "vcpuNum": 96
   },
   {
    "_defaultOrder": 29,
    "_isFastLaunch": true,
    "category": "Accelerated computing",
    "gpuNum": 1,
    "hideHardwareSpecs": false,
    "memoryGiB": 16,
    "name": "ml.g4dn.xlarge",
    "vcpuNum": 4
   },
   {
    "_defaultOrder": 30,
    "_isFastLaunch": false,
    "category": "Accelerated computing",
    "gpuNum": 1,
    "hideHardwareSpecs": false,
    "memoryGiB": 32,
    "name": "ml.g4dn.2xlarge",
    "vcpuNum": 8
   },
   {
    "_defaultOrder": 31,
    "_isFastLaunch": false,
    "category": "Accelerated computing",
    "gpuNum": 1,
    "hideHardwareSpecs": false,
    "memoryGiB": 64,
    "name": "ml.g4dn.4xlarge",
    "vcpuNum": 16
   },
   {
    "_defaultOrder": 32,
    "_isFastLaunch": false,
    "category": "Accelerated computing",
    "gpuNum": 1,
    "hideHardwareSpecs": false,
    "memoryGiB": 128,
    "name": "ml.g4dn.8xlarge",
    "vcpuNum": 32
   },
   {
    "_defaultOrder": 33,
    "_isFastLaunch": false,
    "category": "Accelerated computing",
    "gpuNum": 4,
    "hideHardwareSpecs": false,
    "memoryGiB": 192,
    "name": "ml.g4dn.12xlarge",
    "vcpuNum": 48
   },
   {
    "_defaultOrder": 34,
    "_isFastLaunch": false,
    "category": "Accelerated computing",
    "gpuNum": 1,
    "hideHardwareSpecs": false,
    "memoryGiB": 256,
    "name": "ml.g4dn.16xlarge",
    "vcpuNum": 64
   },
   {
    "_defaultOrder": 35,
    "_isFastLaunch": false,
    "category": "Accelerated computing",
    "gpuNum": 1,
    "hideHardwareSpecs": false,
    "memoryGiB": 61,
    "name": "ml.p3.2xlarge",
    "vcpuNum": 8
   },
   {
    "_defaultOrder": 36,
    "_isFastLaunch": false,
    "category": "Accelerated computing",
    "gpuNum": 4,
    "hideHardwareSpecs": false,
    "memoryGiB": 244,
    "name": "ml.p3.8xlarge",
    "vcpuNum": 32
   },
   {
    "_defaultOrder": 37,
    "_isFastLaunch": false,
    "category": "Accelerated computing",
    "gpuNum": 8,
    "hideHardwareSpecs": false,
    "memoryGiB": 488,
    "name": "ml.p3.16xlarge",
    "vcpuNum": 64
   },
   {
    "_defaultOrder": 38,
    "_isFastLaunch": false,
    "category": "Accelerated computing",
    "gpuNum": 8,
    "hideHardwareSpecs": false,
    "memoryGiB": 768,
    "name": "ml.p3dn.24xlarge",
    "vcpuNum": 96
   },
   {
    "_defaultOrder": 39,
    "_isFastLaunch": false,
    "category": "Memory Optimized",
    "gpuNum": 0,
    "hideHardwareSpecs": false,
    "memoryGiB": 16,
    "name": "ml.r5.large",
    "vcpuNum": 2
   },
   {
    "_defaultOrder": 40,
    "_isFastLaunch": false,
    "category": "Memory Optimized",
    "gpuNum": 0,
    "hideHardwareSpecs": false,
    "memoryGiB": 32,
    "name": "ml.r5.xlarge",
    "vcpuNum": 4
   },
   {
    "_defaultOrder": 41,
    "_isFastLaunch": false,
    "category": "Memory Optimized",
    "gpuNum": 0,
    "hideHardwareSpecs": false,
    "memoryGiB": 64,
    "name": "ml.r5.2xlarge",
    "vcpuNum": 8
   },
   {
    "_defaultOrder": 42,
    "_isFastLaunch": false,
    "category": "Memory Optimized",
    "gpuNum": 0,
    "hideHardwareSpecs": false,
    "memoryGiB": 128,
    "name": "ml.r5.4xlarge",
    "vcpuNum": 16
   },
   {
    "_defaultOrder": 43,
    "_isFastLaunch": false,
    "category": "Memory Optimized",
    "gpuNum": 0,
    "hideHardwareSpecs": false,
    "memoryGiB": 256,
    "name": "ml.r5.8xlarge",
    "vcpuNum": 32
   },
   {
    "_defaultOrder": 44,
    "_isFastLaunch": false,
    "category": "Memory Optimized",
    "gpuNum": 0,
    "hideHardwareSpecs": false,
    "memoryGiB": 384,
    "name": "ml.r5.12xlarge",
    "vcpuNum": 48
   },
   {
    "_defaultOrder": 45,
    "_isFastLaunch": false,
    "category": "Memory Optimized",
    "gpuNum": 0,
    "hideHardwareSpecs": false,
    "memoryGiB": 512,
    "name": "ml.r5.16xlarge",
    "vcpuNum": 64
   },
   {
    "_defaultOrder": 46,
    "_isFastLaunch": false,
    "category": "Memory Optimized",
    "gpuNum": 0,
    "hideHardwareSpecs": false,
    "memoryGiB": 768,
    "name": "ml.r5.24xlarge",
    "vcpuNum": 96
   },
   {
    "_defaultOrder": 47,
    "_isFastLaunch": false,
    "category": "Accelerated computing",
    "gpuNum": 1,
    "hideHardwareSpecs": false,
    "memoryGiB": 16,
    "name": "ml.g5.xlarge",
    "vcpuNum": 4
   },
   {
    "_defaultOrder": 48,
    "_isFastLaunch": false,
    "category": "Accelerated computing",
    "gpuNum": 1,
    "hideHardwareSpecs": false,
    "memoryGiB": 32,
    "name": "ml.g5.2xlarge",
    "vcpuNum": 8
   },
   {
    "_defaultOrder": 49,
    "_isFastLaunch": false,
    "category": "Accelerated computing",
    "gpuNum": 1,
    "hideHardwareSpecs": false,
    "memoryGiB": 64,
    "name": "ml.g5.4xlarge",
    "vcpuNum": 16
   },
   {
    "_defaultOrder": 50,
    "_isFastLaunch": false,
    "category": "Accelerated computing",
    "gpuNum": 1,
    "hideHardwareSpecs": false,
    "memoryGiB": 128,
    "name": "ml.g5.8xlarge",
    "vcpuNum": 32
   },
   {
    "_defaultOrder": 51,
    "_isFastLaunch": false,
    "category": "Accelerated computing",
    "gpuNum": 1,
    "hideHardwareSpecs": false,
    "memoryGiB": 256,
    "name": "ml.g5.16xlarge",
    "vcpuNum": 64
   },
   {
    "_defaultOrder": 52,
    "_isFastLaunch": false,
    "category": "Accelerated computing",
    "gpuNum": 4,
    "hideHardwareSpecs": false,
    "memoryGiB": 192,
    "name": "ml.g5.12xlarge",
    "vcpuNum": 48
   },
   {
    "_defaultOrder": 53,
    "_isFastLaunch": false,
    "category": "Accelerated computing",
    "gpuNum": 4,
    "hideHardwareSpecs": false,
    "memoryGiB": 384,
    "name": "ml.g5.24xlarge",
    "vcpuNum": 96
   },
   {
    "_defaultOrder": 54,
    "_isFastLaunch": false,
    "category": "Accelerated computing",
    "gpuNum": 8,
    "hideHardwareSpecs": false,
    "memoryGiB": 768,
    "name": "ml.g5.48xlarge",
    "vcpuNum": 192
   },
   {
    "_defaultOrder": 55,
    "_isFastLaunch": false,
    "category": "Accelerated computing",
    "gpuNum": 8,
    "hideHardwareSpecs": false,
    "memoryGiB": 1152,
    "name": "ml.p4d.24xlarge",
    "vcpuNum": 96
   },
   {
    "_defaultOrder": 56,
    "_isFastLaunch": false,
    "category": "Accelerated computing",
    "gpuNum": 8,
    "hideHardwareSpecs": false,
    "memoryGiB": 1152,
    "name": "ml.p4de.24xlarge",
    "vcpuNum": 96
   },
   {
    "_defaultOrder": 57,
    "_isFastLaunch": false,
    "category": "Accelerated computing",
    "gpuNum": 0,
    "hideHardwareSpecs": false,
    "memoryGiB": 32,
    "name": "ml.trn1.2xlarge",
    "vcpuNum": 8
   },
   {
    "_defaultOrder": 58,
    "_isFastLaunch": false,
    "category": "Accelerated computing",
    "gpuNum": 0,
    "hideHardwareSpecs": false,
    "memoryGiB": 512,
    "name": "ml.trn1.32xlarge",
    "vcpuNum": 128
   },
   {
    "_defaultOrder": 59,
    "_isFastLaunch": false,
    "category": "Accelerated computing",
    "gpuNum": 0,
    "hideHardwareSpecs": false,
    "memoryGiB": 512,
    "name": "ml.trn1n.32xlarge",
    "vcpuNum": 128
   }
  ],
  "instance_type": "ml.t3.xlarge",
  "kernelspec": {
   "display_name": "Python 3 (Data Science)",
   "language": "python",
   "name": "python3__SAGEMAKER_INTERNAL__arn:aws:sagemaker:us-east-1:081325390199:image/datascience-1.0"
  },
  "language_info": {
   "codemirror_mode": {
    "name": "ipython",
    "version": 3
   },
   "file_extension": ".py",
   "mimetype": "text/x-python",
   "name": "python",
   "nbconvert_exporter": "python",
   "pygments_lexer": "ipython3",
   "version": "3.7.10"
  }
 },
 "nbformat": 4,
 "nbformat_minor": 5
}
